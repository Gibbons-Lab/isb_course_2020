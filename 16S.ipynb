{
  "nbformat": 4,
  "nbformat_minor": 0,
  "metadata": {
    "colab": {
      "name": "16S.ipynb",
      "provenance": [],
      "collapsed_sections": [],
      "authorship_tag": "ABX9TyNi3Oex80nZaB+ZrMx94mlD",
      "include_colab_link": true
    },
    "kernelspec": {
      "name": "python3",
      "display_name": "Python 3"
    }
  },
  "cells": [
    {
      "cell_type": "markdown",
      "metadata": {
        "id": "view-in-github",
        "colab_type": "text"
      },
      "source": [
        "<a href=\"https://colab.research.google.com/github/Gibbons-Lab/isb_course_2020/blob/master/16S.ipynb\" target=\"_parent\"><img src=\"https://colab.research.google.com/assets/colab-badge.svg\" alt=\"Open In Colab\"/></a>"
      ]
    },
    {
      "cell_type": "markdown",
      "metadata": {
        "id": "nQRlv0ypvthh",
        "colab_type": "text"
      },
      "source": [
        "# 🦠 Amplicon Sequencing Data Analysis with Qiime 2\n",
        "\n",
        "This notebook will accompany the session of the ISB Microbiome course 2020. The presentation slides can be [found here](https://gibbons-lab.github.io/isb_course_2020/16S). \n",
        "\n",
        "You can save a local copy of this notebook by using `File > Save a copy in Drive`. You may be promted to cetify the notebook is safe. We'll promise that it is 🤞\n",
        "\n",
        "**Disclaimer:**\n",
        "\n",
        "The Google colab notebook environment will interpret any command as Python code by default. If we want to run bash commands we will have to prefix them by `!`. So any command you see with a leading `!` is a bash command and if you wanted to run it in your terminal you would omit the leading `!`. So if the notebook run `!wget` you would just run `wget` in your terminal. \n",
        "\n",
        "## Setup\n",
        "\n",
        "Qiime 2 can usually installed by following the [official installation instructions](https://docs.qiime2.org/2020.6/install/). Since we are using Google Colab and there are some caveats using conda here, we will have hack around those a little bit. Nut no worries, we will use a setup script which does all the work for us 😌 So let's start by getting a local copy of the project repository."
      ]
    },
    {
      "cell_type": "code",
      "metadata": {
        "id": "QFsZdvOuvZmq",
        "colab_type": "code",
        "colab": {
          "base_uri": "https://localhost:8080/",
          "height": 139
        },
        "outputId": "b26a5e77-5775-44e2-d22d-580bb9d2dfc0"
      },
      "source": [
        "!git clone https://github.com/gibbons-lab/isb_course_2020 materials"
      ],
      "execution_count": null,
      "outputs": [
        {
          "output_type": "stream",
          "text": [
            "Cloning into 'materials'...\n",
            "remote: Enumerating objects: 626, done.\u001b[K\n",
            "remote: Counting objects: 100% (626/626), done.\u001b[K\n",
            "remote: Compressing objects: 100% (435/435), done.\u001b[K\n",
            "remote: Total 626 (delta 155), reused 608 (delta 147), pack-reused 0\u001b[K\n",
            "Receiving objects: 100% (626/626), 29.69 MiB | 33.52 MiB/s, done.\n",
            "Resolving deltas: 100% (155/155), done.\n"
          ],
          "name": "stdout"
        }
      ]
    },
    {
      "cell_type": "code",
      "metadata": {
        "id": "BAyTazMCvrpf",
        "colab_type": "code",
        "colab": {
          "base_uri": "https://localhost:8080/",
          "height": 191
        },
        "outputId": "83af235e-27a0-4650-cb37-c3551778e761"
      },
      "source": [
        "%run materials/setup_qiime2.py"
      ],
      "execution_count": null,
      "outputs": [
        {
          "output_type": "stream",
          "text": [
            "[19:39:01] 🐍 Miniconda is already installed. Skipped.        setup_qiime2.py:70\n",
            "           🔍 Qiime 2 is already installed. Skipped.          setup_qiime2.py:90\n",
            "           🔍 Fixed import paths to include Qiime 2.          setup_qiime2.py:93\n",
            "           📊 Checking that Qiime 2 command line works...     setup_qiime2.py:39\n",
            "[19:39:02] 📊 Qiime 2 command line looks good 🎉              setup_qiime2.py:45\n",
            "           📊 Checking if Qiime 2 import works...            setup_qiime2.py:103\n",
            "           📊 Qiime 2 can be imported 🎉                     setup_qiime2.py:109\n",
            "           Cleaned up unneeded files.                         setup_qiime2.py:34\n",
            "           Everything is A-OK. You can start using Qiime 2   setup_qiime2.py:113\n",
            "           now 👍                                                               \n"
          ],
          "name": "stdout"
        }
      ]
    },
    {
      "cell_type": "markdown",
      "metadata": {
        "id": "BGWsqUfq5oSi",
        "colab_type": "text"
      },
      "source": [
        "## Our first Qiime 2 command\n",
        "\n",
        "Let's remember our workflow for today.\n",
        "\n",
        "![our workflow](https://github.com/Gibbons-Lab/isb_course_2020/raw/master/docs/16S/assets/steps.png)\n",
        "\n",
        "The first thing we have to do is to get the data into an artifact.\n",
        "We can import the data with the `import` action from the tools. For that we have to give\n",
        "Qiime 2 a *manifest* (list of raw files) and tell it what *type of data* we\n",
        "are importing and what *type of artifact* we want. \n",
        "\n",
        "**QoL Tip:** Qiime 2 commands can get very long. To split them up over several lines we can use `\\` which means \"continue on the next line\"."
      ]
    },
    {
      "cell_type": "code",
      "metadata": {
        "id": "6mGgUrRf5pyb",
        "colab_type": "code",
        "colab": {}
      },
      "source": [
        "!qiime tools import \\\n",
        "  --type 'SampleData[SequencesWithQuality]' \\\n",
        "  --input-path ubc_manifest.csv \\\n",
        "  --output-path ubc_data.qza \\\n",
        "  --input-format SingleEndFastqManifestPhred33"
      ],
      "execution_count": null,
      "outputs": []
    },
    {
      "cell_type": "markdown",
      "metadata": {
        "id": "lw7TmzbiAoLj",
        "colab_type": "text"
      },
      "source": [
        "Since we have quality information for the sequencing reads, let's also generate\n",
        "our first visualization by inspecting those. \n",
        "\n",
        "---\n",
        "\n",
        "Qiime 2 commands can become pretty long. Here some pointers to remember the\n",
        "structure of a command:\n",
        "\n",
        "```\n",
        "qiime plugin action --i-argument1 ... --o-argument2 ...\n",
        "```\n",
        "\n",
        "Argument types usually begin with a letter denoting their meaning:\n",
        "\n",
        "- `--i-...` = input files\n",
        "- `--o-...` = output files\n",
        "- `--p-...` = parameters\n",
        "- `--m-...` = metadata\n",
        "\n",
        "---\n",
        "\n",
        "In this case we will use the `summarize` action from the `demux` plugin with the previously generated artifact as input and output the resulting visualization to the `qualities.qzv` file."
      ]
    },
    {
      "cell_type": "code",
      "metadata": {
        "id": "feGa41cEApGs",
        "colab_type": "code",
        "colab": {}
      },
      "source": [
        "!qiime demux summarize --i-data ubc_data.qza --o-visualization qualities.qzv"
      ],
      "execution_count": null,
      "outputs": []
    },
    {
      "cell_type": "markdown",
      "metadata": {
        "id": "O2GenFy3C8gu",
        "colab_type": "text"
      },
      "source": [
        "You can open the visualization by downloading the visaulization and using http://view.qiime2.org. To downlaod click on the folder symbol to the left and choose download from the dot menu next to the file. Alternatively you can also have a look directly [here](https://gibbons-lab.github.io/isb_course_2020/16S/qualities).\n",
        "\n",
        "🤔 What do you observe across the read? Where would you truncate the reads?"
      ]
    },
    {
      "cell_type": "markdown",
      "metadata": {
        "id": "os5MeRvLIq0v",
        "colab_type": "text"
      },
      "source": [
        "## Analyzing sequence variants with DADA2\n",
        "\n",
        "We will now run the DADA2 plugin which will do 3 things:\n",
        "\n",
        "1. filter and trim the reads\n",
        "2. find the most likely original sequences in the sample (ASVs)\n",
        "3. remove chimeras\n",
        "4. count the abundances\n",
        "\n",
        "\n",
        "Since it takes a bit let's start the process and use the time to\n",
        "understand what is happening:"
      ]
    },
    {
      "cell_type": "code",
      "metadata": {
        "id": "RdLSMp9-Dl-d",
        "colab_type": "code",
        "colab": {
          "base_uri": "https://localhost:8080/",
          "height": 1000
        },
        "outputId": "67d35bd5-f92c-4577-d054-29de4e3ab51a"
      },
      "source": [
        "!qiime dada2 denoise-single \\\n",
        "    --i-demultiplexed-seqs ubc_data.qza \\\n",
        "    --p-trunc-len 220 --p-trim-left 8 \\\n",
        "    --output-dir dada2 --verbose"
      ],
      "execution_count": 6,
      "outputs": [
        {
          "output_type": "stream",
          "text": [
            "Usage: \u001b[34mqiime dada2 denoise-single\u001b[0m \n",
            "           [OPTIONS]\n",
            "\n",
            "  This method denoises single-end sequences,\n",
            "  dereplicates them, and filters chimeras.\n",
            "\n",
            "\u001b[1mInputs\u001b[0m:\n",
            "  \u001b[34m\u001b[4m--i-demultiplexed-seqs\u001b[0m ARTIFACT \u001b[32m\u001b[0m\n",
            "    \u001b[32mSampleData[SequencesWithQuality |\u001b[0m\n",
            "    \u001b[32mPairedEndSequencesWithQuality]\u001b[0m\n",
            "                         The single-end\n",
            "                         demultiplexed sequences\n",
            "                         to be denoised.\n",
            "                                        \u001b[35m[required]\u001b[0m\n",
            "\u001b[1mParameters\u001b[0m:\n",
            "  \u001b[34m\u001b[4m--p-trunc-len\u001b[0m INTEGER  Position at which\n",
            "                         sequences should be\n",
            "                         truncated due to decrease\n",
            "                         in quality. This\n",
            "                         truncates the 3' end of\n",
            "                         the of the input\n",
            "                         sequences, which will be\n",
            "                         the bases that were\n",
            "                         sequenced in the last\n",
            "                         cycles. Reads that are\n",
            "                         shorter than this value\n",
            "                         will be discarded. If 0\n",
            "                         is provided, no\n",
            "                         truncation or length\n",
            "                         filtering will be\n",
            "                         performed      \u001b[35m[required]\u001b[0m\n",
            "  \u001b[34m--p-trim-left\u001b[0m INTEGER  Position at which\n",
            "                         sequences should be\n",
            "                         trimmed due to low\n",
            "                         quality. This trims the\n",
            "                         5' end of the of the\n",
            "                         input sequences, which\n",
            "                         will be the bases that\n",
            "                         were sequenced in the\n",
            "                         first cycles.\n",
            "                                      \u001b[35m[default: 0]\u001b[0m\n",
            "  \u001b[34m--p-max-ee\u001b[0m NUMBER      Reads with number of\n",
            "                         expected errors higher\n",
            "                         than this value will be\n",
            "                         discarded. \u001b[35m[default: 2.0]\u001b[0m\n",
            "  \u001b[34m--p-trunc-q\u001b[0m INTEGER    Reads are truncated at\n",
            "                         the first instance of a\n",
            "                         quality score less than\n",
            "                         or equal to this value.\n",
            "                         If the resulting read is\n",
            "                         then shorter than\n",
            "                         `\u001b[4mtrunc-len\u001b[0m`, it is\n",
            "                         discarded.   \u001b[35m[default: 2]\u001b[0m\n",
            "  \u001b[34m--p-chimera-method\u001b[0m TEXT \u001b[32mChoices('consensus',\u001b[0m\n",
            "    \u001b[32m'none', 'pooled')\u001b[0m    The method used to\n",
            "                         remove chimeras. \"none\":\n",
            "                         No chimera removal is\n",
            "                         performed. \"pooled\": All\n",
            "                         reads are pooled prior to\n",
            "                         chimera detection.\n",
            "                         \"consensus\": Chimeras are\n",
            "                         detected in samples\n",
            "                         individually, and\n",
            "                         sequences found chimeric\n",
            "                         in a sufficient fraction\n",
            "                         of samples are removed.\n",
            "                            \u001b[35m[default: 'consensus']\u001b[0m\n",
            "  \u001b[34m--p-min-fold-parent-over-abundance\u001b[0m NUMBER\n",
            "                         The minimum abundance of\n",
            "                         potential parents of a\n",
            "                         sequence being tested as\n",
            "                         chimeric, expressed as a\n",
            "                         fold-change versus the\n",
            "                         abundance of the sequence\n",
            "                         being tested. Values\n",
            "                         should be greater than or\n",
            "                         equal to 1 (i.e. parents\n",
            "                         should be more abundant\n",
            "                         than the sequence being\n",
            "                         tested). This parameter\n",
            "                         has no effect if\n",
            "                         \u001b[4mchimera-method\u001b[0m is \"none\".\n",
            "                                    \u001b[35m[default: 1.0]\u001b[0m\n",
            "  \u001b[34m--p-n-threads\u001b[0m INTEGER  The number of threads to\n",
            "                         use for multithreaded\n",
            "                         processing. If 0 is\n",
            "                         provided, all available\n",
            "                         cores will be used.\n",
            "                                      \u001b[35m[default: 1]\u001b[0m\n",
            "  \u001b[34m--p-n-reads-learn\u001b[0m INTEGER\n",
            "                         The number of reads to\n",
            "                         use when training the\n",
            "                         error model. Smaller\n",
            "                         numbers will result in a\n",
            "                         shorter run time but a\n",
            "                         less reliable error\n",
            "                         model. \u001b[35m[default: 1000000]\u001b[0m\n",
            "  \u001b[34m--p-hashed-feature-ids\u001b[0m /\n",
            "  \u001b[34m--p-no-hashed-feature-ids\u001b[0m\n",
            "                         If true, the feature ids\n",
            "                         in the resulting table\n",
            "                         will be presented as\n",
            "                         hashes of the sequences\n",
            "                         defining each feature.\n",
            "                         The hash will always be\n",
            "                         the same for the same\n",
            "                         sequence so this allows\n",
            "                         feature tables to be\n",
            "                         merged across runs of\n",
            "                         this method. You should\n",
            "                         only merge tables if the\n",
            "                         exact same parameters are\n",
            "                         used for each run.\n",
            "                                   \u001b[35m[default: True]\u001b[0m\n",
            "\u001b[1mOutputs\u001b[0m:\n",
            "  \u001b[34m\u001b[4m--o-table\u001b[0m ARTIFACT \u001b[32mFeatureTable[Frequency]\u001b[0m\n",
            "                         The resulting feature\n",
            "                         table.         \u001b[35m[required]\u001b[0m\n",
            "  \u001b[34m\u001b[4m--o-representative-sequences\u001b[0m ARTIFACT \u001b[32m\u001b[0m\n",
            "    \u001b[32mFeatureData[Sequence]\u001b[0m\n",
            "                         The resulting feature\n",
            "                         sequences. Each feature\n",
            "                         in the feature table will\n",
            "                         be represented by exactly\n",
            "                         one sequence.  \u001b[35m[required]\u001b[0m\n",
            "  \u001b[34m\u001b[4m--o-denoising-stats\u001b[0m ARTIFACT \u001b[32m\u001b[0m\n",
            "    \u001b[32mSampleData[DADA2Stats]\u001b[0m\n",
            "                                        \u001b[35m[required]\u001b[0m\n",
            "\u001b[1mMiscellaneous\u001b[0m:\n",
            "  \u001b[34m--output-dir\u001b[0m PATH      Output unspecified\n",
            "                         results to a directory\n",
            "  \u001b[34m--verbose\u001b[0m / \u001b[34m--quiet\u001b[0m    Display verbose output\n",
            "                         to stdout and/or stderr\n",
            "                         during execution of this\n",
            "                         action. Or silence output\n",
            "                         if execution is\n",
            "                         successful (silence is\n",
            "                         golden).\n",
            "  \u001b[34m--citations\u001b[0m            Show citations and exit.\n",
            "  \u001b[34m--help\u001b[0m                 Show this message and\n",
            "                         exit.\n",
            "\n",
            "\u001b[33m                    There was a problem with the command:                     \u001b[0m\n",
            "\u001b[31m\u001b[1m (1/1) Invalid value for \"--i-demultiplexed-seqs\": 'ubc_data.qza' is not a\n",
            "  valid filepath\u001b[0m\n"
          ],
          "name": "stdout"
        }
      ]
    },
    {
      "cell_type": "code",
      "metadata": {
        "id": "2DKjtlH7I9uu",
        "colab_type": "code",
        "colab": {}
      },
      "source": [
        ""
      ],
      "execution_count": null,
      "outputs": []
    }
  ]
}