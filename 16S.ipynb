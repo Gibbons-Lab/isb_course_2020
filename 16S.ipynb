{
  "nbformat": 4,
  "nbformat_minor": 0,
  "metadata": {
    "colab": {
      "name": "16S.ipynb",
      "provenance": [],
      "collapsed_sections": [],
      "toc_visible": true,
      "authorship_tag": "ABX9TyPI5cC1rdjLorEpTIyOONS2",
      "include_colab_link": true
    },
    "kernelspec": {
      "name": "python3",
      "display_name": "Python 3"
    }
  },
  "cells": [
    {
      "cell_type": "markdown",
      "metadata": {
        "id": "view-in-github",
        "colab_type": "text"
      },
      "source": [
        "<a href=\"https://colab.research.google.com/github/Gibbons-Lab/isb_course_2020/blob/master/16S.ipynb\" target=\"_parent\"><img src=\"https://colab.research.google.com/assets/colab-badge.svg\" alt=\"Open In Colab\"/></a>"
      ]
    },
    {
      "cell_type": "markdown",
      "metadata": {
        "id": "nQRlv0ypvthh",
        "colab_type": "text"
      },
      "source": [
        "# 🦠 Amplicon Sequencing Data Analysis with Qiime 2\n",
        "\n",
        "This notebook will accompany the session of the ISB Microbiome course 2020. The presentation slides can be [found here](https://gibbons-lab.github.io/isb_course_2020/16S). \n",
        "\n",
        "You can save a local copy of this notebook by using `File > Save a copy in Drive`. You may be promted to cetify the notebook is safe. We'll promise that it is 🤞\n",
        "\n",
        "**Disclaimer:**\n",
        "\n",
        "The Google colab notebook environment will interpret any command as Python code by default. If we want to run bash commands we will have to prefix them by `!`. So any command you see with a leading `!` is a bash command and if you wanted to run it in your terminal you would omit the leading `!`. So if the notebook run `!wget` you would just run `wget` in your terminal. \n",
        "\n",
        "## Setup\n",
        "\n",
        "Qiime 2 can usually installed by following the [official installation instructions](https://docs.qiime2.org/2020.6/install/). Since we are using Google Colab and there are some caveats using conda here, we will have hack around those a little bit. But no worries, we will use a setup script which does all the work for us 😌 So let's start by getting a local copy of the project repository."
      ]
    },
    {
      "cell_type": "code",
      "metadata": {
        "id": "QFsZdvOuvZmq",
        "colab_type": "code",
        "colab": {
          "base_uri": "https://localhost:8080/",
          "height": 139
        },
        "outputId": "3db2e526-a344-4849-a7a8-2a80936e8467"
      },
      "source": [
        "!git clone https://github.com/gibbons-lab/isb_course_2020 materials"
      ],
      "execution_count": null,
      "outputs": [
        {
          "output_type": "stream",
          "text": [
            "Cloning into 'materials'...\n",
            "remote: Enumerating objects: 21, done.\u001b[K\n",
            "remote: Counting objects: 100% (21/21), done.\u001b[K\n",
            "remote: Compressing objects: 100% (17/17), done.\u001b[K\n",
            "remote: Total 682 (delta 8), reused 16 (delta 4), pack-reused 661\u001b[K\n",
            "Receiving objects: 100% (682/682), 68.77 MiB | 33.41 MiB/s, done.\n",
            "Resolving deltas: 100% (178/178), done.\n"
          ],
          "name": "stdout"
        }
      ]
    },
    {
      "cell_type": "markdown",
      "metadata": {
        "id": "fQVnDjFauZ-n",
        "colab_type": "text"
      },
      "source": [
        "Now we are ready to set up our environment. This will take about 10-15 minutes. \n",
        "\n",
        "**Note**: This setup is only relevant for Google Colaboratory and will not work on your local machine. Please follow the [official installation instructions](https://docs.qiime2.org/2020.6/install/) for that."
      ]
    },
    {
      "cell_type": "code",
      "metadata": {
        "id": "BAyTazMCvrpf",
        "colab_type": "code",
        "colab": {
          "base_uri": "https://localhost:8080/",
          "height": 330
        },
        "outputId": "b388d8ff-bff4-45da-f8d0-6aa80831297c"
      },
      "source": [
        "%run materials/setup_qiime2.py\n",
        "!qiime dev refresh-cache"
      ],
      "execution_count": null,
      "outputs": [
        {
          "output_type": "stream",
          "text": [
            "[17:38:33] 🐍 Downloading miniconda...                        setup_qiime2.py:39\n",
            "[17:38:34] 🐍 Done.                                           setup_qiime2.py:45\n",
            "           🐍 Installing miniconda...                         setup_qiime2.py:39\n",
            "[17:39:01] 🐍 Installed miniconda to `/usr/local` 🐍          setup_qiime2.py:45\n",
            "           🔍 Downloading Qiime 2 package list...             setup_qiime2.py:39\n",
            "[17:39:02] 🔍 Done.                                           setup_qiime2.py:45\n",
            "           🔍 Installing Qiime 2. This may take a little bit. setup_qiime2.py:39\n",
            "            🕐                                                                  \n",
            "[17:45:50] 🔍 Done.                                           setup_qiime2.py:45\n",
            "           🔍 Fixed import paths to include Qiime 2.          setup_qiime2.py:93\n",
            "           📊 Checking that Qiime 2 command line works...     setup_qiime2.py:39\n",
            "[17:45:54] 📊 Qiime 2 command line looks good 🎉              setup_qiime2.py:45\n",
            "           📊 Checking if Qiime 2 import works...            setup_qiime2.py:103\n",
            "           📊 Qiime 2 can be imported 🎉                     setup_qiime2.py:109\n",
            "           Cleaned up unneeded files.                         setup_qiime2.py:34\n",
            "           Everything is A-OK. You can start using Qiime 2   setup_qiime2.py:113\n",
            "           now 👍                                                               \n",
            "\u001b[33mQIIME is caching your current deployment for improved performance. This may take a few moments and should only happen once per deployment.\u001b[0m\n"
          ],
          "name": "stdout"
        }
      ]
    },
    {
      "cell_type": "markdown",
      "metadata": {
        "id": "2eenIEY76mcv",
        "colab_type": "text"
      },
      "source": [
        "We will switch to the `materials` directory for the rest of the notebook."
      ]
    },
    {
      "cell_type": "code",
      "metadata": {
        "id": "h3NALJ7u6mBP",
        "colab_type": "code",
        "colab": {
          "base_uri": "https://localhost:8080/",
          "height": 34
        },
        "outputId": "f06c7310-c651-4db7-9a44-5f3cf04f32ba"
      },
      "source": [
        "%cd materials"
      ],
      "execution_count": null,
      "outputs": [
        {
          "output_type": "stream",
          "text": [
            "/content/materials\n"
          ],
          "name": "stdout"
        }
      ]
    },
    {
      "cell_type": "markdown",
      "metadata": {
        "id": "BGWsqUfq5oSi",
        "colab_type": "text"
      },
      "source": [
        "## Our first Qiime 2 command\n",
        "\n",
        "Let's remember our workflow for today.\n",
        "\n",
        "![our workflow](https://github.com/Gibbons-Lab/isb_course_2020/raw/master/docs/16S/assets/steps.png)\n",
        "\n",
        "The first thing we have to do is to get the data into an artifact.\n",
        "We can import the data with the `import` action from the tools. For that we have to give\n",
        "Qiime 2 a *manifest* (list of raw files) and tell it what *type of data* we\n",
        "are importing and what *type of artifact* we want. \n",
        "\n",
        "**QoL Tip:** Qiime 2 commands can get very long. To split them up over several lines we can use `\\` which means \"continue on the next line\"."
      ]
    },
    {
      "cell_type": "code",
      "metadata": {
        "id": "6mGgUrRf5pyb",
        "colab_type": "code",
        "colab": {
          "base_uri": "https://localhost:8080/",
          "height": 34
        },
        "outputId": "2adc209a-f43e-4240-dabb-670c3aa973e7"
      },
      "source": [
        "!qiime tools import \\\n",
        "  --type 'SampleData[SequencesWithQuality]' \\\n",
        "  --input-path manifest.tsv \\\n",
        "  --output-path cdiff.qza \\\n",
        "  --input-format SingleEndFastqManifestPhred33V2"
      ],
      "execution_count": null,
      "outputs": [
        {
          "output_type": "stream",
          "text": [
            "\u001b[32mImported manifest.tsv as SingleEndFastqManifestPhred33V2 to cdiff.qza\u001b[0m\n"
          ],
          "name": "stdout"
        }
      ]
    },
    {
      "cell_type": "markdown",
      "metadata": {
        "id": "lw7TmzbiAoLj",
        "colab_type": "text"
      },
      "source": [
        "Since we have quality information for the sequencing reads, let's also generate\n",
        "our first visualization by inspecting those. \n",
        "\n",
        "---\n",
        "\n",
        "Qiime 2 commands can become pretty long. Here some pointers to remember the\n",
        "structure of a command:\n",
        "\n",
        "```\n",
        "qiime plugin action --i-argument1 ... --o-argument2 ...\n",
        "```\n",
        "\n",
        "Argument types usually begin with a letter denoting their meaning:\n",
        "\n",
        "- `--i-...` = input files\n",
        "- `--o-...` = output files\n",
        "- `--p-...` = parameters\n",
        "- `--m-...` = metadata\n",
        "\n",
        "---\n",
        "\n",
        "In this case we will use the `summarize` action from the `demux` plugin with the previously generated artifact as input and output the resulting visualization to the `qualities.qzv` file."
      ]
    },
    {
      "cell_type": "code",
      "metadata": {
        "id": "feGa41cEApGs",
        "colab_type": "code",
        "colab": {
          "base_uri": "https://localhost:8080/",
          "height": 34
        },
        "outputId": "8d7c1858-f545-417d-8985-b4d004e5f2ca"
      },
      "source": [
        "!qiime demux summarize --i-data cdiff.qza --o-visualization qualities.qzv"
      ],
      "execution_count": null,
      "outputs": [
        {
          "output_type": "stream",
          "text": [
            "\u001b[32mSaved Visualization to: qualities.qzv\u001b[0m\n"
          ],
          "name": "stdout"
        }
      ]
    },
    {
      "cell_type": "markdown",
      "metadata": {
        "id": "O2GenFy3C8gu",
        "colab_type": "text"
      },
      "source": [
        "You can open the visualization by downloading the visaulization and using http://view.qiime2.org. To downlaod click on the folder symbol to the left and choose download from the dot menu next to the file. Alternatively you can also have a look directly [here](https://gibbons-lab.github.io/isb_course_2020/16S/qualities).\n",
        "\n",
        "🤔 What do you observe across the read? Where would you truncate the reads?"
      ]
    },
    {
      "cell_type": "markdown",
      "metadata": {
        "id": "os5MeRvLIq0v",
        "colab_type": "text"
      },
      "source": [
        "## Analyzing sequence variants with DADA2\n",
        "\n",
        "We will now run the DADA2 plugin which will do 3 things:\n",
        "\n",
        "1. filter and trim the reads\n",
        "2. find the most likely original sequences in the sample (ASVs)\n",
        "3. remove chimeras\n",
        "4. count the abundances\n",
        "\n",
        "\n",
        "Since it takes a bit let's start the process and use the time to\n",
        "understand what is happening:"
      ]
    },
    {
      "cell_type": "code",
      "metadata": {
        "id": "RdLSMp9-Dl-d",
        "colab_type": "code",
        "colab": {
          "base_uri": "https://localhost:8080/",
          "height": 367
        },
        "outputId": "12856d0f-ff53-40e6-f57f-e1b8f4c24f46"
      },
      "source": [
        "!qiime dada2 denoise-single \\\n",
        "    --i-demultiplexed-seqs cdiff.qza \\\n",
        "    --p-trunc-len 150 \\\n",
        "    --output-dir dada2 --verbose"
      ],
      "execution_count": null,
      "outputs": [
        {
          "output_type": "stream",
          "text": [
            "Running external command line application(s). This may print messages to stdout and/or stderr.\n",
            "The command(s) being run are below. These commands cannot be manually re-run as they will depend on temporary files that no longer exist.\n",
            "\n",
            "Command: run_dada_single.R /tmp/qiime2-archive-6rndforz/64af4989-9c6a-4f4b-ac4c-305fbea32574/data /tmp/tmp905lib_0/output.tsv.biom /tmp/tmp905lib_0/track.tsv /tmp/tmp905lib_0 150 0 2.0 2 Inf independent consensus 1.0 1 1000000 NULL 16\n",
            "\n",
            "R version 3.5.1 (2018-07-02) \n",
            "Loading required package: Rcpp\n",
            "Warning: please export TSAN_OPTIONS='ignore_noninstrumented_modules=1' to avoid false positive reports from the OpenMP runtime.!\n",
            "DADA2: 1.10.0 / Rcpp: 1.0.4.6 / RcppParallel: 5.0.0 \n",
            "1) Filtering ........\n",
            "2) Learning Error Rates\n",
            "79415850 total bases in 529439 reads from 8 samples will be used for learning the error rates.\n",
            "3) Denoise samples ........\n",
            "4) Remove chimeras (method = consensus)\n",
            "5) Report read numbers through the pipeline\n",
            "6) Write output\n",
            "\u001b[32mSaved FeatureTable[Frequency] to: dada2/table.qza\u001b[0m\n",
            "\u001b[32mSaved FeatureData[Sequence] to: dada2/representative_sequences.qza\u001b[0m\n",
            "\u001b[32mSaved SampleData[DADA2Stats] to: dada2/denoising_stats.qza\u001b[0m\n"
          ],
          "name": "stdout"
        }
      ]
    },
    {
      "cell_type": "markdown",
      "metadata": {
        "id": "4YzrovxVj7U_",
        "colab_type": "text"
      },
      "source": [
        "This ran but we should also make sure it kind of worked. One good way to tell if the identified ASVs are represnetative of the sample is to see how mant reads were maintained throughout the pipeline. Here the most common issues and solutions are:\n",
        "\n",
        "**Large fraction of reads is lost during merging**<br>\n",
        "In order to merge ASVs DADA2 uses an overlap of 12 bases between forward and reverse reads by default. Thus, your reads must allow for sufficient overlap *after* trimming. So if your amplified region is 450bp long and you have 2x250bp reads where you trim the first 10 bases and truncate the length to 230 the total length of covered sequence is 2x(220 - 10) = 420 which is shorter than 450bp so there will be no overlap. To solve this issue trim less of the reads or adjust the `--p-min-overlap` parameters to something lower (but not too low).\n",
        "\n",
        "**Most of the reads are lost as chimeric**<br>\n",
        "This is usualluy an experimental issue as chimeras are introduced during amplification of the amplicon. If you can adjust your PCR try to run less cycles. Chimeras can also be introduced by incorrect merging. If your minimum overlap is too small ASVs may be merged randomly. possible fixes are to increase the `--p-min-overlap` parameter or run the analysis on the forward reads only (in our emppirical observation chimeras are more likely to be introduced in the joined reads). *However losing between 5-25% of your reads to chimeras is normal and does not require any adjustments.*\n",
        "\n",
        "Our denoising stats are an artifcat. To convert it to a visualization we can use `qiime metadata tabulate`."
      ]
    },
    {
      "cell_type": "code",
      "metadata": {
        "id": "n_Tr3Ujcj61w",
        "colab_type": "code",
        "colab": {
          "base_uri": "https://localhost:8080/",
          "height": 34
        },
        "outputId": "6d67d135-b336-4f2a-9bc6-d857af85628d"
      },
      "source": [
        "!qiime metadata tabulate \\\n",
        "    --m-input-file dada2/denoising_stats.qza \\\n",
        "    --o-visualization dada2/denoising-stats.qzv"
      ],
      "execution_count": null,
      "outputs": [
        {
          "output_type": "stream",
          "text": [
            "\u001b[32mSaved Visualization to: denoising-stats.qzv\u001b[0m\n"
          ],
          "name": "stdout"
        }
      ]
    },
    {
      "cell_type": "markdown",
      "metadata": {
        "id": "aEit8p7V9Ht9",
        "colab_type": "text"
      },
      "source": [
        "## Phylogeny and diversity\n",
        "\n",
        "We can build a phylogenetic tree for our sequences using the following command:"
      ]
    },
    {
      "cell_type": "code",
      "metadata": {
        "id": "2PVNlD0g9MsX",
        "colab_type": "code",
        "colab": {
          "base_uri": "https://localhost:8080/",
          "height": 86
        },
        "outputId": "c267db4d-dbce-4b26-8b05-b7679713f257"
      },
      "source": [
        "!qiime phylogeny align-to-tree-mafft-fasttree \\\n",
        "    --i-sequences dada2/representative_sequences.qza \\\n",
        "    --output-dir tree"
      ],
      "execution_count": null,
      "outputs": [
        {
          "output_type": "stream",
          "text": [
            "\u001b[32mSaved FeatureData[AlignedSequence] to: tree/alignment.qza\u001b[0m\n",
            "\u001b[32mSaved FeatureData[AlignedSequence] to: tree/masked_alignment.qza\u001b[0m\n",
            "\u001b[32mSaved Phylogeny[Unrooted] to: tree/tree.qza\u001b[0m\n",
            "\u001b[32mSaved Phylogeny[Rooted] to: tree/rooted_tree.qza\u001b[0m\n"
          ],
          "name": "stdout"
        }
      ]
    },
    {
      "cell_type": "markdown",
      "metadata": {
        "id": "UmxTRou99a_n",
        "colab_type": "text"
      },
      "source": [
        "You can visualize your tree using iTOL (https://itol.embl.de/). For that open iTol and upload the artifact from `materials/tree/tree.qza`.\n",
        "\n",
        "This looks nice but is not very informative. It's real usability will be in complementing our diversity analyses. It will tell us which ASVs are related to each other nad which ones are not which will allow us to improve our diversity estimates.\n",
        "\n"
      ]
    },
    {
      "cell_type": "code",
      "metadata": {
        "id": "0js6xHuw-NqF",
        "colab_type": "code",
        "colab": {
          "base_uri": "https://localhost:8080/",
          "height": 312
        },
        "outputId": "9fd9be3a-4699-41d3-bf69-59922204d0ae"
      },
      "source": [
        "!qiime diversity core-metrics-phylogenetic \\\n",
        "    --i-table dada2/table.qza \\\n",
        "    --i-phylogeny tree/rooted_tree.qza \\\n",
        "    --p-sampling-depth 8000 \\\n",
        "    --m-metadata-file metadata.tsv \\\n",
        "    --output-dir diversity"
      ],
      "execution_count": null,
      "outputs": [
        {
          "output_type": "stream",
          "text": [
            "\u001b[32mSaved FeatureTable[Frequency] to: diversity/rarefied_table.qza\u001b[0m\n",
            "\u001b[32mSaved SampleData[AlphaDiversity] to: diversity/faith_pd_vector.qza\u001b[0m\n",
            "\u001b[32mSaved SampleData[AlphaDiversity] to: diversity/observed_features_vector.qza\u001b[0m\n",
            "\u001b[32mSaved SampleData[AlphaDiversity] to: diversity/shannon_vector.qza\u001b[0m\n",
            "\u001b[32mSaved SampleData[AlphaDiversity] to: diversity/evenness_vector.qza\u001b[0m\n",
            "\u001b[32mSaved DistanceMatrix to: diversity/unweighted_unifrac_distance_matrix.qza\u001b[0m\n",
            "\u001b[32mSaved DistanceMatrix to: diversity/weighted_unifrac_distance_matrix.qza\u001b[0m\n",
            "\u001b[32mSaved DistanceMatrix to: diversity/jaccard_distance_matrix.qza\u001b[0m\n",
            "\u001b[32mSaved DistanceMatrix to: diversity/bray_curtis_distance_matrix.qza\u001b[0m\n",
            "\u001b[32mSaved PCoAResults to: diversity/unweighted_unifrac_pcoa_results.qza\u001b[0m\n",
            "\u001b[32mSaved PCoAResults to: diversity/weighted_unifrac_pcoa_results.qza\u001b[0m\n",
            "\u001b[32mSaved PCoAResults to: diversity/jaccard_pcoa_results.qza\u001b[0m\n",
            "\u001b[32mSaved PCoAResults to: diversity/bray_curtis_pcoa_results.qza\u001b[0m\n",
            "\u001b[32mSaved Visualization to: diversity/unweighted_unifrac_emperor.qzv\u001b[0m\n",
            "\u001b[32mSaved Visualization to: diversity/weighted_unifrac_emperor.qzv\u001b[0m\n",
            "\u001b[32mSaved Visualization to: diversity/jaccard_emperor.qzv\u001b[0m\n",
            "\u001b[32mSaved Visualization to: diversity/bray_curtis_emperor.qzv\u001b[0m\n"
          ],
          "name": "stdout"
        }
      ]
    },
    {
      "cell_type": "markdown",
      "metadata": {
        "id": "p-uZBNVX-y2L",
        "colab_type": "text"
      },
      "source": [
        "We can now visualize the PCoA by downloading `materials/diversity/weighted_unifrac_emperor.qzv`. "
      ]
    },
    {
      "cell_type": "code",
      "metadata": {
        "id": "GnkeX6iY--g-",
        "colab_type": "code",
        "colab": {
          "base_uri": "https://localhost:8080/",
          "height": 34
        },
        "outputId": "ac67aa29-e930-4395-9f0a-7cc6fa70f9a4"
      },
      "source": [
        "!qiime diversity alpha-group-significance \\\n",
        "    --i-alpha-diversity diversity/shannon_vector.qza \\\n",
        "    --m-metadata-file metadata.tsv \\\n",
        "    --o-visualization diversity/alpha_groups.qzv"
      ],
      "execution_count": null,
      "outputs": [
        {
          "output_type": "stream",
          "text": [
            "\u001b[32mSaved Visualization to: diversity/alpha_groups.qzv\u001b[0m\n"
          ],
          "name": "stdout"
        }
      ]
    },
    {
      "cell_type": "markdown",
      "metadata": {
        "id": "FB7WYPZ1DEoR",
        "colab_type": "text"
      },
      "source": [
        "## Taxonomy\n",
        "\n",
        "We will use a classifier trained on the GreenGenes database which can be downloaded from https://docs.qiime2.org/2020.6/data-resources/."
      ]
    },
    {
      "cell_type": "code",
      "metadata": {
        "id": "drgYtfLbDosv",
        "colab_type": "code",
        "colab": {
          "base_uri": "https://localhost:8080/",
          "height": 295
        },
        "outputId": "e6525088-9fab-45d0-bce4-7f164882b304"
      },
      "source": [
        "!wget https://data.qiime2.org/2020.6/common/gg-13-8-99-515-806-nb-classifier.qza"
      ],
      "execution_count": null,
      "outputs": [
        {
          "output_type": "stream",
          "text": [
            "--2020-08-11 18:36:57--  https://data.qiime2.org/2020.6/common/gg-13-8-99-515-806-nb-classifier.qza\n",
            "Resolving data.qiime2.org (data.qiime2.org)... 52.35.38.247\n",
            "Connecting to data.qiime2.org (data.qiime2.org)|52.35.38.247|:443... connected.\n",
            "HTTP request sent, awaiting response... 302 FOUND\n",
            "Location: https://s3-us-west-2.amazonaws.com/qiime2-data/2020.6/common/gg-13-8-99-515-806-nb-classifier.qza [following]\n",
            "--2020-08-11 18:36:57--  https://s3-us-west-2.amazonaws.com/qiime2-data/2020.6/common/gg-13-8-99-515-806-nb-classifier.qza\n",
            "Resolving s3-us-west-2.amazonaws.com (s3-us-west-2.amazonaws.com)... 52.218.245.112\n",
            "Connecting to s3-us-west-2.amazonaws.com (s3-us-west-2.amazonaws.com)|52.218.245.112|:443... connected.\n",
            "HTTP request sent, awaiting response... 200 OK\n",
            "Length: 28285585 (27M) [application/x-www-form-urlencoded]\n",
            "Saving to: ‘gg-13-8-99-515-806-nb-classifier.qza.1’\n",
            "\n",
            "gg-13-8-99-515-806- 100%[===================>]  26.97M  19.2MB/s    in 1.4s    \n",
            "\n",
            "2020-08-11 18:36:59 (19.2 MB/s) - ‘gg-13-8-99-515-806-nb-classifier.qza.1’ saved [28285585/28285585]\n",
            "\n"
          ],
          "name": "stdout"
        }
      ]
    },
    {
      "cell_type": "code",
      "metadata": {
        "id": "EEBbgvnhDGTs",
        "colab_type": "code",
        "colab": {
          "base_uri": "https://localhost:8080/",
          "height": 34
        },
        "outputId": "cef7d25a-ce31-46a8-8103-4f2a21e4889a"
      },
      "source": [
        "!qiime feature-classifier classify-sklearn \\\n",
        "    --i-reads dada2/representative_sequences.qza \\\n",
        "    --i-classifier gg-13-8-99-515-806-nb-classifier.qza \\\n",
        "    --o-classification taxa.qza"
      ],
      "execution_count": null,
      "outputs": [
        {
          "output_type": "stream",
          "text": [
            "\u001b[32mSaved FeatureData[Taxonomy] to: taxa.qza\u001b[0m\n"
          ],
          "name": "stdout"
        }
      ]
    },
    {
      "cell_type": "markdown",
      "metadata": {
        "id": "xISxzBo6Mpka",
        "colab_type": "text"
      },
      "source": [
        "Now let's have a look what and how much of different bacteria we have in\n",
        "each sample:"
      ]
    },
    {
      "cell_type": "code",
      "metadata": {
        "id": "4VTL2yEBMqfO",
        "colab_type": "code",
        "colab": {
          "base_uri": "https://localhost:8080/",
          "height": 34
        },
        "outputId": "56232a0a-4a02-4932-f76e-001c4ebc539f"
      },
      "source": [
        "!qiime taxa barplot \\\n",
        "    --i-table dada2/table.qza \\\n",
        "    --i-taxonomy taxa.qza \\\n",
        "    --m-metadata-file metadata.tsv \\\n",
        "    --o-visualization taxa_barplot.qzv"
      ],
      "execution_count": null,
      "outputs": [
        {
          "output_type": "stream",
          "text": [
            "\u001b[32mSaved Visualization to: taxa_barplot.qzv\u001b[0m\n"
          ],
          "name": "stdout"
        }
      ]
    },
    {
      "cell_type": "code",
      "metadata": {
        "id": "CCGlMskGPEsj",
        "colab_type": "code",
        "colab": {
          "base_uri": "https://localhost:8080/",
          "height": 34
        },
        "outputId": "630359ff-7c61-4d58-a372-266cc25a3590"
      },
      "source": [
        "!qiime diversity adonis \\\n",
        "    --i-distance-matrix diversity/weighted_unifrac_distance_matrix.qza \\\n",
        "    --m-metadata-file metadata.tsv \\\n",
        "    --p-formula \"disease_stat\" \\\n",
        "    --p-n-jobs 2 \\\n",
        "    --o-visualization permanova.qzv"
      ],
      "execution_count": null,
      "outputs": [
        {
          "output_type": "stream",
          "text": [
            "\u001b[32mSaved Visualization to: permanova.qzv\u001b[0m\n"
          ],
          "name": "stdout"
        }
      ]
    },
    {
      "cell_type": "code",
      "metadata": {
        "id": "DgQuhbLiitmh",
        "colab_type": "code",
        "colab": {}
      },
      "source": [
        "#!rm -rf *.qza *.qzv dada2 diversity tree \n",
        "#!git pull"
      ],
      "execution_count": null,
      "outputs": []
    }
  ]
}