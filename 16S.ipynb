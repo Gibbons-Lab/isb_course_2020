{
  "nbformat": 4,
  "nbformat_minor": 0,
  "metadata": {
    "colab": {
      "name": "16S.ipynb",
      "provenance": [],
      "collapsed_sections": [],
      "authorship_tag": "ABX9TyMF3zudRtFGRrbAYd75JW5z",
      "include_colab_link": true
    },
    "kernelspec": {
      "name": "python3",
      "display_name": "Python 3"
    }
  },
  "cells": [
    {
      "cell_type": "markdown",
      "metadata": {
        "id": "view-in-github",
        "colab_type": "text"
      },
      "source": [
        "<a href=\"https://colab.research.google.com/github/Gibbons-Lab/isb_course_2020/blob/master/16S.ipynb\" target=\"_parent\"><img src=\"https://colab.research.google.com/assets/colab-badge.svg\" alt=\"Open In Colab\"/></a>"
      ]
    },
    {
      "cell_type": "markdown",
      "metadata": {
        "id": "nQRlv0ypvthh",
        "colab_type": "text"
      },
      "source": [
        "# Amplicon Sequencing Data Analysis with Qiime 2\n",
        "\n",
        "This notebook will accompany the session of the ISB Microbiome course 2020. The presentation slides can be [found here](https://gibbons-lab.github.io/isb_course_2020/16S). \n",
        "\n",
        "**Disclaimer:**\n",
        "\n",
        "The Google colab notebook environment will interpret any command as Python code by default. If we want to run bash commands we will have to prefix them by `!`. So any command you see with a leading `!` is a bash command and if you wanted to run it in your terminal you would omit the leading `!`. So if the notebook run `!wget` you would just run `wget` in your terminal. \n",
        "\n",
        "## Setup\n",
        "\n",
        "Qiime 2 can usually installed by following the [official installation instructions](https://docs.qiime2.org/2020.6/install/). Since we are using Google Colab and there are some caveats using conda here, we will have hack around those a little bit. Nut no worries, we will use a setup script which does all the work for us 😌 So let's start by getting a local copy of the project repository."
      ]
    },
    {
      "cell_type": "code",
      "metadata": {
        "id": "QFsZdvOuvZmq",
        "colab_type": "code",
        "colab": {
          "base_uri": "https://localhost:8080/",
          "height": 139
        },
        "outputId": "b26a5e77-5775-44e2-d22d-580bb9d2dfc0"
      },
      "source": [
        "!git clone https://github.com/gibbons-lab/isb_course_2020 materials"
      ],
      "execution_count": 4,
      "outputs": [
        {
          "output_type": "stream",
          "text": [
            "Cloning into 'materials'...\n",
            "remote: Enumerating objects: 626, done.\u001b[K\n",
            "remote: Counting objects: 100% (626/626), done.\u001b[K\n",
            "remote: Compressing objects: 100% (435/435), done.\u001b[K\n",
            "remote: Total 626 (delta 155), reused 608 (delta 147), pack-reused 0\u001b[K\n",
            "Receiving objects: 100% (626/626), 29.69 MiB | 33.52 MiB/s, done.\n",
            "Resolving deltas: 100% (155/155), done.\n"
          ],
          "name": "stdout"
        }
      ]
    },
    {
      "cell_type": "code",
      "metadata": {
        "id": "BAyTazMCvrpf",
        "colab_type": "code",
        "colab": {
          "base_uri": "https://localhost:8080/",
          "height": 191
        },
        "outputId": "83af235e-27a0-4650-cb37-c3551778e761"
      },
      "source": [
        "%run materials/setup_qiime2.py"
      ],
      "execution_count": 5,
      "outputs": [
        {
          "output_type": "stream",
          "text": [
            "[19:39:01] 🐍 Miniconda is already installed. Skipped.        setup_qiime2.py:70\n",
            "           🔍 Qiime 2 is already installed. Skipped.          setup_qiime2.py:90\n",
            "           🔍 Fixed import paths to include Qiime 2.          setup_qiime2.py:93\n",
            "           📊 Checking that Qiime 2 command line works...     setup_qiime2.py:39\n",
            "[19:39:02] 📊 Qiime 2 command line looks good 🎉              setup_qiime2.py:45\n",
            "           📊 Checking if Qiime 2 import works...            setup_qiime2.py:103\n",
            "           📊 Qiime 2 can be imported 🎉                     setup_qiime2.py:109\n",
            "           Cleaned up unneeded files.                         setup_qiime2.py:34\n",
            "           Everything is A-OK. You can start using Qiime 2   setup_qiime2.py:113\n",
            "           now 👍                                                               \n"
          ],
          "name": "stdout"
        }
      ]
    },
    {
      "cell_type": "markdown",
      "metadata": {
        "id": "BGWsqUfq5oSi",
        "colab_type": "text"
      },
      "source": [
        "## Our first Qiime 2 command\n",
        "\n",
        "We can import the data with the `import` action. For that we have to give\n",
        "Qiime 2 a *manifest* (list of raw files) and tell it what *type of data* we\n",
        "are importing and what *type of artifact* we want. \n",
        "\n",
        "**QoL Tip:** Qiime 2 commands can get very long. To split them up over several lines we can use `\\` which means \"continue on the next line\"."
      ]
    },
    {
      "cell_type": "code",
      "metadata": {
        "id": "6mGgUrRf5pyb",
        "colab_type": "code",
        "colab": {}
      },
      "source": [
        "!qiime tools import \\\n",
        "  --type 'SampleData[SequencesWithQuality]' \\\n",
        "  --input-path ubc_manifest.csv \\\n",
        "  --output-path ubc_data.qza \\\n",
        "  --input-format SingleEndFastqManifestPhred33"
      ],
      "execution_count": null,
      "outputs": []
    }
  ]
}