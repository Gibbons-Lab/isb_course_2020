{
  "nbformat": 4,
  "nbformat_minor": 0,
  "metadata": {
    "colab": {
      "name": "micom_solutions.ipynb",
      "provenance": [],
      "collapsed_sections": [],
      "include_colab_link": true
    },
    "kernelspec": {
      "name": "python3",
      "display_name": "Python 3"
    },
    "widgets": {
      "application/vnd.jupyter.widget-state+json": {
        "cddc3c148239412dba70de3de604a99a": {
          "model_module": "@jupyter-widgets/output",
          "model_name": "OutputModel",
          "model_module_version": "1.0.0",
          "state": {
            "_dom_classes": [],
            "_model_module": "@jupyter-widgets/output",
            "_model_module_version": "1.0.0",
            "_model_name": "OutputModel",
            "_view_count": null,
            "_view_module": "@jupyter-widgets/output",
            "_view_module_version": "1.0.0",
            "_view_name": "OutputView",
            "layout": "IPY_MODEL_f944a677a3ed47cfbf6cadd060c5b0f9",
            "msg_id": "",
            "outputs": [
              {
                "output_type": "display_data",
                "data": {
                  "text/plain": "Running \u001b[38;2;114;156;31m━━━━━━━━━━━━━━━━━━━━━━━━━━━━━━━━━━━━━━━━\u001b[0m \u001b[35m100%\u001b[0m \u001b[36m0:00:00\u001b[0m\n",
                  "text/html": "<pre style=\"white-space:pre;overflow-x:auto;line-height:normal;font-family:Menlo,'DejaVu Sans Mono',consolas,'Courier New',monospace\">Running <span style=\"color: #729c1f; text-decoration-color: #729c1f\">━━━━━━━━━━━━━━━━━━━━━━━━━━━━━━━━━━━━━━━━</span> <span style=\"color: #800080; text-decoration-color: #800080\">100%</span> <span style=\"color: #008080; text-decoration-color: #008080\">0:00:00</span>\n</pre>\n"
                },
                "metadata": {}
              }
            ]
          }
        },
        "f944a677a3ed47cfbf6cadd060c5b0f9": {
          "model_module": "@jupyter-widgets/base",
          "model_name": "LayoutModel",
          "model_module_version": "1.2.0",
          "state": {
            "_model_module": "@jupyter-widgets/base",
            "_model_module_version": "1.2.0",
            "_model_name": "LayoutModel",
            "_view_count": null,
            "_view_module": "@jupyter-widgets/base",
            "_view_module_version": "1.2.0",
            "_view_name": "LayoutView",
            "align_content": null,
            "align_items": null,
            "align_self": null,
            "border": null,
            "bottom": null,
            "display": null,
            "flex": null,
            "flex_flow": null,
            "grid_area": null,
            "grid_auto_columns": null,
            "grid_auto_flow": null,
            "grid_auto_rows": null,
            "grid_column": null,
            "grid_gap": null,
            "grid_row": null,
            "grid_template_areas": null,
            "grid_template_columns": null,
            "grid_template_rows": null,
            "height": null,
            "justify_content": null,
            "justify_items": null,
            "left": null,
            "margin": null,
            "max_height": null,
            "max_width": null,
            "min_height": null,
            "min_width": null,
            "object_fit": null,
            "object_position": null,
            "order": null,
            "overflow": null,
            "overflow_x": null,
            "overflow_y": null,
            "padding": null,
            "right": null,
            "top": null,
            "visibility": null,
            "width": null
          }
        },
        "147e548fbd9d4eed8752a3f668879899": {
          "model_module": "@jupyter-widgets/output",
          "model_name": "OutputModel",
          "model_module_version": "1.0.0",
          "state": {
            "_dom_classes": [],
            "_model_module": "@jupyter-widgets/output",
            "_model_module_version": "1.0.0",
            "_model_name": "OutputModel",
            "_view_count": null,
            "_view_module": "@jupyter-widgets/output",
            "_view_module_version": "1.0.0",
            "_view_name": "OutputView",
            "layout": "IPY_MODEL_b2b862833edf4a68a4964783e2be2575",
            "msg_id": "",
            "outputs": [
              {
                "output_type": "display_data",
                "data": {
                  "text/plain": "Running \u001b[38;2;114;156;31m━━━━━━━━━━━━━━━━━━━━━━━━━━━━━━━━━━━━━━━━\u001b[0m \u001b[35m100%\u001b[0m \u001b[36m0:00:00\u001b[0m\n",
                  "text/html": "<pre style=\"white-space:pre;overflow-x:auto;line-height:normal;font-family:Menlo,'DejaVu Sans Mono',consolas,'Courier New',monospace\">Running <span style=\"color: #729c1f; text-decoration-color: #729c1f\">━━━━━━━━━━━━━━━━━━━━━━━━━━━━━━━━━━━━━━━━</span> <span style=\"color: #800080; text-decoration-color: #800080\">100%</span> <span style=\"color: #008080; text-decoration-color: #008080\">0:00:00</span>\n</pre>\n"
                },
                "metadata": {}
              }
            ]
          }
        },
        "b2b862833edf4a68a4964783e2be2575": {
          "model_module": "@jupyter-widgets/base",
          "model_name": "LayoutModel",
          "model_module_version": "1.2.0",
          "state": {
            "_model_module": "@jupyter-widgets/base",
            "_model_module_version": "1.2.0",
            "_model_name": "LayoutModel",
            "_view_count": null,
            "_view_module": "@jupyter-widgets/base",
            "_view_module_version": "1.2.0",
            "_view_name": "LayoutView",
            "align_content": null,
            "align_items": null,
            "align_self": null,
            "border": null,
            "bottom": null,
            "display": null,
            "flex": null,
            "flex_flow": null,
            "grid_area": null,
            "grid_auto_columns": null,
            "grid_auto_flow": null,
            "grid_auto_rows": null,
            "grid_column": null,
            "grid_gap": null,
            "grid_row": null,
            "grid_template_areas": null,
            "grid_template_columns": null,
            "grid_template_rows": null,
            "height": null,
            "justify_content": null,
            "justify_items": null,
            "left": null,
            "margin": null,
            "max_height": null,
            "max_width": null,
            "min_height": null,
            "min_width": null,
            "object_fit": null,
            "object_position": null,
            "order": null,
            "overflow": null,
            "overflow_x": null,
            "overflow_y": null,
            "padding": null,
            "right": null,
            "top": null,
            "visibility": null,
            "width": null
          }
        },
        "ccd48901fee24901814cc922a9ef29a8": {
          "model_module": "@jupyter-widgets/output",
          "model_name": "OutputModel",
          "model_module_version": "1.0.0",
          "state": {
            "_dom_classes": [],
            "_model_module": "@jupyter-widgets/output",
            "_model_module_version": "1.0.0",
            "_model_name": "OutputModel",
            "_view_count": null,
            "_view_module": "@jupyter-widgets/output",
            "_view_module_version": "1.0.0",
            "_view_name": "OutputView",
            "layout": "IPY_MODEL_e1b81e449a6a48169fc7fb35ef971ebd",
            "msg_id": "",
            "outputs": [
              {
                "output_type": "display_data",
                "data": {
                  "text/plain": "Knockouts \u001b[38;2;114;156;31m━━━━━━━━━━━━━━━━━━━━━━━━━━━━━━━━━━━━━━━━\u001b[0m \u001b[35m100%\u001b[0m \u001b[36m0:00:00\u001b[0m\n",
                  "text/html": "<pre style=\"white-space:pre;overflow-x:auto;line-height:normal;font-family:Menlo,'DejaVu Sans Mono',consolas,'Courier New',monospace\">Knockouts <span style=\"color: #729c1f; text-decoration-color: #729c1f\">━━━━━━━━━━━━━━━━━━━━━━━━━━━━━━━━━━━━━━━━</span> <span style=\"color: #800080; text-decoration-color: #800080\">100%</span> <span style=\"color: #008080; text-decoration-color: #008080\">0:00:00</span>\n</pre>\n"
                },
                "metadata": {}
              }
            ]
          }
        },
        "e1b81e449a6a48169fc7fb35ef971ebd": {
          "model_module": "@jupyter-widgets/base",
          "model_name": "LayoutModel",
          "model_module_version": "1.2.0",
          "state": {
            "_model_module": "@jupyter-widgets/base",
            "_model_module_version": "1.2.0",
            "_model_name": "LayoutModel",
            "_view_count": null,
            "_view_module": "@jupyter-widgets/base",
            "_view_module_version": "1.2.0",
            "_view_name": "LayoutView",
            "align_content": null,
            "align_items": null,
            "align_self": null,
            "border": null,
            "bottom": null,
            "display": null,
            "flex": null,
            "flex_flow": null,
            "grid_area": null,
            "grid_auto_columns": null,
            "grid_auto_flow": null,
            "grid_auto_rows": null,
            "grid_column": null,
            "grid_gap": null,
            "grid_row": null,
            "grid_template_areas": null,
            "grid_template_columns": null,
            "grid_template_rows": null,
            "height": null,
            "justify_content": null,
            "justify_items": null,
            "left": null,
            "margin": null,
            "max_height": null,
            "max_width": null,
            "min_height": null,
            "min_width": null,
            "object_fit": null,
            "object_position": null,
            "order": null,
            "overflow": null,
            "overflow_x": null,
            "overflow_y": null,
            "padding": null,
            "right": null,
            "top": null,
            "visibility": null,
            "width": null
          }
        },
        "9890876b3e3e4da7b4354a4da7b32059": {
          "model_module": "@jupyter-widgets/output",
          "model_name": "OutputModel",
          "model_module_version": "1.0.0",
          "state": {
            "_dom_classes": [],
            "_model_module": "@jupyter-widgets/output",
            "_model_module_version": "1.0.0",
            "_model_name": "OutputModel",
            "_view_count": null,
            "_view_module": "@jupyter-widgets/output",
            "_view_module_version": "1.0.0",
            "_view_name": "OutputView",
            "layout": "IPY_MODEL_84021603eec6423d8ad03c60d0db2c82",
            "msg_id": "",
            "outputs": [
              {
                "output_type": "display_data",
                "data": {
                  "text/plain": "Running \u001b[38;2;114;156;31m━━━━━━━━━━━━━━━━━━━━━━━━━━━━━━━━━━━━━━━━\u001b[0m \u001b[35m100%\u001b[0m \u001b[36m0:00:00\u001b[0m\n",
                  "text/html": "<pre style=\"white-space:pre;overflow-x:auto;line-height:normal;font-family:Menlo,'DejaVu Sans Mono',consolas,'Courier New',monospace\">Running <span style=\"color: #729c1f; text-decoration-color: #729c1f\">━━━━━━━━━━━━━━━━━━━━━━━━━━━━━━━━━━━━━━━━</span> <span style=\"color: #800080; text-decoration-color: #800080\">100%</span> <span style=\"color: #008080; text-decoration-color: #008080\">0:00:00</span>\n</pre>\n"
                },
                "metadata": {}
              }
            ]
          }
        },
        "84021603eec6423d8ad03c60d0db2c82": {
          "model_module": "@jupyter-widgets/base",
          "model_name": "LayoutModel",
          "model_module_version": "1.2.0",
          "state": {
            "_model_module": "@jupyter-widgets/base",
            "_model_module_version": "1.2.0",
            "_model_name": "LayoutModel",
            "_view_count": null,
            "_view_module": "@jupyter-widgets/base",
            "_view_module_version": "1.2.0",
            "_view_name": "LayoutView",
            "align_content": null,
            "align_items": null,
            "align_self": null,
            "border": null,
            "bottom": null,
            "display": null,
            "flex": null,
            "flex_flow": null,
            "grid_area": null,
            "grid_auto_columns": null,
            "grid_auto_flow": null,
            "grid_auto_rows": null,
            "grid_column": null,
            "grid_gap": null,
            "grid_row": null,
            "grid_template_areas": null,
            "grid_template_columns": null,
            "grid_template_rows": null,
            "height": null,
            "justify_content": null,
            "justify_items": null,
            "left": null,
            "margin": null,
            "max_height": null,
            "max_width": null,
            "min_height": null,
            "min_width": null,
            "object_fit": null,
            "object_position": null,
            "order": null,
            "overflow": null,
            "overflow_x": null,
            "overflow_y": null,
            "padding": null,
            "right": null,
            "top": null,
            "visibility": null,
            "width": null
          }
        }
      }
    }
  },
  "cells": [
    {
      "cell_type": "markdown",
      "metadata": {
        "id": "view-in-github",
        "colab_type": "text"
      },
      "source": [
        "<a href=\"https://colab.research.google.com/github/Gibbons-Lab/isb_course_2020/blob/master/micom_solutions.ipynb\" target=\"_parent\"><img src=\"https://colab.research.google.com/assets/colab-badge.svg\" alt=\"Open In Colab\"/></a>"
      ]
    },
    {
      "cell_type": "markdown",
      "metadata": {
        "id": "C0vqP4LJ9y6K"
      },
      "source": [
        "# 🧫🦠 Modeling microbiota-wide metabolism with MICOM\n",
        "\n",
        "This notebook will accompany the second session of the 2020 ISB Microbiome Course. The presentation slides can be [found here](https://gibbons-lab.github.io/isb_course_2020/micom). \n",
        "\n",
        "You can save your own local copy of this notebook by using `File > Save a copy in Drive`. You may be promted to cetify the notebook is safe. We promise that it is 🤞\n",
        "\n",
        "**Disclaimer:**\n",
        "The linear and quadratic programming problems MICOM has to solve are very large and very complicated. There are some very good commercial solvers that are very expensive (even though they are often free for academic use). To make this tutorial as accessible as possible we will use the Open Source solver [OSQP](https://osqp.org/). OSQP is amazing with quadratic programming problems (kudos!) but not as accurate for linear problems. Solvers usually only guarantee a solution within a certain numerical tolerance of the real solution. In order to make everything work with OSQP this tolerance has to be relaxed to about 10<sup>-3</sup>. This means that any result with an absolute value smaller than that might very well be zero so we should look at larger values only. Installing cost-free academic versions of commercial solvers like [IBM CPLEX](https://www.ibm.com/analytics/cplex-optimizer) or [Gurobi](https://www.gurobi.com/) would alow you to lower the tolerance to 10<sup>-6</sup>.\n",
        "\n"
      ]
    },
    {
      "cell_type": "markdown",
      "metadata": {
        "id": "qgBBl4GtuTuX"
      },
      "source": [
        "# 📝 Setup\n",
        "\n",
        "MICOM installation is is usually pretty straight-forward and can be as easy as typing `pip install micom` into your Terminal. However, MICOM will require a solver for quadratic programming problems and all the best ones are commercial (boo) even though they often have free academic licenses 😌. We will use a brand new open source QP solver named OSQP, but this will require us to pull in development versions of certain packages.\n",
        "\n",
        "But first let's start by downloading the materials again and switching to the folder."
      ]
    },
    {
      "cell_type": "code",
      "metadata": {
        "id": "ckON4xr3_bW5",
        "colab": {
          "base_uri": "https://localhost:8080/"
        },
        "outputId": "dca3ee7e-8071-4716-fede-622aaf306489"
      },
      "source": [
        "!git clone https://github.com/gibbons-lab/isb_course_2020 materials\n",
        "%cd materials"
      ],
      "execution_count": 1,
      "outputs": [
        {
          "output_type": "stream",
          "name": "stdout",
          "text": [
            "Cloning into 'materials'...\n",
            "remote: Enumerating objects: 1322, done.\u001b[K\n",
            "remote: Total 1322 (delta 0), reused 0 (delta 0), pack-reused 1322\u001b[K\n",
            "Receiving objects: 100% (1322/1322), 190.63 MiB | 16.91 MiB/s, done.\n",
            "Resolving deltas: 100% (525/525), done.\n",
            "Checking out files: 100% (1109/1109), done.\n",
            "/content/materials\n"
          ]
        }
      ]
    },
    {
      "cell_type": "markdown",
      "metadata": {
        "id": "is6fmBUeorwv"
      },
      "source": [
        "## Basic Installation\n",
        "\n",
        "Installing MICOM is straight-forward in Python. OSQP itself can be installed right along with it."
      ]
    },
    {
      "cell_type": "code",
      "metadata": {
        "id": "M_TeC5yrst3h",
        "colab": {
          "base_uri": "https://localhost:8080/"
        },
        "outputId": "bb38abe3-7fe3-45ec-c1b3-72fccb793788"
      },
      "source": [
        "!pip install -q micom\n",
        "\n",
        "print(\"Done! 🎉 \")"
      ],
      "execution_count": 2,
      "outputs": [
        {
          "output_type": "stream",
          "name": "stdout",
          "text": [
            "\u001b[K     |████████████████████████████████| 828 kB 5.0 MB/s \n",
            "\u001b[K     |████████████████████████████████| 1.2 MB 36.9 MB/s \n",
            "\u001b[K     |████████████████████████████████| 37.5 MB 1.2 MB/s \n",
            "\u001b[K     |████████████████████████████████| 6.8 MB 21.1 MB/s \n",
            "\u001b[K     |████████████████████████████████| 84 kB 3.5 MB/s \n",
            "\u001b[K     |████████████████████████████████| 44 kB 2.9 MB/s \n",
            "\u001b[K     |████████████████████████████████| 11.1 MB 33.3 MB/s \n",
            "\u001b[K     |████████████████████████████████| 109 kB 60.2 MB/s \n",
            "\u001b[K     |████████████████████████████████| 232 kB 41.5 MB/s \n",
            "\u001b[K     |████████████████████████████████| 147 kB 47.6 MB/s \n",
            "\u001b[K     |████████████████████████████████| 2.3 MB 39.0 MB/s \n",
            "\u001b[K     |████████████████████████████████| 68 kB 5.5 MB/s \n",
            "\u001b[K     |████████████████████████████████| 80 kB 6.9 MB/s \n",
            "\u001b[K     |████████████████████████████████| 54 kB 2.8 MB/s \n",
            "\u001b[K     |████████████████████████████████| 51 kB 5.3 MB/s \n",
            "\u001b[K     |████████████████████████████████| 546 kB 45.3 MB/s \n",
            "\u001b[?25hDone! 🎉 \n"
          ]
        }
      ]
    },
    {
      "cell_type": "markdown",
      "metadata": {
        "id": "6oJrxxz6tV9T"
      },
      "source": [
        "## Enable QIIME 2 interactions\n",
        "\n",
        "Finally we will need to install packages to read the \"biom\" format which is a file format QIIME 2 uses to save tables. This is only necessary if you want to read QIIME 2 FeatureTable artifacts."
      ]
    },
    {
      "cell_type": "code",
      "metadata": {
        "id": "5rZX7SK_toLp",
        "colab": {
          "base_uri": "https://localhost:8080/"
        },
        "outputId": "f96f5996-ae31-436e-e170-452218d7d13f"
      },
      "source": [
        "!pip install -q numpy Cython\n",
        "!pip install -q biom-format\n",
        "\n",
        "print(\"Done! 🎉 \")"
      ],
      "execution_count": 3,
      "outputs": [
        {
          "output_type": "stream",
          "name": "stdout",
          "text": [
            "\u001b[K     |████████████████████████████████| 11.7 MB 5.2 MB/s \n",
            "\u001b[?25h  Installing build dependencies ... \u001b[?25l\u001b[?25hdone\n",
            "  Getting requirements to build wheel ... \u001b[?25l\u001b[?25hdone\n",
            "    Preparing wheel metadata ... \u001b[?25l\u001b[?25hdone\n",
            "  Building wheel for biom-format (PEP 517) ... \u001b[?25l\u001b[?25hdone\n",
            "Done! 🎉 \n"
          ]
        }
      ]
    },
    {
      "cell_type": "markdown",
      "metadata": {
        "id": "oPy1f-WLI0lZ"
      },
      "source": [
        "Okay, all done. So let's get started 😁.\n",
        "\n",
        "# 💻 MICOM\n",
        "\n",
        "We will use the Python interface to MICOM since it plays nicely with Colaboratory. However, you could run the same steps within the QIIME 2 MICOM plugin ([q2-micom](https://library.qiime2.org/plugins/q2-micom/26/)). \n",
        "\n",
        "Here is an overview of all the steps and functions:\n",
        "![micom overview](https://github.com/micom-dev/q2-micom/raw/706f583a060b91c12c0cec7acea2354fdd0dd320/docs/assets/overview.png).\n",
        "\n",
        "MICOM starts from a combined abundance/taxonomy table, which MICOM abbreviates to a taxonomy table. To see how those tables look we can import MICOM and look at an example table:\n"
      ]
    },
    {
      "cell_type": "code",
      "metadata": {
        "id": "UV9SObSQkSZh",
        "colab": {
          "base_uri": "https://localhost:8080/",
          "height": 206
        },
        "outputId": "5ad5f909-29a2-46b9-d668-a07ce60542b3"
      },
      "source": [
        "from micom.data import test_data\n",
        "\n",
        "test_data().head()"
      ],
      "execution_count": 4,
      "outputs": [
        {
          "output_type": "execute_result",
          "data": {
            "text/plain": [
              "                   id        genus             species  reactions  \\\n",
              "0  Escherichia_coli_1  Escherichia  Escherichia coli 0         95   \n",
              "1  Escherichia_coli_2  Escherichia  Escherichia coli 1         95   \n",
              "2  Escherichia_coli_3  Escherichia  Escherichia coli 2         95   \n",
              "3  Escherichia_coli_4  Escherichia  Escherichia coli 3         95   \n",
              "0  Escherichia_coli_1  Escherichia  Escherichia coli 0         95   \n",
              "\n",
              "   metabolites sample_id  abundance  \n",
              "0           72  sample_1        232  \n",
              "1           72  sample_1        572  \n",
              "2           72  sample_1        790  \n",
              "3           72  sample_1        957  \n",
              "0           72  sample_2        578  "
            ],
            "text/html": [
              "\n",
              "  <div id=\"df-cc0edbd9-927f-4cbc-9f9a-7f2e9ef5579b\">\n",
              "    <div class=\"colab-df-container\">\n",
              "      <div>\n",
              "<style scoped>\n",
              "    .dataframe tbody tr th:only-of-type {\n",
              "        vertical-align: middle;\n",
              "    }\n",
              "\n",
              "    .dataframe tbody tr th {\n",
              "        vertical-align: top;\n",
              "    }\n",
              "\n",
              "    .dataframe thead th {\n",
              "        text-align: right;\n",
              "    }\n",
              "</style>\n",
              "<table border=\"1\" class=\"dataframe\">\n",
              "  <thead>\n",
              "    <tr style=\"text-align: right;\">\n",
              "      <th></th>\n",
              "      <th>id</th>\n",
              "      <th>genus</th>\n",
              "      <th>species</th>\n",
              "      <th>reactions</th>\n",
              "      <th>metabolites</th>\n",
              "      <th>sample_id</th>\n",
              "      <th>abundance</th>\n",
              "    </tr>\n",
              "  </thead>\n",
              "  <tbody>\n",
              "    <tr>\n",
              "      <th>0</th>\n",
              "      <td>Escherichia_coli_1</td>\n",
              "      <td>Escherichia</td>\n",
              "      <td>Escherichia coli 0</td>\n",
              "      <td>95</td>\n",
              "      <td>72</td>\n",
              "      <td>sample_1</td>\n",
              "      <td>232</td>\n",
              "    </tr>\n",
              "    <tr>\n",
              "      <th>1</th>\n",
              "      <td>Escherichia_coli_2</td>\n",
              "      <td>Escherichia</td>\n",
              "      <td>Escherichia coli 1</td>\n",
              "      <td>95</td>\n",
              "      <td>72</td>\n",
              "      <td>sample_1</td>\n",
              "      <td>572</td>\n",
              "    </tr>\n",
              "    <tr>\n",
              "      <th>2</th>\n",
              "      <td>Escherichia_coli_3</td>\n",
              "      <td>Escherichia</td>\n",
              "      <td>Escherichia coli 2</td>\n",
              "      <td>95</td>\n",
              "      <td>72</td>\n",
              "      <td>sample_1</td>\n",
              "      <td>790</td>\n",
              "    </tr>\n",
              "    <tr>\n",
              "      <th>3</th>\n",
              "      <td>Escherichia_coli_4</td>\n",
              "      <td>Escherichia</td>\n",
              "      <td>Escherichia coli 3</td>\n",
              "      <td>95</td>\n",
              "      <td>72</td>\n",
              "      <td>sample_1</td>\n",
              "      <td>957</td>\n",
              "    </tr>\n",
              "    <tr>\n",
              "      <th>0</th>\n",
              "      <td>Escherichia_coli_1</td>\n",
              "      <td>Escherichia</td>\n",
              "      <td>Escherichia coli 0</td>\n",
              "      <td>95</td>\n",
              "      <td>72</td>\n",
              "      <td>sample_2</td>\n",
              "      <td>578</td>\n",
              "    </tr>\n",
              "  </tbody>\n",
              "</table>\n",
              "</div>\n",
              "      <button class=\"colab-df-convert\" onclick=\"convertToInteractive('df-cc0edbd9-927f-4cbc-9f9a-7f2e9ef5579b')\"\n",
              "              title=\"Convert this dataframe to an interactive table.\"\n",
              "              style=\"display:none;\">\n",
              "        \n",
              "  <svg xmlns=\"http://www.w3.org/2000/svg\" height=\"24px\"viewBox=\"0 0 24 24\"\n",
              "       width=\"24px\">\n",
              "    <path d=\"M0 0h24v24H0V0z\" fill=\"none\"/>\n",
              "    <path d=\"M18.56 5.44l.94 2.06.94-2.06 2.06-.94-2.06-.94-.94-2.06-.94 2.06-2.06.94zm-11 1L8.5 8.5l.94-2.06 2.06-.94-2.06-.94L8.5 2.5l-.94 2.06-2.06.94zm10 10l.94 2.06.94-2.06 2.06-.94-2.06-.94-.94-2.06-.94 2.06-2.06.94z\"/><path d=\"M17.41 7.96l-1.37-1.37c-.4-.4-.92-.59-1.43-.59-.52 0-1.04.2-1.43.59L10.3 9.45l-7.72 7.72c-.78.78-.78 2.05 0 2.83L4 21.41c.39.39.9.59 1.41.59.51 0 1.02-.2 1.41-.59l7.78-7.78 2.81-2.81c.8-.78.8-2.07 0-2.86zM5.41 20L4 18.59l7.72-7.72 1.47 1.35L5.41 20z\"/>\n",
              "  </svg>\n",
              "      </button>\n",
              "      \n",
              "  <style>\n",
              "    .colab-df-container {\n",
              "      display:flex;\n",
              "      flex-wrap:wrap;\n",
              "      gap: 12px;\n",
              "    }\n",
              "\n",
              "    .colab-df-convert {\n",
              "      background-color: #E8F0FE;\n",
              "      border: none;\n",
              "      border-radius: 50%;\n",
              "      cursor: pointer;\n",
              "      display: none;\n",
              "      fill: #1967D2;\n",
              "      height: 32px;\n",
              "      padding: 0 0 0 0;\n",
              "      width: 32px;\n",
              "    }\n",
              "\n",
              "    .colab-df-convert:hover {\n",
              "      background-color: #E2EBFA;\n",
              "      box-shadow: 0px 1px 2px rgba(60, 64, 67, 0.3), 0px 1px 3px 1px rgba(60, 64, 67, 0.15);\n",
              "      fill: #174EA6;\n",
              "    }\n",
              "\n",
              "    [theme=dark] .colab-df-convert {\n",
              "      background-color: #3B4455;\n",
              "      fill: #D2E3FC;\n",
              "    }\n",
              "\n",
              "    [theme=dark] .colab-df-convert:hover {\n",
              "      background-color: #434B5C;\n",
              "      box-shadow: 0px 1px 3px 1px rgba(0, 0, 0, 0.15);\n",
              "      filter: drop-shadow(0px 1px 2px rgba(0, 0, 0, 0.3));\n",
              "      fill: #FFFFFF;\n",
              "    }\n",
              "  </style>\n",
              "\n",
              "      <script>\n",
              "        const buttonEl =\n",
              "          document.querySelector('#df-cc0edbd9-927f-4cbc-9f9a-7f2e9ef5579b button.colab-df-convert');\n",
              "        buttonEl.style.display =\n",
              "          google.colab.kernel.accessAllowed ? 'block' : 'none';\n",
              "\n",
              "        async function convertToInteractive(key) {\n",
              "          const element = document.querySelector('#df-cc0edbd9-927f-4cbc-9f9a-7f2e9ef5579b');\n",
              "          const dataTable =\n",
              "            await google.colab.kernel.invokeFunction('convertToInteractive',\n",
              "                                                     [key], {});\n",
              "          if (!dataTable) return;\n",
              "\n",
              "          const docLinkHtml = 'Like what you see? Visit the ' +\n",
              "            '<a target=\"_blank\" href=https://colab.research.google.com/notebooks/data_table.ipynb>data table notebook</a>'\n",
              "            + ' to learn more about interactive tables.';\n",
              "          element.innerHTML = '';\n",
              "          dataTable['output_type'] = 'display_data';\n",
              "          await google.colab.output.renderOutput(dataTable, element);\n",
              "          const docLink = document.createElement('div');\n",
              "          docLink.innerHTML = docLinkHtml;\n",
              "          element.appendChild(docLink);\n",
              "        }\n",
              "      </script>\n",
              "    </div>\n",
              "  </div>\n",
              "  "
            ]
          },
          "metadata": {},
          "execution_count": 4
        }
      ]
    },
    {
      "cell_type": "markdown",
      "metadata": {
        "id": "AEk7yfd1lbYp"
      },
      "source": [
        "The `file` column is not required when using a taxonomy database like we will do here. The `id` column specifies identifiers for the taxa and should be expressive and not include spaces or special characters. Each row needs to contain the the abundance of a single taxon in a single sample. \n",
        "\n",
        "Oh no, that's not what we have generated in the previous step. We only have separate QIIME 2 artifacts 😱 \n",
        "\n",
        "No worries, we can deal with that.\n",
        "\n",
        "## Importing data from QIIME 2\n",
        "\n",
        "MICOM can read QIIME 2 artifacts. You don't even need to have QIIME 2 installed for that! But before we do so, let's resolve one issue. We discussed that MICOM summarizes genome-scale models into pangenome-scale models as a first step, but our data are on the ASV level...so how will we know what to summarize? Basically, specific model database can be used to quickly summarize pangenome-scale models for use within MICOM. So, before we read our data we have to decide which model database to use. We will go with the [AGORA database](https://pubmed.ncbi.nlm.nih.gov/27893703/), which is a curated database of more than 800 bacterial strains that commonly live in the human gut. In particular, we will use a version of this database summarized on the genus rank.\n",
        "\n"
      ]
    },
    {
      "cell_type": "code",
      "metadata": {
        "id": "eXGHZPYwlEa5",
        "colab": {
          "base_uri": "https://localhost:8080/"
        },
        "outputId": "40041f71-d8f4-4cd2-c98d-d2399e34c500"
      },
      "source": [
        "!wget -O agora103_genus.qza https://zenodo.org/record/3755182/files/agora103_genus.qza?download=1"
      ],
      "execution_count": 5,
      "outputs": [
        {
          "output_type": "stream",
          "name": "stdout",
          "text": [
            "--2022-06-13 19:25:48--  https://zenodo.org/record/3755182/files/agora103_genus.qza?download=1\n",
            "Resolving zenodo.org (zenodo.org)... 137.138.76.77\n",
            "Connecting to zenodo.org (zenodo.org)|137.138.76.77|:443... connected.\n",
            "HTTP request sent, awaiting response... 200 OK\n",
            "Length: 21080080 (20M) [application/octet-stream]\n",
            "Saving to: ‘agora103_genus.qza’\n",
            "\n",
            "agora103_genus.qza  100%[===================>]  20.10M  2.07MB/s    in 12s     \n",
            "\n",
            "2022-06-13 19:26:02 (1.68 MB/s) - ‘agora103_genus.qza’ saved [21080080/21080080]\n",
            "\n"
          ]
        }
      ]
    },
    {
      "cell_type": "markdown",
      "metadata": {
        "id": "_57iya0D3L6-"
      },
      "source": [
        "Okay. We've got everything we need now. The data from the prior analysis can be found in the `treasure_chest` folder, so we can use those files."
      ]
    },
    {
      "cell_type": "code",
      "metadata": {
        "id": "o0vBAiiqqPLC"
      },
      "source": [
        "from micom.taxonomy import qiime_to_micom\n",
        "\n",
        "tax = qiime_to_micom(\n",
        "    \"treasure_chest/dada2/table.qza\", \n",
        "    \"treasure_chest/taxa.qza\", \n",
        "    collapse_on=\"genus\"\n",
        ")"
      ],
      "execution_count": 6,
      "outputs": []
    },
    {
      "cell_type": "markdown",
      "metadata": {
        "id": "-TQ6Zp7wouk4"
      },
      "source": [
        "Notice the `collapse_on` argument. That will specify the rank on which to sumarize and can be a list of several ranks. When matching taxonomy you can either match by the particular rank of interest (for example, just comparing genus names here), or you could compare the entire taxonomy, which will require all taxonomic ranks prior to the target rank to match. For that you cloud specify `collapse_on=[\"kingdom\", \"phylum\", \"class\", \"order\", \"family\", \"genus\"]`. \n",
        "\n",
        "Taxonomic names will often not match 100% between databases. For instance, the genus name \"Prevotella\" in one database may be \"Prevotella_6\" in another. The more ranks you use for matching the more likely are you to run into those issues. However, the more taxonomic ranks you use to match the more confident you can be that your observed taxon really is the same taxon as the one in the model database.\n",
        "\n",
        "The resulting table will contain the same abundances but it will include more ranks if `collapse_on` is a list. All ranks present in the taxonomy will be used when matching to the database. The GreenGenes database is pretty old and many taxonomic names have been superceded by now. So we will stick with the \"lax\" option of only matching on genus ranks.\n",
        "\n",
        "We can also look at the generated MICOM taxonomy."
      ]
    },
    {
      "cell_type": "code",
      "metadata": {
        "id": "2eS_g-ffNUAt",
        "colab": {
          "base_uri": "https://localhost:8080/",
          "height": 424
        },
        "outputId": "c030835a-8589-4c80-bfc8-36cb969020f9"
      },
      "source": [
        "tax"
      ],
      "execution_count": 7,
      "outputs": [
        {
          "output_type": "execute_result",
          "data": {
            "text/plain": [
              "      sample_id  abundance             genus                id  relative\n",
              "8    ERR1883210       11.0       Akkermansia       Akkermansia  0.000164\n",
              "9    ERR1883214    54717.0       Akkermansia       Akkermansia  0.822404\n",
              "10   ERR1883247      102.0       Akkermansia       Akkermansia  0.003015\n",
              "11   ERR1883248     4059.0       Akkermansia       Akkermansia  0.103046\n",
              "12   ERR1883210    42793.0       Bacteroides       Bacteroides  0.637674\n",
              "..          ...        ...               ...               ...       ...\n",
              "257  ERR1883294        3.0         Atopobium         Atopobium  0.000647\n",
              "258  ERR1883294        3.0  Alicyclobacillus  Alicyclobacillus  0.000647\n",
              "259  ERR1883212        4.0         WAL_1855D         WAL_1855D  0.000069\n",
              "260  ERR1883212        2.0        Finegoldia        Finegoldia  0.000035\n",
              "261  ERR1883247        2.0       Brochothrix       Brochothrix  0.000059\n",
              "\n",
              "[254 rows x 5 columns]"
            ],
            "text/html": [
              "\n",
              "  <div id=\"df-adb072fb-5551-48b9-86bb-e996b62f51c6\">\n",
              "    <div class=\"colab-df-container\">\n",
              "      <div>\n",
              "<style scoped>\n",
              "    .dataframe tbody tr th:only-of-type {\n",
              "        vertical-align: middle;\n",
              "    }\n",
              "\n",
              "    .dataframe tbody tr th {\n",
              "        vertical-align: top;\n",
              "    }\n",
              "\n",
              "    .dataframe thead th {\n",
              "        text-align: right;\n",
              "    }\n",
              "</style>\n",
              "<table border=\"1\" class=\"dataframe\">\n",
              "  <thead>\n",
              "    <tr style=\"text-align: right;\">\n",
              "      <th></th>\n",
              "      <th>sample_id</th>\n",
              "      <th>abundance</th>\n",
              "      <th>genus</th>\n",
              "      <th>id</th>\n",
              "      <th>relative</th>\n",
              "    </tr>\n",
              "  </thead>\n",
              "  <tbody>\n",
              "    <tr>\n",
              "      <th>8</th>\n",
              "      <td>ERR1883210</td>\n",
              "      <td>11.0</td>\n",
              "      <td>Akkermansia</td>\n",
              "      <td>Akkermansia</td>\n",
              "      <td>0.000164</td>\n",
              "    </tr>\n",
              "    <tr>\n",
              "      <th>9</th>\n",
              "      <td>ERR1883214</td>\n",
              "      <td>54717.0</td>\n",
              "      <td>Akkermansia</td>\n",
              "      <td>Akkermansia</td>\n",
              "      <td>0.822404</td>\n",
              "    </tr>\n",
              "    <tr>\n",
              "      <th>10</th>\n",
              "      <td>ERR1883247</td>\n",
              "      <td>102.0</td>\n",
              "      <td>Akkermansia</td>\n",
              "      <td>Akkermansia</td>\n",
              "      <td>0.003015</td>\n",
              "    </tr>\n",
              "    <tr>\n",
              "      <th>11</th>\n",
              "      <td>ERR1883248</td>\n",
              "      <td>4059.0</td>\n",
              "      <td>Akkermansia</td>\n",
              "      <td>Akkermansia</td>\n",
              "      <td>0.103046</td>\n",
              "    </tr>\n",
              "    <tr>\n",
              "      <th>12</th>\n",
              "      <td>ERR1883210</td>\n",
              "      <td>42793.0</td>\n",
              "      <td>Bacteroides</td>\n",
              "      <td>Bacteroides</td>\n",
              "      <td>0.637674</td>\n",
              "    </tr>\n",
              "    <tr>\n",
              "      <th>...</th>\n",
              "      <td>...</td>\n",
              "      <td>...</td>\n",
              "      <td>...</td>\n",
              "      <td>...</td>\n",
              "      <td>...</td>\n",
              "    </tr>\n",
              "    <tr>\n",
              "      <th>257</th>\n",
              "      <td>ERR1883294</td>\n",
              "      <td>3.0</td>\n",
              "      <td>Atopobium</td>\n",
              "      <td>Atopobium</td>\n",
              "      <td>0.000647</td>\n",
              "    </tr>\n",
              "    <tr>\n",
              "      <th>258</th>\n",
              "      <td>ERR1883294</td>\n",
              "      <td>3.0</td>\n",
              "      <td>Alicyclobacillus</td>\n",
              "      <td>Alicyclobacillus</td>\n",
              "      <td>0.000647</td>\n",
              "    </tr>\n",
              "    <tr>\n",
              "      <th>259</th>\n",
              "      <td>ERR1883212</td>\n",
              "      <td>4.0</td>\n",
              "      <td>WAL_1855D</td>\n",
              "      <td>WAL_1855D</td>\n",
              "      <td>0.000069</td>\n",
              "    </tr>\n",
              "    <tr>\n",
              "      <th>260</th>\n",
              "      <td>ERR1883212</td>\n",
              "      <td>2.0</td>\n",
              "      <td>Finegoldia</td>\n",
              "      <td>Finegoldia</td>\n",
              "      <td>0.000035</td>\n",
              "    </tr>\n",
              "    <tr>\n",
              "      <th>261</th>\n",
              "      <td>ERR1883247</td>\n",
              "      <td>2.0</td>\n",
              "      <td>Brochothrix</td>\n",
              "      <td>Brochothrix</td>\n",
              "      <td>0.000059</td>\n",
              "    </tr>\n",
              "  </tbody>\n",
              "</table>\n",
              "<p>254 rows × 5 columns</p>\n",
              "</div>\n",
              "      <button class=\"colab-df-convert\" onclick=\"convertToInteractive('df-adb072fb-5551-48b9-86bb-e996b62f51c6')\"\n",
              "              title=\"Convert this dataframe to an interactive table.\"\n",
              "              style=\"display:none;\">\n",
              "        \n",
              "  <svg xmlns=\"http://www.w3.org/2000/svg\" height=\"24px\"viewBox=\"0 0 24 24\"\n",
              "       width=\"24px\">\n",
              "    <path d=\"M0 0h24v24H0V0z\" fill=\"none\"/>\n",
              "    <path d=\"M18.56 5.44l.94 2.06.94-2.06 2.06-.94-2.06-.94-.94-2.06-.94 2.06-2.06.94zm-11 1L8.5 8.5l.94-2.06 2.06-.94-2.06-.94L8.5 2.5l-.94 2.06-2.06.94zm10 10l.94 2.06.94-2.06 2.06-.94-2.06-.94-.94-2.06-.94 2.06-2.06.94z\"/><path d=\"M17.41 7.96l-1.37-1.37c-.4-.4-.92-.59-1.43-.59-.52 0-1.04.2-1.43.59L10.3 9.45l-7.72 7.72c-.78.78-.78 2.05 0 2.83L4 21.41c.39.39.9.59 1.41.59.51 0 1.02-.2 1.41-.59l7.78-7.78 2.81-2.81c.8-.78.8-2.07 0-2.86zM5.41 20L4 18.59l7.72-7.72 1.47 1.35L5.41 20z\"/>\n",
              "  </svg>\n",
              "      </button>\n",
              "      \n",
              "  <style>\n",
              "    .colab-df-container {\n",
              "      display:flex;\n",
              "      flex-wrap:wrap;\n",
              "      gap: 12px;\n",
              "    }\n",
              "\n",
              "    .colab-df-convert {\n",
              "      background-color: #E8F0FE;\n",
              "      border: none;\n",
              "      border-radius: 50%;\n",
              "      cursor: pointer;\n",
              "      display: none;\n",
              "      fill: #1967D2;\n",
              "      height: 32px;\n",
              "      padding: 0 0 0 0;\n",
              "      width: 32px;\n",
              "    }\n",
              "\n",
              "    .colab-df-convert:hover {\n",
              "      background-color: #E2EBFA;\n",
              "      box-shadow: 0px 1px 2px rgba(60, 64, 67, 0.3), 0px 1px 3px 1px rgba(60, 64, 67, 0.15);\n",
              "      fill: #174EA6;\n",
              "    }\n",
              "\n",
              "    [theme=dark] .colab-df-convert {\n",
              "      background-color: #3B4455;\n",
              "      fill: #D2E3FC;\n",
              "    }\n",
              "\n",
              "    [theme=dark] .colab-df-convert:hover {\n",
              "      background-color: #434B5C;\n",
              "      box-shadow: 0px 1px 3px 1px rgba(0, 0, 0, 0.15);\n",
              "      filter: drop-shadow(0px 1px 2px rgba(0, 0, 0, 0.3));\n",
              "      fill: #FFFFFF;\n",
              "    }\n",
              "  </style>\n",
              "\n",
              "      <script>\n",
              "        const buttonEl =\n",
              "          document.querySelector('#df-adb072fb-5551-48b9-86bb-e996b62f51c6 button.colab-df-convert');\n",
              "        buttonEl.style.display =\n",
              "          google.colab.kernel.accessAllowed ? 'block' : 'none';\n",
              "\n",
              "        async function convertToInteractive(key) {\n",
              "          const element = document.querySelector('#df-adb072fb-5551-48b9-86bb-e996b62f51c6');\n",
              "          const dataTable =\n",
              "            await google.colab.kernel.invokeFunction('convertToInteractive',\n",
              "                                                     [key], {});\n",
              "          if (!dataTable) return;\n",
              "\n",
              "          const docLinkHtml = 'Like what you see? Visit the ' +\n",
              "            '<a target=\"_blank\" href=https://colab.research.google.com/notebooks/data_table.ipynb>data table notebook</a>'\n",
              "            + ' to learn more about interactive tables.';\n",
              "          element.innerHTML = '';\n",
              "          dataTable['output_type'] = 'display_data';\n",
              "          await google.colab.output.renderOutput(dataTable, element);\n",
              "          const docLink = document.createElement('div');\n",
              "          docLink.innerHTML = docLinkHtml;\n",
              "          element.appendChild(docLink);\n",
              "        }\n",
              "      </script>\n",
              "    </div>\n",
              "  </div>\n",
              "  "
            ]
          },
          "metadata": {},
          "execution_count": 7
        }
      ]
    },
    {
      "cell_type": "markdown",
      "metadata": {
        "id": "R5zwLVFcNTbq"
      },
      "source": [
        "One helpful thing to do is to merge in our metadata, so we'll have it at hand for the following steps."
      ]
    },
    {
      "cell_type": "code",
      "metadata": {
        "id": "X9hqoO4go0h1",
        "colab": {
          "base_uri": "https://localhost:8080/",
          "height": 424
        },
        "outputId": "70741527-332f-46f6-b050-221012ddca5a"
      },
      "source": [
        "import pandas as pd\n",
        "\n",
        "metadata = pd.read_table(\"metadata.tsv\").rename(columns={\"id\": \"sample_id\"})\n",
        "tax = pd.merge(tax, metadata, on=\"sample_id\")\n",
        "tax"
      ],
      "execution_count": 8,
      "outputs": [
        {
          "output_type": "execute_result",
          "data": {
            "text/plain": [
              "      sample_id  abundance             genus                id  relative  \\\n",
              "0    ERR1883210       11.0       Akkermansia       Akkermansia  0.000164   \n",
              "1    ERR1883210    42793.0       Bacteroides       Bacteroides  0.637674   \n",
              "2    ERR1883210     3298.0  Faecalibacterium  Faecalibacterium  0.049145   \n",
              "3    ERR1883210     1062.0       Clostridium       Clostridium  0.015825   \n",
              "4    ERR1883210     4556.0         Roseburia         Roseburia  0.067891   \n",
              "..          ...        ...               ...               ...       ...   \n",
              "249  ERR1883315       48.0       Selenomonas       Selenomonas  0.004828   \n",
              "250  ERR1883315       28.0      Microvirgula      Microvirgula  0.002816   \n",
              "251  ERR1883315        3.0   Aggregatibacter   Aggregatibacter  0.000302   \n",
              "252  ERR1883315       11.0       Providencia       Providencia  0.001106   \n",
              "253  ERR1883315        4.0        Prevotella        Prevotella  0.000402   \n",
              "\n",
              "                                  disease_stat description  \n",
              "0                                      healthy    Donor 13  \n",
              "1                                      healthy    Donor 13  \n",
              "2                                      healthy    Donor 13  \n",
              "3                                      healthy    Donor 13  \n",
              "4                                      healthy    Donor 13  \n",
              "..                                         ...         ...  \n",
              "249  Recurrent Clostridium difficile infection  Day -1 CD4  \n",
              "250  Recurrent Clostridium difficile infection  Day -1 CD4  \n",
              "251  Recurrent Clostridium difficile infection  Day -1 CD4  \n",
              "252  Recurrent Clostridium difficile infection  Day -1 CD4  \n",
              "253  Recurrent Clostridium difficile infection  Day -1 CD4  \n",
              "\n",
              "[254 rows x 7 columns]"
            ],
            "text/html": [
              "\n",
              "  <div id=\"df-543961c0-0447-448e-979d-4067d156ddb7\">\n",
              "    <div class=\"colab-df-container\">\n",
              "      <div>\n",
              "<style scoped>\n",
              "    .dataframe tbody tr th:only-of-type {\n",
              "        vertical-align: middle;\n",
              "    }\n",
              "\n",
              "    .dataframe tbody tr th {\n",
              "        vertical-align: top;\n",
              "    }\n",
              "\n",
              "    .dataframe thead th {\n",
              "        text-align: right;\n",
              "    }\n",
              "</style>\n",
              "<table border=\"1\" class=\"dataframe\">\n",
              "  <thead>\n",
              "    <tr style=\"text-align: right;\">\n",
              "      <th></th>\n",
              "      <th>sample_id</th>\n",
              "      <th>abundance</th>\n",
              "      <th>genus</th>\n",
              "      <th>id</th>\n",
              "      <th>relative</th>\n",
              "      <th>disease_stat</th>\n",
              "      <th>description</th>\n",
              "    </tr>\n",
              "  </thead>\n",
              "  <tbody>\n",
              "    <tr>\n",
              "      <th>0</th>\n",
              "      <td>ERR1883210</td>\n",
              "      <td>11.0</td>\n",
              "      <td>Akkermansia</td>\n",
              "      <td>Akkermansia</td>\n",
              "      <td>0.000164</td>\n",
              "      <td>healthy</td>\n",
              "      <td>Donor 13</td>\n",
              "    </tr>\n",
              "    <tr>\n",
              "      <th>1</th>\n",
              "      <td>ERR1883210</td>\n",
              "      <td>42793.0</td>\n",
              "      <td>Bacteroides</td>\n",
              "      <td>Bacteroides</td>\n",
              "      <td>0.637674</td>\n",
              "      <td>healthy</td>\n",
              "      <td>Donor 13</td>\n",
              "    </tr>\n",
              "    <tr>\n",
              "      <th>2</th>\n",
              "      <td>ERR1883210</td>\n",
              "      <td>3298.0</td>\n",
              "      <td>Faecalibacterium</td>\n",
              "      <td>Faecalibacterium</td>\n",
              "      <td>0.049145</td>\n",
              "      <td>healthy</td>\n",
              "      <td>Donor 13</td>\n",
              "    </tr>\n",
              "    <tr>\n",
              "      <th>3</th>\n",
              "      <td>ERR1883210</td>\n",
              "      <td>1062.0</td>\n",
              "      <td>Clostridium</td>\n",
              "      <td>Clostridium</td>\n",
              "      <td>0.015825</td>\n",
              "      <td>healthy</td>\n",
              "      <td>Donor 13</td>\n",
              "    </tr>\n",
              "    <tr>\n",
              "      <th>4</th>\n",
              "      <td>ERR1883210</td>\n",
              "      <td>4556.0</td>\n",
              "      <td>Roseburia</td>\n",
              "      <td>Roseburia</td>\n",
              "      <td>0.067891</td>\n",
              "      <td>healthy</td>\n",
              "      <td>Donor 13</td>\n",
              "    </tr>\n",
              "    <tr>\n",
              "      <th>...</th>\n",
              "      <td>...</td>\n",
              "      <td>...</td>\n",
              "      <td>...</td>\n",
              "      <td>...</td>\n",
              "      <td>...</td>\n",
              "      <td>...</td>\n",
              "      <td>...</td>\n",
              "    </tr>\n",
              "    <tr>\n",
              "      <th>249</th>\n",
              "      <td>ERR1883315</td>\n",
              "      <td>48.0</td>\n",
              "      <td>Selenomonas</td>\n",
              "      <td>Selenomonas</td>\n",
              "      <td>0.004828</td>\n",
              "      <td>Recurrent Clostridium difficile infection</td>\n",
              "      <td>Day -1 CD4</td>\n",
              "    </tr>\n",
              "    <tr>\n",
              "      <th>250</th>\n",
              "      <td>ERR1883315</td>\n",
              "      <td>28.0</td>\n",
              "      <td>Microvirgula</td>\n",
              "      <td>Microvirgula</td>\n",
              "      <td>0.002816</td>\n",
              "      <td>Recurrent Clostridium difficile infection</td>\n",
              "      <td>Day -1 CD4</td>\n",
              "    </tr>\n",
              "    <tr>\n",
              "      <th>251</th>\n",
              "      <td>ERR1883315</td>\n",
              "      <td>3.0</td>\n",
              "      <td>Aggregatibacter</td>\n",
              "      <td>Aggregatibacter</td>\n",
              "      <td>0.000302</td>\n",
              "      <td>Recurrent Clostridium difficile infection</td>\n",
              "      <td>Day -1 CD4</td>\n",
              "    </tr>\n",
              "    <tr>\n",
              "      <th>252</th>\n",
              "      <td>ERR1883315</td>\n",
              "      <td>11.0</td>\n",
              "      <td>Providencia</td>\n",
              "      <td>Providencia</td>\n",
              "      <td>0.001106</td>\n",
              "      <td>Recurrent Clostridium difficile infection</td>\n",
              "      <td>Day -1 CD4</td>\n",
              "    </tr>\n",
              "    <tr>\n",
              "      <th>253</th>\n",
              "      <td>ERR1883315</td>\n",
              "      <td>4.0</td>\n",
              "      <td>Prevotella</td>\n",
              "      <td>Prevotella</td>\n",
              "      <td>0.000402</td>\n",
              "      <td>Recurrent Clostridium difficile infection</td>\n",
              "      <td>Day -1 CD4</td>\n",
              "    </tr>\n",
              "  </tbody>\n",
              "</table>\n",
              "<p>254 rows × 7 columns</p>\n",
              "</div>\n",
              "      <button class=\"colab-df-convert\" onclick=\"convertToInteractive('df-543961c0-0447-448e-979d-4067d156ddb7')\"\n",
              "              title=\"Convert this dataframe to an interactive table.\"\n",
              "              style=\"display:none;\">\n",
              "        \n",
              "  <svg xmlns=\"http://www.w3.org/2000/svg\" height=\"24px\"viewBox=\"0 0 24 24\"\n",
              "       width=\"24px\">\n",
              "    <path d=\"M0 0h24v24H0V0z\" fill=\"none\"/>\n",
              "    <path d=\"M18.56 5.44l.94 2.06.94-2.06 2.06-.94-2.06-.94-.94-2.06-.94 2.06-2.06.94zm-11 1L8.5 8.5l.94-2.06 2.06-.94-2.06-.94L8.5 2.5l-.94 2.06-2.06.94zm10 10l.94 2.06.94-2.06 2.06-.94-2.06-.94-.94-2.06-.94 2.06-2.06.94z\"/><path d=\"M17.41 7.96l-1.37-1.37c-.4-.4-.92-.59-1.43-.59-.52 0-1.04.2-1.43.59L10.3 9.45l-7.72 7.72c-.78.78-.78 2.05 0 2.83L4 21.41c.39.39.9.59 1.41.59.51 0 1.02-.2 1.41-.59l7.78-7.78 2.81-2.81c.8-.78.8-2.07 0-2.86zM5.41 20L4 18.59l7.72-7.72 1.47 1.35L5.41 20z\"/>\n",
              "  </svg>\n",
              "      </button>\n",
              "      \n",
              "  <style>\n",
              "    .colab-df-container {\n",
              "      display:flex;\n",
              "      flex-wrap:wrap;\n",
              "      gap: 12px;\n",
              "    }\n",
              "\n",
              "    .colab-df-convert {\n",
              "      background-color: #E8F0FE;\n",
              "      border: none;\n",
              "      border-radius: 50%;\n",
              "      cursor: pointer;\n",
              "      display: none;\n",
              "      fill: #1967D2;\n",
              "      height: 32px;\n",
              "      padding: 0 0 0 0;\n",
              "      width: 32px;\n",
              "    }\n",
              "\n",
              "    .colab-df-convert:hover {\n",
              "      background-color: #E2EBFA;\n",
              "      box-shadow: 0px 1px 2px rgba(60, 64, 67, 0.3), 0px 1px 3px 1px rgba(60, 64, 67, 0.15);\n",
              "      fill: #174EA6;\n",
              "    }\n",
              "\n",
              "    [theme=dark] .colab-df-convert {\n",
              "      background-color: #3B4455;\n",
              "      fill: #D2E3FC;\n",
              "    }\n",
              "\n",
              "    [theme=dark] .colab-df-convert:hover {\n",
              "      background-color: #434B5C;\n",
              "      box-shadow: 0px 1px 3px 1px rgba(0, 0, 0, 0.15);\n",
              "      filter: drop-shadow(0px 1px 2px rgba(0, 0, 0, 0.3));\n",
              "      fill: #FFFFFF;\n",
              "    }\n",
              "  </style>\n",
              "\n",
              "      <script>\n",
              "        const buttonEl =\n",
              "          document.querySelector('#df-543961c0-0447-448e-979d-4067d156ddb7 button.colab-df-convert');\n",
              "        buttonEl.style.display =\n",
              "          google.colab.kernel.accessAllowed ? 'block' : 'none';\n",
              "\n",
              "        async function convertToInteractive(key) {\n",
              "          const element = document.querySelector('#df-543961c0-0447-448e-979d-4067d156ddb7');\n",
              "          const dataTable =\n",
              "            await google.colab.kernel.invokeFunction('convertToInteractive',\n",
              "                                                     [key], {});\n",
              "          if (!dataTable) return;\n",
              "\n",
              "          const docLinkHtml = 'Like what you see? Visit the ' +\n",
              "            '<a target=\"_blank\" href=https://colab.research.google.com/notebooks/data_table.ipynb>data table notebook</a>'\n",
              "            + ' to learn more about interactive tables.';\n",
              "          element.innerHTML = '';\n",
              "          dataTable['output_type'] = 'display_data';\n",
              "          await google.colab.output.renderOutput(dataTable, element);\n",
              "          const docLink = document.createElement('div');\n",
              "          docLink.innerHTML = docLinkHtml;\n",
              "          element.appendChild(docLink);\n",
              "        }\n",
              "      </script>\n",
              "    </div>\n",
              "  </div>\n",
              "  "
            ]
          },
          "metadata": {},
          "execution_count": 8
        }
      ]
    },
    {
      "cell_type": "markdown",
      "metadata": {
        "id": "RTbYBR8cJfup"
      },
      "source": [
        "With the taxonomic metadata, we can finally build our community-level models.\n",
        "\n",
        "## Building community models\n",
        "\n",
        "With the data we have now, building our models is pretty easy. We just pass our taxonomy table and model database to MICOM. We will have to specify where to write the models. We will also run that in parallel over two threads. We will remove all taxa that make up less than 2.5% of the community to keep the models small and speed up this tutorial. It should take around 10 minutes to finish."
      ]
    },
    {
      "cell_type": "code",
      "metadata": {
        "id": "XlCk7GyB7B5e",
        "colab": {
          "base_uri": "https://localhost:8080/",
          "height": 34,
          "referenced_widgets": [
            "cddc3c148239412dba70de3de604a99a",
            "f944a677a3ed47cfbf6cadd060c5b0f9"
          ]
        },
        "outputId": "26d245fa-f27f-4b2b-9d84-5f2449f40e8c"
      },
      "source": [
        "from micom.workflows import build\n",
        "from micom import Community\n",
        "import pandas as pd\n",
        "\n",
        "manifest = build(tax, \"agora103_genus.qza\", \"models\", solver=\"osqp\", \n",
        "                 cutoff=2.5e-2, threads=2)\n"
      ],
      "execution_count": 9,
      "outputs": [
        {
          "output_type": "display_data",
          "data": {
            "text/plain": [
              "Output()"
            ],
            "application/vnd.jupyter.widget-view+json": {
              "version_major": 2,
              "version_minor": 0,
              "model_id": "cddc3c148239412dba70de3de604a99a"
            }
          },
          "metadata": {}
        },
        {
          "output_type": "display_data",
          "data": {
            "text/plain": [
              ""
            ],
            "text/html": [
              "<pre style=\"white-space:pre;overflow-x:auto;line-height:normal;font-family:Menlo,'DejaVu Sans Mono',consolas,'Courier New',monospace\"></pre>\n"
            ]
          },
          "metadata": {}
        },
        {
          "output_type": "display_data",
          "data": {
            "text/plain": [
              "\n"
            ],
            "text/html": [
              "<pre style=\"white-space:pre;overflow-x:auto;line-height:normal;font-family:Menlo,'DejaVu Sans Mono',consolas,'Courier New',monospace\">\n",
              "</pre>\n"
            ]
          },
          "metadata": {}
        }
      ]
    },
    {
      "cell_type": "markdown",
      "metadata": {
        "id": "Kwya6vbZZSUo"
      },
      "source": [
        "For different data a warning may pop up if less than 50% of the abundances can be matched to the database. If this happens, you can still continue, but be aware that such a sparse model may not accurately represent your sample. In lower-biomass 16S amplicon sequencing samples from stool, many reads can match to food components or to host mitochondria and these hits probably do not contribute much to bacterial community metabolism. These hits will be excluded from MICOM. \n",
        "\n",
        "We won't see any warnings here. So, we will go ahead for now. Let's also take a look what we got back from the `build` process."
      ]
    },
    {
      "cell_type": "code",
      "metadata": {
        "id": "r9qwglr88Ise",
        "colab": {
          "base_uri": "https://localhost:8080/",
          "height": 300
        },
        "outputId": "475521d0-7346-46da-a644-2a517cb08822"
      },
      "source": [
        "manifest"
      ],
      "execution_count": 10,
      "outputs": [
        {
          "output_type": "execute_result",
          "data": {
            "text/plain": [
              "    sample_id                               disease_stat description  \\\n",
              "0  ERR1883210                                    healthy    Donor 13   \n",
              "1  ERR1883212                                    healthy    Donor 14   \n",
              "2  ERR1883214  Recurrent Clostridium difficile infection   Day 0 CD1   \n",
              "3  ERR1883247                                    healthy   Donor CD3   \n",
              "4  ERR1883248  Recurrent Clostridium difficile infection   Day 1 CD1   \n",
              "5  ERR1883260                                    healthy   CD2 Donor   \n",
              "6  ERR1883294  Recurrent Clostridium difficile infection   Day 0 CD3   \n",
              "7  ERR1883315  Recurrent Clostridium difficile infection  Day -1 CD4   \n",
              "\n",
              "                file  found_taxa  total_taxa  found_fraction  \\\n",
              "0  ERR1883210.pickle         5.0         5.0        1.000000   \n",
              "1  ERR1883212.pickle         9.0        10.0        0.900000   \n",
              "2  ERR1883214.pickle         3.0         3.0        1.000000   \n",
              "3  ERR1883247.pickle         9.0        11.0        0.818182   \n",
              "4  ERR1883248.pickle         5.0         5.0        1.000000   \n",
              "5  ERR1883260.pickle         8.0         8.0        1.000000   \n",
              "6  ERR1883294.pickle         7.0         7.0        1.000000   \n",
              "7  ERR1883315.pickle         4.0         4.0        1.000000   \n",
              "\n",
              "   found_abundance_fraction  \n",
              "0                  0.822257  \n",
              "1                  0.847637  \n",
              "2                  0.965912  \n",
              "3                  0.834526  \n",
              "4                  0.846712  \n",
              "5                  0.855389  \n",
              "6                  0.937244  \n",
              "7                  0.962788  "
            ],
            "text/html": [
              "\n",
              "  <div id=\"df-da080580-09d4-4604-9f85-465a2c93cd23\">\n",
              "    <div class=\"colab-df-container\">\n",
              "      <div>\n",
              "<style scoped>\n",
              "    .dataframe tbody tr th:only-of-type {\n",
              "        vertical-align: middle;\n",
              "    }\n",
              "\n",
              "    .dataframe tbody tr th {\n",
              "        vertical-align: top;\n",
              "    }\n",
              "\n",
              "    .dataframe thead th {\n",
              "        text-align: right;\n",
              "    }\n",
              "</style>\n",
              "<table border=\"1\" class=\"dataframe\">\n",
              "  <thead>\n",
              "    <tr style=\"text-align: right;\">\n",
              "      <th></th>\n",
              "      <th>sample_id</th>\n",
              "      <th>disease_stat</th>\n",
              "      <th>description</th>\n",
              "      <th>file</th>\n",
              "      <th>found_taxa</th>\n",
              "      <th>total_taxa</th>\n",
              "      <th>found_fraction</th>\n",
              "      <th>found_abundance_fraction</th>\n",
              "    </tr>\n",
              "  </thead>\n",
              "  <tbody>\n",
              "    <tr>\n",
              "      <th>0</th>\n",
              "      <td>ERR1883210</td>\n",
              "      <td>healthy</td>\n",
              "      <td>Donor 13</td>\n",
              "      <td>ERR1883210.pickle</td>\n",
              "      <td>5.0</td>\n",
              "      <td>5.0</td>\n",
              "      <td>1.000000</td>\n",
              "      <td>0.822257</td>\n",
              "    </tr>\n",
              "    <tr>\n",
              "      <th>1</th>\n",
              "      <td>ERR1883212</td>\n",
              "      <td>healthy</td>\n",
              "      <td>Donor 14</td>\n",
              "      <td>ERR1883212.pickle</td>\n",
              "      <td>9.0</td>\n",
              "      <td>10.0</td>\n",
              "      <td>0.900000</td>\n",
              "      <td>0.847637</td>\n",
              "    </tr>\n",
              "    <tr>\n",
              "      <th>2</th>\n",
              "      <td>ERR1883214</td>\n",
              "      <td>Recurrent Clostridium difficile infection</td>\n",
              "      <td>Day 0 CD1</td>\n",
              "      <td>ERR1883214.pickle</td>\n",
              "      <td>3.0</td>\n",
              "      <td>3.0</td>\n",
              "      <td>1.000000</td>\n",
              "      <td>0.965912</td>\n",
              "    </tr>\n",
              "    <tr>\n",
              "      <th>3</th>\n",
              "      <td>ERR1883247</td>\n",
              "      <td>healthy</td>\n",
              "      <td>Donor CD3</td>\n",
              "      <td>ERR1883247.pickle</td>\n",
              "      <td>9.0</td>\n",
              "      <td>11.0</td>\n",
              "      <td>0.818182</td>\n",
              "      <td>0.834526</td>\n",
              "    </tr>\n",
              "    <tr>\n",
              "      <th>4</th>\n",
              "      <td>ERR1883248</td>\n",
              "      <td>Recurrent Clostridium difficile infection</td>\n",
              "      <td>Day 1 CD1</td>\n",
              "      <td>ERR1883248.pickle</td>\n",
              "      <td>5.0</td>\n",
              "      <td>5.0</td>\n",
              "      <td>1.000000</td>\n",
              "      <td>0.846712</td>\n",
              "    </tr>\n",
              "    <tr>\n",
              "      <th>5</th>\n",
              "      <td>ERR1883260</td>\n",
              "      <td>healthy</td>\n",
              "      <td>CD2 Donor</td>\n",
              "      <td>ERR1883260.pickle</td>\n",
              "      <td>8.0</td>\n",
              "      <td>8.0</td>\n",
              "      <td>1.000000</td>\n",
              "      <td>0.855389</td>\n",
              "    </tr>\n",
              "    <tr>\n",
              "      <th>6</th>\n",
              "      <td>ERR1883294</td>\n",
              "      <td>Recurrent Clostridium difficile infection</td>\n",
              "      <td>Day 0 CD3</td>\n",
              "      <td>ERR1883294.pickle</td>\n",
              "      <td>7.0</td>\n",
              "      <td>7.0</td>\n",
              "      <td>1.000000</td>\n",
              "      <td>0.937244</td>\n",
              "    </tr>\n",
              "    <tr>\n",
              "      <th>7</th>\n",
              "      <td>ERR1883315</td>\n",
              "      <td>Recurrent Clostridium difficile infection</td>\n",
              "      <td>Day -1 CD4</td>\n",
              "      <td>ERR1883315.pickle</td>\n",
              "      <td>4.0</td>\n",
              "      <td>4.0</td>\n",
              "      <td>1.000000</td>\n",
              "      <td>0.962788</td>\n",
              "    </tr>\n",
              "  </tbody>\n",
              "</table>\n",
              "</div>\n",
              "      <button class=\"colab-df-convert\" onclick=\"convertToInteractive('df-da080580-09d4-4604-9f85-465a2c93cd23')\"\n",
              "              title=\"Convert this dataframe to an interactive table.\"\n",
              "              style=\"display:none;\">\n",
              "        \n",
              "  <svg xmlns=\"http://www.w3.org/2000/svg\" height=\"24px\"viewBox=\"0 0 24 24\"\n",
              "       width=\"24px\">\n",
              "    <path d=\"M0 0h24v24H0V0z\" fill=\"none\"/>\n",
              "    <path d=\"M18.56 5.44l.94 2.06.94-2.06 2.06-.94-2.06-.94-.94-2.06-.94 2.06-2.06.94zm-11 1L8.5 8.5l.94-2.06 2.06-.94-2.06-.94L8.5 2.5l-.94 2.06-2.06.94zm10 10l.94 2.06.94-2.06 2.06-.94-2.06-.94-.94-2.06-.94 2.06-2.06.94z\"/><path d=\"M17.41 7.96l-1.37-1.37c-.4-.4-.92-.59-1.43-.59-.52 0-1.04.2-1.43.59L10.3 9.45l-7.72 7.72c-.78.78-.78 2.05 0 2.83L4 21.41c.39.39.9.59 1.41.59.51 0 1.02-.2 1.41-.59l7.78-7.78 2.81-2.81c.8-.78.8-2.07 0-2.86zM5.41 20L4 18.59l7.72-7.72 1.47 1.35L5.41 20z\"/>\n",
              "  </svg>\n",
              "      </button>\n",
              "      \n",
              "  <style>\n",
              "    .colab-df-container {\n",
              "      display:flex;\n",
              "      flex-wrap:wrap;\n",
              "      gap: 12px;\n",
              "    }\n",
              "\n",
              "    .colab-df-convert {\n",
              "      background-color: #E8F0FE;\n",
              "      border: none;\n",
              "      border-radius: 50%;\n",
              "      cursor: pointer;\n",
              "      display: none;\n",
              "      fill: #1967D2;\n",
              "      height: 32px;\n",
              "      padding: 0 0 0 0;\n",
              "      width: 32px;\n",
              "    }\n",
              "\n",
              "    .colab-df-convert:hover {\n",
              "      background-color: #E2EBFA;\n",
              "      box-shadow: 0px 1px 2px rgba(60, 64, 67, 0.3), 0px 1px 3px 1px rgba(60, 64, 67, 0.15);\n",
              "      fill: #174EA6;\n",
              "    }\n",
              "\n",
              "    [theme=dark] .colab-df-convert {\n",
              "      background-color: #3B4455;\n",
              "      fill: #D2E3FC;\n",
              "    }\n",
              "\n",
              "    [theme=dark] .colab-df-convert:hover {\n",
              "      background-color: #434B5C;\n",
              "      box-shadow: 0px 1px 3px 1px rgba(0, 0, 0, 0.15);\n",
              "      filter: drop-shadow(0px 1px 2px rgba(0, 0, 0, 0.3));\n",
              "      fill: #FFFFFF;\n",
              "    }\n",
              "  </style>\n",
              "\n",
              "      <script>\n",
              "        const buttonEl =\n",
              "          document.querySelector('#df-da080580-09d4-4604-9f85-465a2c93cd23 button.colab-df-convert');\n",
              "        buttonEl.style.display =\n",
              "          google.colab.kernel.accessAllowed ? 'block' : 'none';\n",
              "\n",
              "        async function convertToInteractive(key) {\n",
              "          const element = document.querySelector('#df-da080580-09d4-4604-9f85-465a2c93cd23');\n",
              "          const dataTable =\n",
              "            await google.colab.kernel.invokeFunction('convertToInteractive',\n",
              "                                                     [key], {});\n",
              "          if (!dataTable) return;\n",
              "\n",
              "          const docLinkHtml = 'Like what you see? Visit the ' +\n",
              "            '<a target=\"_blank\" href=https://colab.research.google.com/notebooks/data_table.ipynb>data table notebook</a>'\n",
              "            + ' to learn more about interactive tables.';\n",
              "          element.innerHTML = '';\n",
              "          dataTable['output_type'] = 'display_data';\n",
              "          await google.colab.output.renderOutput(dataTable, element);\n",
              "          const docLink = document.createElement('div');\n",
              "          docLink.innerHTML = docLinkHtml;\n",
              "          element.appendChild(docLink);\n",
              "        }\n",
              "      </script>\n",
              "    </div>\n",
              "  </div>\n",
              "  "
            ]
          },
          "metadata": {},
          "execution_count": 10
        }
      ]
    },
    {
      "cell_type": "markdown",
      "metadata": {
        "id": "y4KAJkhIdspQ"
      },
      "source": [
        "This will tell you many taxa were found in the database and what fraction of the total abundance was represented by the database. Looks okay here. \n",
        "\n",
        "So we now have our community models and can leverage MICOM fully by simulating community growth.\n",
        "\n",
        "## Simulating growth\n",
        "\n",
        "With our community models built, we can start to simulate growth with the cooperative tradeoff algorithm. Because we have no diet information for our samples, we will apply the same 'average Western Diet' to each individual. We will start by downloading this diet. It is stored in the MICOM data repository at "
      ]
    },
    {
      "cell_type": "code",
      "metadata": {
        "id": "Xi4hZLiaPLNu",
        "colab": {
          "base_uri": "https://localhost:8080/"
        },
        "outputId": "89aa3d7e-2ee9-4ab0-b808-f10c129dfc9d"
      },
      "source": [
        "!wget -O western_diet_gut.qza https://zenodo.org/record/3755182/files/western_diet_gut.qza?download=1"
      ],
      "execution_count": 11,
      "outputs": [
        {
          "output_type": "stream",
          "name": "stdout",
          "text": [
            "--2022-06-13 19:32:03--  https://zenodo.org/record/3755182/files/western_diet_gut.qza?download=1\n",
            "Resolving zenodo.org (zenodo.org)... 137.138.76.77\n",
            "Connecting to zenodo.org (zenodo.org)|137.138.76.77|:443... connected.\n",
            "HTTP request sent, awaiting response... 200 OK\n",
            "Length: 7173 (7.0K) [application/octet-stream]\n",
            "Saving to: ‘western_diet_gut.qza’\n",
            "\n",
            "western_diet_gut.qz 100%[===================>]   7.00K  --.-KB/s    in 0s      \n",
            "\n",
            "2022-06-13 19:32:04 (986 MB/s) - ‘western_diet_gut.qza’ saved [7173/7173]\n",
            "\n"
          ]
        }
      ]
    },
    {
      "cell_type": "markdown",
      "metadata": {
        "id": "TVWMEu4nfKdL"
      },
      "source": [
        "This is again a QIIME 2 artifact, which we can load into MICOM."
      ]
    },
    {
      "cell_type": "code",
      "metadata": {
        "id": "3XBGQlFnfO4W",
        "colab": {
          "base_uri": "https://localhost:8080/",
          "height": 455
        },
        "outputId": "25a00bac-c07b-4f84-804e-fc1ced9f3bd1"
      },
      "source": [
        "from micom.qiime_formats import load_qiime_medium\n",
        "\n",
        "medium = load_qiime_medium(\"western_diet_gut.qza\")\n",
        "medium"
      ],
      "execution_count": 12,
      "outputs": [
        {
          "output_type": "execute_result",
          "data": {
            "text/plain": [
              "                flux  dilution metabolite    reaction\n",
              "reaction                                             \n",
              "EX_fru_m    0.014899     0.100      fru_m    EX_fru_m\n",
              "EX_glc_m    0.014899     0.100      glc_m    EX_glc_m\n",
              "EX_gal_m    0.014899     0.100      gal_m    EX_gal_m\n",
              "EX_man_m    0.014899     0.100      man_m    EX_man_m\n",
              "EX_mnl_m    0.014899     0.100      mnl_m    EX_mnl_m\n",
              "...              ...       ...        ...         ...\n",
              "EX_glu_D_m  0.100000     0.100    glu_D_m  EX_glu_D_m\n",
              "EX_gthrd_m  0.100000     0.100    gthrd_m  EX_gthrd_m\n",
              "EX_h2_m     0.100000     0.100       h2_m     EX_h2_m\n",
              "EX_no2_m    0.100000     0.100      no2_m    EX_no2_m\n",
              "EX_o2_m     0.001000     0.001       o2_m     EX_o2_m\n",
              "\n",
              "[170 rows x 4 columns]"
            ],
            "text/html": [
              "\n",
              "  <div id=\"df-d24298f4-a24e-466e-bfb4-5cc7a91a98c4\">\n",
              "    <div class=\"colab-df-container\">\n",
              "      <div>\n",
              "<style scoped>\n",
              "    .dataframe tbody tr th:only-of-type {\n",
              "        vertical-align: middle;\n",
              "    }\n",
              "\n",
              "    .dataframe tbody tr th {\n",
              "        vertical-align: top;\n",
              "    }\n",
              "\n",
              "    .dataframe thead th {\n",
              "        text-align: right;\n",
              "    }\n",
              "</style>\n",
              "<table border=\"1\" class=\"dataframe\">\n",
              "  <thead>\n",
              "    <tr style=\"text-align: right;\">\n",
              "      <th></th>\n",
              "      <th>flux</th>\n",
              "      <th>dilution</th>\n",
              "      <th>metabolite</th>\n",
              "      <th>reaction</th>\n",
              "    </tr>\n",
              "    <tr>\n",
              "      <th>reaction</th>\n",
              "      <th></th>\n",
              "      <th></th>\n",
              "      <th></th>\n",
              "      <th></th>\n",
              "    </tr>\n",
              "  </thead>\n",
              "  <tbody>\n",
              "    <tr>\n",
              "      <th>EX_fru_m</th>\n",
              "      <td>0.014899</td>\n",
              "      <td>0.100</td>\n",
              "      <td>fru_m</td>\n",
              "      <td>EX_fru_m</td>\n",
              "    </tr>\n",
              "    <tr>\n",
              "      <th>EX_glc_m</th>\n",
              "      <td>0.014899</td>\n",
              "      <td>0.100</td>\n",
              "      <td>glc_m</td>\n",
              "      <td>EX_glc_m</td>\n",
              "    </tr>\n",
              "    <tr>\n",
              "      <th>EX_gal_m</th>\n",
              "      <td>0.014899</td>\n",
              "      <td>0.100</td>\n",
              "      <td>gal_m</td>\n",
              "      <td>EX_gal_m</td>\n",
              "    </tr>\n",
              "    <tr>\n",
              "      <th>EX_man_m</th>\n",
              "      <td>0.014899</td>\n",
              "      <td>0.100</td>\n",
              "      <td>man_m</td>\n",
              "      <td>EX_man_m</td>\n",
              "    </tr>\n",
              "    <tr>\n",
              "      <th>EX_mnl_m</th>\n",
              "      <td>0.014899</td>\n",
              "      <td>0.100</td>\n",
              "      <td>mnl_m</td>\n",
              "      <td>EX_mnl_m</td>\n",
              "    </tr>\n",
              "    <tr>\n",
              "      <th>...</th>\n",
              "      <td>...</td>\n",
              "      <td>...</td>\n",
              "      <td>...</td>\n",
              "      <td>...</td>\n",
              "    </tr>\n",
              "    <tr>\n",
              "      <th>EX_glu_D_m</th>\n",
              "      <td>0.100000</td>\n",
              "      <td>0.100</td>\n",
              "      <td>glu_D_m</td>\n",
              "      <td>EX_glu_D_m</td>\n",
              "    </tr>\n",
              "    <tr>\n",
              "      <th>EX_gthrd_m</th>\n",
              "      <td>0.100000</td>\n",
              "      <td>0.100</td>\n",
              "      <td>gthrd_m</td>\n",
              "      <td>EX_gthrd_m</td>\n",
              "    </tr>\n",
              "    <tr>\n",
              "      <th>EX_h2_m</th>\n",
              "      <td>0.100000</td>\n",
              "      <td>0.100</td>\n",
              "      <td>h2_m</td>\n",
              "      <td>EX_h2_m</td>\n",
              "    </tr>\n",
              "    <tr>\n",
              "      <th>EX_no2_m</th>\n",
              "      <td>0.100000</td>\n",
              "      <td>0.100</td>\n",
              "      <td>no2_m</td>\n",
              "      <td>EX_no2_m</td>\n",
              "    </tr>\n",
              "    <tr>\n",
              "      <th>EX_o2_m</th>\n",
              "      <td>0.001000</td>\n",
              "      <td>0.001</td>\n",
              "      <td>o2_m</td>\n",
              "      <td>EX_o2_m</td>\n",
              "    </tr>\n",
              "  </tbody>\n",
              "</table>\n",
              "<p>170 rows × 4 columns</p>\n",
              "</div>\n",
              "      <button class=\"colab-df-convert\" onclick=\"convertToInteractive('df-d24298f4-a24e-466e-bfb4-5cc7a91a98c4')\"\n",
              "              title=\"Convert this dataframe to an interactive table.\"\n",
              "              style=\"display:none;\">\n",
              "        \n",
              "  <svg xmlns=\"http://www.w3.org/2000/svg\" height=\"24px\"viewBox=\"0 0 24 24\"\n",
              "       width=\"24px\">\n",
              "    <path d=\"M0 0h24v24H0V0z\" fill=\"none\"/>\n",
              "    <path d=\"M18.56 5.44l.94 2.06.94-2.06 2.06-.94-2.06-.94-.94-2.06-.94 2.06-2.06.94zm-11 1L8.5 8.5l.94-2.06 2.06-.94-2.06-.94L8.5 2.5l-.94 2.06-2.06.94zm10 10l.94 2.06.94-2.06 2.06-.94-2.06-.94-.94-2.06-.94 2.06-2.06.94z\"/><path d=\"M17.41 7.96l-1.37-1.37c-.4-.4-.92-.59-1.43-.59-.52 0-1.04.2-1.43.59L10.3 9.45l-7.72 7.72c-.78.78-.78 2.05 0 2.83L4 21.41c.39.39.9.59 1.41.59.51 0 1.02-.2 1.41-.59l7.78-7.78 2.81-2.81c.8-.78.8-2.07 0-2.86zM5.41 20L4 18.59l7.72-7.72 1.47 1.35L5.41 20z\"/>\n",
              "  </svg>\n",
              "      </button>\n",
              "      \n",
              "  <style>\n",
              "    .colab-df-container {\n",
              "      display:flex;\n",
              "      flex-wrap:wrap;\n",
              "      gap: 12px;\n",
              "    }\n",
              "\n",
              "    .colab-df-convert {\n",
              "      background-color: #E8F0FE;\n",
              "      border: none;\n",
              "      border-radius: 50%;\n",
              "      cursor: pointer;\n",
              "      display: none;\n",
              "      fill: #1967D2;\n",
              "      height: 32px;\n",
              "      padding: 0 0 0 0;\n",
              "      width: 32px;\n",
              "    }\n",
              "\n",
              "    .colab-df-convert:hover {\n",
              "      background-color: #E2EBFA;\n",
              "      box-shadow: 0px 1px 2px rgba(60, 64, 67, 0.3), 0px 1px 3px 1px rgba(60, 64, 67, 0.15);\n",
              "      fill: #174EA6;\n",
              "    }\n",
              "\n",
              "    [theme=dark] .colab-df-convert {\n",
              "      background-color: #3B4455;\n",
              "      fill: #D2E3FC;\n",
              "    }\n",
              "\n",
              "    [theme=dark] .colab-df-convert:hover {\n",
              "      background-color: #434B5C;\n",
              "      box-shadow: 0px 1px 3px 1px rgba(0, 0, 0, 0.15);\n",
              "      filter: drop-shadow(0px 1px 2px rgba(0, 0, 0, 0.3));\n",
              "      fill: #FFFFFF;\n",
              "    }\n",
              "  </style>\n",
              "\n",
              "      <script>\n",
              "        const buttonEl =\n",
              "          document.querySelector('#df-d24298f4-a24e-466e-bfb4-5cc7a91a98c4 button.colab-df-convert');\n",
              "        buttonEl.style.display =\n",
              "          google.colab.kernel.accessAllowed ? 'block' : 'none';\n",
              "\n",
              "        async function convertToInteractive(key) {\n",
              "          const element = document.querySelector('#df-d24298f4-a24e-466e-bfb4-5cc7a91a98c4');\n",
              "          const dataTable =\n",
              "            await google.colab.kernel.invokeFunction('convertToInteractive',\n",
              "                                                     [key], {});\n",
              "          if (!dataTable) return;\n",
              "\n",
              "          const docLinkHtml = 'Like what you see? Visit the ' +\n",
              "            '<a target=\"_blank\" href=https://colab.research.google.com/notebooks/data_table.ipynb>data table notebook</a>'\n",
              "            + ' to learn more about interactive tables.';\n",
              "          element.innerHTML = '';\n",
              "          dataTable['output_type'] = 'display_data';\n",
              "          await google.colab.output.renderOutput(dataTable, element);\n",
              "          const docLink = document.createElement('div');\n",
              "          docLink.innerHTML = docLinkHtml;\n",
              "          element.appendChild(docLink);\n",
              "        }\n",
              "      </script>\n",
              "    </div>\n",
              "  </div>\n",
              "  "
            ]
          },
          "metadata": {},
          "execution_count": 12
        }
      ]
    },
    {
      "cell_type": "markdown",
      "metadata": {
        "id": "4s8R4WYUez4g"
      },
      "source": [
        "Many dietary components get absorbed in the small intestine. This medium was created by taking dietary components and depleting all nutrients absorbed in the small intestine by a factor of 10 (indicated by the dilution column). \n",
        "\n",
        "Okay let's go right ahead and simulate growth. This will take about 20 minutes and give us time to dive into some details 🏊"
      ]
    },
    {
      "cell_type": "code",
      "metadata": {
        "id": "l-vJJwtdRZxP",
        "colab": {
          "base_uri": "https://localhost:8080/",
          "height": 89,
          "referenced_widgets": [
            "147e548fbd9d4eed8752a3f668879899",
            "b2b862833edf4a68a4964783e2be2575"
          ]
        },
        "outputId": "5806ed52-2657-4246-f1af-462319a69a9b"
      },
      "source": [
        "from micom.workflows import grow\n",
        "import pickle\n",
        "\n",
        "growth_results = grow(manifest, \"models\", medium, tradeoff=0.5, threads=2)\n",
        "\n",
        "# We'll save the results to a file\n",
        "pickle.dump(growth_results, open(\"growth.pickle\", \"wb\"))"
      ],
      "execution_count": 13,
      "outputs": [
        {
          "output_type": "display_data",
          "data": {
            "text/plain": [
              "Output()"
            ],
            "application/vnd.jupyter.widget-view+json": {
              "version_major": 2,
              "version_minor": 0,
              "model_id": "147e548fbd9d4eed8752a3f668879899"
            }
          },
          "metadata": {}
        },
        {
          "output_type": "display_data",
          "data": {
            "text/plain": [
              ""
            ],
            "text/html": [
              "<pre style=\"white-space:pre;overflow-x:auto;line-height:normal;font-family:Menlo,'DejaVu Sans Mono',consolas,'Courier New',monospace\"></pre>\n"
            ]
          },
          "metadata": {}
        },
        {
          "output_type": "display_data",
          "data": {
            "text/plain": [
              "\n"
            ],
            "text/html": [
              "<pre style=\"white-space:pre;overflow-x:auto;line-height:normal;font-family:Menlo,'DejaVu Sans Mono',consolas,'Courier New',monospace\">\n",
              "</pre>\n"
            ]
          },
          "metadata": {}
        },
        {
          "output_type": "stream",
          "name": "stderr",
          "text": [
            "/usr/local/lib/python3.7/dist-packages/micom/workflows/grow.py:199: PerformanceWarning: DataFrame is highly fragmented.  This is usually the result of calling `frame.insert` many times, which has poor performance.  Consider joining all columns at once using pd.concat(axis=1) instead.  To get a de-fragmented frame, use `newframe = frame.copy()`\n",
            "  exchanges[\"taxon\"] = exchanges.index\n"
          ]
        }
      ]
    },
    {
      "cell_type": "markdown",
      "metadata": {
        "id": "3WH8VVrVS4mv"
      },
      "source": [
        "If that takes too long or was aborted, we can read it in from the treasure chest."
      ]
    },
    {
      "cell_type": "code",
      "metadata": {
        "id": "tZiPmdO4S-OE"
      },
      "source": [
        "# Will only run if the previous step failed\n",
        "\n",
        "import pickle\n",
        "\n",
        "try:\n",
        "  growth_results\n",
        "except NameError:\n",
        "  growth_results = pickle.load(open(\"treasure_chest/growth.pickle\", \"rb\"))"
      ],
      "execution_count": 14,
      "outputs": []
    },
    {
      "cell_type": "markdown",
      "metadata": {
        "id": "69gq9QfAzqxq"
      },
      "source": [
        "What kind of results did we get? Well, `grow` returns a tuple of 3 data sets:\n",
        "\n",
        "1. The predicted growth rate for all taxa in all samples\n",
        "2. The import and export fluxes for each taxon and the external environment\n",
        "3. Annotations for the fluxes mapping to other databases\n",
        "\n",
        "The growth rates are pretty straightforward."
      ]
    },
    {
      "cell_type": "code",
      "metadata": {
        "id": "xHQKoxgRzqWM",
        "colab": {
          "base_uri": "https://localhost:8080/",
          "height": 238
        },
        "outputId": "5a5272f6-30b6-4389-b348-82a7de4d9420"
      },
      "source": [
        "growth_results.growth_rates.head()"
      ],
      "execution_count": 15,
      "outputs": [
        {
          "output_type": "execute_result",
          "data": {
            "text/plain": [
              "                  abundance  growth_rate  reactions  metabolites  \\\n",
              "compartments                                                       \n",
              "Bacteroides        0.775516     0.281698       3307         1887   \n",
              "Faecalibacterium   0.059768     0.021711       1986         1472   \n",
              "Parabacteroides    0.045125     0.016391       2870         1747   \n",
              "Roseburia          0.082566     0.029991       2357         1567   \n",
              "Sutterella         0.037024     0.012867       1233         1081   \n",
              "\n",
              "                             taxon  tradeoff   sample_id  \n",
              "compartments                                              \n",
              "Bacteroides            Bacteroides       0.5  ERR1883210  \n",
              "Faecalibacterium  Faecalibacterium       0.5  ERR1883210  \n",
              "Parabacteroides    Parabacteroides       0.5  ERR1883210  \n",
              "Roseburia                Roseburia       0.5  ERR1883210  \n",
              "Sutterella              Sutterella       0.5  ERR1883210  "
            ],
            "text/html": [
              "\n",
              "  <div id=\"df-7353f1df-df24-4621-b1d7-4f71bf23537e\">\n",
              "    <div class=\"colab-df-container\">\n",
              "      <div>\n",
              "<style scoped>\n",
              "    .dataframe tbody tr th:only-of-type {\n",
              "        vertical-align: middle;\n",
              "    }\n",
              "\n",
              "    .dataframe tbody tr th {\n",
              "        vertical-align: top;\n",
              "    }\n",
              "\n",
              "    .dataframe thead th {\n",
              "        text-align: right;\n",
              "    }\n",
              "</style>\n",
              "<table border=\"1\" class=\"dataframe\">\n",
              "  <thead>\n",
              "    <tr style=\"text-align: right;\">\n",
              "      <th></th>\n",
              "      <th>abundance</th>\n",
              "      <th>growth_rate</th>\n",
              "      <th>reactions</th>\n",
              "      <th>metabolites</th>\n",
              "      <th>taxon</th>\n",
              "      <th>tradeoff</th>\n",
              "      <th>sample_id</th>\n",
              "    </tr>\n",
              "    <tr>\n",
              "      <th>compartments</th>\n",
              "      <th></th>\n",
              "      <th></th>\n",
              "      <th></th>\n",
              "      <th></th>\n",
              "      <th></th>\n",
              "      <th></th>\n",
              "      <th></th>\n",
              "    </tr>\n",
              "  </thead>\n",
              "  <tbody>\n",
              "    <tr>\n",
              "      <th>Bacteroides</th>\n",
              "      <td>0.775516</td>\n",
              "      <td>0.281698</td>\n",
              "      <td>3307</td>\n",
              "      <td>1887</td>\n",
              "      <td>Bacteroides</td>\n",
              "      <td>0.5</td>\n",
              "      <td>ERR1883210</td>\n",
              "    </tr>\n",
              "    <tr>\n",
              "      <th>Faecalibacterium</th>\n",
              "      <td>0.059768</td>\n",
              "      <td>0.021711</td>\n",
              "      <td>1986</td>\n",
              "      <td>1472</td>\n",
              "      <td>Faecalibacterium</td>\n",
              "      <td>0.5</td>\n",
              "      <td>ERR1883210</td>\n",
              "    </tr>\n",
              "    <tr>\n",
              "      <th>Parabacteroides</th>\n",
              "      <td>0.045125</td>\n",
              "      <td>0.016391</td>\n",
              "      <td>2870</td>\n",
              "      <td>1747</td>\n",
              "      <td>Parabacteroides</td>\n",
              "      <td>0.5</td>\n",
              "      <td>ERR1883210</td>\n",
              "    </tr>\n",
              "    <tr>\n",
              "      <th>Roseburia</th>\n",
              "      <td>0.082566</td>\n",
              "      <td>0.029991</td>\n",
              "      <td>2357</td>\n",
              "      <td>1567</td>\n",
              "      <td>Roseburia</td>\n",
              "      <td>0.5</td>\n",
              "      <td>ERR1883210</td>\n",
              "    </tr>\n",
              "    <tr>\n",
              "      <th>Sutterella</th>\n",
              "      <td>0.037024</td>\n",
              "      <td>0.012867</td>\n",
              "      <td>1233</td>\n",
              "      <td>1081</td>\n",
              "      <td>Sutterella</td>\n",
              "      <td>0.5</td>\n",
              "      <td>ERR1883210</td>\n",
              "    </tr>\n",
              "  </tbody>\n",
              "</table>\n",
              "</div>\n",
              "      <button class=\"colab-df-convert\" onclick=\"convertToInteractive('df-7353f1df-df24-4621-b1d7-4f71bf23537e')\"\n",
              "              title=\"Convert this dataframe to an interactive table.\"\n",
              "              style=\"display:none;\">\n",
              "        \n",
              "  <svg xmlns=\"http://www.w3.org/2000/svg\" height=\"24px\"viewBox=\"0 0 24 24\"\n",
              "       width=\"24px\">\n",
              "    <path d=\"M0 0h24v24H0V0z\" fill=\"none\"/>\n",
              "    <path d=\"M18.56 5.44l.94 2.06.94-2.06 2.06-.94-2.06-.94-.94-2.06-.94 2.06-2.06.94zm-11 1L8.5 8.5l.94-2.06 2.06-.94-2.06-.94L8.5 2.5l-.94 2.06-2.06.94zm10 10l.94 2.06.94-2.06 2.06-.94-2.06-.94-.94-2.06-.94 2.06-2.06.94z\"/><path d=\"M17.41 7.96l-1.37-1.37c-.4-.4-.92-.59-1.43-.59-.52 0-1.04.2-1.43.59L10.3 9.45l-7.72 7.72c-.78.78-.78 2.05 0 2.83L4 21.41c.39.39.9.59 1.41.59.51 0 1.02-.2 1.41-.59l7.78-7.78 2.81-2.81c.8-.78.8-2.07 0-2.86zM5.41 20L4 18.59l7.72-7.72 1.47 1.35L5.41 20z\"/>\n",
              "  </svg>\n",
              "      </button>\n",
              "      \n",
              "  <style>\n",
              "    .colab-df-container {\n",
              "      display:flex;\n",
              "      flex-wrap:wrap;\n",
              "      gap: 12px;\n",
              "    }\n",
              "\n",
              "    .colab-df-convert {\n",
              "      background-color: #E8F0FE;\n",
              "      border: none;\n",
              "      border-radius: 50%;\n",
              "      cursor: pointer;\n",
              "      display: none;\n",
              "      fill: #1967D2;\n",
              "      height: 32px;\n",
              "      padding: 0 0 0 0;\n",
              "      width: 32px;\n",
              "    }\n",
              "\n",
              "    .colab-df-convert:hover {\n",
              "      background-color: #E2EBFA;\n",
              "      box-shadow: 0px 1px 2px rgba(60, 64, 67, 0.3), 0px 1px 3px 1px rgba(60, 64, 67, 0.15);\n",
              "      fill: #174EA6;\n",
              "    }\n",
              "\n",
              "    [theme=dark] .colab-df-convert {\n",
              "      background-color: #3B4455;\n",
              "      fill: #D2E3FC;\n",
              "    }\n",
              "\n",
              "    [theme=dark] .colab-df-convert:hover {\n",
              "      background-color: #434B5C;\n",
              "      box-shadow: 0px 1px 3px 1px rgba(0, 0, 0, 0.15);\n",
              "      filter: drop-shadow(0px 1px 2px rgba(0, 0, 0, 0.3));\n",
              "      fill: #FFFFFF;\n",
              "    }\n",
              "  </style>\n",
              "\n",
              "      <script>\n",
              "        const buttonEl =\n",
              "          document.querySelector('#df-7353f1df-df24-4621-b1d7-4f71bf23537e button.colab-df-convert');\n",
              "        buttonEl.style.display =\n",
              "          google.colab.kernel.accessAllowed ? 'block' : 'none';\n",
              "\n",
              "        async function convertToInteractive(key) {\n",
              "          const element = document.querySelector('#df-7353f1df-df24-4621-b1d7-4f71bf23537e');\n",
              "          const dataTable =\n",
              "            await google.colab.kernel.invokeFunction('convertToInteractive',\n",
              "                                                     [key], {});\n",
              "          if (!dataTable) return;\n",
              "\n",
              "          const docLinkHtml = 'Like what you see? Visit the ' +\n",
              "            '<a target=\"_blank\" href=https://colab.research.google.com/notebooks/data_table.ipynb>data table notebook</a>'\n",
              "            + ' to learn more about interactive tables.';\n",
              "          element.innerHTML = '';\n",
              "          dataTable['output_type'] = 'display_data';\n",
              "          await google.colab.output.renderOutput(dataTable, element);\n",
              "          const docLink = document.createElement('div');\n",
              "          docLink.innerHTML = docLinkHtml;\n",
              "          element.appendChild(docLink);\n",
              "        }\n",
              "      </script>\n",
              "    </div>\n",
              "  </div>\n",
              "  "
            ]
          },
          "metadata": {},
          "execution_count": 15
        }
      ]
    },
    {
      "cell_type": "markdown",
      "metadata": {
        "id": "F5BK7DDv0UfA"
      },
      "source": [
        "More interesting are the exchange fluxes."
      ]
    },
    {
      "cell_type": "code",
      "metadata": {
        "id": "lQW2BBS10jdN",
        "colab": {
          "base_uri": "https://localhost:8080/",
          "height": 424
        },
        "outputId": "195147f5-b244-4168-853a-102a0f19f57a"
      },
      "source": [
        "growth_results.exchanges"
      ],
      "execution_count": 16,
      "outputs": [
        {
          "output_type": "execute_result",
          "data": {
            "text/plain": [
              "            taxon   sample_id  tolerance     reaction      flux  abundance  \\\n",
              "1          medium  ERR1883210     0.0001     EX_mnl_m  0.560514        NaN   \n",
              "4          medium  ERR1883210     0.0001     EX_ca2_m -0.001453        NaN   \n",
              "11         medium  ERR1883210     0.0001     EX_co2_m  2.123709        NaN   \n",
              "12         medium  ERR1883210     0.0001      EX_o2_m -0.000993        NaN   \n",
              "23         medium  ERR1883210     0.0001     EX_cit_m -0.009536        NaN   \n",
              "...           ...         ...        ...          ...       ...        ...   \n",
              "31442  Sutterella  ERR1883315     0.0001    EX_akg(e) -0.371481   0.152408   \n",
              "31444  Sutterella  ERR1883315     0.0001  EX_arg_L(e)  0.030702   0.152408   \n",
              "31445  Sutterella  ERR1883315     0.0001    EX_mn2(e) -0.000513   0.152408   \n",
              "31446  Sutterella  ERR1883315     0.0001    EX_uri(e)  0.391039   0.152408   \n",
              "31447  Sutterella  ERR1883315     0.0001    EX_cu2(e) -0.000513   0.152408   \n",
              "\n",
              "      metabolite direction  \n",
              "1          mnl_m    export  \n",
              "4          ca2_m    import  \n",
              "11         co2_m    export  \n",
              "12          o2_m    import  \n",
              "23         cit_m    import  \n",
              "...          ...       ...  \n",
              "31442     akg[e]    import  \n",
              "31444   arg_L[e]    export  \n",
              "31445     mn2[e]    import  \n",
              "31446     uri[e]    export  \n",
              "31447     cu2[e]    import  \n",
              "\n",
              "[6853 rows x 8 columns]"
            ],
            "text/html": [
              "\n",
              "  <div id=\"df-40d785bc-e3b2-4a07-bd0d-59d16d83a3b7\">\n",
              "    <div class=\"colab-df-container\">\n",
              "      <div>\n",
              "<style scoped>\n",
              "    .dataframe tbody tr th:only-of-type {\n",
              "        vertical-align: middle;\n",
              "    }\n",
              "\n",
              "    .dataframe tbody tr th {\n",
              "        vertical-align: top;\n",
              "    }\n",
              "\n",
              "    .dataframe thead th {\n",
              "        text-align: right;\n",
              "    }\n",
              "</style>\n",
              "<table border=\"1\" class=\"dataframe\">\n",
              "  <thead>\n",
              "    <tr style=\"text-align: right;\">\n",
              "      <th></th>\n",
              "      <th>taxon</th>\n",
              "      <th>sample_id</th>\n",
              "      <th>tolerance</th>\n",
              "      <th>reaction</th>\n",
              "      <th>flux</th>\n",
              "      <th>abundance</th>\n",
              "      <th>metabolite</th>\n",
              "      <th>direction</th>\n",
              "    </tr>\n",
              "  </thead>\n",
              "  <tbody>\n",
              "    <tr>\n",
              "      <th>1</th>\n",
              "      <td>medium</td>\n",
              "      <td>ERR1883210</td>\n",
              "      <td>0.0001</td>\n",
              "      <td>EX_mnl_m</td>\n",
              "      <td>0.560514</td>\n",
              "      <td>NaN</td>\n",
              "      <td>mnl_m</td>\n",
              "      <td>export</td>\n",
              "    </tr>\n",
              "    <tr>\n",
              "      <th>4</th>\n",
              "      <td>medium</td>\n",
              "      <td>ERR1883210</td>\n",
              "      <td>0.0001</td>\n",
              "      <td>EX_ca2_m</td>\n",
              "      <td>-0.001453</td>\n",
              "      <td>NaN</td>\n",
              "      <td>ca2_m</td>\n",
              "      <td>import</td>\n",
              "    </tr>\n",
              "    <tr>\n",
              "      <th>11</th>\n",
              "      <td>medium</td>\n",
              "      <td>ERR1883210</td>\n",
              "      <td>0.0001</td>\n",
              "      <td>EX_co2_m</td>\n",
              "      <td>2.123709</td>\n",
              "      <td>NaN</td>\n",
              "      <td>co2_m</td>\n",
              "      <td>export</td>\n",
              "    </tr>\n",
              "    <tr>\n",
              "      <th>12</th>\n",
              "      <td>medium</td>\n",
              "      <td>ERR1883210</td>\n",
              "      <td>0.0001</td>\n",
              "      <td>EX_o2_m</td>\n",
              "      <td>-0.000993</td>\n",
              "      <td>NaN</td>\n",
              "      <td>o2_m</td>\n",
              "      <td>import</td>\n",
              "    </tr>\n",
              "    <tr>\n",
              "      <th>23</th>\n",
              "      <td>medium</td>\n",
              "      <td>ERR1883210</td>\n",
              "      <td>0.0001</td>\n",
              "      <td>EX_cit_m</td>\n",
              "      <td>-0.009536</td>\n",
              "      <td>NaN</td>\n",
              "      <td>cit_m</td>\n",
              "      <td>import</td>\n",
              "    </tr>\n",
              "    <tr>\n",
              "      <th>...</th>\n",
              "      <td>...</td>\n",
              "      <td>...</td>\n",
              "      <td>...</td>\n",
              "      <td>...</td>\n",
              "      <td>...</td>\n",
              "      <td>...</td>\n",
              "      <td>...</td>\n",
              "      <td>...</td>\n",
              "    </tr>\n",
              "    <tr>\n",
              "      <th>31442</th>\n",
              "      <td>Sutterella</td>\n",
              "      <td>ERR1883315</td>\n",
              "      <td>0.0001</td>\n",
              "      <td>EX_akg(e)</td>\n",
              "      <td>-0.371481</td>\n",
              "      <td>0.152408</td>\n",
              "      <td>akg[e]</td>\n",
              "      <td>import</td>\n",
              "    </tr>\n",
              "    <tr>\n",
              "      <th>31444</th>\n",
              "      <td>Sutterella</td>\n",
              "      <td>ERR1883315</td>\n",
              "      <td>0.0001</td>\n",
              "      <td>EX_arg_L(e)</td>\n",
              "      <td>0.030702</td>\n",
              "      <td>0.152408</td>\n",
              "      <td>arg_L[e]</td>\n",
              "      <td>export</td>\n",
              "    </tr>\n",
              "    <tr>\n",
              "      <th>31445</th>\n",
              "      <td>Sutterella</td>\n",
              "      <td>ERR1883315</td>\n",
              "      <td>0.0001</td>\n",
              "      <td>EX_mn2(e)</td>\n",
              "      <td>-0.000513</td>\n",
              "      <td>0.152408</td>\n",
              "      <td>mn2[e]</td>\n",
              "      <td>import</td>\n",
              "    </tr>\n",
              "    <tr>\n",
              "      <th>31446</th>\n",
              "      <td>Sutterella</td>\n",
              "      <td>ERR1883315</td>\n",
              "      <td>0.0001</td>\n",
              "      <td>EX_uri(e)</td>\n",
              "      <td>0.391039</td>\n",
              "      <td>0.152408</td>\n",
              "      <td>uri[e]</td>\n",
              "      <td>export</td>\n",
              "    </tr>\n",
              "    <tr>\n",
              "      <th>31447</th>\n",
              "      <td>Sutterella</td>\n",
              "      <td>ERR1883315</td>\n",
              "      <td>0.0001</td>\n",
              "      <td>EX_cu2(e)</td>\n",
              "      <td>-0.000513</td>\n",
              "      <td>0.152408</td>\n",
              "      <td>cu2[e]</td>\n",
              "      <td>import</td>\n",
              "    </tr>\n",
              "  </tbody>\n",
              "</table>\n",
              "<p>6853 rows × 8 columns</p>\n",
              "</div>\n",
              "      <button class=\"colab-df-convert\" onclick=\"convertToInteractive('df-40d785bc-e3b2-4a07-bd0d-59d16d83a3b7')\"\n",
              "              title=\"Convert this dataframe to an interactive table.\"\n",
              "              style=\"display:none;\">\n",
              "        \n",
              "  <svg xmlns=\"http://www.w3.org/2000/svg\" height=\"24px\"viewBox=\"0 0 24 24\"\n",
              "       width=\"24px\">\n",
              "    <path d=\"M0 0h24v24H0V0z\" fill=\"none\"/>\n",
              "    <path d=\"M18.56 5.44l.94 2.06.94-2.06 2.06-.94-2.06-.94-.94-2.06-.94 2.06-2.06.94zm-11 1L8.5 8.5l.94-2.06 2.06-.94-2.06-.94L8.5 2.5l-.94 2.06-2.06.94zm10 10l.94 2.06.94-2.06 2.06-.94-2.06-.94-.94-2.06-.94 2.06-2.06.94z\"/><path d=\"M17.41 7.96l-1.37-1.37c-.4-.4-.92-.59-1.43-.59-.52 0-1.04.2-1.43.59L10.3 9.45l-7.72 7.72c-.78.78-.78 2.05 0 2.83L4 21.41c.39.39.9.59 1.41.59.51 0 1.02-.2 1.41-.59l7.78-7.78 2.81-2.81c.8-.78.8-2.07 0-2.86zM5.41 20L4 18.59l7.72-7.72 1.47 1.35L5.41 20z\"/>\n",
              "  </svg>\n",
              "      </button>\n",
              "      \n",
              "  <style>\n",
              "    .colab-df-container {\n",
              "      display:flex;\n",
              "      flex-wrap:wrap;\n",
              "      gap: 12px;\n",
              "    }\n",
              "\n",
              "    .colab-df-convert {\n",
              "      background-color: #E8F0FE;\n",
              "      border: none;\n",
              "      border-radius: 50%;\n",
              "      cursor: pointer;\n",
              "      display: none;\n",
              "      fill: #1967D2;\n",
              "      height: 32px;\n",
              "      padding: 0 0 0 0;\n",
              "      width: 32px;\n",
              "    }\n",
              "\n",
              "    .colab-df-convert:hover {\n",
              "      background-color: #E2EBFA;\n",
              "      box-shadow: 0px 1px 2px rgba(60, 64, 67, 0.3), 0px 1px 3px 1px rgba(60, 64, 67, 0.15);\n",
              "      fill: #174EA6;\n",
              "    }\n",
              "\n",
              "    [theme=dark] .colab-df-convert {\n",
              "      background-color: #3B4455;\n",
              "      fill: #D2E3FC;\n",
              "    }\n",
              "\n",
              "    [theme=dark] .colab-df-convert:hover {\n",
              "      background-color: #434B5C;\n",
              "      box-shadow: 0px 1px 3px 1px rgba(0, 0, 0, 0.15);\n",
              "      filter: drop-shadow(0px 1px 2px rgba(0, 0, 0, 0.3));\n",
              "      fill: #FFFFFF;\n",
              "    }\n",
              "  </style>\n",
              "\n",
              "      <script>\n",
              "        const buttonEl =\n",
              "          document.querySelector('#df-40d785bc-e3b2-4a07-bd0d-59d16d83a3b7 button.colab-df-convert');\n",
              "        buttonEl.style.display =\n",
              "          google.colab.kernel.accessAllowed ? 'block' : 'none';\n",
              "\n",
              "        async function convertToInteractive(key) {\n",
              "          const element = document.querySelector('#df-40d785bc-e3b2-4a07-bd0d-59d16d83a3b7');\n",
              "          const dataTable =\n",
              "            await google.colab.kernel.invokeFunction('convertToInteractive',\n",
              "                                                     [key], {});\n",
              "          if (!dataTable) return;\n",
              "\n",
              "          const docLinkHtml = 'Like what you see? Visit the ' +\n",
              "            '<a target=\"_blank\" href=https://colab.research.google.com/notebooks/data_table.ipynb>data table notebook</a>'\n",
              "            + ' to learn more about interactive tables.';\n",
              "          element.innerHTML = '';\n",
              "          dataTable['output_type'] = 'display_data';\n",
              "          await google.colab.output.renderOutput(dataTable, element);\n",
              "          const docLink = document.createElement('div');\n",
              "          docLink.innerHTML = docLinkHtml;\n",
              "          element.appendChild(docLink);\n",
              "        }\n",
              "      </script>\n",
              "    </div>\n",
              "  </div>\n",
              "  "
            ]
          },
          "metadata": {},
          "execution_count": 16
        }
      ]
    },
    {
      "cell_type": "markdown",
      "metadata": {
        "id": "Pu5XtkUl1YG1"
      },
      "source": [
        "So we see how much of each metabolite is either consumed or produced by each taxon in each sample. `tolerance` denotes the accuracy of the solver and tells you the smallest absolute flux that is likely different form zero (i.e. substantial flux). *All of the fluxes are normalized to 1g dry weight of bacteria*. So, you can directly compare fluxes between taxa, even if they are present at very different abundances. \n",
        "\n",
        "However, the metabolite names may not be very informative. That's why we have our annotations! For instance, to figure out what `ac[e]` is (air conditioning?), we can do the following:"
      ]
    },
    {
      "cell_type": "code",
      "metadata": {
        "id": "DphXa9hw1yxM",
        "colab": {
          "base_uri": "https://localhost:8080/",
          "height": 112
        },
        "outputId": "362269df-3909-4b8c-977c-eaed205b1f16"
      },
      "source": [
        "anns = growth_results.annotations\n",
        "anns[anns.metabolite == \"ac[e]\"]"
      ],
      "execution_count": 17,
      "outputs": [
        {
          "output_type": "execute_result",
          "data": {
            "text/plain": [
              "         metabolite     name  molecular_weight  C_number  N_number       hmdb  \\\n",
              "reaction                                                                        \n",
              "EX_ac(e)      ac[e]  acetate          59.04402         2         0  HMDB00042   \n",
              "\n",
              "                                              inchi kegg.compound  \\\n",
              "reaction                                                            \n",
              "EX_ac(e)  InChI=1S/C2H4O2/c1-2(3)4/h1H3,(H,3,4)/p-1        C00033   \n",
              "\n",
              "         pubchem.compound  reaction  \n",
              "reaction                             \n",
              "EX_ac(e)              176  EX_ac(e)  "
            ],
            "text/html": [
              "\n",
              "  <div id=\"df-93b89fa3-629d-4bb5-a53c-d824f5e2e27a\">\n",
              "    <div class=\"colab-df-container\">\n",
              "      <div>\n",
              "<style scoped>\n",
              "    .dataframe tbody tr th:only-of-type {\n",
              "        vertical-align: middle;\n",
              "    }\n",
              "\n",
              "    .dataframe tbody tr th {\n",
              "        vertical-align: top;\n",
              "    }\n",
              "\n",
              "    .dataframe thead th {\n",
              "        text-align: right;\n",
              "    }\n",
              "</style>\n",
              "<table border=\"1\" class=\"dataframe\">\n",
              "  <thead>\n",
              "    <tr style=\"text-align: right;\">\n",
              "      <th></th>\n",
              "      <th>metabolite</th>\n",
              "      <th>name</th>\n",
              "      <th>molecular_weight</th>\n",
              "      <th>C_number</th>\n",
              "      <th>N_number</th>\n",
              "      <th>hmdb</th>\n",
              "      <th>inchi</th>\n",
              "      <th>kegg.compound</th>\n",
              "      <th>pubchem.compound</th>\n",
              "      <th>reaction</th>\n",
              "    </tr>\n",
              "    <tr>\n",
              "      <th>reaction</th>\n",
              "      <th></th>\n",
              "      <th></th>\n",
              "      <th></th>\n",
              "      <th></th>\n",
              "      <th></th>\n",
              "      <th></th>\n",
              "      <th></th>\n",
              "      <th></th>\n",
              "      <th></th>\n",
              "      <th></th>\n",
              "    </tr>\n",
              "  </thead>\n",
              "  <tbody>\n",
              "    <tr>\n",
              "      <th>EX_ac(e)</th>\n",
              "      <td>ac[e]</td>\n",
              "      <td>acetate</td>\n",
              "      <td>59.04402</td>\n",
              "      <td>2</td>\n",
              "      <td>0</td>\n",
              "      <td>HMDB00042</td>\n",
              "      <td>InChI=1S/C2H4O2/c1-2(3)4/h1H3,(H,3,4)/p-1</td>\n",
              "      <td>C00033</td>\n",
              "      <td>176</td>\n",
              "      <td>EX_ac(e)</td>\n",
              "    </tr>\n",
              "  </tbody>\n",
              "</table>\n",
              "</div>\n",
              "      <button class=\"colab-df-convert\" onclick=\"convertToInteractive('df-93b89fa3-629d-4bb5-a53c-d824f5e2e27a')\"\n",
              "              title=\"Convert this dataframe to an interactive table.\"\n",
              "              style=\"display:none;\">\n",
              "        \n",
              "  <svg xmlns=\"http://www.w3.org/2000/svg\" height=\"24px\"viewBox=\"0 0 24 24\"\n",
              "       width=\"24px\">\n",
              "    <path d=\"M0 0h24v24H0V0z\" fill=\"none\"/>\n",
              "    <path d=\"M18.56 5.44l.94 2.06.94-2.06 2.06-.94-2.06-.94-.94-2.06-.94 2.06-2.06.94zm-11 1L8.5 8.5l.94-2.06 2.06-.94-2.06-.94L8.5 2.5l-.94 2.06-2.06.94zm10 10l.94 2.06.94-2.06 2.06-.94-2.06-.94-.94-2.06-.94 2.06-2.06.94z\"/><path d=\"M17.41 7.96l-1.37-1.37c-.4-.4-.92-.59-1.43-.59-.52 0-1.04.2-1.43.59L10.3 9.45l-7.72 7.72c-.78.78-.78 2.05 0 2.83L4 21.41c.39.39.9.59 1.41.59.51 0 1.02-.2 1.41-.59l7.78-7.78 2.81-2.81c.8-.78.8-2.07 0-2.86zM5.41 20L4 18.59l7.72-7.72 1.47 1.35L5.41 20z\"/>\n",
              "  </svg>\n",
              "      </button>\n",
              "      \n",
              "  <style>\n",
              "    .colab-df-container {\n",
              "      display:flex;\n",
              "      flex-wrap:wrap;\n",
              "      gap: 12px;\n",
              "    }\n",
              "\n",
              "    .colab-df-convert {\n",
              "      background-color: #E8F0FE;\n",
              "      border: none;\n",
              "      border-radius: 50%;\n",
              "      cursor: pointer;\n",
              "      display: none;\n",
              "      fill: #1967D2;\n",
              "      height: 32px;\n",
              "      padding: 0 0 0 0;\n",
              "      width: 32px;\n",
              "    }\n",
              "\n",
              "    .colab-df-convert:hover {\n",
              "      background-color: #E2EBFA;\n",
              "      box-shadow: 0px 1px 2px rgba(60, 64, 67, 0.3), 0px 1px 3px 1px rgba(60, 64, 67, 0.15);\n",
              "      fill: #174EA6;\n",
              "    }\n",
              "\n",
              "    [theme=dark] .colab-df-convert {\n",
              "      background-color: #3B4455;\n",
              "      fill: #D2E3FC;\n",
              "    }\n",
              "\n",
              "    [theme=dark] .colab-df-convert:hover {\n",
              "      background-color: #434B5C;\n",
              "      box-shadow: 0px 1px 3px 1px rgba(0, 0, 0, 0.15);\n",
              "      filter: drop-shadow(0px 1px 2px rgba(0, 0, 0, 0.3));\n",
              "      fill: #FFFFFF;\n",
              "    }\n",
              "  </style>\n",
              "\n",
              "      <script>\n",
              "        const buttonEl =\n",
              "          document.querySelector('#df-93b89fa3-629d-4bb5-a53c-d824f5e2e27a button.colab-df-convert');\n",
              "        buttonEl.style.display =\n",
              "          google.colab.kernel.accessAllowed ? 'block' : 'none';\n",
              "\n",
              "        async function convertToInteractive(key) {\n",
              "          const element = document.querySelector('#df-93b89fa3-629d-4bb5-a53c-d824f5e2e27a');\n",
              "          const dataTable =\n",
              "            await google.colab.kernel.invokeFunction('convertToInteractive',\n",
              "                                                     [key], {});\n",
              "          if (!dataTable) return;\n",
              "\n",
              "          const docLinkHtml = 'Like what you see? Visit the ' +\n",
              "            '<a target=\"_blank\" href=https://colab.research.google.com/notebooks/data_table.ipynb>data table notebook</a>'\n",
              "            + ' to learn more about interactive tables.';\n",
              "          element.innerHTML = '';\n",
              "          dataTable['output_type'] = 'display_data';\n",
              "          await google.colab.output.renderOutput(dataTable, element);\n",
              "          const docLink = document.createElement('div');\n",
              "          docLink.innerHTML = docLinkHtml;\n",
              "          element.appendChild(docLink);\n",
              "        }\n",
              "      </script>\n",
              "    </div>\n",
              "  </div>\n",
              "  "
            ]
          },
          "metadata": {},
          "execution_count": 17
        }
      ]
    },
    {
      "cell_type": "markdown",
      "metadata": {
        "id": "CImtzqRJbbGj"
      },
      "source": [
        "Ohhh, it's acetate. Yeah that makes more sense 🕵️‍♀️. For the AGORA models you can also use the official VMH knowledge base at https://vmh.life maintained by Dr. Thiele's, lab which will give you rich information on metabolites and reactions. For instance, you can find out a lot more about acetate at: https://www.vmh.life/#metabolite/ac. \n",
        "\n",
        "# 📊 Visualizations\n",
        "\n",
        "Ok, we have seen that we generate a lot of output data from the growth simulations. But how do we make sense of it all? \n",
        "\n",
        "We will use the standard visualizations included in MICOM. These tools take in the growth results we obtained before and create visualizations in standalone HTML files that bundle the plots and raw data and can be viewed directly in your browser.\n",
        "\n",
        "The first things we might want to look at are the growth rates for each taxon."
      ]
    },
    {
      "cell_type": "code",
      "metadata": {
        "id": "EaplMHFLcMT7"
      },
      "source": [
        "from micom.viz import *\n",
        "\n",
        "viz = plot_growth(growth_results)"
      ],
      "execution_count": 18,
      "outputs": []
    },
    {
      "cell_type": "markdown",
      "metadata": {
        "id": "G1JbbKrLcVye"
      },
      "source": [
        "Normally, we could call `viz.view()` afterwards and it would open it in our web browser. However, this will not work in Colab. However, the plot function create the file `growth_rates_[DATE].html` in your `materials` folder. To open it simply download that file and view it in your browser. We can see that there are many things going on, but it's not super clear. Let's continue.\n",
        "\n",
        "## Growth niches\n",
        "\n",
        "Two really important questions are 'what dietary nutrients are consumed by the microbiota and what metabolites do the microbiota produce?' We provided nutrients in our medium, but we don't actually know yet what was eaten by the microbiota. Let's check that out using the `plot_exchanges_per_sample` function."
      ]
    },
    {
      "cell_type": "code",
      "metadata": {
        "id": "Mkgydl_jdqc7",
        "colab": {
          "base_uri": "https://localhost:8080/"
        },
        "outputId": "96a56767-37c2-48e6-c090-7b8cc40e97f6"
      },
      "source": [
        "plot_exchanges_per_sample(growth_results)"
      ],
      "execution_count": 19,
      "outputs": [
        {
          "output_type": "execute_result",
          "data": {
            "text/plain": [
              "<micom.viz.core.Visualization at 0x7fdf57e11d50>"
            ]
          },
          "metadata": {},
          "execution_count": 19
        }
      ]
    },
    {
      "cell_type": "markdown",
      "metadata": {
        "id": "lRDCXRDidupd"
      },
      "source": [
        "We can have a look at the results after downloading `materials/sample_exchanges_[DATE].html`. It would be even better if we could visualize which taxa compete for similar resources. We can create a niche plot by using `plot_exchanges_per_taxon`."
      ]
    },
    {
      "cell_type": "code",
      "metadata": {
        "id": "NlZrfv38esj8",
        "colab": {
          "base_uri": "https://localhost:8080/"
        },
        "outputId": "113bf2c2-a909-4ca2-cc7a-bac269d4d9d9"
      },
      "source": [
        "plot_exchanges_per_taxon(growth_results, perplexity=4, direction=\"import\")"
      ],
      "execution_count": 20,
      "outputs": [
        {
          "output_type": "stream",
          "name": "stderr",
          "text": [
            "/usr/local/lib/python3.7/dist-packages/sklearn/manifold/_t_sne.py:783: FutureWarning: The default initialization in TSNE will change from 'random' to 'pca' in 1.2.\n",
            "  FutureWarning,\n",
            "/usr/local/lib/python3.7/dist-packages/sklearn/manifold/_t_sne.py:793: FutureWarning: The default learning rate in TSNE will change from 200.0 to 'auto' in 1.2.\n",
            "  FutureWarning,\n"
          ]
        },
        {
          "output_type": "execute_result",
          "data": {
            "text/plain": [
              "<micom.viz.core.Visualization at 0x7fdf5950b990>"
            ]
          },
          "metadata": {},
          "execution_count": 20
        }
      ]
    },
    {
      "cell_type": "markdown",
      "metadata": {
        "id": "qXnbUCCs2yVG"
      },
      "source": [
        "\n",
        "This function projects the full set of import or export fluxes onto a two dimensional plane, and arranges taxa so that more similar flux patterns lie close together. Thus, taxa closer to one another compete for a more similar set of resources (and/or produce a more similar set of metabolites). The center of the plot signifies a more competitive nutrient space, whereas clusters on the outskirts denote more isolated niches.\n",
        "\n",
        "You can tune [TSNE parameters](https://distill.pub/2016/misread-tsne/), such as perplexity, to get a more meaningful grouping. We will lower the perplexity here since we don't have enough data.\n",
        "\n",
        "## Metabolic connections to a phenotype\n",
        "\n",
        "That is all nice, but how does that relate to recurrent *C. diff* infections? To answer that question we can use the `plot_fit` function. This will run a logistic regression with an L1 penalty on coefficients, with our diesase status as the response variable and the normalizeed fluxes as independent variables. In general, import fluxes are not as predictive because, well, they are more relevant to the bacteria than us. What we usually care about (from a host-health perspective) are the production fluxes of metabolites. These are the total production fluxes into the extracellular (lumenal) space, which includes the set of metabolites that are bioavailable to the host. \n",
        "\n",
        "We will start by reading the metadata annotations for our samples that tell us which samples belong to which health status."
      ]
    },
    {
      "cell_type": "code",
      "metadata": {
        "id": "XidfqLbzt5sV"
      },
      "source": [
        ""
      ],
      "execution_count": 20,
      "outputs": []
    },
    {
      "cell_type": "markdown",
      "metadata": {
        "id": "-O-moP9Rt6It"
      },
      "source": [
        "Because OSQP has a somewhat lower solver accuracy, we will be conservative for what we consider to be 'substantial flux' and will filter out fluxes smaller than 0.01 mmol/l."
      ]
    },
    {
      "cell_type": "code",
      "metadata": {
        "id": "ebsw0XD-l2Lj"
      },
      "source": [
        "from micom.viz import *\n",
        "\n",
        "manifest.index = manifest.sample_id\n",
        "pheno = manifest.disease_stat\n",
        "\n",
        "pl = plot_fit(growth_results, pheno, atol=1e-3, flux_type=\"production\")\n"
      ],
      "execution_count": 26,
      "outputs": []
    },
    {
      "cell_type": "markdown",
      "metadata": {
        "id": "4Y_XfHkB4sO8"
      },
      "source": [
        "This will again create a file `fit_[DATE].html` that you can open. You will see the production fluxes most predictive of the phenotypes of interest and you can compare them across the groups. In the coefficient plot negative coefficients mean the particular metabolite is produced at a higher flux in the first group (recurrent C. diff in our case), whereas positive coefficients mean it is produced at a higher flux in the second group (healthy).\n",
        "\n",
        "Some observations to help you intepret the results:\n",
        "\n",
        "- [maltotriose](https://en.wikipedia.org/wiki/Maltotriose) is a breakdown product of alpha-amylase\n",
        "- *C. diff.* toxins contain multipe aspartate residues and toxin B [has aspartate protease activity](https://www.ncbi.nlm.nih.gov/pmc/articles/PMC4885049/) \n",
        "\n",
        "Whatever we conclude here is based on *very* little data so it would be purely hypothetical. However, it may point us to future avenues to explore."
      ]
    },
    {
      "cell_type": "markdown",
      "metadata": {
        "id": "l8maOr3w2bOo"
      },
      "source": [
        "# 🏫 Exercises"
      ]
    },
    {
      "cell_type": "markdown",
      "metadata": {
        "id": "TqdappAU20oT"
      },
      "source": [
        "Up to now, we have mostly used MICOM's \"high-level\" API, which is designed for working with several samples in parallel. However, MICOM also allows you to work with single models. We will choose a single sample now for further analysis.\n",
        "\n",
        "First, let's recall what samples we had. "
      ]
    },
    {
      "cell_type": "code",
      "metadata": {
        "id": "bllnCa1O28YZ",
        "colab": {
          "base_uri": "https://localhost:8080/",
          "height": 332
        },
        "outputId": "414741a6-8c06-450d-8d82-ae0e839fdbaf"
      },
      "source": [
        "manifest"
      ],
      "execution_count": 22,
      "outputs": [
        {
          "output_type": "execute_result",
          "data": {
            "text/plain": [
              "             sample_id                               disease_stat description  \\\n",
              "sample_id                                                                       \n",
              "ERR1883210  ERR1883210                                    healthy    Donor 13   \n",
              "ERR1883212  ERR1883212                                    healthy    Donor 14   \n",
              "ERR1883214  ERR1883214  Recurrent Clostridium difficile infection   Day 0 CD1   \n",
              "ERR1883247  ERR1883247                                    healthy   Donor CD3   \n",
              "ERR1883248  ERR1883248  Recurrent Clostridium difficile infection   Day 1 CD1   \n",
              "ERR1883260  ERR1883260                                    healthy   CD2 Donor   \n",
              "ERR1883294  ERR1883294  Recurrent Clostridium difficile infection   Day 0 CD3   \n",
              "ERR1883315  ERR1883315  Recurrent Clostridium difficile infection  Day -1 CD4   \n",
              "\n",
              "                         file  found_taxa  total_taxa  found_fraction  \\\n",
              "sample_id                                                               \n",
              "ERR1883210  ERR1883210.pickle         5.0         5.0        1.000000   \n",
              "ERR1883212  ERR1883212.pickle         9.0        10.0        0.900000   \n",
              "ERR1883214  ERR1883214.pickle         3.0         3.0        1.000000   \n",
              "ERR1883247  ERR1883247.pickle         9.0        11.0        0.818182   \n",
              "ERR1883248  ERR1883248.pickle         5.0         5.0        1.000000   \n",
              "ERR1883260  ERR1883260.pickle         8.0         8.0        1.000000   \n",
              "ERR1883294  ERR1883294.pickle         7.0         7.0        1.000000   \n",
              "ERR1883315  ERR1883315.pickle         4.0         4.0        1.000000   \n",
              "\n",
              "            found_abundance_fraction  \n",
              "sample_id                             \n",
              "ERR1883210                  0.822257  \n",
              "ERR1883212                  0.847637  \n",
              "ERR1883214                  0.965912  \n",
              "ERR1883247                  0.834526  \n",
              "ERR1883248                  0.846712  \n",
              "ERR1883260                  0.855389  \n",
              "ERR1883294                  0.937244  \n",
              "ERR1883315                  0.962788  "
            ],
            "text/html": [
              "\n",
              "  <div id=\"df-9164a6ba-7a28-4313-99a7-aa6b3b084ce2\">\n",
              "    <div class=\"colab-df-container\">\n",
              "      <div>\n",
              "<style scoped>\n",
              "    .dataframe tbody tr th:only-of-type {\n",
              "        vertical-align: middle;\n",
              "    }\n",
              "\n",
              "    .dataframe tbody tr th {\n",
              "        vertical-align: top;\n",
              "    }\n",
              "\n",
              "    .dataframe thead th {\n",
              "        text-align: right;\n",
              "    }\n",
              "</style>\n",
              "<table border=\"1\" class=\"dataframe\">\n",
              "  <thead>\n",
              "    <tr style=\"text-align: right;\">\n",
              "      <th></th>\n",
              "      <th>sample_id</th>\n",
              "      <th>disease_stat</th>\n",
              "      <th>description</th>\n",
              "      <th>file</th>\n",
              "      <th>found_taxa</th>\n",
              "      <th>total_taxa</th>\n",
              "      <th>found_fraction</th>\n",
              "      <th>found_abundance_fraction</th>\n",
              "    </tr>\n",
              "    <tr>\n",
              "      <th>sample_id</th>\n",
              "      <th></th>\n",
              "      <th></th>\n",
              "      <th></th>\n",
              "      <th></th>\n",
              "      <th></th>\n",
              "      <th></th>\n",
              "      <th></th>\n",
              "      <th></th>\n",
              "    </tr>\n",
              "  </thead>\n",
              "  <tbody>\n",
              "    <tr>\n",
              "      <th>ERR1883210</th>\n",
              "      <td>ERR1883210</td>\n",
              "      <td>healthy</td>\n",
              "      <td>Donor 13</td>\n",
              "      <td>ERR1883210.pickle</td>\n",
              "      <td>5.0</td>\n",
              "      <td>5.0</td>\n",
              "      <td>1.000000</td>\n",
              "      <td>0.822257</td>\n",
              "    </tr>\n",
              "    <tr>\n",
              "      <th>ERR1883212</th>\n",
              "      <td>ERR1883212</td>\n",
              "      <td>healthy</td>\n",
              "      <td>Donor 14</td>\n",
              "      <td>ERR1883212.pickle</td>\n",
              "      <td>9.0</td>\n",
              "      <td>10.0</td>\n",
              "      <td>0.900000</td>\n",
              "      <td>0.847637</td>\n",
              "    </tr>\n",
              "    <tr>\n",
              "      <th>ERR1883214</th>\n",
              "      <td>ERR1883214</td>\n",
              "      <td>Recurrent Clostridium difficile infection</td>\n",
              "      <td>Day 0 CD1</td>\n",
              "      <td>ERR1883214.pickle</td>\n",
              "      <td>3.0</td>\n",
              "      <td>3.0</td>\n",
              "      <td>1.000000</td>\n",
              "      <td>0.965912</td>\n",
              "    </tr>\n",
              "    <tr>\n",
              "      <th>ERR1883247</th>\n",
              "      <td>ERR1883247</td>\n",
              "      <td>healthy</td>\n",
              "      <td>Donor CD3</td>\n",
              "      <td>ERR1883247.pickle</td>\n",
              "      <td>9.0</td>\n",
              "      <td>11.0</td>\n",
              "      <td>0.818182</td>\n",
              "      <td>0.834526</td>\n",
              "    </tr>\n",
              "    <tr>\n",
              "      <th>ERR1883248</th>\n",
              "      <td>ERR1883248</td>\n",
              "      <td>Recurrent Clostridium difficile infection</td>\n",
              "      <td>Day 1 CD1</td>\n",
              "      <td>ERR1883248.pickle</td>\n",
              "      <td>5.0</td>\n",
              "      <td>5.0</td>\n",
              "      <td>1.000000</td>\n",
              "      <td>0.846712</td>\n",
              "    </tr>\n",
              "    <tr>\n",
              "      <th>ERR1883260</th>\n",
              "      <td>ERR1883260</td>\n",
              "      <td>healthy</td>\n",
              "      <td>CD2 Donor</td>\n",
              "      <td>ERR1883260.pickle</td>\n",
              "      <td>8.0</td>\n",
              "      <td>8.0</td>\n",
              "      <td>1.000000</td>\n",
              "      <td>0.855389</td>\n",
              "    </tr>\n",
              "    <tr>\n",
              "      <th>ERR1883294</th>\n",
              "      <td>ERR1883294</td>\n",
              "      <td>Recurrent Clostridium difficile infection</td>\n",
              "      <td>Day 0 CD3</td>\n",
              "      <td>ERR1883294.pickle</td>\n",
              "      <td>7.0</td>\n",
              "      <td>7.0</td>\n",
              "      <td>1.000000</td>\n",
              "      <td>0.937244</td>\n",
              "    </tr>\n",
              "    <tr>\n",
              "      <th>ERR1883315</th>\n",
              "      <td>ERR1883315</td>\n",
              "      <td>Recurrent Clostridium difficile infection</td>\n",
              "      <td>Day -1 CD4</td>\n",
              "      <td>ERR1883315.pickle</td>\n",
              "      <td>4.0</td>\n",
              "      <td>4.0</td>\n",
              "      <td>1.000000</td>\n",
              "      <td>0.962788</td>\n",
              "    </tr>\n",
              "  </tbody>\n",
              "</table>\n",
              "</div>\n",
              "      <button class=\"colab-df-convert\" onclick=\"convertToInteractive('df-9164a6ba-7a28-4313-99a7-aa6b3b084ce2')\"\n",
              "              title=\"Convert this dataframe to an interactive table.\"\n",
              "              style=\"display:none;\">\n",
              "        \n",
              "  <svg xmlns=\"http://www.w3.org/2000/svg\" height=\"24px\"viewBox=\"0 0 24 24\"\n",
              "       width=\"24px\">\n",
              "    <path d=\"M0 0h24v24H0V0z\" fill=\"none\"/>\n",
              "    <path d=\"M18.56 5.44l.94 2.06.94-2.06 2.06-.94-2.06-.94-.94-2.06-.94 2.06-2.06.94zm-11 1L8.5 8.5l.94-2.06 2.06-.94-2.06-.94L8.5 2.5l-.94 2.06-2.06.94zm10 10l.94 2.06.94-2.06 2.06-.94-2.06-.94-.94-2.06-.94 2.06-2.06.94z\"/><path d=\"M17.41 7.96l-1.37-1.37c-.4-.4-.92-.59-1.43-.59-.52 0-1.04.2-1.43.59L10.3 9.45l-7.72 7.72c-.78.78-.78 2.05 0 2.83L4 21.41c.39.39.9.59 1.41.59.51 0 1.02-.2 1.41-.59l7.78-7.78 2.81-2.81c.8-.78.8-2.07 0-2.86zM5.41 20L4 18.59l7.72-7.72 1.47 1.35L5.41 20z\"/>\n",
              "  </svg>\n",
              "      </button>\n",
              "      \n",
              "  <style>\n",
              "    .colab-df-container {\n",
              "      display:flex;\n",
              "      flex-wrap:wrap;\n",
              "      gap: 12px;\n",
              "    }\n",
              "\n",
              "    .colab-df-convert {\n",
              "      background-color: #E8F0FE;\n",
              "      border: none;\n",
              "      border-radius: 50%;\n",
              "      cursor: pointer;\n",
              "      display: none;\n",
              "      fill: #1967D2;\n",
              "      height: 32px;\n",
              "      padding: 0 0 0 0;\n",
              "      width: 32px;\n",
              "    }\n",
              "\n",
              "    .colab-df-convert:hover {\n",
              "      background-color: #E2EBFA;\n",
              "      box-shadow: 0px 1px 2px rgba(60, 64, 67, 0.3), 0px 1px 3px 1px rgba(60, 64, 67, 0.15);\n",
              "      fill: #174EA6;\n",
              "    }\n",
              "\n",
              "    [theme=dark] .colab-df-convert {\n",
              "      background-color: #3B4455;\n",
              "      fill: #D2E3FC;\n",
              "    }\n",
              "\n",
              "    [theme=dark] .colab-df-convert:hover {\n",
              "      background-color: #434B5C;\n",
              "      box-shadow: 0px 1px 3px 1px rgba(0, 0, 0, 0.15);\n",
              "      filter: drop-shadow(0px 1px 2px rgba(0, 0, 0, 0.3));\n",
              "      fill: #FFFFFF;\n",
              "    }\n",
              "  </style>\n",
              "\n",
              "      <script>\n",
              "        const buttonEl =\n",
              "          document.querySelector('#df-9164a6ba-7a28-4313-99a7-aa6b3b084ce2 button.colab-df-convert');\n",
              "        buttonEl.style.display =\n",
              "          google.colab.kernel.accessAllowed ? 'block' : 'none';\n",
              "\n",
              "        async function convertToInteractive(key) {\n",
              "          const element = document.querySelector('#df-9164a6ba-7a28-4313-99a7-aa6b3b084ce2');\n",
              "          const dataTable =\n",
              "            await google.colab.kernel.invokeFunction('convertToInteractive',\n",
              "                                                     [key], {});\n",
              "          if (!dataTable) return;\n",
              "\n",
              "          const docLinkHtml = 'Like what you see? Visit the ' +\n",
              "            '<a target=\"_blank\" href=https://colab.research.google.com/notebooks/data_table.ipynb>data table notebook</a>'\n",
              "            + ' to learn more about interactive tables.';\n",
              "          element.innerHTML = '';\n",
              "          dataTable['output_type'] = 'display_data';\n",
              "          await google.colab.output.renderOutput(dataTable, element);\n",
              "          const docLink = document.createElement('div');\n",
              "          docLink.innerHTML = docLinkHtml;\n",
              "          element.appendChild(docLink);\n",
              "        }\n",
              "      </script>\n",
              "    </div>\n",
              "  </div>\n",
              "  "
            ]
          },
          "metadata": {},
          "execution_count": 22
        }
      ]
    },
    {
      "cell_type": "markdown",
      "metadata": {
        "id": "VjUustQG2_bX"
      },
      "source": [
        "Let's look further into the surprising *C. diff.* individual that looked very similar to the healthy subjects. We will apply the same diet as before."
      ]
    },
    {
      "cell_type": "code",
      "metadata": {
        "id": "uh7QFi9V3HIX",
        "colab": {
          "base_uri": "https://localhost:8080/",
          "height": 271
        },
        "outputId": "18d22bbb-ee5d-4cdb-9988-f570c3dd16e1"
      },
      "source": [
        "from micom import load_pickle\n",
        "from micom.qiime_formats import load_qiime_medium\n",
        "\n",
        "medium = load_qiime_medium(\"western_diet_gut.qza\")\n",
        "medium.index = medium.reaction\n",
        "\n",
        "com = load_pickle(\"models/ERR1883248.pickle\")\n",
        "com.medium = medium.flux\n",
        "com"
      ],
      "execution_count": 23,
      "outputs": [
        {
          "output_type": "display_data",
          "data": {
            "text/plain": [
              "\u001b[2;36m[19:38:50]\u001b[0m\u001b[2;36m \u001b[0m\u001b[31mWARNING \u001b[0m I could not find the following exchanges in your model:  \u001b]8;id=802304;file:///usr/local/lib/python3.7/dist-packages/micom/community.py\u001b\\\u001b[2mcommunity.py\u001b[0m\u001b]8;;\u001b\\\u001b[2m:\u001b[0m\u001b]8;id=818130;file:///usr/local/lib/python3.7/dist-packages/micom/community.py#670\u001b\\\u001b[2m670\u001b[0m\u001b]8;;\u001b\\\n",
              "\u001b[2;36m           \u001b[0m         EX_oxa_m, EX_adpcbl_m, EX_glu_D_m, EX_arachd_m,          \u001b[2m                \u001b[0m\n",
              "\u001b[2;36m           \u001b[0m         EX_lanost_m, EX_amet_m, EX_fe3dcit_m, EX_glc_m,          \u001b[2m                \u001b[0m\n",
              "\u001b[2;36m           \u001b[0m         EX_octa_m, EX_hdcea_m, EX_sel_m, EX_lnlncg_m, EX_lnlc_m, \u001b[2m                \u001b[0m\n",
              "\u001b[2;36m           \u001b[0m         EX_chol_m, EX_pydx5p_m, EX_fald_m, EX_chsterol_m,        \u001b[2m                \u001b[0m\n",
              "\u001b[2;36m           \u001b[0m         EX_pime_m, EX_lnlnca_m                                   \u001b[2m                \u001b[0m\n"
            ],
            "text/html": [
              "<pre style=\"white-space:pre;overflow-x:auto;line-height:normal;font-family:Menlo,'DejaVu Sans Mono',consolas,'Courier New',monospace\"><span style=\"color: #7fbfbf; text-decoration-color: #7fbfbf\">[19:38:50] </span><span style=\"color: #800000; text-decoration-color: #800000\">WARNING </span> I could not find the following exchanges in your model:  <a href=\"file:///usr/local/lib/python3.7/dist-packages/micom/community.py\" target=\"_blank\"><span style=\"color: #7f7f7f; text-decoration-color: #7f7f7f\">community.py</span></a><span style=\"color: #7f7f7f; text-decoration-color: #7f7f7f\">:</span><a href=\"file:///usr/local/lib/python3.7/dist-packages/micom/community.py#670\" target=\"_blank\"><span style=\"color: #7f7f7f; text-decoration-color: #7f7f7f\">670</span></a>\n",
              "<span style=\"color: #7fbfbf; text-decoration-color: #7fbfbf\">           </span>         EX_oxa_m, EX_adpcbl_m, EX_glu_D_m, EX_arachd_m,          <span style=\"color: #7f7f7f; text-decoration-color: #7f7f7f\">                </span>\n",
              "<span style=\"color: #7fbfbf; text-decoration-color: #7fbfbf\">           </span>         EX_lanost_m, EX_amet_m, EX_fe3dcit_m, EX_glc_m,          <span style=\"color: #7f7f7f; text-decoration-color: #7f7f7f\">                </span>\n",
              "<span style=\"color: #7fbfbf; text-decoration-color: #7fbfbf\">           </span>         EX_octa_m, EX_hdcea_m, EX_sel_m, EX_lnlncg_m, EX_lnlc_m, <span style=\"color: #7f7f7f; text-decoration-color: #7f7f7f\">                </span>\n",
              "<span style=\"color: #7fbfbf; text-decoration-color: #7fbfbf\">           </span>         EX_chol_m, EX_pydx5p_m, EX_fald_m, EX_chsterol_m,        <span style=\"color: #7f7f7f; text-decoration-color: #7f7f7f\">                </span>\n",
              "<span style=\"color: #7fbfbf; text-decoration-color: #7fbfbf\">           </span>         EX_pime_m, EX_lnlnca_m                                   <span style=\"color: #7f7f7f; text-decoration-color: #7f7f7f\">                </span>\n",
              "</pre>\n"
            ]
          },
          "metadata": {}
        },
        {
          "output_type": "execute_result",
          "data": {
            "text/plain": [
              "<Community ERR1883248 at 0x7fdf5771bd10>"
            ],
            "text/html": [
              "\n",
              "        <table>\n",
              "            <tr>\n",
              "                <td><strong>Name</strong></td>\n",
              "                <td>ERR1883248</td>\n",
              "            </tr><tr>\n",
              "                <td><strong>Memory address</strong></td>\n",
              "                <td>0x07fdf5771bd10</td>\n",
              "            </tr><tr>\n",
              "                <td><strong>Number of metabolites</strong></td>\n",
              "                <td>9003</td>\n",
              "            </tr><tr>\n",
              "                <td><strong>Number of reactions</strong></td>\n",
              "                <td>14138</td>\n",
              "            </tr><tr>\n",
              "                <td><strong>Number of groups</strong></td>\n",
              "                <td>0</td>\n",
              "            </tr><tr>\n",
              "                <td><strong>Objective expression</strong></td>\n",
              "                <td>1.0*community_objective</td>\n",
              "            </tr><tr>\n",
              "                <td><strong>Compartments</strong></td>\n",
              "                <td>c__Akkermansia, e__Akkermansia, m, c__Bacteroides, e__Bacteroides, e__Faecalibacterium, c__Faecalibacterium, c__Parabacteroides, e__Parabacteroides, c__Ruminococcus, e__Ruminococcus</td>\n",
              "            </tr>\n",
              "          </table>"
            ]
          },
          "metadata": {},
          "execution_count": 23
        }
      ]
    },
    {
      "cell_type": "markdown",
      "metadata": {
        "id": "GFcWJKuO3bnT"
      },
      "source": [
        "This is a MICOM community object. MICOM community models are full [COBRApy](https://opencobra.github.io/cobrapy/) models (with sprinkles on top) and there is a whole bunch of stuff we could do with it."
      ]
    },
    {
      "cell_type": "markdown",
      "metadata": {
        "id": "CUaUHsKm2fk7"
      },
      "source": [
        "## Microbe-microbe interactions\n",
        "\n",
        "Let's dive a bit more into competition and cooperation between taxa. We can start by simulating taxa knockouts using `com.knockout_taxa`. For that we will remove each of the taxa from the model (one-at-a-time) and see how that affects the growth rates of all other taxa. If other taxa grow faster after the knockout, they were competing with the knocked-out taxon. However, if they grow slower, they were cooperating with the knocked-out taxon. \n",
        "\n",
        "See the docs for more info: https://micom-dev.github.io/micom/taxa_knockouts.html.\n",
        "\n",
        "Bonus points if you can visualize your results. How would you deal with vastly different scales of growth rates between taxa?\n",
        "\n",
        "> Oh geez. I once saw somebody plot a heatmap with Seaborn using a Pandas DataFrame. I wish I could remember where that was... 🤔\n"
      ]
    },
    {
      "cell_type": "code",
      "metadata": {
        "id": "5IlJ-YpUCQzp",
        "colab": {
          "base_uri": "https://localhost:8080/",
          "height": 447,
          "referenced_widgets": [
            "ccd48901fee24901814cc922a9ef29a8",
            "e1b81e449a6a48169fc7fb35ef971ebd"
          ]
        },
        "outputId": "8ab7d8b2-913b-4fc0-992f-f9ec6b587659"
      },
      "source": [
        "import seaborn as sns\n",
        "\n",
        "ko = com.knockout_taxa(fraction=0.8, method=\"change\")\n",
        "\n",
        "sns.heatmap(ko, cmap=\"seismic\", center=0)"
      ],
      "execution_count": 24,
      "outputs": [
        {
          "output_type": "display_data",
          "data": {
            "text/plain": [
              "Output()"
            ],
            "application/vnd.jupyter.widget-view+json": {
              "version_major": 2,
              "version_minor": 0,
              "model_id": "ccd48901fee24901814cc922a9ef29a8"
            }
          },
          "metadata": {}
        },
        {
          "output_type": "display_data",
          "data": {
            "text/plain": [
              ""
            ],
            "text/html": [
              "<pre style=\"white-space:pre;overflow-x:auto;line-height:normal;font-family:Menlo,'DejaVu Sans Mono',consolas,'Courier New',monospace\"></pre>\n"
            ]
          },
          "metadata": {}
        },
        {
          "output_type": "display_data",
          "data": {
            "text/plain": [
              "\n"
            ],
            "text/html": [
              "<pre style=\"white-space:pre;overflow-x:auto;line-height:normal;font-family:Menlo,'DejaVu Sans Mono',consolas,'Courier New',monospace\">\n",
              "</pre>\n"
            ]
          },
          "metadata": {}
        },
        {
          "output_type": "stream",
          "name": "stderr",
          "text": [
            "/usr/local/lib/python3.7/dist-packages/micom/problems.py:138: FutureWarning: In a future version of pandas all arguments of DataFrame.drop except for the argument 'labels' will be keyword-only\n",
            "  ko = pd.DataFrame(results, index=taxa).drop(\"medium\", 1)\n"
          ]
        },
        {
          "output_type": "execute_result",
          "data": {
            "text/plain": [
              "<matplotlib.axes._subplots.AxesSubplot at 0x7fdf4fbc4150>"
            ]
          },
          "metadata": {},
          "execution_count": 24
        },
        {
          "output_type": "display_data",
          "data": {
            "text/plain": [
              "<Figure size 432x288 with 2 Axes>"
            ],
            "image/png": "[encoded data removed]"
          },
          "metadata": {
            "needs_background": "light"
          }
        }
      ]
    },
    {
      "cell_type": "markdown",
      "metadata": {
        "id": "98RxzLb4yNuc"
      },
      "source": [
        "Here the rows denote the knocked-out taxa and the columns the chnage in growth rate for all taxa. We used the the same tradeoff (\"fraction\") as before and asked for getting relative changes in growth rates (%change compared to baseline growth rate). We can see that there is a lot of competetion but also some strong cooperative interactions between Ruminicoccus and other genera."
      ]
    },
    {
      "cell_type": "markdown",
      "metadata": {
        "id": "p81Fsdp-CPTF"
      },
      "source": [
        "## The flux capacitator\n",
        "\n",
        "Here is how you would run the cooperative tradeoff for a single model. We can follow that up with pFBA to get all fluxes in the system."
      ]
    },
    {
      "cell_type": "code",
      "metadata": {
        "id": "tMAz3FoSMZLf",
        "colab": {
          "base_uri": "https://localhost:8080/",
          "height": 321
        },
        "outputId": "405b0d9d-9a69-4bab-c4b7-baa1ca2a4ded"
      },
      "source": [
        "sol = com.cooperative_tradeoff(fraction=0.5, fluxes=True, pfba=True)\n",
        "sol"
      ],
      "execution_count": 27,
      "outputs": [
        {
          "output_type": "execute_result",
          "data": {
            "text/plain": [
              "<CommunitySolution 0.225 at 0x7fdf5b0c51d0>"
            ],
            "text/html": [
              "<strong>community growth:</strong> 0.225<br><strong>status:</strong> numeric<br><strong>taxa:</strong><div>\n",
              "<style scoped>\n",
              "    .dataframe tbody tr th:only-of-type {\n",
              "        vertical-align: middle;\n",
              "    }\n",
              "\n",
              "    .dataframe tbody tr th {\n",
              "        vertical-align: top;\n",
              "    }\n",
              "\n",
              "    .dataframe thead th {\n",
              "        text-align: right;\n",
              "    }\n",
              "</style>\n",
              "<table border=\"1\" class=\"dataframe\">\n",
              "  <thead>\n",
              "    <tr style=\"text-align: right;\">\n",
              "      <th></th>\n",
              "      <th>abundance</th>\n",
              "      <th>growth_rate</th>\n",
              "      <th>reactions</th>\n",
              "      <th>metabolites</th>\n",
              "    </tr>\n",
              "    <tr>\n",
              "      <th>compartments</th>\n",
              "      <th></th>\n",
              "      <th></th>\n",
              "      <th></th>\n",
              "      <th></th>\n",
              "    </tr>\n",
              "  </thead>\n",
              "  <tbody>\n",
              "    <tr>\n",
              "      <th>Akkermansia</th>\n",
              "      <td>0.121702</td>\n",
              "      <td>0.061570</td>\n",
              "      <td>2274</td>\n",
              "      <td>1386</td>\n",
              "    </tr>\n",
              "    <tr>\n",
              "      <th>Bacteroides</th>\n",
              "      <td>0.626469</td>\n",
              "      <td>0.326576</td>\n",
              "      <td>3307</td>\n",
              "      <td>1887</td>\n",
              "    </tr>\n",
              "    <tr>\n",
              "      <th>Faecalibacterium</th>\n",
              "      <td>0.124280</td>\n",
              "      <td>0.064240</td>\n",
              "      <td>1986</td>\n",
              "      <td>1472</td>\n",
              "    </tr>\n",
              "    <tr>\n",
              "      <th>Parabacteroides</th>\n",
              "      <td>0.092408</td>\n",
              "      <td>0.047597</td>\n",
              "      <td>2870</td>\n",
              "      <td>1747</td>\n",
              "    </tr>\n",
              "    <tr>\n",
              "      <th>Ruminococcus</th>\n",
              "      <td>0.035140</td>\n",
              "      <td>0.017461</td>\n",
              "      <td>2983</td>\n",
              "      <td>1793</td>\n",
              "    </tr>\n",
              "    <tr>\n",
              "      <th>medium</th>\n",
              "      <td>NaN</td>\n",
              "      <td>NaN</td>\n",
              "      <td>718</td>\n",
              "      <td>718</td>\n",
              "    </tr>\n",
              "  </tbody>\n",
              "</table>\n",
              "</div>"
            ]
          },
          "metadata": {},
          "execution_count": 27
        }
      ]
    },
    {
      "cell_type": "markdown",
      "metadata": {
        "id": "J3j9NZC1cFR2"
      },
      "source": [
        "The returned solution contains all fluxes in `sol.fluxes`. An `NaN` entry denotes that this reaction is not present in the organism."
      ]
    },
    {
      "cell_type": "code",
      "metadata": {
        "id": "X26njphUcJ2k",
        "colab": {
          "base_uri": "https://localhost:8080/",
          "height": 331
        },
        "outputId": "086a8ddf-924a-4af2-b298-2895bf3fdf2c"
      },
      "source": [
        "sol.fluxes.head()"
      ],
      "execution_count": 28,
      "outputs": [
        {
          "output_type": "execute_result",
          "data": {
            "text/plain": [
              "reaction          12DGR180ti  12PPDSDH    12PPDt  12aHSDHe    15DAPt  \\\n",
              "compartment                                                            \n",
              "Akkermansia              NaN       NaN -0.000002       NaN       NaN   \n",
              "Bacteroides              NaN       NaN  0.000004       NaN       NaN   \n",
              "Faecalibacterium    0.000483       NaN       NaN  0.000006       NaN   \n",
              "Parabacteroides     0.000294       NaN -0.000015       NaN       NaN   \n",
              "Ruminococcus        0.000023 -0.000008  0.000005  0.000002 -0.000009   \n",
              "\n",
              "reaction           1P4H2CBXLAH       23DHMPO        23PDE2        23PDE4  \\\n",
              "compartment                                                                \n",
              "Akkermansia                NaN  1.084970e-09           NaN           NaN   \n",
              "Bacteroides      -9.205050e-09 -7.412547e-07  4.654284e-09  4.654284e-09   \n",
              "Faecalibacterium -4.319440e-09  2.340656e-06  7.121306e-09  7.121306e-09   \n",
              "Parabacteroides  -1.752606e-09 -1.477510e-08 -2.091964e-09 -2.091964e-09   \n",
              "Ruminococcus     -1.264400e-08  3.299112e-06           NaN           NaN   \n",
              "\n",
              "reaction                23PDE7  ...  rtranscription  sink_PGPm1[c]  \\\n",
              "compartment                     ...                                  \n",
              "Akkermansia                NaN  ...        0.061570            NaN   \n",
              "Bacteroides       4.654284e-09  ...        0.324862            NaN   \n",
              "Faecalibacterium  7.121306e-09  ...        0.061494       0.000003   \n",
              "Parabacteroides  -2.091964e-09  ...        0.045086            NaN   \n",
              "Ruminococcus               NaN  ...        0.009412       0.000007   \n",
              "\n",
              "reaction          sink_dmbzid  sink_gthrd(c)  sink_mqn7(c)  sink_mqn8(c)  \\\n",
              "compartment                                                                \n",
              "Akkermansia               NaN  -1.885492e-04           NaN           NaN   \n",
              "Bacteroides          0.000144  -2.852111e-04           NaN           NaN   \n",
              "Faecalibacterium          NaN  -2.823001e-04     -0.000002     -0.000557   \n",
              "Parabacteroides      0.000014  -9.257477e-05           NaN           NaN   \n",
              "Ruminococcus         0.000012  -7.147014e-07           NaN           NaN   \n",
              "\n",
              "reaction          sink_pheme(c)  sink_q8(c)    sink_s  sink_sheme(c)  \n",
              "compartment                                                           \n",
              "Akkermansia                 NaN         NaN  0.000269      -0.000212  \n",
              "Bacteroides                 NaN         NaN  0.000028            NaN  \n",
              "Faecalibacterium      -0.000267   -0.000289       NaN      -0.000285  \n",
              "Parabacteroides             NaN         NaN  0.000019            NaN  \n",
              "Ruminococcus                NaN         NaN       NaN            NaN  \n",
              "\n",
              "[5 rows x 4430 columns]"
            ],
            "text/html": [
              "\n",
              "  <div id=\"df-96df0107-dda7-47d8-9d03-9c830a5fd839\">\n",
              "    <div class=\"colab-df-container\">\n",
              "      <div>\n",
              "<style scoped>\n",
              "    .dataframe tbody tr th:only-of-type {\n",
              "        vertical-align: middle;\n",
              "    }\n",
              "\n",
              "    .dataframe tbody tr th {\n",
              "        vertical-align: top;\n",
              "    }\n",
              "\n",
              "    .dataframe thead th {\n",
              "        text-align: right;\n",
              "    }\n",
              "</style>\n",
              "<table border=\"1\" class=\"dataframe\">\n",
              "  <thead>\n",
              "    <tr style=\"text-align: right;\">\n",
              "      <th>reaction</th>\n",
              "      <th>12DGR180ti</th>\n",
              "      <th>12PPDSDH</th>\n",
              "      <th>12PPDt</th>\n",
              "      <th>12aHSDHe</th>\n",
              "      <th>15DAPt</th>\n",
              "      <th>1P4H2CBXLAH</th>\n",
              "      <th>23DHMPO</th>\n",
              "      <th>23PDE2</th>\n",
              "      <th>23PDE4</th>\n",
              "      <th>23PDE7</th>\n",
              "      <th>...</th>\n",
              "      <th>rtranscription</th>\n",
              "      <th>sink_PGPm1[c]</th>\n",
              "      <th>sink_dmbzid</th>\n",
              "      <th>sink_gthrd(c)</th>\n",
              "      <th>sink_mqn7(c)</th>\n",
              "      <th>sink_mqn8(c)</th>\n",
              "      <th>sink_pheme(c)</th>\n",
              "      <th>sink_q8(c)</th>\n",
              "      <th>sink_s</th>\n",
              "      <th>sink_sheme(c)</th>\n",
              "    </tr>\n",
              "    <tr>\n",
              "      <th>compartment</th>\n",
              "      <th></th>\n",
              "      <th></th>\n",
              "      <th></th>\n",
              "      <th></th>\n",
              "      <th></th>\n",
              "      <th></th>\n",
              "      <th></th>\n",
              "      <th></th>\n",
              "      <th></th>\n",
              "      <th></th>\n",
              "      <th></th>\n",
              "      <th></th>\n",
              "      <th></th>\n",
              "      <th></th>\n",
              "      <th></th>\n",
              "      <th></th>\n",
              "      <th></th>\n",
              "      <th></th>\n",
              "      <th></th>\n",
              "      <th></th>\n",
              "      <th></th>\n",
              "    </tr>\n",
              "  </thead>\n",
              "  <tbody>\n",
              "    <tr>\n",
              "      <th>Akkermansia</th>\n",
              "      <td>NaN</td>\n",
              "      <td>NaN</td>\n",
              "      <td>-0.000002</td>\n",
              "      <td>NaN</td>\n",
              "      <td>NaN</td>\n",
              "      <td>NaN</td>\n",
              "      <td>1.084970e-09</td>\n",
              "      <td>NaN</td>\n",
              "      <td>NaN</td>\n",
              "      <td>NaN</td>\n",
              "      <td>...</td>\n",
              "      <td>0.061570</td>\n",
              "      <td>NaN</td>\n",
              "      <td>NaN</td>\n",
              "      <td>-1.885492e-04</td>\n",
              "      <td>NaN</td>\n",
              "      <td>NaN</td>\n",
              "      <td>NaN</td>\n",
              "      <td>NaN</td>\n",
              "      <td>0.000269</td>\n",
              "      <td>-0.000212</td>\n",
              "    </tr>\n",
              "    <tr>\n",
              "      <th>Bacteroides</th>\n",
              "      <td>NaN</td>\n",
              "      <td>NaN</td>\n",
              "      <td>0.000004</td>\n",
              "      <td>NaN</td>\n",
              "      <td>NaN</td>\n",
              "      <td>-9.205050e-09</td>\n",
              "      <td>-7.412547e-07</td>\n",
              "      <td>4.654284e-09</td>\n",
              "      <td>4.654284e-09</td>\n",
              "      <td>4.654284e-09</td>\n",
              "      <td>...</td>\n",
              "      <td>0.324862</td>\n",
              "      <td>NaN</td>\n",
              "      <td>0.000144</td>\n",
              "      <td>-2.852111e-04</td>\n",
              "      <td>NaN</td>\n",
              "      <td>NaN</td>\n",
              "      <td>NaN</td>\n",
              "      <td>NaN</td>\n",
              "      <td>0.000028</td>\n",
              "      <td>NaN</td>\n",
              "    </tr>\n",
              "    <tr>\n",
              "      <th>Faecalibacterium</th>\n",
              "      <td>0.000483</td>\n",
              "      <td>NaN</td>\n",
              "      <td>NaN</td>\n",
              "      <td>0.000006</td>\n",
              "      <td>NaN</td>\n",
              "      <td>-4.319440e-09</td>\n",
              "      <td>2.340656e-06</td>\n",
              "      <td>7.121306e-09</td>\n",
              "      <td>7.121306e-09</td>\n",
              "      <td>7.121306e-09</td>\n",
              "      <td>...</td>\n",
              "      <td>0.061494</td>\n",
              "      <td>0.000003</td>\n",
              "      <td>NaN</td>\n",
              "      <td>-2.823001e-04</td>\n",
              "      <td>-0.000002</td>\n",
              "      <td>-0.000557</td>\n",
              "      <td>-0.000267</td>\n",
              "      <td>-0.000289</td>\n",
              "      <td>NaN</td>\n",
              "      <td>-0.000285</td>\n",
              "    </tr>\n",
              "    <tr>\n",
              "      <th>Parabacteroides</th>\n",
              "      <td>0.000294</td>\n",
              "      <td>NaN</td>\n",
              "      <td>-0.000015</td>\n",
              "      <td>NaN</td>\n",
              "      <td>NaN</td>\n",
              "      <td>-1.752606e-09</td>\n",
              "      <td>-1.477510e-08</td>\n",
              "      <td>-2.091964e-09</td>\n",
              "      <td>-2.091964e-09</td>\n",
              "      <td>-2.091964e-09</td>\n",
              "      <td>...</td>\n",
              "      <td>0.045086</td>\n",
              "      <td>NaN</td>\n",
              "      <td>0.000014</td>\n",
              "      <td>-9.257477e-05</td>\n",
              "      <td>NaN</td>\n",
              "      <td>NaN</td>\n",
              "      <td>NaN</td>\n",
              "      <td>NaN</td>\n",
              "      <td>0.000019</td>\n",
              "      <td>NaN</td>\n",
              "    </tr>\n",
              "    <tr>\n",
              "      <th>Ruminococcus</th>\n",
              "      <td>0.000023</td>\n",
              "      <td>-0.000008</td>\n",
              "      <td>0.000005</td>\n",
              "      <td>0.000002</td>\n",
              "      <td>-0.000009</td>\n",
              "      <td>-1.264400e-08</td>\n",
              "      <td>3.299112e-06</td>\n",
              "      <td>NaN</td>\n",
              "      <td>NaN</td>\n",
              "      <td>NaN</td>\n",
              "      <td>...</td>\n",
              "      <td>0.009412</td>\n",
              "      <td>0.000007</td>\n",
              "      <td>0.000012</td>\n",
              "      <td>-7.147014e-07</td>\n",
              "      <td>NaN</td>\n",
              "      <td>NaN</td>\n",
              "      <td>NaN</td>\n",
              "      <td>NaN</td>\n",
              "      <td>NaN</td>\n",
              "      <td>NaN</td>\n",
              "    </tr>\n",
              "  </tbody>\n",
              "</table>\n",
              "<p>5 rows × 4430 columns</p>\n",
              "</div>\n",
              "      <button class=\"colab-df-convert\" onclick=\"convertToInteractive('df-96df0107-dda7-47d8-9d03-9c830a5fd839')\"\n",
              "              title=\"Convert this dataframe to an interactive table.\"\n",
              "              style=\"display:none;\">\n",
              "        \n",
              "  <svg xmlns=\"http://www.w3.org/2000/svg\" height=\"24px\"viewBox=\"0 0 24 24\"\n",
              "       width=\"24px\">\n",
              "    <path d=\"M0 0h24v24H0V0z\" fill=\"none\"/>\n",
              "    <path d=\"M18.56 5.44l.94 2.06.94-2.06 2.06-.94-2.06-.94-.94-2.06-.94 2.06-2.06.94zm-11 1L8.5 8.5l.94-2.06 2.06-.94-2.06-.94L8.5 2.5l-.94 2.06-2.06.94zm10 10l.94 2.06.94-2.06 2.06-.94-2.06-.94-.94-2.06-.94 2.06-2.06.94z\"/><path d=\"M17.41 7.96l-1.37-1.37c-.4-.4-.92-.59-1.43-.59-.52 0-1.04.2-1.43.59L10.3 9.45l-7.72 7.72c-.78.78-.78 2.05 0 2.83L4 21.41c.39.39.9.59 1.41.59.51 0 1.02-.2 1.41-.59l7.78-7.78 2.81-2.81c.8-.78.8-2.07 0-2.86zM5.41 20L4 18.59l7.72-7.72 1.47 1.35L5.41 20z\"/>\n",
              "  </svg>\n",
              "      </button>\n",
              "      \n",
              "  <style>\n",
              "    .colab-df-container {\n",
              "      display:flex;\n",
              "      flex-wrap:wrap;\n",
              "      gap: 12px;\n",
              "    }\n",
              "\n",
              "    .colab-df-convert {\n",
              "      background-color: #E8F0FE;\n",
              "      border: none;\n",
              "      border-radius: 50%;\n",
              "      cursor: pointer;\n",
              "      display: none;\n",
              "      fill: #1967D2;\n",
              "      height: 32px;\n",
              "      padding: 0 0 0 0;\n",
              "      width: 32px;\n",
              "    }\n",
              "\n",
              "    .colab-df-convert:hover {\n",
              "      background-color: #E2EBFA;\n",
              "      box-shadow: 0px 1px 2px rgba(60, 64, 67, 0.3), 0px 1px 3px 1px rgba(60, 64, 67, 0.15);\n",
              "      fill: #174EA6;\n",
              "    }\n",
              "\n",
              "    [theme=dark] .colab-df-convert {\n",
              "      background-color: #3B4455;\n",
              "      fill: #D2E3FC;\n",
              "    }\n",
              "\n",
              "    [theme=dark] .colab-df-convert:hover {\n",
              "      background-color: #434B5C;\n",
              "      box-shadow: 0px 1px 3px 1px rgba(0, 0, 0, 0.15);\n",
              "      filter: drop-shadow(0px 1px 2px rgba(0, 0, 0, 0.3));\n",
              "      fill: #FFFFFF;\n",
              "    }\n",
              "  </style>\n",
              "\n",
              "      <script>\n",
              "        const buttonEl =\n",
              "          document.querySelector('#df-96df0107-dda7-47d8-9d03-9c830a5fd839 button.colab-df-convert');\n",
              "        buttonEl.style.display =\n",
              "          google.colab.kernel.accessAllowed ? 'block' : 'none';\n",
              "\n",
              "        async function convertToInteractive(key) {\n",
              "          const element = document.querySelector('#df-96df0107-dda7-47d8-9d03-9c830a5fd839');\n",
              "          const dataTable =\n",
              "            await google.colab.kernel.invokeFunction('convertToInteractive',\n",
              "                                                     [key], {});\n",
              "          if (!dataTable) return;\n",
              "\n",
              "          const docLinkHtml = 'Like what you see? Visit the ' +\n",
              "            '<a target=\"_blank\" href=https://colab.research.google.com/notebooks/data_table.ipynb>data table notebook</a>'\n",
              "            + ' to learn more about interactive tables.';\n",
              "          element.innerHTML = '';\n",
              "          dataTable['output_type'] = 'display_data';\n",
              "          await google.colab.output.renderOutput(dataTable, element);\n",
              "          const docLink = document.createElement('div');\n",
              "          docLink.innerHTML = docLinkHtml;\n",
              "          element.appendChild(docLink);\n",
              "        }\n",
              "      </script>\n",
              "    </div>\n",
              "  </div>\n",
              "  "
            ]
          },
          "metadata": {},
          "execution_count": 28
        }
      ]
    },
    {
      "cell_type": "markdown",
      "metadata": {
        "id": "Aeg_X2KQucKK"
      },
      "source": [
        "The acetate export reaction has the name `EX_ac(e)`. Identify the primary acetate producer in the system. Don't forget about the accuracy of 10<sup>-3</sup>."
      ]
    },
    {
      "cell_type": "code",
      "metadata": {
        "id": "q6_pLLG5YeoZ",
        "colab": {
          "base_uri": "https://localhost:8080/"
        },
        "outputId": "417490e0-5f8e-4e18-ecea-d5de7ebbac3f"
      },
      "source": [
        "sol.fluxes[\"EX_ac(e)\"]"
      ],
      "execution_count": 29,
      "outputs": [
        {
          "output_type": "execute_result",
          "data": {
            "text/plain": [
              "compartment\n",
              "Akkermansia         1.261559\n",
              "Bacteroides         0.219175\n",
              "Faecalibacterium    0.929972\n",
              "Parabacteroides     0.061149\n",
              "Ruminococcus        0.005913\n",
              "medium                   NaN\n",
              "Name: EX_ac(e), dtype: float64"
            ]
          },
          "metadata": {},
          "execution_count": 29
        }
      ]
    },
    {
      "cell_type": "markdown",
      "metadata": {
        "id": "4l9srmRpYmdS"
      },
      "source": [
        "Looks like Akkermansia is the major producer. But this is expressed as flux per gDW of bacteria. But we might want to scale this by the relative abundance to get the total amount produced by each taxon."
      ]
    },
    {
      "cell_type": "code",
      "metadata": {
        "id": "9kf44fUEYz1B",
        "colab": {
          "base_uri": "https://localhost:8080/"
        },
        "outputId": "80848286-17fc-4fbe-b8c8-a2424e7f9f09"
      },
      "source": [
        "sol.fluxes[\"EX_ac(e)\"] * com.abundances"
      ],
      "execution_count": 30,
      "outputs": [
        {
          "output_type": "execute_result",
          "data": {
            "text/plain": [
              "Akkermansia         0.153534\n",
              "Bacteroides         0.137306\n",
              "Faecalibacterium    0.115577\n",
              "Parabacteroides     0.005651\n",
              "Ruminococcus        0.000208\n",
              "medium                   NaN\n",
              "dtype: float64"
            ]
          },
          "metadata": {},
          "execution_count": 30
        }
      ]
    },
    {
      "cell_type": "markdown",
      "metadata": {
        "id": "LGGBSgwVwZiC"
      },
      "source": [
        "Look up at least one other reaction at https://www.vmh.life/#microbes/reactions, and get it's predicted fluxes. Does the reaction take place? If yes in which organism? Can you identify the most active fluxes in the community?"
      ]
    },
    {
      "cell_type": "code",
      "metadata": {
        "id": "PFwS8VIbuIY6",
        "colab": {
          "base_uri": "https://localhost:8080/"
        },
        "outputId": "b0c24782-b03e-46e7-90a8-bdd1b1ee31b6"
      },
      "source": [
        "# Glucose\n",
        "sol.fluxes[\"EX_glc_D(e)\"]"
      ],
      "execution_count": 31,
      "outputs": [
        {
          "output_type": "execute_result",
          "data": {
            "text/plain": [
              "compartment\n",
              "Akkermansia        -1.069815e-01\n",
              "Bacteroides         8.667209e-01\n",
              "Faecalibacterium   -1.015650e-05\n",
              "Parabacteroides    -2.335623e-06\n",
              "Ruminococcus        4.766758e-07\n",
              "medium                       NaN\n",
              "Name: EX_glc_D(e), dtype: float64"
            ]
          },
          "metadata": {},
          "execution_count": 31
        }
      ]
    },
    {
      "cell_type": "code",
      "metadata": {
        "id": "Usg0RyshZM3k",
        "colab": {
          "base_uri": "https://localhost:8080/",
          "height": 363
        },
        "outputId": "21f7ed36-19c8-4fe9-ee97-132241fd8837"
      },
      "source": [
        "# most active\n",
        "highest = sol.fluxes.abs().mean(axis=0).sort_values(ascending=False)[0:10]\n",
        "highest = highest.to_frame(name=\"flux\").reset_index()\n",
        "highest"
      ],
      "execution_count": 32,
      "outputs": [
        {
          "output_type": "execute_result",
          "data": {
            "text/plain": [
              "   reaction      flux\n",
              "0   GALt2_2  8.344822\n",
              "1    LYSt3r  6.655289\n",
              "2    GALt1r  4.172441\n",
              "3     ATPS4  3.399724\n",
              "4    LYSt2r  3.325442\n",
              "5  EX_h2o_m  1.124724\n",
              "6    FLVRxe  0.781948\n",
              "7      H2Ot  0.760985\n",
              "8   EX_h(e)  0.702986\n",
              "9     NADH6  0.658691"
            ],
            "text/html": [
              "\n",
              "  <div id=\"df-4e90e760-f1a0-4ee0-a14f-b8fac6eaf8be\">\n",
              "    <div class=\"colab-df-container\">\n",
              "      <div>\n",
              "<style scoped>\n",
              "    .dataframe tbody tr th:only-of-type {\n",
              "        vertical-align: middle;\n",
              "    }\n",
              "\n",
              "    .dataframe tbody tr th {\n",
              "        vertical-align: top;\n",
              "    }\n",
              "\n",
              "    .dataframe thead th {\n",
              "        text-align: right;\n",
              "    }\n",
              "</style>\n",
              "<table border=\"1\" class=\"dataframe\">\n",
              "  <thead>\n",
              "    <tr style=\"text-align: right;\">\n",
              "      <th></th>\n",
              "      <th>reaction</th>\n",
              "      <th>flux</th>\n",
              "    </tr>\n",
              "  </thead>\n",
              "  <tbody>\n",
              "    <tr>\n",
              "      <th>0</th>\n",
              "      <td>GALt2_2</td>\n",
              "      <td>8.344822</td>\n",
              "    </tr>\n",
              "    <tr>\n",
              "      <th>1</th>\n",
              "      <td>LYSt3r</td>\n",
              "      <td>6.655289</td>\n",
              "    </tr>\n",
              "    <tr>\n",
              "      <th>2</th>\n",
              "      <td>GALt1r</td>\n",
              "      <td>4.172441</td>\n",
              "    </tr>\n",
              "    <tr>\n",
              "      <th>3</th>\n",
              "      <td>ATPS4</td>\n",
              "      <td>3.399724</td>\n",
              "    </tr>\n",
              "    <tr>\n",
              "      <th>4</th>\n",
              "      <td>LYSt2r</td>\n",
              "      <td>3.325442</td>\n",
              "    </tr>\n",
              "    <tr>\n",
              "      <th>5</th>\n",
              "      <td>EX_h2o_m</td>\n",
              "      <td>1.124724</td>\n",
              "    </tr>\n",
              "    <tr>\n",
              "      <th>6</th>\n",
              "      <td>FLVRxe</td>\n",
              "      <td>0.781948</td>\n",
              "    </tr>\n",
              "    <tr>\n",
              "      <th>7</th>\n",
              "      <td>H2Ot</td>\n",
              "      <td>0.760985</td>\n",
              "    </tr>\n",
              "    <tr>\n",
              "      <th>8</th>\n",
              "      <td>EX_h(e)</td>\n",
              "      <td>0.702986</td>\n",
              "    </tr>\n",
              "    <tr>\n",
              "      <th>9</th>\n",
              "      <td>NADH6</td>\n",
              "      <td>0.658691</td>\n",
              "    </tr>\n",
              "  </tbody>\n",
              "</table>\n",
              "</div>\n",
              "      <button class=\"colab-df-convert\" onclick=\"convertToInteractive('df-4e90e760-f1a0-4ee0-a14f-b8fac6eaf8be')\"\n",
              "              title=\"Convert this dataframe to an interactive table.\"\n",
              "              style=\"display:none;\">\n",
              "        \n",
              "  <svg xmlns=\"http://www.w3.org/2000/svg\" height=\"24px\"viewBox=\"0 0 24 24\"\n",
              "       width=\"24px\">\n",
              "    <path d=\"M0 0h24v24H0V0z\" fill=\"none\"/>\n",
              "    <path d=\"M18.56 5.44l.94 2.06.94-2.06 2.06-.94-2.06-.94-.94-2.06-.94 2.06-2.06.94zm-11 1L8.5 8.5l.94-2.06 2.06-.94-2.06-.94L8.5 2.5l-.94 2.06-2.06.94zm10 10l.94 2.06.94-2.06 2.06-.94-2.06-.94-.94-2.06-.94 2.06-2.06.94z\"/><path d=\"M17.41 7.96l-1.37-1.37c-.4-.4-.92-.59-1.43-.59-.52 0-1.04.2-1.43.59L10.3 9.45l-7.72 7.72c-.78.78-.78 2.05 0 2.83L4 21.41c.39.39.9.59 1.41.59.51 0 1.02-.2 1.41-.59l7.78-7.78 2.81-2.81c.8-.78.8-2.07 0-2.86zM5.41 20L4 18.59l7.72-7.72 1.47 1.35L5.41 20z\"/>\n",
              "  </svg>\n",
              "      </button>\n",
              "      \n",
              "  <style>\n",
              "    .colab-df-container {\n",
              "      display:flex;\n",
              "      flex-wrap:wrap;\n",
              "      gap: 12px;\n",
              "    }\n",
              "\n",
              "    .colab-df-convert {\n",
              "      background-color: #E8F0FE;\n",
              "      border: none;\n",
              "      border-radius: 50%;\n",
              "      cursor: pointer;\n",
              "      display: none;\n",
              "      fill: #1967D2;\n",
              "      height: 32px;\n",
              "      padding: 0 0 0 0;\n",
              "      width: 32px;\n",
              "    }\n",
              "\n",
              "    .colab-df-convert:hover {\n",
              "      background-color: #E2EBFA;\n",
              "      box-shadow: 0px 1px 2px rgba(60, 64, 67, 0.3), 0px 1px 3px 1px rgba(60, 64, 67, 0.15);\n",
              "      fill: #174EA6;\n",
              "    }\n",
              "\n",
              "    [theme=dark] .colab-df-convert {\n",
              "      background-color: #3B4455;\n",
              "      fill: #D2E3FC;\n",
              "    }\n",
              "\n",
              "    [theme=dark] .colab-df-convert:hover {\n",
              "      background-color: #434B5C;\n",
              "      box-shadow: 0px 1px 3px 1px rgba(0, 0, 0, 0.15);\n",
              "      filter: drop-shadow(0px 1px 2px rgba(0, 0, 0, 0.3));\n",
              "      fill: #FFFFFF;\n",
              "    }\n",
              "  </style>\n",
              "\n",
              "      <script>\n",
              "        const buttonEl =\n",
              "          document.querySelector('#df-4e90e760-f1a0-4ee0-a14f-b8fac6eaf8be button.colab-df-convert');\n",
              "        buttonEl.style.display =\n",
              "          google.colab.kernel.accessAllowed ? 'block' : 'none';\n",
              "\n",
              "        async function convertToInteractive(key) {\n",
              "          const element = document.querySelector('#df-4e90e760-f1a0-4ee0-a14f-b8fac6eaf8be');\n",
              "          const dataTable =\n",
              "            await google.colab.kernel.invokeFunction('convertToInteractive',\n",
              "                                                     [key], {});\n",
              "          if (!dataTable) return;\n",
              "\n",
              "          const docLinkHtml = 'Like what you see? Visit the ' +\n",
              "            '<a target=\"_blank\" href=https://colab.research.google.com/notebooks/data_table.ipynb>data table notebook</a>'\n",
              "            + ' to learn more about interactive tables.';\n",
              "          element.innerHTML = '';\n",
              "          dataTable['output_type'] = 'display_data';\n",
              "          await google.colab.output.renderOutput(dataTable, element);\n",
              "          const docLink = document.createElement('div');\n",
              "          docLink.innerHTML = docLinkHtml;\n",
              "          element.appendChild(docLink);\n",
              "        }\n",
              "      </script>\n",
              "    </div>\n",
              "  </div>\n",
              "  "
            ]
          },
          "metadata": {},
          "execution_count": 32
        }
      ]
    },
    {
      "cell_type": "markdown",
      "metadata": {
        "id": "CsqIRTbC7doD"
      },
      "source": [
        "# 🔵 Addendum\n"
      ]
    },
    {
      "cell_type": "markdown",
      "metadata": {
        "id": "hycoXNTi5xsH"
      },
      "source": [
        "## Choosing a tradeoff value\n",
        "\n",
        "Even if you don't have growth rates available you can still use your data to choose a decent tradeoff value. This can be done by choosing the largest tradeoff value that still allows growth for the majority of the taxa that you observed in the sample (if they are present at an appreciable abundance, they should be able to grow). This can be done with the `tradeoff` workflow in MICOM that will run cooperative tradeoff with varying tradeoff values, which can be visualized with the `plot_tradeoff` function."
      ]
    },
    {
      "cell_type": "code",
      "metadata": {
        "id": "8_1jesZTHYra",
        "colab": {
          "base_uri": "https://localhost:8080/",
          "height": 51,
          "referenced_widgets": [
            "9890876b3e3e4da7b4354a4da7b32059",
            "84021603eec6423d8ad03c60d0db2c82"
          ]
        },
        "outputId": "69e8cef2-5fc9-4048-e83b-77d04a5fdb4c"
      },
      "source": [
        "from micom.workflows import tradeoff\n",
        "import micom\n",
        "\n",
        "tradeoff_results = tradeoff(manifest, \"models\", medium, threads=2)\n",
        "tradeoff_results.to_csv(\"tradeoff.csv\", index=False)\n",
        "\n",
        "plot_tradeoff(tradeoff_results, tolerance=1e-4)"
      ],
      "execution_count": 33,
      "outputs": [
        {
          "output_type": "display_data",
          "data": {
            "text/plain": [
              "Output()"
            ],
            "application/vnd.jupyter.widget-view+json": {
              "version_major": 2,
              "version_minor": 0,
              "model_id": "9890876b3e3e4da7b4354a4da7b32059"
            }
          },
          "metadata": {}
        },
        {
          "output_type": "display_data",
          "data": {
            "text/plain": [
              ""
            ],
            "text/html": [
              "<pre style=\"white-space:pre;overflow-x:auto;line-height:normal;font-family:Menlo,'DejaVu Sans Mono',consolas,'Courier New',monospace\"></pre>\n"
            ]
          },
          "metadata": {}
        },
        {
          "output_type": "display_data",
          "data": {
            "text/plain": [
              "\n"
            ],
            "text/html": [
              "<pre style=\"white-space:pre;overflow-x:auto;line-height:normal;font-family:Menlo,'DejaVu Sans Mono',consolas,'Courier New',monospace\">\n",
              "</pre>\n"
            ]
          },
          "metadata": {}
        },
        {
          "output_type": "execute_result",
          "data": {
            "text/plain": [
              "<micom.viz.core.Visualization at 0x7fdf50595410>"
            ]
          },
          "metadata": {},
          "execution_count": 33
        }
      ]
    },
    {
      "cell_type": "markdown",
      "metadata": {
        "id": "y9703vhK6d6c"
      },
      "source": [
        "After opeing `tradeoff_[DATE].html` you will see that, for our example here, all tradeoff values work great. This is because we modeled very few taxa, which keeps the compettion down. If you would allow for fewer abundant taxa in the models, this would change drastically. For instance, here is an example from a colorectal cancer data set:\n",
        "\n",
        "[![tradeoff example](https://micom-dev.github.io/micom/_images/tradeoff.png)](https://micom-dev.github.io/micom/_static/tradeoff.html)\n",
        "\n",
        "You can see how not using the cooperative tradeoff would give you nonsense results where only 10% of all observed taxa grew. A tradeoff value of 0.6-0.8 would probably be a good choice for this particular data set."
      ]
    }
  ]
}