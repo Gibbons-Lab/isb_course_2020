{
  "nbformat": 4,
  "nbformat_minor": 0,
  "metadata": {
    "colab": {
      "name": "micom_solutions.ipynb",
      "provenance": [],
      "collapsed_sections": [],
      "toc_visible": true,
      "include_colab_link": true
    },
    "kernelspec": {
      "name": "python3",
      "display_name": "Python 3"
    },
    "widgets": {
      "application/vnd.jupyter.widget-state+json": {
        "ae195de84d6e489aa2d9e9b005a12320": {
          "model_module": "@jupyter-widgets/controls",
          "model_name": "HBoxModel",
          "state": {
            "_view_name": "HBoxView",
            "_dom_classes": [],
            "_model_name": "HBoxModel",
            "_view_module": "@jupyter-widgets/controls",
            "_model_module_version": "1.5.0",
            "_view_count": null,
            "_view_module_version": "1.5.0",
            "box_style": "",
            "layout": "IPY_MODEL_e536e5474c43452892d33df8bc67f1a1",
            "_model_module": "@jupyter-widgets/controls",
            "children": [
              "IPY_MODEL_18d78b7c61594544b837d8173bdff2f2",
              "IPY_MODEL_c3a20186307e46a2acb978d62f0f02e9"
            ]
          }
        },
        "e536e5474c43452892d33df8bc67f1a1": {
          "model_module": "@jupyter-widgets/base",
          "model_name": "LayoutModel",
          "state": {
            "_view_name": "LayoutView",
            "grid_template_rows": null,
            "right": null,
            "justify_content": null,
            "_view_module": "@jupyter-widgets/base",
            "overflow": null,
            "_model_module_version": "1.2.0",
            "_view_count": null,
            "flex_flow": null,
            "width": null,
            "min_width": null,
            "border": null,
            "align_items": null,
            "bottom": null,
            "_model_module": "@jupyter-widgets/base",
            "top": null,
            "grid_column": null,
            "overflow_y": null,
            "overflow_x": null,
            "grid_auto_flow": null,
            "grid_area": null,
            "grid_template_columns": null,
            "flex": null,
            "_model_name": "LayoutModel",
            "justify_items": null,
            "grid_row": null,
            "max_height": null,
            "align_content": null,
            "visibility": null,
            "align_self": null,
            "height": null,
            "min_height": null,
            "padding": null,
            "grid_auto_rows": null,
            "grid_gap": null,
            "max_width": null,
            "order": null,
            "_view_module_version": "1.2.0",
            "grid_template_areas": null,
            "object_position": null,
            "object_fit": null,
            "grid_auto_columns": null,
            "margin": null,
            "display": null,
            "left": null
          }
        },
        "18d78b7c61594544b837d8173bdff2f2": {
          "model_module": "@jupyter-widgets/controls",
          "model_name": "FloatProgressModel",
          "state": {
            "_view_name": "ProgressView",
            "style": "IPY_MODEL_bc6348a8662d46f3b53820fdc8c00deb",
            "_dom_classes": [],
            "description": "100%",
            "_model_name": "FloatProgressModel",
            "bar_style": "success",
            "max": 8,
            "_view_module": "@jupyter-widgets/controls",
            "_model_module_version": "1.5.0",
            "value": 8,
            "_view_count": null,
            "_view_module_version": "1.5.0",
            "orientation": "horizontal",
            "min": 0,
            "description_tooltip": null,
            "_model_module": "@jupyter-widgets/controls",
            "layout": "IPY_MODEL_77d468921aa24853a38655ae7420a428"
          }
        },
        "c3a20186307e46a2acb978d62f0f02e9": {
          "model_module": "@jupyter-widgets/controls",
          "model_name": "HTMLModel",
          "state": {
            "_view_name": "HTMLView",
            "style": "IPY_MODEL_ed0f5d1f61644890a3c96b44e43d5714",
            "_dom_classes": [],
            "description": "",
            "_model_name": "HTMLModel",
            "placeholder": "​",
            "_view_module": "@jupyter-widgets/controls",
            "_model_module_version": "1.5.0",
            "value": " 8/8 [04:40&lt;00:00, 35.08s/sample(s)]",
            "_view_count": null,
            "_view_module_version": "1.5.0",
            "description_tooltip": null,
            "_model_module": "@jupyter-widgets/controls",
            "layout": "IPY_MODEL_b7faee25106e4c65a7ee502a8edff94f"
          }
        },
        "bc6348a8662d46f3b53820fdc8c00deb": {
          "model_module": "@jupyter-widgets/controls",
          "model_name": "ProgressStyleModel",
          "state": {
            "_view_name": "StyleView",
            "_model_name": "ProgressStyleModel",
            "description_width": "initial",
            "_view_module": "@jupyter-widgets/base",
            "_model_module_version": "1.5.0",
            "_view_count": null,
            "_view_module_version": "1.2.0",
            "bar_color": null,
            "_model_module": "@jupyter-widgets/controls"
          }
        },
        "77d468921aa24853a38655ae7420a428": {
          "model_module": "@jupyter-widgets/base",
          "model_name": "LayoutModel",
          "state": {
            "_view_name": "LayoutView",
            "grid_template_rows": null,
            "right": null,
            "justify_content": null,
            "_view_module": "@jupyter-widgets/base",
            "overflow": null,
            "_model_module_version": "1.2.0",
            "_view_count": null,
            "flex_flow": null,
            "width": null,
            "min_width": null,
            "border": null,
            "align_items": null,
            "bottom": null,
            "_model_module": "@jupyter-widgets/base",
            "top": null,
            "grid_column": null,
            "overflow_y": null,
            "overflow_x": null,
            "grid_auto_flow": null,
            "grid_area": null,
            "grid_template_columns": null,
            "flex": null,
            "_model_name": "LayoutModel",
            "justify_items": null,
            "grid_row": null,
            "max_height": null,
            "align_content": null,
            "visibility": null,
            "align_self": null,
            "height": null,
            "min_height": null,
            "padding": null,
            "grid_auto_rows": null,
            "grid_gap": null,
            "max_width": null,
            "order": null,
            "_view_module_version": "1.2.0",
            "grid_template_areas": null,
            "object_position": null,
            "object_fit": null,
            "grid_auto_columns": null,
            "margin": null,
            "display": null,
            "left": null
          }
        },
        "ed0f5d1f61644890a3c96b44e43d5714": {
          "model_module": "@jupyter-widgets/controls",
          "model_name": "DescriptionStyleModel",
          "state": {
            "_view_name": "StyleView",
            "_model_name": "DescriptionStyleModel",
            "description_width": "",
            "_view_module": "@jupyter-widgets/base",
            "_model_module_version": "1.5.0",
            "_view_count": null,
            "_view_module_version": "1.2.0",
            "_model_module": "@jupyter-widgets/controls"
          }
        },
        "b7faee25106e4c65a7ee502a8edff94f": {
          "model_module": "@jupyter-widgets/base",
          "model_name": "LayoutModel",
          "state": {
            "_view_name": "LayoutView",
            "grid_template_rows": null,
            "right": null,
            "justify_content": null,
            "_view_module": "@jupyter-widgets/base",
            "overflow": null,
            "_model_module_version": "1.2.0",
            "_view_count": null,
            "flex_flow": null,
            "width": null,
            "min_width": null,
            "border": null,
            "align_items": null,
            "bottom": null,
            "_model_module": "@jupyter-widgets/base",
            "top": null,
            "grid_column": null,
            "overflow_y": null,
            "overflow_x": null,
            "grid_auto_flow": null,
            "grid_area": null,
            "grid_template_columns": null,
            "flex": null,
            "_model_name": "LayoutModel",
            "justify_items": null,
            "grid_row": null,
            "max_height": null,
            "align_content": null,
            "visibility": null,
            "align_self": null,
            "height": null,
            "min_height": null,
            "padding": null,
            "grid_auto_rows": null,
            "grid_gap": null,
            "max_width": null,
            "order": null,
            "_view_module_version": "1.2.0",
            "grid_template_areas": null,
            "object_position": null,
            "object_fit": null,
            "grid_auto_columns": null,
            "margin": null,
            "display": null,
            "left": null
          }
        },
        "45a0f7d0b9c54520a99a2e57f06bbc71": {
          "model_module": "@jupyter-widgets/controls",
          "model_name": "HBoxModel",
          "state": {
            "_view_name": "HBoxView",
            "_dom_classes": [],
            "_model_name": "HBoxModel",
            "_view_module": "@jupyter-widgets/controls",
            "_model_module_version": "1.5.0",
            "_view_count": null,
            "_view_module_version": "1.5.0",
            "box_style": "",
            "layout": "IPY_MODEL_60e8ed7c72604cebb27713011ab21dd3",
            "_model_module": "@jupyter-widgets/controls",
            "children": [
              "IPY_MODEL_1dd010cec219487bbe291d29d2813cd9",
              "IPY_MODEL_6ad952aa40764c0f91f92a49623c7f10"
            ]
          }
        },
        "60e8ed7c72604cebb27713011ab21dd3": {
          "model_module": "@jupyter-widgets/base",
          "model_name": "LayoutModel",
          "state": {
            "_view_name": "LayoutView",
            "grid_template_rows": null,
            "right": null,
            "justify_content": null,
            "_view_module": "@jupyter-widgets/base",
            "overflow": null,
            "_model_module_version": "1.2.0",
            "_view_count": null,
            "flex_flow": null,
            "width": null,
            "min_width": null,
            "border": null,
            "align_items": null,
            "bottom": null,
            "_model_module": "@jupyter-widgets/base",
            "top": null,
            "grid_column": null,
            "overflow_y": null,
            "overflow_x": null,
            "grid_auto_flow": null,
            "grid_area": null,
            "grid_template_columns": null,
            "flex": null,
            "_model_name": "LayoutModel",
            "justify_items": null,
            "grid_row": null,
            "max_height": null,
            "align_content": null,
            "visibility": null,
            "align_self": null,
            "height": null,
            "min_height": null,
            "padding": null,
            "grid_auto_rows": null,
            "grid_gap": null,
            "max_width": null,
            "order": null,
            "_view_module_version": "1.2.0",
            "grid_template_areas": null,
            "object_position": null,
            "object_fit": null,
            "grid_auto_columns": null,
            "margin": null,
            "display": null,
            "left": null
          }
        },
        "1dd010cec219487bbe291d29d2813cd9": {
          "model_module": "@jupyter-widgets/controls",
          "model_name": "FloatProgressModel",
          "state": {
            "_view_name": "ProgressView",
            "style": "IPY_MODEL_2fcf24367e9448c08b199af41764c9eb",
            "_dom_classes": [],
            "description": "100%",
            "_model_name": "FloatProgressModel",
            "bar_style": "success",
            "max": 8,
            "_view_module": "@jupyter-widgets/controls",
            "_model_module_version": "1.5.0",
            "value": 8,
            "_view_count": null,
            "_view_module_version": "1.5.0",
            "orientation": "horizontal",
            "min": 0,
            "description_tooltip": null,
            "_model_module": "@jupyter-widgets/controls",
            "layout": "IPY_MODEL_5ae81c88917748f5b580f0c668b5ed15"
          }
        },
        "6ad952aa40764c0f91f92a49623c7f10": {
          "model_module": "@jupyter-widgets/controls",
          "model_name": "HTMLModel",
          "state": {
            "_view_name": "HTMLView",
            "style": "IPY_MODEL_05406070945c4243af448f31df73ea9e",
            "_dom_classes": [],
            "description": "",
            "_model_name": "HTMLModel",
            "placeholder": "​",
            "_view_module": "@jupyter-widgets/controls",
            "_model_module_version": "1.5.0",
            "value": " 8/8 [03:26&lt;00:00, 25.82s/sample(s)]",
            "_view_count": null,
            "_view_module_version": "1.5.0",
            "description_tooltip": null,
            "_model_module": "@jupyter-widgets/controls",
            "layout": "IPY_MODEL_0e263001049a49ce82423b1be681bf96"
          }
        },
        "2fcf24367e9448c08b199af41764c9eb": {
          "model_module": "@jupyter-widgets/controls",
          "model_name": "ProgressStyleModel",
          "state": {
            "_view_name": "StyleView",
            "_model_name": "ProgressStyleModel",
            "description_width": "initial",
            "_view_module": "@jupyter-widgets/base",
            "_model_module_version": "1.5.0",
            "_view_count": null,
            "_view_module_version": "1.2.0",
            "bar_color": null,
            "_model_module": "@jupyter-widgets/controls"
          }
        },
        "5ae81c88917748f5b580f0c668b5ed15": {
          "model_module": "@jupyter-widgets/base",
          "model_name": "LayoutModel",
          "state": {
            "_view_name": "LayoutView",
            "grid_template_rows": null,
            "right": null,
            "justify_content": null,
            "_view_module": "@jupyter-widgets/base",
            "overflow": null,
            "_model_module_version": "1.2.0",
            "_view_count": null,
            "flex_flow": null,
            "width": null,
            "min_width": null,
            "border": null,
            "align_items": null,
            "bottom": null,
            "_model_module": "@jupyter-widgets/base",
            "top": null,
            "grid_column": null,
            "overflow_y": null,
            "overflow_x": null,
            "grid_auto_flow": null,
            "grid_area": null,
            "grid_template_columns": null,
            "flex": null,
            "_model_name": "LayoutModel",
            "justify_items": null,
            "grid_row": null,
            "max_height": null,
            "align_content": null,
            "visibility": null,
            "align_self": null,
            "height": null,
            "min_height": null,
            "padding": null,
            "grid_auto_rows": null,
            "grid_gap": null,
            "max_width": null,
            "order": null,
            "_view_module_version": "1.2.0",
            "grid_template_areas": null,
            "object_position": null,
            "object_fit": null,
            "grid_auto_columns": null,
            "margin": null,
            "display": null,
            "left": null
          }
        },
        "05406070945c4243af448f31df73ea9e": {
          "model_module": "@jupyter-widgets/controls",
          "model_name": "DescriptionStyleModel",
          "state": {
            "_view_name": "StyleView",
            "_model_name": "DescriptionStyleModel",
            "description_width": "",
            "_view_module": "@jupyter-widgets/base",
            "_model_module_version": "1.5.0",
            "_view_count": null,
            "_view_module_version": "1.2.0",
            "_model_module": "@jupyter-widgets/controls"
          }
        },
        "0e263001049a49ce82423b1be681bf96": {
          "model_module": "@jupyter-widgets/base",
          "model_name": "LayoutModel",
          "state": {
            "_view_name": "LayoutView",
            "grid_template_rows": null,
            "right": null,
            "justify_content": null,
            "_view_module": "@jupyter-widgets/base",
            "overflow": null,
            "_model_module_version": "1.2.0",
            "_view_count": null,
            "flex_flow": null,
            "width": null,
            "min_width": null,
            "border": null,
            "align_items": null,
            "bottom": null,
            "_model_module": "@jupyter-widgets/base",
            "top": null,
            "grid_column": null,
            "overflow_y": null,
            "overflow_x": null,
            "grid_auto_flow": null,
            "grid_area": null,
            "grid_template_columns": null,
            "flex": null,
            "_model_name": "LayoutModel",
            "justify_items": null,
            "grid_row": null,
            "max_height": null,
            "align_content": null,
            "visibility": null,
            "align_self": null,
            "height": null,
            "min_height": null,
            "padding": null,
            "grid_auto_rows": null,
            "grid_gap": null,
            "max_width": null,
            "order": null,
            "_view_module_version": "1.2.0",
            "grid_template_areas": null,
            "object_position": null,
            "object_fit": null,
            "grid_auto_columns": null,
            "margin": null,
            "display": null,
            "left": null
          }
        },
        "da3ea8f05f4541e19a8ae2aacdabf7a2": {
          "model_module": "@jupyter-widgets/controls",
          "model_name": "HBoxModel",
          "state": {
            "_view_name": "HBoxView",
            "_dom_classes": [],
            "_model_name": "HBoxModel",
            "_view_module": "@jupyter-widgets/controls",
            "_model_module_version": "1.5.0",
            "_view_count": null,
            "_view_module_version": "1.5.0",
            "box_style": "",
            "layout": "IPY_MODEL_ab3300434d1d47278e842ef91c392956",
            "_model_module": "@jupyter-widgets/controls",
            "children": [
              "IPY_MODEL_1b435757054e44dab687661d9bde4527",
              "IPY_MODEL_c9d1b7b4ae514214b64c20a45991f1f2"
            ]
          }
        },
        "ab3300434d1d47278e842ef91c392956": {
          "model_module": "@jupyter-widgets/base",
          "model_name": "LayoutModel",
          "state": {
            "_view_name": "LayoutView",
            "grid_template_rows": null,
            "right": null,
            "justify_content": null,
            "_view_module": "@jupyter-widgets/base",
            "overflow": null,
            "_model_module_version": "1.2.0",
            "_view_count": null,
            "flex_flow": null,
            "width": null,
            "min_width": null,
            "border": null,
            "align_items": null,
            "bottom": null,
            "_model_module": "@jupyter-widgets/base",
            "top": null,
            "grid_column": null,
            "overflow_y": null,
            "overflow_x": null,
            "grid_auto_flow": null,
            "grid_area": null,
            "grid_template_columns": null,
            "flex": null,
            "_model_name": "LayoutModel",
            "justify_items": null,
            "grid_row": null,
            "max_height": null,
            "align_content": null,
            "visibility": null,
            "align_self": null,
            "height": null,
            "min_height": null,
            "padding": null,
            "grid_auto_rows": null,
            "grid_gap": null,
            "max_width": null,
            "order": null,
            "_view_module_version": "1.2.0",
            "grid_template_areas": null,
            "object_position": null,
            "object_fit": null,
            "grid_auto_columns": null,
            "margin": null,
            "display": null,
            "left": null
          }
        },
        "1b435757054e44dab687661d9bde4527": {
          "model_module": "@jupyter-widgets/controls",
          "model_name": "FloatProgressModel",
          "state": {
            "_view_name": "ProgressView",
            "style": "IPY_MODEL_f4600c7d34784cd7879ed3eea109c70f",
            "_dom_classes": [],
            "description": "100%",
            "_model_name": "FloatProgressModel",
            "bar_style": "danger",
            "max": 5,
            "_view_module": "@jupyter-widgets/controls",
            "_model_module_version": "1.5.0",
            "value": 5,
            "_view_count": null,
            "_view_module_version": "1.5.0",
            "orientation": "horizontal",
            "min": 0,
            "description_tooltip": null,
            "_model_module": "@jupyter-widgets/controls",
            "layout": "IPY_MODEL_76976733cc4e4d809d9862edf4c12088"
          }
        },
        "c9d1b7b4ae514214b64c20a45991f1f2": {
          "model_module": "@jupyter-widgets/controls",
          "model_name": "HTMLModel",
          "state": {
            "_view_name": "HTMLView",
            "style": "IPY_MODEL_31a44602c6ca45ba9351df4c28c05b84",
            "_dom_classes": [],
            "description": "",
            "_model_name": "HTMLModel",
            "placeholder": "​",
            "_view_module": "@jupyter-widgets/controls",
            "_model_module_version": "1.5.0",
            "value": " 5/5 [00:59&lt;00:00, 11.89s/knockout(s)]",
            "_view_count": null,
            "_view_module_version": "1.5.0",
            "description_tooltip": null,
            "_model_module": "@jupyter-widgets/controls",
            "layout": "IPY_MODEL_4abb27d1b6334a488ddded74d48b4d0d"
          }
        },
        "f4600c7d34784cd7879ed3eea109c70f": {
          "model_module": "@jupyter-widgets/controls",
          "model_name": "ProgressStyleModel",
          "state": {
            "_view_name": "StyleView",
            "_model_name": "ProgressStyleModel",
            "description_width": "initial",
            "_view_module": "@jupyter-widgets/base",
            "_model_module_version": "1.5.0",
            "_view_count": null,
            "_view_module_version": "1.2.0",
            "bar_color": null,
            "_model_module": "@jupyter-widgets/controls"
          }
        },
        "76976733cc4e4d809d9862edf4c12088": {
          "model_module": "@jupyter-widgets/base",
          "model_name": "LayoutModel",
          "state": {
            "_view_name": "LayoutView",
            "grid_template_rows": null,
            "right": null,
            "justify_content": null,
            "_view_module": "@jupyter-widgets/base",
            "overflow": null,
            "_model_module_version": "1.2.0",
            "_view_count": null,
            "flex_flow": null,
            "width": null,
            "min_width": null,
            "border": null,
            "align_items": null,
            "bottom": null,
            "_model_module": "@jupyter-widgets/base",
            "top": null,
            "grid_column": null,
            "overflow_y": null,
            "overflow_x": null,
            "grid_auto_flow": null,
            "grid_area": null,
            "grid_template_columns": null,
            "flex": null,
            "_model_name": "LayoutModel",
            "justify_items": null,
            "grid_row": null,
            "max_height": null,
            "align_content": null,
            "visibility": null,
            "align_self": null,
            "height": null,
            "min_height": null,
            "padding": null,
            "grid_auto_rows": null,
            "grid_gap": null,
            "max_width": null,
            "order": null,
            "_view_module_version": "1.2.0",
            "grid_template_areas": null,
            "object_position": null,
            "object_fit": null,
            "grid_auto_columns": null,
            "margin": null,
            "display": null,
            "left": null
          }
        },
        "31a44602c6ca45ba9351df4c28c05b84": {
          "model_module": "@jupyter-widgets/controls",
          "model_name": "DescriptionStyleModel",
          "state": {
            "_view_name": "StyleView",
            "_model_name": "DescriptionStyleModel",
            "description_width": "",
            "_view_module": "@jupyter-widgets/base",
            "_model_module_version": "1.5.0",
            "_view_count": null,
            "_view_module_version": "1.2.0",
            "_model_module": "@jupyter-widgets/controls"
          }
        },
        "4abb27d1b6334a488ddded74d48b4d0d": {
          "model_module": "@jupyter-widgets/base",
          "model_name": "LayoutModel",
          "state": {
            "_view_name": "LayoutView",
            "grid_template_rows": null,
            "right": null,
            "justify_content": null,
            "_view_module": "@jupyter-widgets/base",
            "overflow": null,
            "_model_module_version": "1.2.0",
            "_view_count": null,
            "flex_flow": null,
            "width": null,
            "min_width": null,
            "border": null,
            "align_items": null,
            "bottom": null,
            "_model_module": "@jupyter-widgets/base",
            "top": null,
            "grid_column": null,
            "overflow_y": null,
            "overflow_x": null,
            "grid_auto_flow": null,
            "grid_area": null,
            "grid_template_columns": null,
            "flex": null,
            "_model_name": "LayoutModel",
            "justify_items": null,
            "grid_row": null,
            "max_height": null,
            "align_content": null,
            "visibility": null,
            "align_self": null,
            "height": null,
            "min_height": null,
            "padding": null,
            "grid_auto_rows": null,
            "grid_gap": null,
            "max_width": null,
            "order": null,
            "_view_module_version": "1.2.0",
            "grid_template_areas": null,
            "object_position": null,
            "object_fit": null,
            "grid_auto_columns": null,
            "margin": null,
            "display": null,
            "left": null
          }
        }
      }
    }
  },
  "cells": [
    {
      "cell_type": "markdown",
      "metadata": {
        "id": "view-in-github",
        "colab_type": "text"
      },
      "source": [
        "<a href=\"https://colab.research.google.com/github/Gibbons-Lab/isb_course_2020/blob/master/micom_solutions.ipynb\" target=\"_parent\"><img src=\"https://colab.research.google.com/assets/colab-badge.svg\" alt=\"Open In Colab\"/></a>"
      ]
    },
    {
      "cell_type": "markdown",
      "metadata": {
        "id": "C0vqP4LJ9y6K"
      },
      "source": [
        "# 🧫🦠 Modeling microbiota-wide metabolism with MICOM\n",
        "\n",
        "This notebook will accompany the second session of the 2020 ISB Microbiome Course. The presentation slides can be [found here](https://gibbons-lab.github.io/isb_course_2020/micom). \n",
        "\n",
        "You can save your own local copy of this notebook by using `File > Save a copy in Drive`. You may be promted to cetify the notebook is safe. We promise that it is 🤞\n",
        "\n",
        "**Disclaimer:**\n",
        "The linear and quadratic programming problems MICOM has to solve are very large and very complicated. There are some very good commercial solvers that are very expensive (even though they are often free for academic use). To make this tutorial as accessible as possible we will use the Open Source solver [OSQP](https://osqp.org/). OSQP is amazing with quadratic programming problems (kudos!) but not as accurate for linear problems. Solvers usually only guarantee a solution within a certain numerical tolerance of the real solution. In order to make everything work with OSQP this tolerance has to be relaxed to about 10<sup>-3</sup>. This means that any result with an absolute value smaller than that might very well be zero so we should look at larger values only. Installing cost-free academic versions of commercial solvers like [IBM CPLEX](https://www.ibm.com/analytics/cplex-optimizer) or [Gurobi](https://www.gurobi.com/) would alow you to lower the tolerance to 10<sup>-6</sup>.\n",
        "\n"
      ]
    },
    {
      "cell_type": "markdown",
      "metadata": {
        "id": "qgBBl4GtuTuX"
      },
      "source": [
        "# 📝 Setup\n",
        "\n",
        "MICOM installation is is usually pretty straight-forward and can be as easy as typing `pip install micom` into your Terminal. However, MICOM will require a solver for quadratic programming problems and all the best ones are commercial (boo) even though they often have free academic licenses 😌. We will use a brand new open source QP solver named OSQP, but this will require us to pull in development versions of certain packages.\n",
        "\n",
        "But first let's start by downloading the materials again and switching to the folder."
      ]
    },
    {
      "cell_type": "code",
      "metadata": {
        "id": "ckON4xr3_bW5",
        "outputId": "86a90709-581c-4453-a130-10976d8fe543",
        "colab": {
          "base_uri": "https://localhost:8080/",
          "height": 173
        }
      },
      "source": [
        "!git clone https://github.com/gibbons-lab/isb_course_2020 materials\n",
        "%cd materials"
      ],
      "execution_count": null,
      "outputs": [
        {
          "output_type": "stream",
          "text": [
            "Cloning into 'materials'...\n",
            "remote: Enumerating objects: 65, done.\u001b[K\n",
            "remote: Counting objects: 100% (65/65), done.\u001b[K\n",
            "remote: Compressing objects: 100% (53/53), done.\u001b[K\n",
            "remote: Total 1063 (delta 28), reused 34 (delta 12), pack-reused 998\u001b[K\n",
            "Receiving objects: 100% (1063/1063), 188.83 MiB | 28.41 MiB/s, done.\n",
            "Resolving deltas: 100% (385/385), done.\n",
            "Checking out files: 100% (1107/1107), done.\n",
            "/content/materials\n"
          ],
          "name": "stdout"
        }
      ]
    },
    {
      "cell_type": "markdown",
      "metadata": {
        "id": "is6fmBUeorwv"
      },
      "source": [
        "## Basic Installation\n",
        "\n",
        "Installing MICOM is straight-forward in Python. OSQP itself can be installed right along with it."
      ]
    },
    {
      "cell_type": "code",
      "metadata": {
        "id": "M_TeC5yrst3h",
        "outputId": "133e95f3-43ee-4e29-8e73-ef74cbd8734e",
        "colab": {
          "base_uri": "https://localhost:8080/",
          "height": 364
        }
      },
      "source": [
        "!pip install -q osqp cobra micom\n",
        "\n",
        "print(\"Done! 🎉 \")"
      ],
      "execution_count": null,
      "outputs": [
        {
          "output_type": "stream",
          "text": [
            "\u001b[K     |████████████████████████████████| 2.4MB 2.7MB/s \n",
            "\u001b[K     |████████████████████████████████| 829kB 22.5MB/s \n",
            "\u001b[K     |████████████████████████████████| 7.6MB 11.3MB/s \n",
            "\u001b[K     |████████████████████████████████| 112kB 40.2MB/s \n",
            "\u001b[K     |████████████████████████████████| 51kB 5.0MB/s \n",
            "\u001b[K     |████████████████████████████████| 71kB 7.7MB/s \n",
            "\u001b[K     |████████████████████████████████| 133kB 43.8MB/s \n",
            "\u001b[K     |████████████████████████████████| 8.7MB 20.9MB/s \n",
            "\u001b[K     |████████████████████████████████| 634kB 40.1MB/s \n",
            "\u001b[K     |████████████████████████████████| 153kB 53.9MB/s \n",
            "\u001b[K     |████████████████████████████████| 12.8MB 7.2MB/s \n",
            "\u001b[K     |████████████████████████████████| 61kB 5.2MB/s \n",
            "\u001b[K     |████████████████████████████████| 163kB 38.8MB/s \n",
            "\u001b[K     |████████████████████████████████| 552kB 37.1MB/s \n",
            "\u001b[K     |████████████████████████████████| 61kB 6.6MB/s \n",
            "\u001b[K     |████████████████████████████████| 51kB 4.6MB/s \n",
            "\u001b[K     |████████████████████████████████| 61kB 4.7MB/s \n",
            "\u001b[K     |████████████████████████████████| 102kB 8.6MB/s \n",
            "\u001b[?25h  Building wheel for contextvars (setup.py) ... \u001b[?25l\u001b[?25hdone\n",
            "Done! 🎉 \n"
          ],
          "name": "stdout"
        }
      ]
    },
    {
      "cell_type": "markdown",
      "metadata": {
        "id": "l9ssgi8ts_fP"
      },
      "source": [
        "## Enabling OSQP support\n",
        "\n",
        "For today we will also install some development versions that enable full support for OSQP in MICOM. This will hopefully not be necessary anymore soon. Also this would be unnecessary if we would have access to CPLEX og Gurobi (both commercial solvers with free academic licenses)."
      ]
    },
    {
      "cell_type": "code",
      "metadata": {
        "id": "p5zNnjaCotQ_",
        "outputId": "c65b6735-4c79-4383-9041-b7d7370a881a",
        "colab": {
          "base_uri": "https://localhost:8080/",
          "height": 156
        }
      },
      "source": [
        "!rm -r /tmp /var/tmp\n",
        "!pip install --force-reinstall --no-deps -q \\\n",
        "  https://github.com/cdiener/cobrapy/archive/feature/osqp_support.zip \\\n",
        "  https://github.com/cdiener/optlang/archive/feature/osqp.zip\n",
        "  \n",
        "print(\"Done! 🎉 \")"
      ],
      "execution_count": null,
      "outputs": [
        {
          "output_type": "stream",
          "text": [
            "\u001b[K     |████████████████████████████████| 2.7MB 2.9MB/s \n",
            "\u001b[?25h  Installing build dependencies ... \u001b[?25l\u001b[?25hdone\n",
            "  Getting requirements to build wheel ... \u001b[?25l\u001b[?25hdone\n",
            "    Preparing wheel metadata ... \u001b[?25l\u001b[?25hdone\n",
            "\u001b[K     |████████████████████████████████| 8.7MB 29.9MB/s \n",
            "\u001b[?25h  Building wheel for cobra (PEP 517) ... \u001b[?25l\u001b[?25hdone\n",
            "  Building wheel for optlang (setup.py) ... \u001b[?25l\u001b[?25hdone\n",
            "Done! 🎉 \n"
          ],
          "name": "stdout"
        }
      ]
    },
    {
      "cell_type": "markdown",
      "metadata": {
        "id": "6oJrxxz6tV9T"
      },
      "source": [
        "## Enable QIIME 2 interactions\n",
        "\n",
        "Finally we will need to install packages to read the \"biom\" format which is a file format QIIME 2 uses to save tables. This is only necessary if you want to read QIIME 2 FeatureTable artifacts."
      ]
    },
    {
      "cell_type": "code",
      "metadata": {
        "id": "5rZX7SK_toLp",
        "outputId": "660a400f-69b1-4968-8faa-6fb513814984",
        "colab": {
          "base_uri": "https://localhost:8080/",
          "height": 69
        }
      },
      "source": [
        "!pip install -q numpy Cython\n",
        "!pip install -q biom-format\n",
        "\n",
        "print(\"Done! 🎉 \")"
      ],
      "execution_count": null,
      "outputs": [
        {
          "output_type": "stream",
          "text": [
            "\u001b[K     |████████████████████████████████| 11.7MB 358kB/s \n",
            "\u001b[?25h  Building wheel for biom-format (setup.py) ... \u001b[?25l\u001b[?25hdone\n",
            "Done! 🎉 \n"
          ],
          "name": "stdout"
        }
      ]
    },
    {
      "cell_type": "markdown",
      "metadata": {
        "id": "oPy1f-WLI0lZ"
      },
      "source": [
        "Okay, all done. So let's get started 😁.\n",
        "\n",
        "# 💻 MICOM\n",
        "\n",
        "We will use the Python interface to MICOM since it plays nicely with Colaboratory. However, you could run the same steps within the QIIME 2 MICOM plugin ([q2-micom](https://library.qiime2.org/plugins/q2-micom/26/)). \n",
        "\n",
        "Here is an overview of all the steps and functions:\n",
        "![micom overview](https://github.com/micom-dev/q2-micom/raw/706f583a060b91c12c0cec7acea2354fdd0dd320/docs/assets/overview.png).\n",
        "\n",
        "MICOM starts from a combined abundance/taxonomy table, which MICOM abbreviates to a taxonomy table. To see how those tables look we can import MICOM and look at an example table:\n"
      ]
    },
    {
      "cell_type": "code",
      "metadata": {
        "id": "UV9SObSQkSZh",
        "outputId": "1d48e6a6-8929-479a-85b6-759d6b502f68",
        "colab": {
          "base_uri": "https://localhost:8080/",
          "height": 206
        }
      },
      "source": [
        "from micom.data import test_data\n",
        "\n",
        "test_data().head()"
      ],
      "execution_count": null,
      "outputs": [
        {
          "output_type": "execute_result",
          "data": {
            "text/html": [
              "<div>\n",
              "<style scoped>\n",
              "    .dataframe tbody tr th:only-of-type {\n",
              "        vertical-align: middle;\n",
              "    }\n",
              "\n",
              "    .dataframe tbody tr th {\n",
              "        vertical-align: top;\n",
              "    }\n",
              "\n",
              "    .dataframe thead th {\n",
              "        text-align: right;\n",
              "    }\n",
              "</style>\n",
              "<table border=\"1\" class=\"dataframe\">\n",
              "  <thead>\n",
              "    <tr style=\"text-align: right;\">\n",
              "      <th></th>\n",
              "      <th>id</th>\n",
              "      <th>genus</th>\n",
              "      <th>species</th>\n",
              "      <th>reactions</th>\n",
              "      <th>metabolites</th>\n",
              "      <th>file</th>\n",
              "      <th>sample_id</th>\n",
              "      <th>abundance</th>\n",
              "    </tr>\n",
              "  </thead>\n",
              "  <tbody>\n",
              "    <tr>\n",
              "      <th>0</th>\n",
              "      <td>Escherichia_coli_1</td>\n",
              "      <td>Escherichia</td>\n",
              "      <td>Escherichia coli 0</td>\n",
              "      <td>95</td>\n",
              "      <td>72</td>\n",
              "      <td>/usr/local/lib/python3.6/dist-packages/micom/d...</td>\n",
              "      <td>sample_1</td>\n",
              "      <td>374</td>\n",
              "    </tr>\n",
              "    <tr>\n",
              "      <th>1</th>\n",
              "      <td>Escherichia_coli_2</td>\n",
              "      <td>Escherichia</td>\n",
              "      <td>Escherichia coli 1</td>\n",
              "      <td>95</td>\n",
              "      <td>72</td>\n",
              "      <td>/usr/local/lib/python3.6/dist-packages/micom/d...</td>\n",
              "      <td>sample_1</td>\n",
              "      <td>784</td>\n",
              "    </tr>\n",
              "    <tr>\n",
              "      <th>2</th>\n",
              "      <td>Escherichia_coli_3</td>\n",
              "      <td>Escherichia</td>\n",
              "      <td>Escherichia coli 2</td>\n",
              "      <td>95</td>\n",
              "      <td>72</td>\n",
              "      <td>/usr/local/lib/python3.6/dist-packages/micom/d...</td>\n",
              "      <td>sample_1</td>\n",
              "      <td>30</td>\n",
              "    </tr>\n",
              "    <tr>\n",
              "      <th>3</th>\n",
              "      <td>Escherichia_coli_4</td>\n",
              "      <td>Escherichia</td>\n",
              "      <td>Escherichia coli 3</td>\n",
              "      <td>95</td>\n",
              "      <td>72</td>\n",
              "      <td>/usr/local/lib/python3.6/dist-packages/micom/d...</td>\n",
              "      <td>sample_1</td>\n",
              "      <td>606</td>\n",
              "    </tr>\n",
              "    <tr>\n",
              "      <th>0</th>\n",
              "      <td>Escherichia_coli_1</td>\n",
              "      <td>Escherichia</td>\n",
              "      <td>Escherichia coli 0</td>\n",
              "      <td>95</td>\n",
              "      <td>72</td>\n",
              "      <td>/usr/local/lib/python3.6/dist-packages/micom/d...</td>\n",
              "      <td>sample_2</td>\n",
              "      <td>511</td>\n",
              "    </tr>\n",
              "  </tbody>\n",
              "</table>\n",
              "</div>"
            ],
            "text/plain": [
              "                   id        genus  ... sample_id  abundance\n",
              "0  Escherichia_coli_1  Escherichia  ...  sample_1        374\n",
              "1  Escherichia_coli_2  Escherichia  ...  sample_1        784\n",
              "2  Escherichia_coli_3  Escherichia  ...  sample_1         30\n",
              "3  Escherichia_coli_4  Escherichia  ...  sample_1        606\n",
              "0  Escherichia_coli_1  Escherichia  ...  sample_2        511\n",
              "\n",
              "[5 rows x 8 columns]"
            ]
          },
          "metadata": {
            "tags": []
          },
          "execution_count": 5
        }
      ]
    },
    {
      "cell_type": "markdown",
      "metadata": {
        "id": "AEk7yfd1lbYp"
      },
      "source": [
        "The `file` column is not required when using a taxonomy database like we will do here. The `id` column specifies identifiers for the taxa and should be expressive and not include spaces or special characters. Each row needs to contain the the abundance of a single taxon in a single sample. \n",
        "\n",
        "Oh no, that's not what we have generated in the previous step. We only have separate QIIME 2 artifacts 😱 \n",
        "\n",
        "No worries, we can deal with that.\n",
        "\n",
        "## Importing data from QIIME 2\n",
        "\n",
        "MICOM can read QIIME 2 artifacts. You don't even need to have QIIME 2 installed for that! But before we do so, let's resolve one issue. We discussed that MICOM summarizes genome-scale models into pangenome-scale models as a first step, but our data are on the ASV level...so how will we know what to summarize? Basically, specific model database can be used to quickly summarize pangenome-scale models for use within MICOM. So, before we read our data we have to decide which model database to use. We will go with the [AGORA database](https://pubmed.ncbi.nlm.nih.gov/27893703/), which is a curated database of more than 800 bacterial strains that commonly live in the human gut. In particular, we will use a version of this database summarized on the genus rank.\n",
        "\n"
      ]
    },
    {
      "cell_type": "code",
      "metadata": {
        "id": "eXGHZPYwlEa5",
        "outputId": "08595bb7-1b05-4686-9596-c225f1f5e055",
        "colab": {
          "base_uri": "https://localhost:8080/",
          "height": 208
        }
      },
      "source": [
        "!wget -O agora103_genus.qza https://zenodo.org/record/3755182/files/agora103_genus.qza?download=1"
      ],
      "execution_count": null,
      "outputs": [
        {
          "output_type": "stream",
          "text": [
            "--2020-10-15 20:59:36--  https://zenodo.org/record/3755182/files/agora103_genus.qza?download=1\n",
            "Resolving zenodo.org (zenodo.org)... 137.138.76.77\n",
            "Connecting to zenodo.org (zenodo.org)|137.138.76.77|:443... connected.\n",
            "HTTP request sent, awaiting response... 200 OK\n",
            "Length: 21080080 (20M) [application/octet-stream]\n",
            "Saving to: ‘agora103_genus.qza’\n",
            "\n",
            "agora103_genus.qza  100%[===================>]  20.10M  10.6MB/s    in 1.9s    \n",
            "\n",
            "2020-10-15 20:59:39 (10.6 MB/s) - ‘agora103_genus.qza’ saved [21080080/21080080]\n",
            "\n"
          ],
          "name": "stdout"
        }
      ]
    },
    {
      "cell_type": "markdown",
      "metadata": {
        "id": "_57iya0D3L6-"
      },
      "source": [
        "Okay. We've got everything we need now. The data from the prior analysis can be found in the `treasure_chest` folder, so we can use those files. We will remove all taxa that make up less than 2.5% of the community to keep the models small and speed up this tutorial."
      ]
    },
    {
      "cell_type": "code",
      "metadata": {
        "id": "o0vBAiiqqPLC"
      },
      "source": [
        "from micom.taxonomy import qiime_to_micom\n",
        "\n",
        "tax = qiime_to_micom(\n",
        "    \"treasure_chest/dada2/table.qza\", \n",
        "    \"treasure_chest/taxa.qza\", \n",
        "    collapse_on=\"genus\"\n",
        ")"
      ],
      "execution_count": null,
      "outputs": []
    },
    {
      "cell_type": "markdown",
      "metadata": {
        "id": "-TQ6Zp7wouk4"
      },
      "source": [
        "Notice the `collapse_on` argument. That will specify the rank on which to sumarize and can be a list of several ranks. When matching taxonomy you can either match by the particular rank of interest (for example, just comparing genus names here), or you could compare the entire taxonomy, which will require all taxonomic ranks prior to the target rank to match. For that you cloud specify `collapse_on=[\"kingdom\", \"phylum\", \"class\", \"order\", \"family\", \"genus\"]`. \n",
        "\n",
        "Taxonomic names will often not match 100% between databases. For instance, the genus name \"Prevotella\" in one database may be \"Prevotella_6\" in another. The more ranks you use for matching the more likely are you to run into those issues. However, the more taxonomic ranks you use to match the more confident you can be that your observed taxon really is the same taxon as the one in the model database.\n",
        "\n",
        "The resulting table will contain the same abundances but it will include more ranks if `collapse_on` is a list. All ranks present in the taxonomy will be used when matching to the database. The GreenGenes database is pretty old and many taxonomic names have been superceded by now. So we will stick with the \"lax\" option of only matching on genus ranks.\n",
        "\n",
        "We can also look at the generated MICOM taxonomy."
      ]
    },
    {
      "cell_type": "code",
      "metadata": {
        "id": "2eS_g-ffNUAt",
        "outputId": "b665f1ed-fa90-4957-c8d3-23c9aa45540b",
        "colab": {
          "base_uri": "https://localhost:8080/",
          "height": 424
        }
      },
      "source": [
        "tax"
      ],
      "execution_count": null,
      "outputs": [
        {
          "output_type": "execute_result",
          "data": {
            "text/html": [
              "<div>\n",
              "<style scoped>\n",
              "    .dataframe tbody tr th:only-of-type {\n",
              "        vertical-align: middle;\n",
              "    }\n",
              "\n",
              "    .dataframe tbody tr th {\n",
              "        vertical-align: top;\n",
              "    }\n",
              "\n",
              "    .dataframe thead th {\n",
              "        text-align: right;\n",
              "    }\n",
              "</style>\n",
              "<table border=\"1\" class=\"dataframe\">\n",
              "  <thead>\n",
              "    <tr style=\"text-align: right;\">\n",
              "      <th></th>\n",
              "      <th>sample_id</th>\n",
              "      <th>abundance</th>\n",
              "      <th>genus</th>\n",
              "      <th>id</th>\n",
              "      <th>relative</th>\n",
              "    </tr>\n",
              "  </thead>\n",
              "  <tbody>\n",
              "    <tr>\n",
              "      <th>8</th>\n",
              "      <td>ERR1883210</td>\n",
              "      <td>11.0</td>\n",
              "      <td>Akkermansia</td>\n",
              "      <td>Akkermansia</td>\n",
              "      <td>0.000164</td>\n",
              "    </tr>\n",
              "    <tr>\n",
              "      <th>9</th>\n",
              "      <td>ERR1883214</td>\n",
              "      <td>54717.0</td>\n",
              "      <td>Akkermansia</td>\n",
              "      <td>Akkermansia</td>\n",
              "      <td>0.822404</td>\n",
              "    </tr>\n",
              "    <tr>\n",
              "      <th>10</th>\n",
              "      <td>ERR1883247</td>\n",
              "      <td>102.0</td>\n",
              "      <td>Akkermansia</td>\n",
              "      <td>Akkermansia</td>\n",
              "      <td>0.003015</td>\n",
              "    </tr>\n",
              "    <tr>\n",
              "      <th>11</th>\n",
              "      <td>ERR1883248</td>\n",
              "      <td>4059.0</td>\n",
              "      <td>Akkermansia</td>\n",
              "      <td>Akkermansia</td>\n",
              "      <td>0.103046</td>\n",
              "    </tr>\n",
              "    <tr>\n",
              "      <th>12</th>\n",
              "      <td>ERR1883210</td>\n",
              "      <td>42793.0</td>\n",
              "      <td>Bacteroides</td>\n",
              "      <td>Bacteroides</td>\n",
              "      <td>0.637674</td>\n",
              "    </tr>\n",
              "    <tr>\n",
              "      <th>...</th>\n",
              "      <td>...</td>\n",
              "      <td>...</td>\n",
              "      <td>...</td>\n",
              "      <td>...</td>\n",
              "      <td>...</td>\n",
              "    </tr>\n",
              "    <tr>\n",
              "      <th>257</th>\n",
              "      <td>ERR1883294</td>\n",
              "      <td>3.0</td>\n",
              "      <td>Atopobium</td>\n",
              "      <td>Atopobium</td>\n",
              "      <td>0.000647</td>\n",
              "    </tr>\n",
              "    <tr>\n",
              "      <th>258</th>\n",
              "      <td>ERR1883294</td>\n",
              "      <td>3.0</td>\n",
              "      <td>Alicyclobacillus</td>\n",
              "      <td>Alicyclobacillus</td>\n",
              "      <td>0.000647</td>\n",
              "    </tr>\n",
              "    <tr>\n",
              "      <th>259</th>\n",
              "      <td>ERR1883212</td>\n",
              "      <td>4.0</td>\n",
              "      <td>WAL_1855D</td>\n",
              "      <td>WAL_1855D</td>\n",
              "      <td>0.000069</td>\n",
              "    </tr>\n",
              "    <tr>\n",
              "      <th>260</th>\n",
              "      <td>ERR1883212</td>\n",
              "      <td>2.0</td>\n",
              "      <td>Finegoldia</td>\n",
              "      <td>Finegoldia</td>\n",
              "      <td>0.000035</td>\n",
              "    </tr>\n",
              "    <tr>\n",
              "      <th>261</th>\n",
              "      <td>ERR1883247</td>\n",
              "      <td>2.0</td>\n",
              "      <td>Brochothrix</td>\n",
              "      <td>Brochothrix</td>\n",
              "      <td>0.000059</td>\n",
              "    </tr>\n",
              "  </tbody>\n",
              "</table>\n",
              "<p>254 rows × 5 columns</p>\n",
              "</div>"
            ],
            "text/plain": [
              "      sample_id  abundance             genus                id  relative\n",
              "8    ERR1883210       11.0       Akkermansia       Akkermansia  0.000164\n",
              "9    ERR1883214    54717.0       Akkermansia       Akkermansia  0.822404\n",
              "10   ERR1883247      102.0       Akkermansia       Akkermansia  0.003015\n",
              "11   ERR1883248     4059.0       Akkermansia       Akkermansia  0.103046\n",
              "12   ERR1883210    42793.0       Bacteroides       Bacteroides  0.637674\n",
              "..          ...        ...               ...               ...       ...\n",
              "257  ERR1883294        3.0         Atopobium         Atopobium  0.000647\n",
              "258  ERR1883294        3.0  Alicyclobacillus  Alicyclobacillus  0.000647\n",
              "259  ERR1883212        4.0         WAL_1855D         WAL_1855D  0.000069\n",
              "260  ERR1883212        2.0        Finegoldia        Finegoldia  0.000035\n",
              "261  ERR1883247        2.0       Brochothrix       Brochothrix  0.000059\n",
              "\n",
              "[254 rows x 5 columns]"
            ]
          },
          "metadata": {
            "tags": []
          },
          "execution_count": 8
        }
      ]
    },
    {
      "cell_type": "markdown",
      "metadata": {
        "id": "R5zwLVFcNTbq"
      },
      "source": [
        "One helpful thing to do is to merge in our metadata, so we'll have it at hand for the following steps."
      ]
    },
    {
      "cell_type": "code",
      "metadata": {
        "id": "X9hqoO4go0h1",
        "outputId": "08ba50db-2637-49e2-9371-040ab3d75674",
        "colab": {
          "base_uri": "https://localhost:8080/",
          "height": 424
        }
      },
      "source": [
        "import pandas as pd\n",
        "\n",
        "metadata = pd.read_table(\"metadata.tsv\").rename(columns={\"id\": \"sample_id\"})\n",
        "tax = pd.merge(tax, metadata, on=\"sample_id\")\n",
        "tax"
      ],
      "execution_count": null,
      "outputs": [
        {
          "output_type": "execute_result",
          "data": {
            "text/html": [
              "<div>\n",
              "<style scoped>\n",
              "    .dataframe tbody tr th:only-of-type {\n",
              "        vertical-align: middle;\n",
              "    }\n",
              "\n",
              "    .dataframe tbody tr th {\n",
              "        vertical-align: top;\n",
              "    }\n",
              "\n",
              "    .dataframe thead th {\n",
              "        text-align: right;\n",
              "    }\n",
              "</style>\n",
              "<table border=\"1\" class=\"dataframe\">\n",
              "  <thead>\n",
              "    <tr style=\"text-align: right;\">\n",
              "      <th></th>\n",
              "      <th>sample_id</th>\n",
              "      <th>abundance</th>\n",
              "      <th>genus</th>\n",
              "      <th>id</th>\n",
              "      <th>relative</th>\n",
              "      <th>disease_stat</th>\n",
              "      <th>description</th>\n",
              "    </tr>\n",
              "  </thead>\n",
              "  <tbody>\n",
              "    <tr>\n",
              "      <th>0</th>\n",
              "      <td>ERR1883210</td>\n",
              "      <td>11.0</td>\n",
              "      <td>Akkermansia</td>\n",
              "      <td>Akkermansia</td>\n",
              "      <td>0.000164</td>\n",
              "      <td>healthy</td>\n",
              "      <td>Donor 13</td>\n",
              "    </tr>\n",
              "    <tr>\n",
              "      <th>1</th>\n",
              "      <td>ERR1883210</td>\n",
              "      <td>42793.0</td>\n",
              "      <td>Bacteroides</td>\n",
              "      <td>Bacteroides</td>\n",
              "      <td>0.637674</td>\n",
              "      <td>healthy</td>\n",
              "      <td>Donor 13</td>\n",
              "    </tr>\n",
              "    <tr>\n",
              "      <th>2</th>\n",
              "      <td>ERR1883210</td>\n",
              "      <td>3298.0</td>\n",
              "      <td>Faecalibacterium</td>\n",
              "      <td>Faecalibacterium</td>\n",
              "      <td>0.049145</td>\n",
              "      <td>healthy</td>\n",
              "      <td>Donor 13</td>\n",
              "    </tr>\n",
              "    <tr>\n",
              "      <th>3</th>\n",
              "      <td>ERR1883210</td>\n",
              "      <td>1062.0</td>\n",
              "      <td>Clostridium</td>\n",
              "      <td>Clostridium</td>\n",
              "      <td>0.015825</td>\n",
              "      <td>healthy</td>\n",
              "      <td>Donor 13</td>\n",
              "    </tr>\n",
              "    <tr>\n",
              "      <th>4</th>\n",
              "      <td>ERR1883210</td>\n",
              "      <td>4556.0</td>\n",
              "      <td>Roseburia</td>\n",
              "      <td>Roseburia</td>\n",
              "      <td>0.067891</td>\n",
              "      <td>healthy</td>\n",
              "      <td>Donor 13</td>\n",
              "    </tr>\n",
              "    <tr>\n",
              "      <th>...</th>\n",
              "      <td>...</td>\n",
              "      <td>...</td>\n",
              "      <td>...</td>\n",
              "      <td>...</td>\n",
              "      <td>...</td>\n",
              "      <td>...</td>\n",
              "      <td>...</td>\n",
              "    </tr>\n",
              "    <tr>\n",
              "      <th>249</th>\n",
              "      <td>ERR1883315</td>\n",
              "      <td>48.0</td>\n",
              "      <td>Selenomonas</td>\n",
              "      <td>Selenomonas</td>\n",
              "      <td>0.004828</td>\n",
              "      <td>Recurrent Clostridium difficile infection</td>\n",
              "      <td>Day -1 CD4</td>\n",
              "    </tr>\n",
              "    <tr>\n",
              "      <th>250</th>\n",
              "      <td>ERR1883315</td>\n",
              "      <td>28.0</td>\n",
              "      <td>Microvirgula</td>\n",
              "      <td>Microvirgula</td>\n",
              "      <td>0.002816</td>\n",
              "      <td>Recurrent Clostridium difficile infection</td>\n",
              "      <td>Day -1 CD4</td>\n",
              "    </tr>\n",
              "    <tr>\n",
              "      <th>251</th>\n",
              "      <td>ERR1883315</td>\n",
              "      <td>3.0</td>\n",
              "      <td>Aggregatibacter</td>\n",
              "      <td>Aggregatibacter</td>\n",
              "      <td>0.000302</td>\n",
              "      <td>Recurrent Clostridium difficile infection</td>\n",
              "      <td>Day -1 CD4</td>\n",
              "    </tr>\n",
              "    <tr>\n",
              "      <th>252</th>\n",
              "      <td>ERR1883315</td>\n",
              "      <td>11.0</td>\n",
              "      <td>Providencia</td>\n",
              "      <td>Providencia</td>\n",
              "      <td>0.001106</td>\n",
              "      <td>Recurrent Clostridium difficile infection</td>\n",
              "      <td>Day -1 CD4</td>\n",
              "    </tr>\n",
              "    <tr>\n",
              "      <th>253</th>\n",
              "      <td>ERR1883315</td>\n",
              "      <td>4.0</td>\n",
              "      <td>Prevotella</td>\n",
              "      <td>Prevotella</td>\n",
              "      <td>0.000402</td>\n",
              "      <td>Recurrent Clostridium difficile infection</td>\n",
              "      <td>Day -1 CD4</td>\n",
              "    </tr>\n",
              "  </tbody>\n",
              "</table>\n",
              "<p>254 rows × 7 columns</p>\n",
              "</div>"
            ],
            "text/plain": [
              "      sample_id  ...  description\n",
              "0    ERR1883210  ...     Donor 13\n",
              "1    ERR1883210  ...     Donor 13\n",
              "2    ERR1883210  ...     Donor 13\n",
              "3    ERR1883210  ...     Donor 13\n",
              "4    ERR1883210  ...     Donor 13\n",
              "..          ...  ...          ...\n",
              "249  ERR1883315  ...   Day -1 CD4\n",
              "250  ERR1883315  ...   Day -1 CD4\n",
              "251  ERR1883315  ...   Day -1 CD4\n",
              "252  ERR1883315  ...   Day -1 CD4\n",
              "253  ERR1883315  ...   Day -1 CD4\n",
              "\n",
              "[254 rows x 7 columns]"
            ]
          },
          "metadata": {
            "tags": []
          },
          "execution_count": 9
        }
      ]
    },
    {
      "cell_type": "markdown",
      "metadata": {
        "id": "RTbYBR8cJfup"
      },
      "source": [
        "With the taxonomic metadata, we can finally build our community-level models.\n",
        "\n",
        "## Building community models\n",
        "\n",
        "With the data we have now, building our models is pretty easy. We just pass our taxonomy table and model database to MICOM. We will have to specify where to write the models. We will also run that in parallel over two threads. It should take around 10 minutes to finish."
      ]
    },
    {
      "cell_type": "code",
      "metadata": {
        "id": "XlCk7GyB7B5e",
        "outputId": "6c0e2eab-6fd6-4361-89e7-75da9c9a7fbf",
        "colab": {
          "base_uri": "https://localhost:8080/",
          "height": 66,
          "referenced_widgets": [
            "ae195de84d6e489aa2d9e9b005a12320",
            "e536e5474c43452892d33df8bc67f1a1",
            "18d78b7c61594544b837d8173bdff2f2",
            "c3a20186307e46a2acb978d62f0f02e9",
            "bc6348a8662d46f3b53820fdc8c00deb",
            "77d468921aa24853a38655ae7420a428",
            "ed0f5d1f61644890a3c96b44e43d5714",
            "b7faee25106e4c65a7ee502a8edff94f"
          ]
        }
      },
      "source": [
        "from micom.workflows import build\n",
        "from micom import Community\n",
        "import pandas as pd\n",
        "\n",
        "manifest = build(tax, \"agora103_genus.qza\", \"models\", solver=\"osqp\", \n",
        "                 cutoff=2.5e-2, threads=2)\n"
      ],
      "execution_count": null,
      "outputs": [
        {
          "output_type": "display_data",
          "data": {
            "application/vnd.jupyter.widget-view+json": {
              "model_id": "ae195de84d6e489aa2d9e9b005a12320",
              "version_minor": 0,
              "version_major": 2
            },
            "text/plain": [
              "HBox(children=(FloatProgress(value=0.0, max=8.0), HTML(value='')))"
            ]
          },
          "metadata": {
            "tags": []
          }
        },
        {
          "output_type": "stream",
          "text": [
            "\n"
          ],
          "name": "stdout"
        }
      ]
    },
    {
      "cell_type": "markdown",
      "metadata": {
        "id": "Kwya6vbZZSUo"
      },
      "source": [
        "For different data a warning may pop up if less than 50% of the abundances can be matched to the database. If this happens, you can still continue, but be aware that such a sparse model may not accurately represent your sample. In lower-biomass 16S amplicon sequencing samples from stool, many reads can match to food components or to host mitochondria and these hits probably do not contribute much to bacterial community metabolism. These hits will be excluded from MICOM. \n",
        "\n",
        "We won't see any warnings here. So, we will go ahead for now. Let's also take a look what we got back from the `build` process."
      ]
    },
    {
      "cell_type": "code",
      "metadata": {
        "id": "r9qwglr88Ise",
        "outputId": "ea7a9ef9-ac75-4b15-f724-de75781ba354",
        "colab": {
          "base_uri": "https://localhost:8080/",
          "height": 300
        }
      },
      "source": [
        "manifest"
      ],
      "execution_count": null,
      "outputs": [
        {
          "output_type": "execute_result",
          "data": {
            "text/html": [
              "<div>\n",
              "<style scoped>\n",
              "    .dataframe tbody tr th:only-of-type {\n",
              "        vertical-align: middle;\n",
              "    }\n",
              "\n",
              "    .dataframe tbody tr th {\n",
              "        vertical-align: top;\n",
              "    }\n",
              "\n",
              "    .dataframe thead th {\n",
              "        text-align: right;\n",
              "    }\n",
              "</style>\n",
              "<table border=\"1\" class=\"dataframe\">\n",
              "  <thead>\n",
              "    <tr style=\"text-align: right;\">\n",
              "      <th></th>\n",
              "      <th>sample_id</th>\n",
              "      <th>disease_stat</th>\n",
              "      <th>description</th>\n",
              "      <th>file</th>\n",
              "      <th>found_taxa</th>\n",
              "      <th>total_taxa</th>\n",
              "      <th>found_fraction</th>\n",
              "      <th>found_abundance_fraction</th>\n",
              "    </tr>\n",
              "  </thead>\n",
              "  <tbody>\n",
              "    <tr>\n",
              "      <th>0</th>\n",
              "      <td>ERR1883210</td>\n",
              "      <td>healthy</td>\n",
              "      <td>Donor 13</td>\n",
              "      <td>ERR1883210.pickle</td>\n",
              "      <td>5.0</td>\n",
              "      <td>5.0</td>\n",
              "      <td>1.000000</td>\n",
              "      <td>0.822257</td>\n",
              "    </tr>\n",
              "    <tr>\n",
              "      <th>1</th>\n",
              "      <td>ERR1883212</td>\n",
              "      <td>healthy</td>\n",
              "      <td>Donor 14</td>\n",
              "      <td>ERR1883212.pickle</td>\n",
              "      <td>9.0</td>\n",
              "      <td>10.0</td>\n",
              "      <td>0.900000</td>\n",
              "      <td>0.847637</td>\n",
              "    </tr>\n",
              "    <tr>\n",
              "      <th>2</th>\n",
              "      <td>ERR1883214</td>\n",
              "      <td>Recurrent Clostridium difficile infection</td>\n",
              "      <td>Day 0 CD1</td>\n",
              "      <td>ERR1883214.pickle</td>\n",
              "      <td>3.0</td>\n",
              "      <td>3.0</td>\n",
              "      <td>1.000000</td>\n",
              "      <td>0.965912</td>\n",
              "    </tr>\n",
              "    <tr>\n",
              "      <th>3</th>\n",
              "      <td>ERR1883247</td>\n",
              "      <td>healthy</td>\n",
              "      <td>Donor CD3</td>\n",
              "      <td>ERR1883247.pickle</td>\n",
              "      <td>9.0</td>\n",
              "      <td>11.0</td>\n",
              "      <td>0.818182</td>\n",
              "      <td>0.834526</td>\n",
              "    </tr>\n",
              "    <tr>\n",
              "      <th>4</th>\n",
              "      <td>ERR1883248</td>\n",
              "      <td>Recurrent Clostridium difficile infection</td>\n",
              "      <td>Day 1 CD1</td>\n",
              "      <td>ERR1883248.pickle</td>\n",
              "      <td>5.0</td>\n",
              "      <td>5.0</td>\n",
              "      <td>1.000000</td>\n",
              "      <td>0.846712</td>\n",
              "    </tr>\n",
              "    <tr>\n",
              "      <th>5</th>\n",
              "      <td>ERR1883260</td>\n",
              "      <td>healthy</td>\n",
              "      <td>CD2 Donor</td>\n",
              "      <td>ERR1883260.pickle</td>\n",
              "      <td>8.0</td>\n",
              "      <td>8.0</td>\n",
              "      <td>1.000000</td>\n",
              "      <td>0.855389</td>\n",
              "    </tr>\n",
              "    <tr>\n",
              "      <th>6</th>\n",
              "      <td>ERR1883294</td>\n",
              "      <td>Recurrent Clostridium difficile infection</td>\n",
              "      <td>Day 0 CD3</td>\n",
              "      <td>ERR1883294.pickle</td>\n",
              "      <td>7.0</td>\n",
              "      <td>7.0</td>\n",
              "      <td>1.000000</td>\n",
              "      <td>0.937244</td>\n",
              "    </tr>\n",
              "    <tr>\n",
              "      <th>7</th>\n",
              "      <td>ERR1883315</td>\n",
              "      <td>Recurrent Clostridium difficile infection</td>\n",
              "      <td>Day -1 CD4</td>\n",
              "      <td>ERR1883315.pickle</td>\n",
              "      <td>4.0</td>\n",
              "      <td>4.0</td>\n",
              "      <td>1.000000</td>\n",
              "      <td>0.962788</td>\n",
              "    </tr>\n",
              "  </tbody>\n",
              "</table>\n",
              "</div>"
            ],
            "text/plain": [
              "    sample_id  ... found_abundance_fraction\n",
              "0  ERR1883210  ...                 0.822257\n",
              "1  ERR1883212  ...                 0.847637\n",
              "2  ERR1883214  ...                 0.965912\n",
              "3  ERR1883247  ...                 0.834526\n",
              "4  ERR1883248  ...                 0.846712\n",
              "5  ERR1883260  ...                 0.855389\n",
              "6  ERR1883294  ...                 0.937244\n",
              "7  ERR1883315  ...                 0.962788\n",
              "\n",
              "[8 rows x 8 columns]"
            ]
          },
          "metadata": {
            "tags": []
          },
          "execution_count": 11
        }
      ]
    },
    {
      "cell_type": "markdown",
      "metadata": {
        "id": "y4KAJkhIdspQ"
      },
      "source": [
        "This will tell you many taxa were found in the database and what fraction of the total abundance was represented by the database. Looks okay here. \n",
        "\n",
        "So we now have our community models and can leverage MICOM fully by simulating community growth.\n",
        "\n",
        "## Simulating growth\n",
        "\n",
        "With our community models built, we can start to simulate growth with the cooperative tradeoff algorithm. Because we have no diet information for our samples, we will apply the same 'average Western Diet' to each individual. We will start by downloading this diet. It is stored in the MICOM data repository at "
      ]
    },
    {
      "cell_type": "code",
      "metadata": {
        "id": "Xi4hZLiaPLNu",
        "outputId": "ef6af402-f54d-4d3f-e7b2-9bdbb7210a89",
        "colab": {
          "base_uri": "https://localhost:8080/",
          "height": 204
        }
      },
      "source": [
        "!wget -O western_diet_gut.qza https://zenodo.org/record/3755182/files/western_diet_gut.qza?download=1"
      ],
      "execution_count": null,
      "outputs": [
        {
          "output_type": "stream",
          "text": [
            "--2020-10-15 21:30:03--  https://zenodo.org/record/3755182/files/western_diet_gut.qza?download=1\n",
            "Resolving zenodo.org (zenodo.org)... 137.138.76.77\n",
            "Connecting to zenodo.org (zenodo.org)|137.138.76.77|:443... connected.\n",
            "HTTP request sent, awaiting response... 200 OK\n",
            "Length: 7173 (7.0K) [application/octet-stream]\n",
            "Saving to: ‘western_diet_gut.qza’\n",
            "\n",
            "western_diet_gut.qz 100%[===================>]   7.00K  --.-KB/s    in 0s      \n",
            "\n",
            "2020-10-15 21:30:04 (92.6 MB/s) - ‘western_diet_gut.qza’ saved [7173/7173]\n",
            "\n"
          ],
          "name": "stdout"
        }
      ]
    },
    {
      "cell_type": "markdown",
      "metadata": {
        "id": "TVWMEu4nfKdL"
      },
      "source": [
        "This is again a QIIME 2 artifact, which we can load into MICOM."
      ]
    },
    {
      "cell_type": "code",
      "metadata": {
        "id": "3XBGQlFnfO4W",
        "outputId": "6e0ab6a2-ad2d-4693-eca8-6d605fd16572",
        "colab": {
          "base_uri": "https://localhost:8080/",
          "height": 455
        }
      },
      "source": [
        "from micom.qiime_formats import load_qiime_medium\n",
        "\n",
        "medium = load_qiime_medium(\"western_diet_gut.qza\")\n",
        "medium"
      ],
      "execution_count": null,
      "outputs": [
        {
          "output_type": "execute_result",
          "data": {
            "text/html": [
              "<div>\n",
              "<style scoped>\n",
              "    .dataframe tbody tr th:only-of-type {\n",
              "        vertical-align: middle;\n",
              "    }\n",
              "\n",
              "    .dataframe tbody tr th {\n",
              "        vertical-align: top;\n",
              "    }\n",
              "\n",
              "    .dataframe thead th {\n",
              "        text-align: right;\n",
              "    }\n",
              "</style>\n",
              "<table border=\"1\" class=\"dataframe\">\n",
              "  <thead>\n",
              "    <tr style=\"text-align: right;\">\n",
              "      <th></th>\n",
              "      <th>flux</th>\n",
              "      <th>dilution</th>\n",
              "      <th>metabolite</th>\n",
              "      <th>reaction</th>\n",
              "    </tr>\n",
              "    <tr>\n",
              "      <th>reaction</th>\n",
              "      <th></th>\n",
              "      <th></th>\n",
              "      <th></th>\n",
              "      <th></th>\n",
              "    </tr>\n",
              "  </thead>\n",
              "  <tbody>\n",
              "    <tr>\n",
              "      <th>EX_fru_m</th>\n",
              "      <td>0.014899</td>\n",
              "      <td>0.100</td>\n",
              "      <td>fru_m</td>\n",
              "      <td>EX_fru_m</td>\n",
              "    </tr>\n",
              "    <tr>\n",
              "      <th>EX_glc_m</th>\n",
              "      <td>0.014899</td>\n",
              "      <td>0.100</td>\n",
              "      <td>glc_m</td>\n",
              "      <td>EX_glc_m</td>\n",
              "    </tr>\n",
              "    <tr>\n",
              "      <th>EX_gal_m</th>\n",
              "      <td>0.014899</td>\n",
              "      <td>0.100</td>\n",
              "      <td>gal_m</td>\n",
              "      <td>EX_gal_m</td>\n",
              "    </tr>\n",
              "    <tr>\n",
              "      <th>EX_man_m</th>\n",
              "      <td>0.014899</td>\n",
              "      <td>0.100</td>\n",
              "      <td>man_m</td>\n",
              "      <td>EX_man_m</td>\n",
              "    </tr>\n",
              "    <tr>\n",
              "      <th>EX_mnl_m</th>\n",
              "      <td>0.014899</td>\n",
              "      <td>0.100</td>\n",
              "      <td>mnl_m</td>\n",
              "      <td>EX_mnl_m</td>\n",
              "    </tr>\n",
              "    <tr>\n",
              "      <th>...</th>\n",
              "      <td>...</td>\n",
              "      <td>...</td>\n",
              "      <td>...</td>\n",
              "      <td>...</td>\n",
              "    </tr>\n",
              "    <tr>\n",
              "      <th>EX_glu_D_m</th>\n",
              "      <td>0.100000</td>\n",
              "      <td>0.100</td>\n",
              "      <td>glu_D_m</td>\n",
              "      <td>EX_glu_D_m</td>\n",
              "    </tr>\n",
              "    <tr>\n",
              "      <th>EX_gthrd_m</th>\n",
              "      <td>0.100000</td>\n",
              "      <td>0.100</td>\n",
              "      <td>gthrd_m</td>\n",
              "      <td>EX_gthrd_m</td>\n",
              "    </tr>\n",
              "    <tr>\n",
              "      <th>EX_h2_m</th>\n",
              "      <td>0.100000</td>\n",
              "      <td>0.100</td>\n",
              "      <td>h2_m</td>\n",
              "      <td>EX_h2_m</td>\n",
              "    </tr>\n",
              "    <tr>\n",
              "      <th>EX_no2_m</th>\n",
              "      <td>0.100000</td>\n",
              "      <td>0.100</td>\n",
              "      <td>no2_m</td>\n",
              "      <td>EX_no2_m</td>\n",
              "    </tr>\n",
              "    <tr>\n",
              "      <th>EX_o2_m</th>\n",
              "      <td>0.001000</td>\n",
              "      <td>0.001</td>\n",
              "      <td>o2_m</td>\n",
              "      <td>EX_o2_m</td>\n",
              "    </tr>\n",
              "  </tbody>\n",
              "</table>\n",
              "<p>170 rows × 4 columns</p>\n",
              "</div>"
            ],
            "text/plain": [
              "                flux  dilution metabolite    reaction\n",
              "reaction                                             \n",
              "EX_fru_m    0.014899     0.100      fru_m    EX_fru_m\n",
              "EX_glc_m    0.014899     0.100      glc_m    EX_glc_m\n",
              "EX_gal_m    0.014899     0.100      gal_m    EX_gal_m\n",
              "EX_man_m    0.014899     0.100      man_m    EX_man_m\n",
              "EX_mnl_m    0.014899     0.100      mnl_m    EX_mnl_m\n",
              "...              ...       ...        ...         ...\n",
              "EX_glu_D_m  0.100000     0.100    glu_D_m  EX_glu_D_m\n",
              "EX_gthrd_m  0.100000     0.100    gthrd_m  EX_gthrd_m\n",
              "EX_h2_m     0.100000     0.100       h2_m     EX_h2_m\n",
              "EX_no2_m    0.100000     0.100      no2_m    EX_no2_m\n",
              "EX_o2_m     0.001000     0.001       o2_m     EX_o2_m\n",
              "\n",
              "[170 rows x 4 columns]"
            ]
          },
          "metadata": {
            "tags": []
          },
          "execution_count": 13
        }
      ]
    },
    {
      "cell_type": "markdown",
      "metadata": {
        "id": "4s8R4WYUez4g"
      },
      "source": [
        "Many dietary components get absorbed in the small intestine. This medium was created by taking dietary components and depleting all nutrients absorbed in the small intestine by a factor of 10 (indicated by the dilution column). \n",
        "\n",
        "Okay let's go right ahead and simulate growth. This will take about 20 minutes and give us time to dive into some details 🏊"
      ]
    },
    {
      "cell_type": "code",
      "metadata": {
        "id": "l-vJJwtdRZxP",
        "outputId": "c083e0c1-e78f-48f5-ab05-c537f04d842b",
        "colab": {
          "base_uri": "https://localhost:8080/",
          "height": 66,
          "referenced_widgets": [
            "45a0f7d0b9c54520a99a2e57f06bbc71",
            "60e8ed7c72604cebb27713011ab21dd3",
            "1dd010cec219487bbe291d29d2813cd9",
            "6ad952aa40764c0f91f92a49623c7f10",
            "2fcf24367e9448c08b199af41764c9eb",
            "5ae81c88917748f5b580f0c668b5ed15",
            "05406070945c4243af448f31df73ea9e",
            "0e263001049a49ce82423b1be681bf96"
          ]
        }
      },
      "source": [
        "from micom.workflows import grow\n",
        "import pickle\n",
        "\n",
        "growth_results = grow(manifest, \"models\", medium, tradeoff=0.5, threads=2)\n",
        "\n",
        "# We'll save the results to a file\n",
        "pickle.dump(growth_results, open(\"growth.pickle\", \"wb\"))"
      ],
      "execution_count": null,
      "outputs": [
        {
          "output_type": "display_data",
          "data": {
            "application/vnd.jupyter.widget-view+json": {
              "model_id": "45a0f7d0b9c54520a99a2e57f06bbc71",
              "version_minor": 0,
              "version_major": 2
            },
            "text/plain": [
              "HBox(children=(FloatProgress(value=0.0, max=8.0), HTML(value='')))"
            ]
          },
          "metadata": {
            "tags": []
          }
        },
        {
          "output_type": "stream",
          "text": [
            "\n"
          ],
          "name": "stdout"
        }
      ]
    },
    {
      "cell_type": "markdown",
      "metadata": {
        "id": "3WH8VVrVS4mv"
      },
      "source": [
        "If that takes too long or was aborted, we can read it in from the treasure chest."
      ]
    },
    {
      "cell_type": "code",
      "metadata": {
        "id": "tZiPmdO4S-OE"
      },
      "source": [
        "# Will only run if the previous step failed\n",
        "\n",
        "import pickle\n",
        "\n",
        "try:\n",
        "  growth_results\n",
        "except NameError:\n",
        "  growth_results = pickle.load(open(\"treasure_chest/growth.pickle\", \"rb\"))"
      ],
      "execution_count": null,
      "outputs": []
    },
    {
      "cell_type": "markdown",
      "metadata": {
        "id": "69gq9QfAzqxq"
      },
      "source": [
        "What kind of results did we get? Well, `grow` returns a tuple of 3 data sets:\n",
        "\n",
        "1. The predicted growth rate for all taxa in all samples\n",
        "2. The import and export fluxes for each taxon and the external environment\n",
        "3. Annotations for the fluxes mapping to other databases\n",
        "\n",
        "The growth rates are pretty straightforward."
      ]
    },
    {
      "cell_type": "code",
      "metadata": {
        "id": "xHQKoxgRzqWM",
        "outputId": "ee9a5340-a940-49d6-9719-9825129925a6",
        "colab": {
          "base_uri": "https://localhost:8080/",
          "height": 238
        }
      },
      "source": [
        "growth_results.growth_rates.head()"
      ],
      "execution_count": null,
      "outputs": [
        {
          "output_type": "execute_result",
          "data": {
            "text/html": [
              "<div>\n",
              "<style scoped>\n",
              "    .dataframe tbody tr th:only-of-type {\n",
              "        vertical-align: middle;\n",
              "    }\n",
              "\n",
              "    .dataframe tbody tr th {\n",
              "        vertical-align: top;\n",
              "    }\n",
              "\n",
              "    .dataframe thead th {\n",
              "        text-align: right;\n",
              "    }\n",
              "</style>\n",
              "<table border=\"1\" class=\"dataframe\">\n",
              "  <thead>\n",
              "    <tr style=\"text-align: right;\">\n",
              "      <th></th>\n",
              "      <th>abundance</th>\n",
              "      <th>growth_rate</th>\n",
              "      <th>reactions</th>\n",
              "      <th>metabolites</th>\n",
              "      <th>taxon</th>\n",
              "      <th>tradeoff</th>\n",
              "      <th>sample_id</th>\n",
              "    </tr>\n",
              "    <tr>\n",
              "      <th>compartments</th>\n",
              "      <th></th>\n",
              "      <th></th>\n",
              "      <th></th>\n",
              "      <th></th>\n",
              "      <th></th>\n",
              "      <th></th>\n",
              "      <th></th>\n",
              "    </tr>\n",
              "  </thead>\n",
              "  <tbody>\n",
              "    <tr>\n",
              "      <th>Bacteroides</th>\n",
              "      <td>0.775516</td>\n",
              "      <td>0.286551</td>\n",
              "      <td>3307</td>\n",
              "      <td>1887</td>\n",
              "      <td>Bacteroides</td>\n",
              "      <td>0.5</td>\n",
              "      <td>ERR1883210</td>\n",
              "    </tr>\n",
              "    <tr>\n",
              "      <th>Faecalibacterium</th>\n",
              "      <td>0.059768</td>\n",
              "      <td>0.026116</td>\n",
              "      <td>1986</td>\n",
              "      <td>1472</td>\n",
              "      <td>Faecalibacterium</td>\n",
              "      <td>0.5</td>\n",
              "      <td>ERR1883210</td>\n",
              "    </tr>\n",
              "    <tr>\n",
              "      <th>Parabacteroides</th>\n",
              "      <td>0.045125</td>\n",
              "      <td>0.016039</td>\n",
              "      <td>2870</td>\n",
              "      <td>1747</td>\n",
              "      <td>Parabacteroides</td>\n",
              "      <td>0.5</td>\n",
              "      <td>ERR1883210</td>\n",
              "    </tr>\n",
              "    <tr>\n",
              "      <th>Roseburia</th>\n",
              "      <td>0.082566</td>\n",
              "      <td>0.027822</td>\n",
              "      <td>2357</td>\n",
              "      <td>1567</td>\n",
              "      <td>Roseburia</td>\n",
              "      <td>0.5</td>\n",
              "      <td>ERR1883210</td>\n",
              "    </tr>\n",
              "    <tr>\n",
              "      <th>Sutterella</th>\n",
              "      <td>0.037024</td>\n",
              "      <td>0.005225</td>\n",
              "      <td>1233</td>\n",
              "      <td>1081</td>\n",
              "      <td>Sutterella</td>\n",
              "      <td>0.5</td>\n",
              "      <td>ERR1883210</td>\n",
              "    </tr>\n",
              "  </tbody>\n",
              "</table>\n",
              "</div>"
            ],
            "text/plain": [
              "                  abundance  growth_rate  ...  tradeoff   sample_id\n",
              "compartments                              ...                      \n",
              "Bacteroides        0.775516     0.286551  ...       0.5  ERR1883210\n",
              "Faecalibacterium   0.059768     0.026116  ...       0.5  ERR1883210\n",
              "Parabacteroides    0.045125     0.016039  ...       0.5  ERR1883210\n",
              "Roseburia          0.082566     0.027822  ...       0.5  ERR1883210\n",
              "Sutterella         0.037024     0.005225  ...       0.5  ERR1883210\n",
              "\n",
              "[5 rows x 7 columns]"
            ]
          },
          "metadata": {
            "tags": []
          },
          "execution_count": 16
        }
      ]
    },
    {
      "cell_type": "markdown",
      "metadata": {
        "id": "F5BK7DDv0UfA"
      },
      "source": [
        "More interesting are the exchange fluxes."
      ]
    },
    {
      "cell_type": "code",
      "metadata": {
        "id": "lQW2BBS10jdN",
        "outputId": "1ba6db8a-114f-43e6-ce4b-d3c7934ba0c1",
        "colab": {
          "base_uri": "https://localhost:8080/",
          "height": 424
        }
      },
      "source": [
        "growth_results.exchanges"
      ],
      "execution_count": null,
      "outputs": [
        {
          "output_type": "execute_result",
          "data": {
            "text/html": [
              "<div>\n",
              "<style scoped>\n",
              "    .dataframe tbody tr th:only-of-type {\n",
              "        vertical-align: middle;\n",
              "    }\n",
              "\n",
              "    .dataframe tbody tr th {\n",
              "        vertical-align: top;\n",
              "    }\n",
              "\n",
              "    .dataframe thead th {\n",
              "        text-align: right;\n",
              "    }\n",
              "</style>\n",
              "<table border=\"1\" class=\"dataframe\">\n",
              "  <thead>\n",
              "    <tr style=\"text-align: right;\">\n",
              "      <th></th>\n",
              "      <th>taxon</th>\n",
              "      <th>sample_id</th>\n",
              "      <th>tolerance</th>\n",
              "      <th>reaction</th>\n",
              "      <th>flux</th>\n",
              "      <th>abundance</th>\n",
              "      <th>metabolite</th>\n",
              "      <th>direction</th>\n",
              "    </tr>\n",
              "  </thead>\n",
              "  <tbody>\n",
              "    <tr>\n",
              "      <th>1</th>\n",
              "      <td>Faecalibacterium</td>\n",
              "      <td>ERR1883210</td>\n",
              "      <td>0.001</td>\n",
              "      <td>EX_12dhchol(e)</td>\n",
              "      <td>0.007956</td>\n",
              "      <td>0.059768</td>\n",
              "      <td>12dhchol[e]</td>\n",
              "      <td>export</td>\n",
              "    </tr>\n",
              "    <tr>\n",
              "      <th>3</th>\n",
              "      <td>Faecalibacterium</td>\n",
              "      <td>ERR1883210</td>\n",
              "      <td>0.001</td>\n",
              "      <td>EX_3mop(e)</td>\n",
              "      <td>0.038429</td>\n",
              "      <td>0.059768</td>\n",
              "      <td>3mop[e]</td>\n",
              "      <td>export</td>\n",
              "    </tr>\n",
              "    <tr>\n",
              "      <th>4</th>\n",
              "      <td>Faecalibacterium</td>\n",
              "      <td>ERR1883210</td>\n",
              "      <td>0.001</td>\n",
              "      <td>EX_4hbz(e)</td>\n",
              "      <td>0.007687</td>\n",
              "      <td>0.059768</td>\n",
              "      <td>4hbz[e]</td>\n",
              "      <td>export</td>\n",
              "    </tr>\n",
              "    <tr>\n",
              "      <th>7</th>\n",
              "      <td>Faecalibacterium</td>\n",
              "      <td>ERR1883210</td>\n",
              "      <td>0.001</td>\n",
              "      <td>EX_Lcystin(e)</td>\n",
              "      <td>-0.005297</td>\n",
              "      <td>0.059768</td>\n",
              "      <td>Lcystin[e]</td>\n",
              "      <td>import</td>\n",
              "    </tr>\n",
              "    <tr>\n",
              "      <th>8</th>\n",
              "      <td>Faecalibacterium</td>\n",
              "      <td>ERR1883210</td>\n",
              "      <td>0.001</td>\n",
              "      <td>EX_MGlcn100(e)</td>\n",
              "      <td>-0.009694</td>\n",
              "      <td>0.059768</td>\n",
              "      <td>MGlcn100[e]</td>\n",
              "      <td>import</td>\n",
              "    </tr>\n",
              "    <tr>\n",
              "      <th>...</th>\n",
              "      <td>...</td>\n",
              "      <td>...</td>\n",
              "      <td>...</td>\n",
              "      <td>...</td>\n",
              "      <td>...</td>\n",
              "      <td>...</td>\n",
              "      <td>...</td>\n",
              "      <td>...</td>\n",
              "    </tr>\n",
              "    <tr>\n",
              "      <th>31487</th>\n",
              "      <td>Cetobacterium</td>\n",
              "      <td>ERR1883315</td>\n",
              "      <td>0.001</td>\n",
              "      <td>EX_tyr_L(e)</td>\n",
              "      <td>-0.005736</td>\n",
              "      <td>0.266688</td>\n",
              "      <td>tyr_L[e]</td>\n",
              "      <td>import</td>\n",
              "    </tr>\n",
              "    <tr>\n",
              "      <th>31488</th>\n",
              "      <td>Cetobacterium</td>\n",
              "      <td>ERR1883315</td>\n",
              "      <td>0.001</td>\n",
              "      <td>EX_ura(e)</td>\n",
              "      <td>-0.063220</td>\n",
              "      <td>0.266688</td>\n",
              "      <td>ura[e]</td>\n",
              "      <td>import</td>\n",
              "    </tr>\n",
              "    <tr>\n",
              "      <th>31490</th>\n",
              "      <td>Cetobacterium</td>\n",
              "      <td>ERR1883315</td>\n",
              "      <td>0.001</td>\n",
              "      <td>EX_uri(e)</td>\n",
              "      <td>-0.106259</td>\n",
              "      <td>0.266688</td>\n",
              "      <td>uri[e]</td>\n",
              "      <td>import</td>\n",
              "    </tr>\n",
              "    <tr>\n",
              "      <th>31491</th>\n",
              "      <td>Cetobacterium</td>\n",
              "      <td>ERR1883315</td>\n",
              "      <td>0.001</td>\n",
              "      <td>EX_val_L(e)</td>\n",
              "      <td>0.059750</td>\n",
              "      <td>0.266688</td>\n",
              "      <td>val_L[e]</td>\n",
              "      <td>export</td>\n",
              "    </tr>\n",
              "    <tr>\n",
              "      <th>31497</th>\n",
              "      <td>Cetobacterium</td>\n",
              "      <td>ERR1883315</td>\n",
              "      <td>0.001</td>\n",
              "      <td>EX_pyr(e)</td>\n",
              "      <td>-0.166067</td>\n",
              "      <td>0.266688</td>\n",
              "      <td>pyr[e]</td>\n",
              "      <td>import</td>\n",
              "    </tr>\n",
              "  </tbody>\n",
              "</table>\n",
              "<p>12591 rows × 8 columns</p>\n",
              "</div>"
            ],
            "text/plain": [
              "                  taxon   sample_id  ...   metabolite direction\n",
              "1      Faecalibacterium  ERR1883210  ...  12dhchol[e]    export\n",
              "3      Faecalibacterium  ERR1883210  ...      3mop[e]    export\n",
              "4      Faecalibacterium  ERR1883210  ...      4hbz[e]    export\n",
              "7      Faecalibacterium  ERR1883210  ...   Lcystin[e]    import\n",
              "8      Faecalibacterium  ERR1883210  ...  MGlcn100[e]    import\n",
              "...                 ...         ...  ...          ...       ...\n",
              "31487     Cetobacterium  ERR1883315  ...     tyr_L[e]    import\n",
              "31488     Cetobacterium  ERR1883315  ...       ura[e]    import\n",
              "31490     Cetobacterium  ERR1883315  ...       uri[e]    import\n",
              "31491     Cetobacterium  ERR1883315  ...     val_L[e]    export\n",
              "31497     Cetobacterium  ERR1883315  ...       pyr[e]    import\n",
              "\n",
              "[12591 rows x 8 columns]"
            ]
          },
          "metadata": {
            "tags": []
          },
          "execution_count": 17
        }
      ]
    },
    {
      "cell_type": "markdown",
      "metadata": {
        "id": "Pu5XtkUl1YG1"
      },
      "source": [
        "So we see how much of each metabolite is either consumed or produced by each taxon in each sample. `tolerance` denotes the accuracy of the solver and tells you the smallest absolute flux that is likely different form zero (i.e. substantial flux). *All of the fluxes are normalized to 1g dry weight of bacteria*. So, you can directly compare fluxes between taxa, even if they are present at very different abundances. \n",
        "\n",
        "However, the metabolite names may not be very informative. That's why we have our annotations! For instance, to figure out what `ac[e]` is (air conditioning?), we can do the following:"
      ]
    },
    {
      "cell_type": "code",
      "metadata": {
        "id": "DphXa9hw1yxM",
        "outputId": "880139e8-b2f7-443b-aa1c-e9165ac30fa0",
        "colab": {
          "base_uri": "https://localhost:8080/",
          "height": 112
        }
      },
      "source": [
        "anns = growth_results.annotations\n",
        "anns[anns.metabolite == \"ac[e]\"]"
      ],
      "execution_count": null,
      "outputs": [
        {
          "output_type": "execute_result",
          "data": {
            "text/html": [
              "<div>\n",
              "<style scoped>\n",
              "    .dataframe tbody tr th:only-of-type {\n",
              "        vertical-align: middle;\n",
              "    }\n",
              "\n",
              "    .dataframe tbody tr th {\n",
              "        vertical-align: top;\n",
              "    }\n",
              "\n",
              "    .dataframe thead th {\n",
              "        text-align: right;\n",
              "    }\n",
              "</style>\n",
              "<table border=\"1\" class=\"dataframe\">\n",
              "  <thead>\n",
              "    <tr style=\"text-align: right;\">\n",
              "      <th></th>\n",
              "      <th>metabolite</th>\n",
              "      <th>name</th>\n",
              "      <th>hmdb</th>\n",
              "      <th>inchi</th>\n",
              "      <th>kegg.compound</th>\n",
              "      <th>pubchem.compound</th>\n",
              "      <th>reaction</th>\n",
              "    </tr>\n",
              "    <tr>\n",
              "      <th>reaction</th>\n",
              "      <th></th>\n",
              "      <th></th>\n",
              "      <th></th>\n",
              "      <th></th>\n",
              "      <th></th>\n",
              "      <th></th>\n",
              "      <th></th>\n",
              "    </tr>\n",
              "  </thead>\n",
              "  <tbody>\n",
              "    <tr>\n",
              "      <th>EX_ac(e)</th>\n",
              "      <td>ac[e]</td>\n",
              "      <td>acetate</td>\n",
              "      <td>HMDB00042</td>\n",
              "      <td>InChI=1S/C2H4O2/c1-2(3)4/h1H3,(H,3,4)/p-1</td>\n",
              "      <td>C00033</td>\n",
              "      <td>176</td>\n",
              "      <td>EX_ac(e)</td>\n",
              "    </tr>\n",
              "  </tbody>\n",
              "</table>\n",
              "</div>"
            ],
            "text/plain": [
              "         metabolite     name  ... pubchem.compound  reaction\n",
              "reaction                      ...                           \n",
              "EX_ac(e)      ac[e]  acetate  ...              176  EX_ac(e)\n",
              "\n",
              "[1 rows x 7 columns]"
            ]
          },
          "metadata": {
            "tags": []
          },
          "execution_count": 18
        }
      ]
    },
    {
      "cell_type": "markdown",
      "metadata": {
        "id": "CImtzqRJbbGj"
      },
      "source": [
        "Ohhh, it's acetate. Yeah that makes more sense 🕵️‍♀️. For the AGORA models you can also use the official VMH knowledge base at https://vmh.life maintained by Dr. Thiele's, lab which will give you rich information on metabolites and reactions. For instance, you can find out a lot more about acetate at: https://www.vmh.life/#metabolite/ac. \n",
        "\n",
        "# 📊 Visualizations\n",
        "\n",
        "Ok, we have seen that we generate a lot of output data from the growth simulations. But how do we make sense of it all? \n",
        "\n",
        "We will use the standard visualizations included in MICOM. These tools take in the growth results we obtained before and create visualizations in standalone HTML files that bundle the plots and raw data and can be viewed directly in your browser.\n",
        "\n",
        "The first things we might want to look at are the growth rates for each taxon."
      ]
    },
    {
      "cell_type": "code",
      "metadata": {
        "id": "EaplMHFLcMT7"
      },
      "source": [
        "from micom.viz import *\n",
        "\n",
        "viz = plot_growth(growth_results)"
      ],
      "execution_count": null,
      "outputs": []
    },
    {
      "cell_type": "markdown",
      "metadata": {
        "id": "G1JbbKrLcVye"
      },
      "source": [
        "Normally, we could call `viz.view()` afterwards and it would open it in our web browser. However, this will not work in Colab. However, the plot function create the file `growth_rates_[DATE].html` in your `materials` folder. To open it simply download that file and view it in your browser. We can see that there are many things going on, but it's not super clear. Let's continue.\n",
        "\n",
        "## Growth niches\n",
        "\n",
        "Two really important questions are 'what dietary nutrients are consumed by the microbiota and what metabolites do the microbiota produce?' We provided nutrients in our medium, but we don't actually know yet what was eaten by the microbiota. Let's check that out using the `plot_exchanges_per_sample` function."
      ]
    },
    {
      "cell_type": "code",
      "metadata": {
        "id": "Mkgydl_jdqc7",
        "outputId": "8efea025-c8e9-4c5c-dc00-6ee0a79b799f",
        "colab": {
          "base_uri": "https://localhost:8080/",
          "height": 34
        }
      },
      "source": [
        "plot_exchanges_per_sample(growth_results)"
      ],
      "execution_count": null,
      "outputs": [
        {
          "output_type": "execute_result",
          "data": {
            "text/plain": [
              "<micom.viz.core.Visualization at 0x7f10fbb506d8>"
            ]
          },
          "metadata": {
            "tags": []
          },
          "execution_count": 20
        }
      ]
    },
    {
      "cell_type": "markdown",
      "metadata": {
        "id": "lRDCXRDidupd"
      },
      "source": [
        "We can have a look at the results after downloading `materials/sample_exchanges_[DATE].html`. It would be even better if we could visualize which taxa compete for similar resources. We can create a niche plot by using `plot_exchanges_per_taxon`."
      ]
    },
    {
      "cell_type": "code",
      "metadata": {
        "id": "NlZrfv38esj8",
        "outputId": "f0b5161b-18d2-44e6-fbbe-2ae1ef0d4047",
        "colab": {
          "base_uri": "https://localhost:8080/",
          "height": 34
        }
      },
      "source": [
        "plot_exchanges_per_taxon(growth_results, perplexity=4, direction=\"import\")"
      ],
      "execution_count": null,
      "outputs": [
        {
          "output_type": "execute_result",
          "data": {
            "text/plain": [
              "<micom.viz.core.Visualization at 0x7f110137fa58>"
            ]
          },
          "metadata": {
            "tags": []
          },
          "execution_count": 21
        }
      ]
    },
    {
      "cell_type": "markdown",
      "metadata": {
        "id": "qXnbUCCs2yVG"
      },
      "source": [
        "\n",
        "This function projects the full set of import or export fluxes onto a two dimensional plane, and arranges taxa so that more similar flux patterns lie close together. Thus, taxa closer to one another compete for a more similar set of resources (and/or produce a more similar set of metabolites). The center of the plot signifies a more competitive nutrient space, whereas clusters on the outskirts denote more isolated niches.\n",
        "\n",
        "You can tune [TSNE parameters](https://distill.pub/2016/misread-tsne/), such as perplexity, to get a more meaningful grouping. We will lower the perplexity here since we don't have enough data.\n",
        "\n",
        "## Metabolic connections to a phenotype\n",
        "\n",
        "That is all nice, but how does that relate to recurrent *C. diff* infections? To answer that question we can use the `plot_fit` function. This will run a logistic regression with an L1 penalty on coefficients, with our diesase status as the response variable and the normalizeed fluxes as independent variables. In general, import fluxes are not as predictive because, well, they are more relevant to the bacteria than us. What we usually care about (from a host-health perspective) are the production fluxes of metabolites. These are the total production fluxes into the extracellular (lumenal) space, which includes the set of metabolites that are bioavailable to the host. \n",
        "\n",
        "Because OSQP has a somewhat lower solver accuracy, we will be conservative for what we consider to be 'substantial flux' and will filter out fluxes smaller than 0.01 mmol/l."
      ]
    },
    {
      "cell_type": "code",
      "metadata": {
        "id": "ebsw0XD-l2Lj",
        "outputId": "7edb69b6-ad35-4fa0-9c7b-ec1aa020b351",
        "colab": {
          "base_uri": "https://localhost:8080/",
          "height": 225
        }
      },
      "source": [
        "from micom.viz import *\n",
        "\n",
        "manifest.index = manifest.sample_id\n",
        "pheno = manifest.disease_stat\n",
        "\n",
        "pl = plot_fit(growth_results, pheno, atol=1e-3, flux_type=\"production\")\n"
      ],
      "execution_count": null,
      "outputs": [
        {
          "output_type": "stream",
          "text": [
            "/usr/local/lib/python3.6/dist-packages/micom/viz/prediction.py:163: SettingWithCopyWarning: \n",
            "A value is trying to be set on a copy of a slice from a DataFrame.\n",
            "Try using .loc[row_indexer,col_indexer] = value instead\n",
            "\n",
            "See the caveats in the documentation: https://pandas.pydata.org/pandas-docs/stable/user_guide/indexing.html#returning-a-view-versus-a-copy\n",
            "  exchanges[\"meta\"] = meta[exchanges.sample_id].values\n",
            "/usr/local/lib/python3.6/dist-packages/micom/viz/prediction.py:164: SettingWithCopyWarning: \n",
            "A value is trying to be set on a copy of a slice from a DataFrame.\n",
            "Try using .loc[row_indexer,col_indexer] = value instead\n",
            "\n",
            "See the caveats in the documentation: https://pandas.pydata.org/pandas-docs/stable/user_guide/indexing.html#returning-a-view-versus-a-copy\n",
            "  exchanges[\"description\"] = anns.loc[exchanges.metabolite, \"name\"].values\n"
          ],
          "name": "stderr"
        }
      ]
    },
    {
      "cell_type": "markdown",
      "metadata": {
        "id": "4Y_XfHkB4sO8"
      },
      "source": [
        "This will again create a file `fit_[DATE].html` that you can open. You will see the production fluxes most predictive of the phenotypes of interest and you can compare them across the groups. In the coefficient plot negative coefficients mean the particular metabolite is produced at a higher flux in the first group (recurrent C. diff in our case), whereas positive coefficients mean it is produced at a higher flux in the second group (healthy).\n",
        "\n",
        "Some observations to help you intepret the results:\n",
        "\n",
        "- [maltotriose](https://en.wikipedia.org/wiki/Maltotriose) is a breakdown product of alpha-amylase\n",
        "- [laurate](https://en.wikipedia.org/wiki/Lauric_acid) increases serum cholesterol more than any other fatty acid\n",
        "- *C. diff.* toxins contain multipe aspartate residues and toxin B [has aspartate protease activity](https://www.ncbi.nlm.nih.gov/pmc/articles/PMC4885049/) \n",
        "\n",
        "Whatever we conclude here is based on *very* little data so it would be purely hypothetical. However, it may point us to future avenues to explore."
      ]
    },
    {
      "cell_type": "markdown",
      "metadata": {
        "id": "l8maOr3w2bOo"
      },
      "source": [
        "# 🏫 Exercises"
      ]
    },
    {
      "cell_type": "markdown",
      "metadata": {
        "id": "TqdappAU20oT"
      },
      "source": [
        "Up to now, we have mostly used MICOM's \"high-level\" API, which is designed for working with several samples in parallel. However, MICOM also allows you to work with single models. We will choose a single sample now for further analysis.\n",
        "\n",
        "First, let's recall what samples we had. "
      ]
    },
    {
      "cell_type": "code",
      "metadata": {
        "id": "bllnCa1O28YZ",
        "outputId": "faba6ab5-bf22-4883-c558-18ac96c32b40",
        "colab": {
          "base_uri": "https://localhost:8080/",
          "height": 332
        }
      },
      "source": [
        "manifest"
      ],
      "execution_count": null,
      "outputs": [
        {
          "output_type": "execute_result",
          "data": {
            "text/html": [
              "<div>\n",
              "<style scoped>\n",
              "    .dataframe tbody tr th:only-of-type {\n",
              "        vertical-align: middle;\n",
              "    }\n",
              "\n",
              "    .dataframe tbody tr th {\n",
              "        vertical-align: top;\n",
              "    }\n",
              "\n",
              "    .dataframe thead th {\n",
              "        text-align: right;\n",
              "    }\n",
              "</style>\n",
              "<table border=\"1\" class=\"dataframe\">\n",
              "  <thead>\n",
              "    <tr style=\"text-align: right;\">\n",
              "      <th></th>\n",
              "      <th>sample_id</th>\n",
              "      <th>disease_stat</th>\n",
              "      <th>description</th>\n",
              "      <th>file</th>\n",
              "      <th>found_taxa</th>\n",
              "      <th>total_taxa</th>\n",
              "      <th>found_fraction</th>\n",
              "      <th>found_abundance_fraction</th>\n",
              "    </tr>\n",
              "    <tr>\n",
              "      <th>sample_id</th>\n",
              "      <th></th>\n",
              "      <th></th>\n",
              "      <th></th>\n",
              "      <th></th>\n",
              "      <th></th>\n",
              "      <th></th>\n",
              "      <th></th>\n",
              "      <th></th>\n",
              "    </tr>\n",
              "  </thead>\n",
              "  <tbody>\n",
              "    <tr>\n",
              "      <th>ERR1883210</th>\n",
              "      <td>ERR1883210</td>\n",
              "      <td>healthy</td>\n",
              "      <td>Donor 13</td>\n",
              "      <td>ERR1883210.pickle</td>\n",
              "      <td>5.0</td>\n",
              "      <td>5.0</td>\n",
              "      <td>1.000000</td>\n",
              "      <td>0.822257</td>\n",
              "    </tr>\n",
              "    <tr>\n",
              "      <th>ERR1883212</th>\n",
              "      <td>ERR1883212</td>\n",
              "      <td>healthy</td>\n",
              "      <td>Donor 14</td>\n",
              "      <td>ERR1883212.pickle</td>\n",
              "      <td>9.0</td>\n",
              "      <td>10.0</td>\n",
              "      <td>0.900000</td>\n",
              "      <td>0.847637</td>\n",
              "    </tr>\n",
              "    <tr>\n",
              "      <th>ERR1883214</th>\n",
              "      <td>ERR1883214</td>\n",
              "      <td>Recurrent Clostridium difficile infection</td>\n",
              "      <td>Day 0 CD1</td>\n",
              "      <td>ERR1883214.pickle</td>\n",
              "      <td>3.0</td>\n",
              "      <td>3.0</td>\n",
              "      <td>1.000000</td>\n",
              "      <td>0.965912</td>\n",
              "    </tr>\n",
              "    <tr>\n",
              "      <th>ERR1883247</th>\n",
              "      <td>ERR1883247</td>\n",
              "      <td>healthy</td>\n",
              "      <td>Donor CD3</td>\n",
              "      <td>ERR1883247.pickle</td>\n",
              "      <td>9.0</td>\n",
              "      <td>11.0</td>\n",
              "      <td>0.818182</td>\n",
              "      <td>0.834526</td>\n",
              "    </tr>\n",
              "    <tr>\n",
              "      <th>ERR1883248</th>\n",
              "      <td>ERR1883248</td>\n",
              "      <td>Recurrent Clostridium difficile infection</td>\n",
              "      <td>Day 1 CD1</td>\n",
              "      <td>ERR1883248.pickle</td>\n",
              "      <td>5.0</td>\n",
              "      <td>5.0</td>\n",
              "      <td>1.000000</td>\n",
              "      <td>0.846712</td>\n",
              "    </tr>\n",
              "    <tr>\n",
              "      <th>ERR1883260</th>\n",
              "      <td>ERR1883260</td>\n",
              "      <td>healthy</td>\n",
              "      <td>CD2 Donor</td>\n",
              "      <td>ERR1883260.pickle</td>\n",
              "      <td>8.0</td>\n",
              "      <td>8.0</td>\n",
              "      <td>1.000000</td>\n",
              "      <td>0.855389</td>\n",
              "    </tr>\n",
              "    <tr>\n",
              "      <th>ERR1883294</th>\n",
              "      <td>ERR1883294</td>\n",
              "      <td>Recurrent Clostridium difficile infection</td>\n",
              "      <td>Day 0 CD3</td>\n",
              "      <td>ERR1883294.pickle</td>\n",
              "      <td>7.0</td>\n",
              "      <td>7.0</td>\n",
              "      <td>1.000000</td>\n",
              "      <td>0.937244</td>\n",
              "    </tr>\n",
              "    <tr>\n",
              "      <th>ERR1883315</th>\n",
              "      <td>ERR1883315</td>\n",
              "      <td>Recurrent Clostridium difficile infection</td>\n",
              "      <td>Day -1 CD4</td>\n",
              "      <td>ERR1883315.pickle</td>\n",
              "      <td>4.0</td>\n",
              "      <td>4.0</td>\n",
              "      <td>1.000000</td>\n",
              "      <td>0.962788</td>\n",
              "    </tr>\n",
              "  </tbody>\n",
              "</table>\n",
              "</div>"
            ],
            "text/plain": [
              "             sample_id  ... found_abundance_fraction\n",
              "sample_id               ...                         \n",
              "ERR1883210  ERR1883210  ...                 0.822257\n",
              "ERR1883212  ERR1883212  ...                 0.847637\n",
              "ERR1883214  ERR1883214  ...                 0.965912\n",
              "ERR1883247  ERR1883247  ...                 0.834526\n",
              "ERR1883248  ERR1883248  ...                 0.846712\n",
              "ERR1883260  ERR1883260  ...                 0.855389\n",
              "ERR1883294  ERR1883294  ...                 0.937244\n",
              "ERR1883315  ERR1883315  ...                 0.962788\n",
              "\n",
              "[8 rows x 8 columns]"
            ]
          },
          "metadata": {
            "tags": []
          },
          "execution_count": 23
        }
      ]
    },
    {
      "cell_type": "markdown",
      "metadata": {
        "id": "VjUustQG2_bX"
      },
      "source": [
        "Let's look further into the surprising *C. diff.* individual that looked very similar to the healthy subjects. We will apply the same diet as before."
      ]
    },
    {
      "cell_type": "code",
      "metadata": {
        "id": "uh7QFi9V3HIX",
        "outputId": "b74a1efc-1931-4c9b-9f3f-195c4072eeb0",
        "colab": {
          "base_uri": "https://localhost:8080/",
          "height": 206
        }
      },
      "source": [
        "from micom import load_pickle\n",
        "from micom.qiime_formats import load_qiime_medium\n",
        "\n",
        "medium = load_qiime_medium(\"western_diet_gut.qza\")\n",
        "medium.index = medium.reaction\n",
        "\n",
        "com = load_pickle(\"models/ERR1883248.pickle\")\n",
        "com.medium = medium.flux\n",
        "com"
      ],
      "execution_count": null,
      "outputs": [
        {
          "output_type": "stream",
          "text": [
            "2020-10-15 21:07:53.867 | WARNING  | micom.community:medium:613 - I could not find the following exchanges in your model: EX_fe3dcit_m, EX_amet_m, EX_lnlc_m, EX_glu_D_m, EX_chsterol_m, EX_octa_m, EX_pime_m, EX_pydx5p_m, EX_arachd_m, EX_lnlnca_m, EX_lanost_m, EX_sel_m, EX_chol_m, EX_oxa_m, EX_lnlncg_m, EX_adpcbl_m, EX_hdcea_m, EX_fald_m, EX_glc_m\n"
          ],
          "name": "stderr"
        },
        {
          "output_type": "execute_result",
          "data": {
            "text/html": [
              "\n",
              "        <table>\n",
              "            <tr>\n",
              "                <td><strong>Name</strong></td>\n",
              "                <td>ERR1883248</td>\n",
              "            </tr><tr>\n",
              "                <td><strong>Memory address</strong></td>\n",
              "                <td>0x07f1103464b00</td>\n",
              "            </tr><tr>\n",
              "                <td><strong>Number of metabolites</strong></td>\n",
              "                <td>9003</td>\n",
              "            </tr><tr>\n",
              "                <td><strong>Number of reactions</strong></td>\n",
              "                <td>14138</td>\n",
              "            </tr><tr>\n",
              "                <td><strong>Number of groups</strong></td>\n",
              "                <td>0</td>\n",
              "            </tr><tr>\n",
              "                <td><strong>Objective expression</strong></td>\n",
              "                <td>1.0*community_objective</td>\n",
              "            </tr><tr>\n",
              "                <td><strong>Compartments</strong></td>\n",
              "                <td>c__Akkermansia, e__Akkermansia, m, c__Bacteroides, e__Bacteroides, e__Faecalibacterium, c__Faecalibacterium, c__Parabacteroides, e__Parabacteroides, c__Ruminococcus, e__Ruminococcus</td>\n",
              "            </tr>\n",
              "          </table>"
            ],
            "text/plain": [
              "<Community ERR1883248 at 0x7f1103464b00>"
            ]
          },
          "metadata": {
            "tags": []
          },
          "execution_count": 24
        }
      ]
    },
    {
      "cell_type": "markdown",
      "metadata": {
        "id": "GFcWJKuO3bnT"
      },
      "source": [
        "This is a MICOM community object. MICOM community models are full [COBRApy](https://opencobra.github.io/cobrapy/) models (with sprinkles on top) and there is a whole bunch of stuff we could do with it."
      ]
    },
    {
      "cell_type": "markdown",
      "metadata": {
        "id": "CUaUHsKm2fk7"
      },
      "source": [
        "## Microbe-microbe interactions\n",
        "\n",
        "Let's dive a bit more into competition and cooperation between taxa. We can start by simulating taxa knockouts using `com.knockout_taxa`. For that we will remove each of the taxa from the model (one-at-a-time) and see how that affects the growth rates of all other taxa. If other taxa grow faster after the knockout, they were competing with the knocked-out taxon. However, if they grow slower, they were cooperating with the knocked-out taxon. \n",
        "\n",
        "See the docs for more info: https://micom-dev.github.io/micom/taxa_knockouts.html.\n",
        "\n",
        "Bonus points if you can visualize your results. How would you deal with vastly different scales of growth rates between taxa?\n",
        "\n",
        "> Oh geez. I once saw somebody plot a heatmap with Seaborn using a Pandas DataFrame. I wish I could remember where that was... 🤔\n"
      ]
    },
    {
      "cell_type": "code",
      "metadata": {
        "id": "5IlJ-YpUCQzp",
        "outputId": "4812dacc-c4af-4c65-8697-e6c5abfdb99e",
        "colab": {
          "base_uri": "https://localhost:8080/",
          "height": 422,
          "referenced_widgets": [
            "da3ea8f05f4541e19a8ae2aacdabf7a2",
            "ab3300434d1d47278e842ef91c392956",
            "1b435757054e44dab687661d9bde4527",
            "c9d1b7b4ae514214b64c20a45991f1f2",
            "f4600c7d34784cd7879ed3eea109c70f",
            "76976733cc4e4d809d9862edf4c12088",
            "31a44602c6ca45ba9351df4c28c05b84",
            "4abb27d1b6334a488ddded74d48b4d0d"
          ]
        }
      },
      "source": [
        "import seaborn as sns\n",
        "\n",
        "ko = com.knockout_taxa(fraction=0.5, method=\"relative change\")\n",
        "\n",
        "sns.heatmap(ko, cmap=\"seismic\", center=0)"
      ],
      "execution_count": null,
      "outputs": [
        {
          "output_type": "display_data",
          "data": {
            "application/vnd.jupyter.widget-view+json": {
              "model_id": "da3ea8f05f4541e19a8ae2aacdabf7a2",
              "version_minor": 0,
              "version_major": 2
            },
            "text/plain": [
              "HBox(children=(FloatProgress(value=0.0, max=5.0), HTML(value='')))"
            ]
          },
          "metadata": {
            "tags": []
          }
        },
        {
          "output_type": "stream",
          "text": [
            "\n"
          ],
          "name": "stdout"
        },
        {
          "output_type": "execute_result",
          "data": {
            "text/plain": [
              "<matplotlib.axes._subplots.AxesSubplot at 0x7f10fa98fd30>"
            ]
          },
          "metadata": {
            "tags": []
          },
          "execution_count": 25
        },
        {
          "output_type": "display_data",
          "data": {
            "image/png": "[encoded data removed]",
            "text/plain": [
              "<Figure size 432x288 with 2 Axes>"
            ]
          },
          "metadata": {
            "tags": [],
            "needs_background": "light"
          }
        }
      ]
    },
    {
      "cell_type": "markdown",
      "metadata": {
        "id": "98RxzLb4yNuc"
      },
      "source": [
        "Here the rows denote the knocked-out taxa and the columns the chnage in growth rate for all taxa. We used the the same tradeoff (\"fraction\") as before and asked for getting relative changes in growth rates (%change compared to baseline growth rate). We can see that there is a lot of competetion but also some strong cooperative interactions between Bacteroides and other genera."
      ]
    },
    {
      "cell_type": "markdown",
      "metadata": {
        "id": "p81Fsdp-CPTF"
      },
      "source": [
        "## The flux capacitator\n",
        "\n",
        "Here is how you would run the cooperative tradeoff for a single model. We can follow that up with pFBA to get all fluxes in the system."
      ]
    },
    {
      "cell_type": "code",
      "metadata": {
        "id": "tMAz3FoSMZLf",
        "outputId": "16ba5260-8ebc-40db-bbb0-4085e5bed60e",
        "colab": {
          "base_uri": "https://localhost:8080/",
          "height": 321
        }
      },
      "source": [
        "sol = com.cooperative_tradeoff(fraction=0.5, fluxes=True, pfba=True)\n",
        "sol"
      ],
      "execution_count": null,
      "outputs": [
        {
          "output_type": "execute_result",
          "data": {
            "text/html": [
              "<strong>community growth:</strong> 0.214<br><strong>status:</strong> optimal<br><strong>taxa:</strong><div>\n",
              "<style scoped>\n",
              "    .dataframe tbody tr th:only-of-type {\n",
              "        vertical-align: middle;\n",
              "    }\n",
              "\n",
              "    .dataframe tbody tr th {\n",
              "        vertical-align: top;\n",
              "    }\n",
              "\n",
              "    .dataframe thead th {\n",
              "        text-align: right;\n",
              "    }\n",
              "</style>\n",
              "<table border=\"1\" class=\"dataframe\">\n",
              "  <thead>\n",
              "    <tr style=\"text-align: right;\">\n",
              "      <th></th>\n",
              "      <th>abundance</th>\n",
              "      <th>growth_rate</th>\n",
              "      <th>reactions</th>\n",
              "      <th>metabolites</th>\n",
              "    </tr>\n",
              "    <tr>\n",
              "      <th>compartments</th>\n",
              "      <th></th>\n",
              "      <th></th>\n",
              "      <th></th>\n",
              "      <th></th>\n",
              "    </tr>\n",
              "  </thead>\n",
              "  <tbody>\n",
              "    <tr>\n",
              "      <th>Akkermansia</th>\n",
              "      <td>0.121702</td>\n",
              "      <td>0.032306</td>\n",
              "      <td>2274</td>\n",
              "      <td>1386</td>\n",
              "    </tr>\n",
              "    <tr>\n",
              "      <th>Bacteroides</th>\n",
              "      <td>0.626469</td>\n",
              "      <td>0.316201</td>\n",
              "      <td>3307</td>\n",
              "      <td>1887</td>\n",
              "    </tr>\n",
              "    <tr>\n",
              "      <th>Faecalibacterium</th>\n",
              "      <td>0.124280</td>\n",
              "      <td>0.059733</td>\n",
              "      <td>1986</td>\n",
              "      <td>1472</td>\n",
              "    </tr>\n",
              "    <tr>\n",
              "      <th>Parabacteroides</th>\n",
              "      <td>0.092408</td>\n",
              "      <td>0.038231</td>\n",
              "      <td>2870</td>\n",
              "      <td>1747</td>\n",
              "    </tr>\n",
              "    <tr>\n",
              "      <th>Ruminococcus</th>\n",
              "      <td>0.035140</td>\n",
              "      <td>0.016145</td>\n",
              "      <td>2983</td>\n",
              "      <td>1793</td>\n",
              "    </tr>\n",
              "    <tr>\n",
              "      <th>medium</th>\n",
              "      <td>NaN</td>\n",
              "      <td>NaN</td>\n",
              "      <td>718</td>\n",
              "      <td>718</td>\n",
              "    </tr>\n",
              "  </tbody>\n",
              "</table>\n",
              "</div>"
            ],
            "text/plain": [
              "<CommunitySolution 0.214 at 0x7f10fafa99b0>"
            ]
          },
          "metadata": {
            "tags": []
          },
          "execution_count": 26
        }
      ]
    },
    {
      "cell_type": "markdown",
      "metadata": {
        "id": "J3j9NZC1cFR2"
      },
      "source": [
        "The returned solution contains all fluxes in `sol.fluxes`. An `NaN` entry denotes that this reaction is not present in the organism."
      ]
    },
    {
      "cell_type": "code",
      "metadata": {
        "id": "X26njphUcJ2k",
        "outputId": "fe1afb9c-a57a-4dca-f09a-fa245bc2e836",
        "colab": {
          "base_uri": "https://localhost:8080/",
          "height": 287
        }
      },
      "source": [
        "sol.fluxes.head()"
      ],
      "execution_count": null,
      "outputs": [
        {
          "output_type": "execute_result",
          "data": {
            "text/html": [
              "<div>\n",
              "<style scoped>\n",
              "    .dataframe tbody tr th:only-of-type {\n",
              "        vertical-align: middle;\n",
              "    }\n",
              "\n",
              "    .dataframe tbody tr th {\n",
              "        vertical-align: top;\n",
              "    }\n",
              "\n",
              "    .dataframe thead th {\n",
              "        text-align: right;\n",
              "    }\n",
              "</style>\n",
              "<table border=\"1\" class=\"dataframe\">\n",
              "  <thead>\n",
              "    <tr style=\"text-align: right;\">\n",
              "      <th>reaction</th>\n",
              "      <th>12DGR180ti</th>\n",
              "      <th>12PPDSDH</th>\n",
              "      <th>12PPDt</th>\n",
              "      <th>12aHSDHe</th>\n",
              "      <th>15DAPt</th>\n",
              "      <th>1P4H2CBXLAH</th>\n",
              "      <th>23DHMPO</th>\n",
              "      <th>23PDE2</th>\n",
              "      <th>23PDE4</th>\n",
              "      <th>23PDE7</th>\n",
              "      <th>23PDE9</th>\n",
              "      <th>26DAPLLAT</th>\n",
              "      <th>26DAPt2r</th>\n",
              "      <th>2AHBUTI</th>\n",
              "      <th>2DDPENTHL</th>\n",
              "      <th>2DHPL</th>\n",
              "      <th>2DMMQ8abc</th>\n",
              "      <th>2HBO</th>\n",
              "      <th>2HYOXPLACt2r</th>\n",
              "      <th>2INSD</th>\n",
              "      <th>2MBCOATA</th>\n",
              "      <th>2MEBCOADH</th>\n",
              "      <th>2MMALD</th>\n",
              "      <th>2MMALD2</th>\n",
              "      <th>2OBUTt2r</th>\n",
              "      <th>2S6HCC</th>\n",
              "      <th>34DHOXPEGOX</th>\n",
              "      <th>34HPPOR</th>\n",
              "      <th>3ABUTCOAL</th>\n",
              "      <th>3BTCOAI</th>\n",
              "      <th>3CARLPDH</th>\n",
              "      <th>3HACPR1</th>\n",
              "      <th>3HACPR2</th>\n",
              "      <th>3HAD100</th>\n",
              "      <th>3HAD10M11</th>\n",
              "      <th>3HAD10M12</th>\n",
              "      <th>3HAD11M12</th>\n",
              "      <th>3HAD120</th>\n",
              "      <th>3HAD121</th>\n",
              "      <th>3HAD12M13</th>\n",
              "      <th>...</th>\n",
              "      <th>r0085</th>\n",
              "      <th>r0120</th>\n",
              "      <th>r0127</th>\n",
              "      <th>r0163c</th>\n",
              "      <th>r0220</th>\n",
              "      <th>r0236</th>\n",
              "      <th>r0318i</th>\n",
              "      <th>r0330</th>\n",
              "      <th>r0339</th>\n",
              "      <th>r0345</th>\n",
              "      <th>r0389</th>\n",
              "      <th>r0392</th>\n",
              "      <th>r0398</th>\n",
              "      <th>r0422</th>\n",
              "      <th>r0456</th>\n",
              "      <th>r0502</th>\n",
              "      <th>r0556ci</th>\n",
              "      <th>r0570</th>\n",
              "      <th>r0671</th>\n",
              "      <th>r0708</th>\n",
              "      <th>r0739</th>\n",
              "      <th>r0775</th>\n",
              "      <th>r0777</th>\n",
              "      <th>r0792</th>\n",
              "      <th>r1144</th>\n",
              "      <th>r1162</th>\n",
              "      <th>r1314</th>\n",
              "      <th>r1384</th>\n",
              "      <th>r1667</th>\n",
              "      <th>r2137</th>\n",
              "      <th>rtranscription</th>\n",
              "      <th>sink_PGPm1[c]</th>\n",
              "      <th>sink_dmbzid</th>\n",
              "      <th>sink_gthrd(c)</th>\n",
              "      <th>sink_mqn7(c)</th>\n",
              "      <th>sink_mqn8(c)</th>\n",
              "      <th>sink_pheme(c)</th>\n",
              "      <th>sink_q8(c)</th>\n",
              "      <th>sink_s</th>\n",
              "      <th>sink_sheme(c)</th>\n",
              "    </tr>\n",
              "    <tr>\n",
              "      <th>compartment</th>\n",
              "      <th></th>\n",
              "      <th></th>\n",
              "      <th></th>\n",
              "      <th></th>\n",
              "      <th></th>\n",
              "      <th></th>\n",
              "      <th></th>\n",
              "      <th></th>\n",
              "      <th></th>\n",
              "      <th></th>\n",
              "      <th></th>\n",
              "      <th></th>\n",
              "      <th></th>\n",
              "      <th></th>\n",
              "      <th></th>\n",
              "      <th></th>\n",
              "      <th></th>\n",
              "      <th></th>\n",
              "      <th></th>\n",
              "      <th></th>\n",
              "      <th></th>\n",
              "      <th></th>\n",
              "      <th></th>\n",
              "      <th></th>\n",
              "      <th></th>\n",
              "      <th></th>\n",
              "      <th></th>\n",
              "      <th></th>\n",
              "      <th></th>\n",
              "      <th></th>\n",
              "      <th></th>\n",
              "      <th></th>\n",
              "      <th></th>\n",
              "      <th></th>\n",
              "      <th></th>\n",
              "      <th></th>\n",
              "      <th></th>\n",
              "      <th></th>\n",
              "      <th></th>\n",
              "      <th></th>\n",
              "      <th></th>\n",
              "      <th></th>\n",
              "      <th></th>\n",
              "      <th></th>\n",
              "      <th></th>\n",
              "      <th></th>\n",
              "      <th></th>\n",
              "      <th></th>\n",
              "      <th></th>\n",
              "      <th></th>\n",
              "      <th></th>\n",
              "      <th></th>\n",
              "      <th></th>\n",
              "      <th></th>\n",
              "      <th></th>\n",
              "      <th></th>\n",
              "      <th></th>\n",
              "      <th></th>\n",
              "      <th></th>\n",
              "      <th></th>\n",
              "      <th></th>\n",
              "      <th></th>\n",
              "      <th></th>\n",
              "      <th></th>\n",
              "      <th></th>\n",
              "      <th></th>\n",
              "      <th></th>\n",
              "      <th></th>\n",
              "      <th></th>\n",
              "      <th></th>\n",
              "      <th></th>\n",
              "      <th></th>\n",
              "      <th></th>\n",
              "      <th></th>\n",
              "      <th></th>\n",
              "      <th></th>\n",
              "      <th></th>\n",
              "      <th></th>\n",
              "      <th></th>\n",
              "      <th></th>\n",
              "      <th></th>\n",
              "    </tr>\n",
              "  </thead>\n",
              "  <tbody>\n",
              "    <tr>\n",
              "      <th>Akkermansia</th>\n",
              "      <td>NaN</td>\n",
              "      <td>NaN</td>\n",
              "      <td>-0.000048</td>\n",
              "      <td>NaN</td>\n",
              "      <td>NaN</td>\n",
              "      <td>NaN</td>\n",
              "      <td>4.691578e-08</td>\n",
              "      <td>NaN</td>\n",
              "      <td>NaN</td>\n",
              "      <td>NaN</td>\n",
              "      <td>NaN</td>\n",
              "      <td>0.000057</td>\n",
              "      <td>0.010045</td>\n",
              "      <td>-1.599702e-07</td>\n",
              "      <td>NaN</td>\n",
              "      <td>NaN</td>\n",
              "      <td>NaN</td>\n",
              "      <td>NaN</td>\n",
              "      <td>NaN</td>\n",
              "      <td>NaN</td>\n",
              "      <td>0.000016</td>\n",
              "      <td>0.000011</td>\n",
              "      <td>NaN</td>\n",
              "      <td>NaN</td>\n",
              "      <td>0.008099</td>\n",
              "      <td>NaN</td>\n",
              "      <td>NaN</td>\n",
              "      <td>NaN</td>\n",
              "      <td>NaN</td>\n",
              "      <td>NaN</td>\n",
              "      <td>-0.000049</td>\n",
              "      <td>-0.000237</td>\n",
              "      <td>-0.000238</td>\n",
              "      <td>0.000007</td>\n",
              "      <td>-2.150190e-06</td>\n",
              "      <td>1.862572e-05</td>\n",
              "      <td>0.000018</td>\n",
              "      <td>0.000007</td>\n",
              "      <td>NaN</td>\n",
              "      <td>-2.249442e-06</td>\n",
              "      <td>...</td>\n",
              "      <td>NaN</td>\n",
              "      <td>-0.000004</td>\n",
              "      <td>NaN</td>\n",
              "      <td>-0.000049</td>\n",
              "      <td>NaN</td>\n",
              "      <td>NaN</td>\n",
              "      <td>NaN</td>\n",
              "      <td>NaN</td>\n",
              "      <td>NaN</td>\n",
              "      <td>0.001381</td>\n",
              "      <td>NaN</td>\n",
              "      <td>NaN</td>\n",
              "      <td>-6.691035e-05</td>\n",
              "      <td>5.990447e-06</td>\n",
              "      <td>NaN</td>\n",
              "      <td>NaN</td>\n",
              "      <td>0.000049</td>\n",
              "      <td>NaN</td>\n",
              "      <td>0.000047</td>\n",
              "      <td>-0.000004</td>\n",
              "      <td>NaN</td>\n",
              "      <td>-0.000001</td>\n",
              "      <td>1.469250e-06</td>\n",
              "      <td>-0.000113</td>\n",
              "      <td>NaN</td>\n",
              "      <td>NaN</td>\n",
              "      <td>NaN</td>\n",
              "      <td>NaN</td>\n",
              "      <td>NaN</td>\n",
              "      <td>0.000100</td>\n",
              "      <td>0.032306</td>\n",
              "      <td>NaN</td>\n",
              "      <td>NaN</td>\n",
              "      <td>-0.000197</td>\n",
              "      <td>NaN</td>\n",
              "      <td>NaN</td>\n",
              "      <td>NaN</td>\n",
              "      <td>NaN</td>\n",
              "      <td>0.000241</td>\n",
              "      <td>-0.000141</td>\n",
              "    </tr>\n",
              "    <tr>\n",
              "      <th>Bacteroides</th>\n",
              "      <td>NaN</td>\n",
              "      <td>NaN</td>\n",
              "      <td>0.000105</td>\n",
              "      <td>NaN</td>\n",
              "      <td>NaN</td>\n",
              "      <td>3.659510e-07</td>\n",
              "      <td>4.066684e-07</td>\n",
              "      <td>-1.562027e-07</td>\n",
              "      <td>-1.562027e-07</td>\n",
              "      <td>-1.562027e-07</td>\n",
              "      <td>-1.562027e-07</td>\n",
              "      <td>0.001084</td>\n",
              "      <td>0.091374</td>\n",
              "      <td>-2.507764e-07</td>\n",
              "      <td>-1.861730e-07</td>\n",
              "      <td>-1.023568e-04</td>\n",
              "      <td>0.000427</td>\n",
              "      <td>NaN</td>\n",
              "      <td>0.001934</td>\n",
              "      <td>-4.897049e-07</td>\n",
              "      <td>0.000002</td>\n",
              "      <td>NaN</td>\n",
              "      <td>0.000095</td>\n",
              "      <td>0.000096</td>\n",
              "      <td>0.082505</td>\n",
              "      <td>-0.003181</td>\n",
              "      <td>-1.260021e-07</td>\n",
              "      <td>NaN</td>\n",
              "      <td>NaN</td>\n",
              "      <td>NaN</td>\n",
              "      <td>NaN</td>\n",
              "      <td>-0.000100</td>\n",
              "      <td>-0.000102</td>\n",
              "      <td>-0.000074</td>\n",
              "      <td>-1.510517e-05</td>\n",
              "      <td>2.884386e-08</td>\n",
              "      <td>0.000013</td>\n",
              "      <td>-0.000075</td>\n",
              "      <td>-6.978191e-08</td>\n",
              "      <td>-1.313443e-05</td>\n",
              "      <td>...</td>\n",
              "      <td>1.720408e-06</td>\n",
              "      <td>-0.000036</td>\n",
              "      <td>-0.000319</td>\n",
              "      <td>NaN</td>\n",
              "      <td>NaN</td>\n",
              "      <td>NaN</td>\n",
              "      <td>NaN</td>\n",
              "      <td>NaN</td>\n",
              "      <td>0.000128</td>\n",
              "      <td>0.000233</td>\n",
              "      <td>-0.019944</td>\n",
              "      <td>NaN</td>\n",
              "      <td>-7.693591e-06</td>\n",
              "      <td>5.445307e-04</td>\n",
              "      <td>0.000718</td>\n",
              "      <td>NaN</td>\n",
              "      <td>NaN</td>\n",
              "      <td>0.195424</td>\n",
              "      <td>-0.000007</td>\n",
              "      <td>0.000038</td>\n",
              "      <td>1.260021e-07</td>\n",
              "      <td>-0.000037</td>\n",
              "      <td>-3.724823e-05</td>\n",
              "      <td>-0.000031</td>\n",
              "      <td>-0.000012</td>\n",
              "      <td>NaN</td>\n",
              "      <td>-1.335879e-07</td>\n",
              "      <td>-0.000519</td>\n",
              "      <td>0.043538</td>\n",
              "      <td>0.001948</td>\n",
              "      <td>0.296395</td>\n",
              "      <td>NaN</td>\n",
              "      <td>0.000221</td>\n",
              "      <td>-0.001398</td>\n",
              "      <td>NaN</td>\n",
              "      <td>NaN</td>\n",
              "      <td>NaN</td>\n",
              "      <td>NaN</td>\n",
              "      <td>0.000103</td>\n",
              "      <td>NaN</td>\n",
              "    </tr>\n",
              "    <tr>\n",
              "      <th>Faecalibacterium</th>\n",
              "      <td>0.000045</td>\n",
              "      <td>NaN</td>\n",
              "      <td>NaN</td>\n",
              "      <td>-0.000926</td>\n",
              "      <td>NaN</td>\n",
              "      <td>1.306445e-07</td>\n",
              "      <td>2.977467e-05</td>\n",
              "      <td>3.006918e-08</td>\n",
              "      <td>3.006918e-08</td>\n",
              "      <td>3.006918e-08</td>\n",
              "      <td>3.006918e-08</td>\n",
              "      <td>0.000060</td>\n",
              "      <td>NaN</td>\n",
              "      <td>-2.956277e-05</td>\n",
              "      <td>NaN</td>\n",
              "      <td>4.423577e-07</td>\n",
              "      <td>NaN</td>\n",
              "      <td>-3.684249e-07</td>\n",
              "      <td>NaN</td>\n",
              "      <td>NaN</td>\n",
              "      <td>-0.000027</td>\n",
              "      <td>NaN</td>\n",
              "      <td>NaN</td>\n",
              "      <td>NaN</td>\n",
              "      <td>NaN</td>\n",
              "      <td>-0.000974</td>\n",
              "      <td>1.643853e-07</td>\n",
              "      <td>NaN</td>\n",
              "      <td>0.000004</td>\n",
              "      <td>NaN</td>\n",
              "      <td>NaN</td>\n",
              "      <td>NaN</td>\n",
              "      <td>NaN</td>\n",
              "      <td>-0.000025</td>\n",
              "      <td>-2.289186e-07</td>\n",
              "      <td>-2.521222e-05</td>\n",
              "      <td>-0.000022</td>\n",
              "      <td>-0.000025</td>\n",
              "      <td>NaN</td>\n",
              "      <td>-2.289186e-07</td>\n",
              "      <td>...</td>\n",
              "      <td>NaN</td>\n",
              "      <td>-0.000007</td>\n",
              "      <td>0.000415</td>\n",
              "      <td>NaN</td>\n",
              "      <td>NaN</td>\n",
              "      <td>NaN</td>\n",
              "      <td>NaN</td>\n",
              "      <td>NaN</td>\n",
              "      <td>-0.000005</td>\n",
              "      <td>-0.001652</td>\n",
              "      <td>NaN</td>\n",
              "      <td>NaN</td>\n",
              "      <td>NaN</td>\n",
              "      <td>6.260752e-06</td>\n",
              "      <td>0.000141</td>\n",
              "      <td>NaN</td>\n",
              "      <td>NaN</td>\n",
              "      <td>0.141014</td>\n",
              "      <td>0.000048</td>\n",
              "      <td>-0.000004</td>\n",
              "      <td>-1.643853e-07</td>\n",
              "      <td>-0.000004</td>\n",
              "      <td>-1.035199e-07</td>\n",
              "      <td>0.000142</td>\n",
              "      <td>-0.000153</td>\n",
              "      <td>NaN</td>\n",
              "      <td>NaN</td>\n",
              "      <td>-0.001259</td>\n",
              "      <td>NaN</td>\n",
              "      <td>0.000137</td>\n",
              "      <td>0.017487</td>\n",
              "      <td>0.000008</td>\n",
              "      <td>NaN</td>\n",
              "      <td>-0.000023</td>\n",
              "      <td>-0.000436</td>\n",
              "      <td>-0.000444</td>\n",
              "      <td>-0.000056</td>\n",
              "      <td>-0.000641</td>\n",
              "      <td>NaN</td>\n",
              "      <td>-0.000241</td>\n",
              "    </tr>\n",
              "    <tr>\n",
              "      <th>Parabacteroides</th>\n",
              "      <td>-0.000047</td>\n",
              "      <td>NaN</td>\n",
              "      <td>0.000018</td>\n",
              "      <td>NaN</td>\n",
              "      <td>NaN</td>\n",
              "      <td>2.311840e-08</td>\n",
              "      <td>1.573787e-09</td>\n",
              "      <td>-1.859844e-08</td>\n",
              "      <td>-1.859844e-08</td>\n",
              "      <td>-1.859844e-08</td>\n",
              "      <td>-1.859844e-08</td>\n",
              "      <td>0.000040</td>\n",
              "      <td>-0.000042</td>\n",
              "      <td>-1.782967e-08</td>\n",
              "      <td>1.015901e-09</td>\n",
              "      <td>-5.238297e-06</td>\n",
              "      <td>NaN</td>\n",
              "      <td>NaN</td>\n",
              "      <td>0.000114</td>\n",
              "      <td>-9.300680e-08</td>\n",
              "      <td>-0.000011</td>\n",
              "      <td>NaN</td>\n",
              "      <td>NaN</td>\n",
              "      <td>NaN</td>\n",
              "      <td>0.000351</td>\n",
              "      <td>NaN</td>\n",
              "      <td>-8.006356e-09</td>\n",
              "      <td>-3.456105e-07</td>\n",
              "      <td>NaN</td>\n",
              "      <td>NaN</td>\n",
              "      <td>NaN</td>\n",
              "      <td>-0.000024</td>\n",
              "      <td>-0.000024</td>\n",
              "      <td>-0.000012</td>\n",
              "      <td>-4.014007e-06</td>\n",
              "      <td>-1.199978e-05</td>\n",
              "      <td>-0.000017</td>\n",
              "      <td>-0.000012</td>\n",
              "      <td>5.004338e-09</td>\n",
              "      <td>-3.500068e-06</td>\n",
              "      <td>...</td>\n",
              "      <td>1.589600e-07</td>\n",
              "      <td>-0.000049</td>\n",
              "      <td>-0.000144</td>\n",
              "      <td>NaN</td>\n",
              "      <td>NaN</td>\n",
              "      <td>NaN</td>\n",
              "      <td>NaN</td>\n",
              "      <td>NaN</td>\n",
              "      <td>-0.000114</td>\n",
              "      <td>-0.000044</td>\n",
              "      <td>-0.000080</td>\n",
              "      <td>NaN</td>\n",
              "      <td>-8.325978e-07</td>\n",
              "      <td>-1.866257e-07</td>\n",
              "      <td>-0.000093</td>\n",
              "      <td>NaN</td>\n",
              "      <td>NaN</td>\n",
              "      <td>0.000181</td>\n",
              "      <td>0.000002</td>\n",
              "      <td>0.000048</td>\n",
              "      <td>8.006356e-09</td>\n",
              "      <td>-0.000049</td>\n",
              "      <td>-4.856605e-05</td>\n",
              "      <td>-0.000010</td>\n",
              "      <td>NaN</td>\n",
              "      <td>NaN</td>\n",
              "      <td>NaN</td>\n",
              "      <td>-0.000036</td>\n",
              "      <td>NaN</td>\n",
              "      <td>0.000019</td>\n",
              "      <td>0.000397</td>\n",
              "      <td>NaN</td>\n",
              "      <td>0.000043</td>\n",
              "      <td>-0.000264</td>\n",
              "      <td>NaN</td>\n",
              "      <td>NaN</td>\n",
              "      <td>NaN</td>\n",
              "      <td>NaN</td>\n",
              "      <td>0.000024</td>\n",
              "      <td>NaN</td>\n",
              "    </tr>\n",
              "    <tr>\n",
              "      <th>Ruminococcus</th>\n",
              "      <td>-0.000042</td>\n",
              "      <td>0.000011</td>\n",
              "      <td>0.000026</td>\n",
              "      <td>0.000007</td>\n",
              "      <td>0.000004</td>\n",
              "      <td>3.272872e-08</td>\n",
              "      <td>-2.928955e-06</td>\n",
              "      <td>NaN</td>\n",
              "      <td>NaN</td>\n",
              "      <td>NaN</td>\n",
              "      <td>NaN</td>\n",
              "      <td>0.000030</td>\n",
              "      <td>0.000456</td>\n",
              "      <td>2.874386e-06</td>\n",
              "      <td>-2.623106e-08</td>\n",
              "      <td>1.930077e-07</td>\n",
              "      <td>0.000125</td>\n",
              "      <td>9.565191e-08</td>\n",
              "      <td>-0.000014</td>\n",
              "      <td>1.859063e-08</td>\n",
              "      <td>-0.000023</td>\n",
              "      <td>NaN</td>\n",
              "      <td>NaN</td>\n",
              "      <td>NaN</td>\n",
              "      <td>0.000039</td>\n",
              "      <td>-0.000207</td>\n",
              "      <td>-4.167604e-09</td>\n",
              "      <td>-4.882555e-08</td>\n",
              "      <td>NaN</td>\n",
              "      <td>7.773501e-07</td>\n",
              "      <td>NaN</td>\n",
              "      <td>NaN</td>\n",
              "      <td>NaN</td>\n",
              "      <td>-0.000022</td>\n",
              "      <td>-2.367822e-08</td>\n",
              "      <td>-2.228885e-05</td>\n",
              "      <td>-0.000018</td>\n",
              "      <td>-0.000022</td>\n",
              "      <td>-2.982465e-08</td>\n",
              "      <td>-2.367822e-08</td>\n",
              "      <td>...</td>\n",
              "      <td>NaN</td>\n",
              "      <td>-0.000020</td>\n",
              "      <td>-0.000088</td>\n",
              "      <td>NaN</td>\n",
              "      <td>-0.000007</td>\n",
              "      <td>0.000006</td>\n",
              "      <td>-0.000007</td>\n",
              "      <td>-0.000008</td>\n",
              "      <td>-0.000026</td>\n",
              "      <td>-0.000098</td>\n",
              "      <td>NaN</td>\n",
              "      <td>-0.000028</td>\n",
              "      <td>NaN</td>\n",
              "      <td>-2.946719e-05</td>\n",
              "      <td>-0.000050</td>\n",
              "      <td>1.097783e-07</td>\n",
              "      <td>NaN</td>\n",
              "      <td>0.000132</td>\n",
              "      <td>-0.000052</td>\n",
              "      <td>0.000019</td>\n",
              "      <td>4.167604e-09</td>\n",
              "      <td>-0.000020</td>\n",
              "      <td>-1.957411e-05</td>\n",
              "      <td>0.000042</td>\n",
              "      <td>-0.000001</td>\n",
              "      <td>-0.000098</td>\n",
              "      <td>NaN</td>\n",
              "      <td>-0.000053</td>\n",
              "      <td>0.000038</td>\n",
              "      <td>0.000002</td>\n",
              "      <td>0.000314</td>\n",
              "      <td>-0.000011</td>\n",
              "      <td>-0.000004</td>\n",
              "      <td>-0.000127</td>\n",
              "      <td>NaN</td>\n",
              "      <td>NaN</td>\n",
              "      <td>NaN</td>\n",
              "      <td>NaN</td>\n",
              "      <td>NaN</td>\n",
              "      <td>NaN</td>\n",
              "    </tr>\n",
              "  </tbody>\n",
              "</table>\n",
              "<p>5 rows × 4430 columns</p>\n",
              "</div>"
            ],
            "text/plain": [
              "reaction          12DGR180ti  12PPDSDH  ...    sink_s  sink_sheme(c)\n",
              "compartment                             ...                         \n",
              "Akkermansia              NaN       NaN  ...  0.000241      -0.000141\n",
              "Bacteroides              NaN       NaN  ...  0.000103            NaN\n",
              "Faecalibacterium    0.000045       NaN  ...       NaN      -0.000241\n",
              "Parabacteroides    -0.000047       NaN  ...  0.000024            NaN\n",
              "Ruminococcus       -0.000042  0.000011  ...       NaN            NaN\n",
              "\n",
              "[5 rows x 4430 columns]"
            ]
          },
          "metadata": {
            "tags": []
          },
          "execution_count": 27
        }
      ]
    },
    {
      "cell_type": "markdown",
      "metadata": {
        "id": "Aeg_X2KQucKK"
      },
      "source": [
        "The acetate export reaction has the name `EX_ac(e)`. Identify the primary acetate producer in the system. Don't forget about the accuracy of 10<sup>-3</sup>."
      ]
    },
    {
      "cell_type": "code",
      "metadata": {
        "id": "q6_pLLG5YeoZ"
      },
      "source": [
        "sol.fluxes[\"EX_ac(e)\"]"
      ],
      "execution_count": null,
      "outputs": []
    },
    {
      "cell_type": "markdown",
      "metadata": {
        "id": "4l9srmRpYmdS"
      },
      "source": [
        "Looks like Akkermansia is the major producer. But this is expressed as flux per gDW of bacteria. But we might want to scale this by the relative abundance to get the total amount produced by each taxon."
      ]
    },
    {
      "cell_type": "code",
      "metadata": {
        "id": "9kf44fUEYz1B"
      },
      "source": [
        "sol.fluxes[\"EX_ac(e)\"] * com.abundances"
      ],
      "execution_count": null,
      "outputs": []
    },
    {
      "cell_type": "markdown",
      "metadata": {
        "id": "LGGBSgwVwZiC"
      },
      "source": [
        "Look up at least one other reaction at https://www.vmh.life/#microbes/reactions, and get it's predicted fluxes. Does the reaction take place? If yes in which organism? Can you identify the most active fluxes in the community?"
      ]
    },
    {
      "cell_type": "code",
      "metadata": {
        "id": "PFwS8VIbuIY6"
      },
      "source": [
        "# Glucose\n",
        "sol.fluxes[\"EX_glc_D(e)\"]"
      ],
      "execution_count": null,
      "outputs": []
    },
    {
      "cell_type": "code",
      "metadata": {
        "id": "Usg0RyshZM3k"
      },
      "source": [
        "# most active\n",
        "highest = sol.fluxes.abs().mean(axis=0).sort_values(ascending=False)[0:10]\n",
        "highest = highest.to_frame(name=\"flux\").reset_index()\n",
        "highest"
      ],
      "execution_count": null,
      "outputs": []
    },
    {
      "cell_type": "markdown",
      "metadata": {
        "id": "CsqIRTbC7doD"
      },
      "source": [
        "# 🔵 Addendum\n"
      ]
    },
    {
      "cell_type": "markdown",
      "metadata": {
        "id": "hycoXNTi5xsH"
      },
      "source": [
        "## Choosing a tradeoff value\n",
        "\n",
        "Even if you don't have growth rates available you can still use your data to choose a decent tradeoff value. This can be done by choosing the largest tradeoff value that still allows growth for the majority of the taxa that you observed in the sample (if they are present at an appreciable abundance, they should be able to grow). This can be done with the `tradeoff` workflow in MICOM that will run cooperative tradeoff with varying tradeoff values, which can be visualized with the `plot_tradeoff` function."
      ]
    },
    {
      "cell_type": "code",
      "metadata": {
        "id": "8_1jesZTHYra"
      },
      "source": [
        "from micom.workflows import tradeoff\n",
        "import micom\n",
        "\n",
        "tradeoff_results = tradeoff(manifest, \"models\", medium, threads=2)\n",
        "tradeoff_results.to_csv(\"tradeoff.csv\", index=False)\n",
        "\n",
        "plot_tradeoff(tradeoff_results, tolerance=1e-4)"
      ],
      "execution_count": null,
      "outputs": []
    },
    {
      "cell_type": "markdown",
      "metadata": {
        "id": "y9703vhK6d6c"
      },
      "source": [
        "After opeing `tradeoff_[DATE].html` you will see that, for our example here, all tradeoff values work great. This is because we modeled very few taxa, which keeps the compettion down. If you would allow for fewer abundant taxa in the models, this would change drastically. For instance, here is an example from a colorectal cancer data set:\n",
        "\n",
        "[![tradeoff example](https://micom-dev.github.io/micom/_images/tradeoff.png)](https://micom-dev.github.io/micom/_static/tradeoff.html)\n",
        "\n",
        "You can see how not using the cooperative tradeoff would give you nonsense results where only 10% of all observed taxa grew. A tradeoff value of 0.6-0.8 would probably be a good choice for this particular data set."
      ]
    }
  ]
}