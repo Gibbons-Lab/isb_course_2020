{
  "nbformat": 4,
  "nbformat_minor": 0,
  "metadata": {
    "colab": {
      "name": "micom_solutions.ipynb",
      "provenance": [],
      "collapsed_sections": [],
      "toc_visible": true,
      "include_colab_link": true
    },
    "kernelspec": {
      "name": "python3",
      "display_name": "Python 3"
    },
    "widgets": {
      "application/vnd.jupyter.widget-state+json": {
        "c66970680f414cd498d8c7c6208bcbbc": {
          "model_module": "@jupyter-widgets/output",
          "model_name": "OutputModel",
          "state": {
            "_view_name": "OutputView",
            "msg_id": "",
            "_dom_classes": [],
            "_model_name": "OutputModel",
            "outputs": [
              {
                "output_type": "display_data",
                "metadata": {
                  "tags": []
                },
                "text/html": "<pre style=\"white-space:pre;overflow-x:auto;line-height:normal;font-family:Menlo,'DejaVu Sans Mono',consolas,'Courier New',monospace\">Running <span style=\"color: #729c1f; text-decoration-color: #729c1f\">━━━━━━━━━━━━━━━━━━━━━━━━━━━━━━━━━━━━━━━━</span> <span style=\"color: #800080; text-decoration-color: #800080\">100%</span> <span style=\"color: #008080; text-decoration-color: #008080\">0:00:00</span>\n</pre>\n",
                "text/plain": "Running \u001b[38;2;114;156;31m━━━━━━━━━━━━━━━━━━━━━━━━━━━━━━━━━━━━━━━━\u001b[0m \u001b[35m100%\u001b[0m \u001b[36m0:00:00\u001b[0m\n"
              }
            ],
            "_view_module": "@jupyter-widgets/output",
            "_model_module_version": "1.0.0",
            "_view_count": null,
            "_view_module_version": "1.0.0",
            "layout": "IPY_MODEL_1676cd52b0c94f2396b537496b2c0442",
            "_model_module": "@jupyter-widgets/output"
          }
        },
        "1676cd52b0c94f2396b537496b2c0442": {
          "model_module": "@jupyter-widgets/base",
          "model_name": "LayoutModel",
          "state": {
            "_view_name": "LayoutView",
            "grid_template_rows": null,
            "right": null,
            "justify_content": null,
            "_view_module": "@jupyter-widgets/base",
            "overflow": null,
            "_model_module_version": "1.2.0",
            "_view_count": null,
            "flex_flow": null,
            "width": null,
            "min_width": null,
            "border": null,
            "align_items": null,
            "bottom": null,
            "_model_module": "@jupyter-widgets/base",
            "top": null,
            "grid_column": null,
            "overflow_y": null,
            "overflow_x": null,
            "grid_auto_flow": null,
            "grid_area": null,
            "grid_template_columns": null,
            "flex": null,
            "_model_name": "LayoutModel",
            "justify_items": null,
            "grid_row": null,
            "max_height": null,
            "align_content": null,
            "visibility": null,
            "align_self": null,
            "height": null,
            "min_height": null,
            "padding": null,
            "grid_auto_rows": null,
            "grid_gap": null,
            "max_width": null,
            "order": null,
            "_view_module_version": "1.2.0",
            "grid_template_areas": null,
            "object_position": null,
            "object_fit": null,
            "grid_auto_columns": null,
            "margin": null,
            "display": null,
            "left": null
          }
        },
        "8a8e12f97fe24577ac6471ddf3c75dee": {
          "model_module": "@jupyter-widgets/output",
          "model_name": "OutputModel",
          "state": {
            "_view_name": "OutputView",
            "msg_id": "",
            "_dom_classes": [],
            "_model_name": "OutputModel",
            "outputs": [
              {
                "output_type": "display_data",
                "metadata": {
                  "tags": []
                },
                "text/html": "<pre style=\"white-space:pre;overflow-x:auto;line-height:normal;font-family:Menlo,'DejaVu Sans Mono',consolas,'Courier New',monospace\">Running <span style=\"color: #729c1f; text-decoration-color: #729c1f\">━━━━━━━━━━━━━━━━━━━━━━━━━━━━━━━━━━━━━━━━</span> <span style=\"color: #800080; text-decoration-color: #800080\">100%</span> <span style=\"color: #008080; text-decoration-color: #008080\">0:00:00</span>\n</pre>\n",
                "text/plain": "Running \u001b[38;2;114;156;31m━━━━━━━━━━━━━━━━━━━━━━━━━━━━━━━━━━━━━━━━\u001b[0m \u001b[35m100%\u001b[0m \u001b[36m0:00:00\u001b[0m\n"
              }
            ],
            "_view_module": "@jupyter-widgets/output",
            "_model_module_version": "1.0.0",
            "_view_count": null,
            "_view_module_version": "1.0.0",
            "layout": "IPY_MODEL_56a451783982435ebf34cee759a14c2f",
            "_model_module": "@jupyter-widgets/output"
          }
        },
        "56a451783982435ebf34cee759a14c2f": {
          "model_module": "@jupyter-widgets/base",
          "model_name": "LayoutModel",
          "state": {
            "_view_name": "LayoutView",
            "grid_template_rows": null,
            "right": null,
            "justify_content": null,
            "_view_module": "@jupyter-widgets/base",
            "overflow": null,
            "_model_module_version": "1.2.0",
            "_view_count": null,
            "flex_flow": null,
            "width": null,
            "min_width": null,
            "border": null,
            "align_items": null,
            "bottom": null,
            "_model_module": "@jupyter-widgets/base",
            "top": null,
            "grid_column": null,
            "overflow_y": null,
            "overflow_x": null,
            "grid_auto_flow": null,
            "grid_area": null,
            "grid_template_columns": null,
            "flex": null,
            "_model_name": "LayoutModel",
            "justify_items": null,
            "grid_row": null,
            "max_height": null,
            "align_content": null,
            "visibility": null,
            "align_self": null,
            "height": null,
            "min_height": null,
            "padding": null,
            "grid_auto_rows": null,
            "grid_gap": null,
            "max_width": null,
            "order": null,
            "_view_module_version": "1.2.0",
            "grid_template_areas": null,
            "object_position": null,
            "object_fit": null,
            "grid_auto_columns": null,
            "margin": null,
            "display": null,
            "left": null
          }
        },
        "879609a1e9e64ca28e7b0aa06a5252a0": {
          "model_module": "@jupyter-widgets/output",
          "model_name": "OutputModel",
          "state": {
            "_view_name": "OutputView",
            "msg_id": "",
            "_dom_classes": [],
            "_model_name": "OutputModel",
            "outputs": [
              {
                "output_type": "display_data",
                "metadata": {
                  "tags": []
                },
                "text/html": "<pre style=\"white-space:pre;overflow-x:auto;line-height:normal;font-family:Menlo,'DejaVu Sans Mono',consolas,'Courier New',monospace\">Knockouts <span style=\"color: #729c1f; text-decoration-color: #729c1f\">━━━━━━━━━━━━━━━━━━━━━━━━━━━━━━━━━━━━━━━━</span> <span style=\"color: #800080; text-decoration-color: #800080\">100%</span> <span style=\"color: #008080; text-decoration-color: #008080\">0:00:00</span>\n</pre>\n",
                "text/plain": "Knockouts \u001b[38;2;114;156;31m━━━━━━━━━━━━━━━━━━━━━━━━━━━━━━━━━━━━━━━━\u001b[0m \u001b[35m100%\u001b[0m \u001b[36m0:00:00\u001b[0m\n"
              }
            ],
            "_view_module": "@jupyter-widgets/output",
            "_model_module_version": "1.0.0",
            "_view_count": null,
            "_view_module_version": "1.0.0",
            "layout": "IPY_MODEL_bd86eec6111142009c9a5ca6c0f003c8",
            "_model_module": "@jupyter-widgets/output"
          }
        },
        "bd86eec6111142009c9a5ca6c0f003c8": {
          "model_module": "@jupyter-widgets/base",
          "model_name": "LayoutModel",
          "state": {
            "_view_name": "LayoutView",
            "grid_template_rows": null,
            "right": null,
            "justify_content": null,
            "_view_module": "@jupyter-widgets/base",
            "overflow": null,
            "_model_module_version": "1.2.0",
            "_view_count": null,
            "flex_flow": null,
            "width": null,
            "min_width": null,
            "border": null,
            "align_items": null,
            "bottom": null,
            "_model_module": "@jupyter-widgets/base",
            "top": null,
            "grid_column": null,
            "overflow_y": null,
            "overflow_x": null,
            "grid_auto_flow": null,
            "grid_area": null,
            "grid_template_columns": null,
            "flex": null,
            "_model_name": "LayoutModel",
            "justify_items": null,
            "grid_row": null,
            "max_height": null,
            "align_content": null,
            "visibility": null,
            "align_self": null,
            "height": null,
            "min_height": null,
            "padding": null,
            "grid_auto_rows": null,
            "grid_gap": null,
            "max_width": null,
            "order": null,
            "_view_module_version": "1.2.0",
            "grid_template_areas": null,
            "object_position": null,
            "object_fit": null,
            "grid_auto_columns": null,
            "margin": null,
            "display": null,
            "left": null
          }
        },
        "38356ed4d4f5473b9bb35a0336c18842": {
          "model_module": "@jupyter-widgets/output",
          "model_name": "OutputModel",
          "state": {
            "_view_name": "OutputView",
            "msg_id": "",
            "_dom_classes": [],
            "_model_name": "OutputModel",
            "outputs": [
              {
                "output_type": "display_data",
                "metadata": {
                  "tags": []
                },
                "text/html": "<pre style=\"white-space:pre;overflow-x:auto;line-height:normal;font-family:Menlo,'DejaVu Sans Mono',consolas,'Courier New',monospace\">Running <span style=\"color: #3a3a3a; text-decoration-color: #3a3a3a\">━━━━━━━━━━━━━━━━━━━━━━━━━━━━━━━━━━━━━━━━</span> <span style=\"color: #800080; text-decoration-color: #800080\">  0%</span> <span style=\"color: #008080; text-decoration-color: #008080\">-:--:--</span>\n</pre>\n",
                "text/plain": "Running \u001b[38;5;237m━━━━━━━━━━━━━━━━━━━━━━━━━━━━━━━━━━━━━━━━\u001b[0m \u001b[35m  0%\u001b[0m \u001b[36m-:--:--\u001b[0m\n"
              },
              {
                "output_type": "display_data",
                "metadata": {
                  "tags": []
                },
                "text/html": "<pre style=\"white-space:pre;overflow-x:auto;line-height:normal;font-family:Menlo,'DejaVu Sans Mono',consolas,'Courier New',monospace\"><span style=\"color: #7fbfbf; text-decoration-color: #7fbfbf\">[18:51:32] </span><span style=\"color: #800000; text-decoration-color: #800000\">WARNING </span> Sample ERR1883212 could not be optimized with cooperative  <a href=\"file:///usr/local/lib/python3.7/dist-packages/micom/workflows/tradeoff.py\"><span style=\"color: #7f7f7f; text-decoration-color: #7f7f7f\">tradeoff.py</span></a><span style=\"color: #7f7f7f; text-decoration-color: #7f7f7f\">:45</span>\n                    tradeoff <span style=\"font-weight: bold\">(</span>optimal<span style=\"font-weight: bold\">)</span>.                                                      \n</pre>\n",
                "text/plain": "\u001b[2;36m[18:51:32]\u001b[0m\u001b[2;36m \u001b[0m\u001b[31mWARNING \u001b[0m Sample ERR1883212 could not be optimized with cooperative  \u001b]8;id=1625856692.0775158-3576;file:///usr/local/lib/python3.7/dist-packages/micom/workflows/tradeoff.py\u001b\\\u001b[2mtradeoff.py\u001b[0m\u001b]8;;\u001b\\\u001b[2m:45\u001b[0m\n                    tradeoff \u001b[1m(\u001b[0moptimal\u001b[1m)\u001b[0m.                                                      \n"
              }
            ],
            "_view_module": "@jupyter-widgets/output",
            "_model_module_version": "1.0.0",
            "_view_count": null,
            "_view_module_version": "1.0.0",
            "layout": "IPY_MODEL_9b27d04672844495b82a80e73a9103c4",
            "_model_module": "@jupyter-widgets/output"
          }
        },
        "9b27d04672844495b82a80e73a9103c4": {
          "model_module": "@jupyter-widgets/base",
          "model_name": "LayoutModel",
          "state": {
            "_view_name": "LayoutView",
            "grid_template_rows": null,
            "right": null,
            "justify_content": null,
            "_view_module": "@jupyter-widgets/base",
            "overflow": null,
            "_model_module_version": "1.2.0",
            "_view_count": null,
            "flex_flow": null,
            "width": null,
            "min_width": null,
            "border": null,
            "align_items": null,
            "bottom": null,
            "_model_module": "@jupyter-widgets/base",
            "top": null,
            "grid_column": null,
            "overflow_y": null,
            "overflow_x": null,
            "grid_auto_flow": null,
            "grid_area": null,
            "grid_template_columns": null,
            "flex": null,
            "_model_name": "LayoutModel",
            "justify_items": null,
            "grid_row": null,
            "max_height": null,
            "align_content": null,
            "visibility": null,
            "align_self": null,
            "height": null,
            "min_height": null,
            "padding": null,
            "grid_auto_rows": null,
            "grid_gap": null,
            "max_width": null,
            "order": null,
            "_view_module_version": "1.2.0",
            "grid_template_areas": null,
            "object_position": null,
            "object_fit": null,
            "grid_auto_columns": null,
            "margin": null,
            "display": null,
            "left": null
          }
        }
      }
    }
  },
  "cells": [
    {
      "cell_type": "markdown",
      "metadata": {
        "id": "view-in-github",
        "colab_type": "text"
      },
      "source": [
        "<a href=\"https://colab.research.google.com/github/Gibbons-Lab/isb_course_2020/blob/master/micom_solutions.ipynb\" target=\"_parent\"><img src=\"https://colab.research.google.com/assets/colab-badge.svg\" alt=\"Open In Colab\"/></a>"
      ]
    },
    {
      "cell_type": "markdown",
      "metadata": {
        "id": "C0vqP4LJ9y6K"
      },
      "source": [
        "# 🧫🦠 Modeling microbiota-wide metabolism with MICOM\n",
        "\n",
        "This notebook will accompany the second session of the 2020 ISB Microbiome Course. The presentation slides can be [found here](https://gibbons-lab.github.io/isb_course_2020/micom). \n",
        "\n",
        "You can save your own local copy of this notebook by using `File > Save a copy in Drive`. You may be promted to cetify the notebook is safe. We promise that it is 🤞\n",
        "\n",
        "**Disclaimer:**\n",
        "The linear and quadratic programming problems MICOM has to solve are very large and very complicated. There are some very good commercial solvers that are very expensive (even though they are often free for academic use). To make this tutorial as accessible as possible we will use the Open Source solver [OSQP](https://osqp.org/). OSQP is amazing with quadratic programming problems (kudos!) but not as accurate for linear problems. Solvers usually only guarantee a solution within a certain numerical tolerance of the real solution. In order to make everything work with OSQP this tolerance has to be relaxed to about 10<sup>-3</sup>. This means that any result with an absolute value smaller than that might very well be zero so we should look at larger values only. Installing cost-free academic versions of commercial solvers like [IBM CPLEX](https://www.ibm.com/analytics/cplex-optimizer) or [Gurobi](https://www.gurobi.com/) would alow you to lower the tolerance to 10<sup>-6</sup>.\n",
        "\n"
      ]
    },
    {
      "cell_type": "markdown",
      "metadata": {
        "id": "qgBBl4GtuTuX"
      },
      "source": [
        "# 📝 Setup\n",
        "\n",
        "MICOM installation is is usually pretty straight-forward and can be as easy as typing `pip install micom` into your Terminal. However, MICOM will require a solver for quadratic programming problems and all the best ones are commercial (boo) even though they often have free academic licenses 😌. We will use a brand new open source QP solver named OSQP, but this will require us to pull in development versions of certain packages.\n",
        "\n",
        "But first let's start by downloading the materials again and switching to the folder."
      ]
    },
    {
      "cell_type": "code",
      "metadata": {
        "id": "ckON4xr3_bW5",
        "colab": {
          "base_uri": "https://localhost:8080/"
        },
        "outputId": "001614b4-56bf-46f2-f49c-a57b8e2d3cb4"
      },
      "source": [
        "!git clone https://github.com/gibbons-lab/isb_course_2020 materials\n",
        "%cd materials"
      ],
      "execution_count": 1,
      "outputs": [
        {
          "output_type": "stream",
          "text": [
            "Cloning into 'materials'...\n",
            "remote: Enumerating objects: 1234, done.\u001b[K\n",
            "remote: Counting objects: 100% (236/236), done.\u001b[K\n",
            "remote: Compressing objects: 100% (220/220), done.\u001b[K\n",
            "remote: Total 1234 (delta 115), reused 43 (delta 16), pack-reused 998\u001b[K\n",
            "Receiving objects: 100% (1234/1234), 189.60 MiB | 7.62 MiB/s, done.\n",
            "Resolving deltas: 100% (472/472), done.\n",
            "Checking out files: 100% (1109/1109), done.\n",
            "/content/materials\n"
          ],
          "name": "stdout"
        }
      ]
    },
    {
      "cell_type": "markdown",
      "metadata": {
        "id": "is6fmBUeorwv"
      },
      "source": [
        "## Basic Installation\n",
        "\n",
        "Installing MICOM is straight-forward in Python. OSQP itself can be installed right along with it."
      ]
    },
    {
      "cell_type": "code",
      "metadata": {
        "id": "M_TeC5yrst3h",
        "colab": {
          "base_uri": "https://localhost:8080/"
        },
        "outputId": "de182eeb-8c2c-4625-ce49-37536a27a873"
      },
      "source": [
        "!pip install -q micom\n",
        "\n",
        "print(\"Done! 🎉 \")"
      ],
      "execution_count": 2,
      "outputs": [
        {
          "output_type": "stream",
          "text": [
            "\u001b[K     |████████████████████████████████| 829kB 5.0MB/s \n",
            "\u001b[K     |████████████████████████████████| 2.4MB 41.5MB/s \n",
            "\u001b[K     |████████████████████████████████| 33.9MB 73kB/s \n",
            "\u001b[K     |████████████████████████████████| 112kB 54.0MB/s \n",
            "\u001b[K     |████████████████████████████████| 81kB 9.3MB/s \n",
            "\u001b[K     |████████████████████████████████| 153kB 37.3MB/s \n",
            "\u001b[K     |████████████████████████████████| 51kB 6.1MB/s \n",
            "\u001b[K     |████████████████████████████████| 10.1MB 139kB/s \n",
            "\u001b[K     |████████████████████████████████| 215kB 46.1MB/s \n",
            "\u001b[K     |████████████████████████████████| 6.2MB 28.6MB/s \n",
            "\u001b[K     |████████████████████████████████| 2.1MB 39.7MB/s \n",
            "\u001b[K     |████████████████████████████████| 552kB 23.3MB/s \n",
            "\u001b[K     |████████████████████████████████| 61kB 7.9MB/s \n",
            "\u001b[K     |████████████████████████████████| 51kB 6.3MB/s \n",
            "\u001b[K     |████████████████████████████████| 81kB 9.4MB/s \n",
            "\u001b[K     |████████████████████████████████| 61kB 7.6MB/s \n",
            "\u001b[?25hDone! 🎉 \n"
          ],
          "name": "stdout"
        }
      ]
    },
    {
      "cell_type": "markdown",
      "metadata": {
        "id": "6oJrxxz6tV9T"
      },
      "source": [
        "## Enable QIIME 2 interactions\n",
        "\n",
        "Finally we will need to install packages to read the \"biom\" format which is a file format QIIME 2 uses to save tables. This is only necessary if you want to read QIIME 2 FeatureTable artifacts."
      ]
    },
    {
      "cell_type": "code",
      "metadata": {
        "id": "5rZX7SK_toLp",
        "colab": {
          "base_uri": "https://localhost:8080/"
        },
        "outputId": "6130834a-0983-46a9-87f5-483a55a60a84"
      },
      "source": [
        "!pip install -q numpy Cython\n",
        "!pip install -q biom-format\n",
        "\n",
        "print(\"Done! 🎉 \")"
      ],
      "execution_count": 3,
      "outputs": [
        {
          "output_type": "stream",
          "text": [
            "\u001b[K     |████████████████████████████████| 11.7MB 215kB/s \n",
            "\u001b[?25h  Installing build dependencies ... \u001b[?25l\u001b[?25hdone\n",
            "  Getting requirements to build wheel ... \u001b[?25l\u001b[?25hdone\n",
            "    Preparing wheel metadata ... \u001b[?25l\u001b[?25hdone\n",
            "  Building wheel for biom-format (PEP 517) ... \u001b[?25l\u001b[?25hdone\n",
            "Done! 🎉 \n"
          ],
          "name": "stdout"
        }
      ]
    },
    {
      "cell_type": "markdown",
      "metadata": {
        "id": "oPy1f-WLI0lZ"
      },
      "source": [
        "Okay, all done. So let's get started 😁.\n",
        "\n",
        "# 💻 MICOM\n",
        "\n",
        "We will use the Python interface to MICOM since it plays nicely with Colaboratory. However, you could run the same steps within the QIIME 2 MICOM plugin ([q2-micom](https://library.qiime2.org/plugins/q2-micom/26/)). \n",
        "\n",
        "Here is an overview of all the steps and functions:\n",
        "![micom overview](https://github.com/micom-dev/q2-micom/raw/706f583a060b91c12c0cec7acea2354fdd0dd320/docs/assets/overview.png).\n",
        "\n",
        "MICOM starts from a combined abundance/taxonomy table, which MICOM abbreviates to a taxonomy table. To see how those tables look we can import MICOM and look at an example table:\n"
      ]
    },
    {
      "cell_type": "code",
      "metadata": {
        "id": "UV9SObSQkSZh",
        "colab": {
          "base_uri": "https://localhost:8080/",
          "height": 206
        },
        "outputId": "23b02b26-4451-4bf7-9b20-389932701839"
      },
      "source": [
        "from micom.data import test_data\n",
        "\n",
        "test_data().head()"
      ],
      "execution_count": 4,
      "outputs": [
        {
          "output_type": "execute_result",
          "data": {
            "text/html": [
              "<div>\n",
              "<style scoped>\n",
              "    .dataframe tbody tr th:only-of-type {\n",
              "        vertical-align: middle;\n",
              "    }\n",
              "\n",
              "    .dataframe tbody tr th {\n",
              "        vertical-align: top;\n",
              "    }\n",
              "\n",
              "    .dataframe thead th {\n",
              "        text-align: right;\n",
              "    }\n",
              "</style>\n",
              "<table border=\"1\" class=\"dataframe\">\n",
              "  <thead>\n",
              "    <tr style=\"text-align: right;\">\n",
              "      <th></th>\n",
              "      <th>id</th>\n",
              "      <th>genus</th>\n",
              "      <th>species</th>\n",
              "      <th>reactions</th>\n",
              "      <th>metabolites</th>\n",
              "      <th>file</th>\n",
              "      <th>sample_id</th>\n",
              "      <th>abundance</th>\n",
              "    </tr>\n",
              "  </thead>\n",
              "  <tbody>\n",
              "    <tr>\n",
              "      <th>0</th>\n",
              "      <td>Escherichia_coli_1</td>\n",
              "      <td>Escherichia</td>\n",
              "      <td>Escherichia coli 0</td>\n",
              "      <td>95</td>\n",
              "      <td>72</td>\n",
              "      <td>/usr/local/lib/python3.7/dist-packages/micom/d...</td>\n",
              "      <td>sample_1</td>\n",
              "      <td>876</td>\n",
              "    </tr>\n",
              "    <tr>\n",
              "      <th>1</th>\n",
              "      <td>Escherichia_coli_2</td>\n",
              "      <td>Escherichia</td>\n",
              "      <td>Escherichia coli 1</td>\n",
              "      <td>95</td>\n",
              "      <td>72</td>\n",
              "      <td>/usr/local/lib/python3.7/dist-packages/micom/d...</td>\n",
              "      <td>sample_1</td>\n",
              "      <td>75</td>\n",
              "    </tr>\n",
              "    <tr>\n",
              "      <th>2</th>\n",
              "      <td>Escherichia_coli_3</td>\n",
              "      <td>Escherichia</td>\n",
              "      <td>Escherichia coli 2</td>\n",
              "      <td>95</td>\n",
              "      <td>72</td>\n",
              "      <td>/usr/local/lib/python3.7/dist-packages/micom/d...</td>\n",
              "      <td>sample_1</td>\n",
              "      <td>577</td>\n",
              "    </tr>\n",
              "    <tr>\n",
              "      <th>3</th>\n",
              "      <td>Escherichia_coli_4</td>\n",
              "      <td>Escherichia</td>\n",
              "      <td>Escherichia coli 3</td>\n",
              "      <td>95</td>\n",
              "      <td>72</td>\n",
              "      <td>/usr/local/lib/python3.7/dist-packages/micom/d...</td>\n",
              "      <td>sample_1</td>\n",
              "      <td>953</td>\n",
              "    </tr>\n",
              "    <tr>\n",
              "      <th>0</th>\n",
              "      <td>Escherichia_coli_1</td>\n",
              "      <td>Escherichia</td>\n",
              "      <td>Escherichia coli 0</td>\n",
              "      <td>95</td>\n",
              "      <td>72</td>\n",
              "      <td>/usr/local/lib/python3.7/dist-packages/micom/d...</td>\n",
              "      <td>sample_2</td>\n",
              "      <td>592</td>\n",
              "    </tr>\n",
              "  </tbody>\n",
              "</table>\n",
              "</div>"
            ],
            "text/plain": [
              "                   id        genus  ... sample_id  abundance\n",
              "0  Escherichia_coli_1  Escherichia  ...  sample_1        876\n",
              "1  Escherichia_coli_2  Escherichia  ...  sample_1         75\n",
              "2  Escherichia_coli_3  Escherichia  ...  sample_1        577\n",
              "3  Escherichia_coli_4  Escherichia  ...  sample_1        953\n",
              "0  Escherichia_coli_1  Escherichia  ...  sample_2        592\n",
              "\n",
              "[5 rows x 8 columns]"
            ]
          },
          "metadata": {
            "tags": []
          },
          "execution_count": 4
        }
      ]
    },
    {
      "cell_type": "markdown",
      "metadata": {
        "id": "AEk7yfd1lbYp"
      },
      "source": [
        "The `file` column is not required when using a taxonomy database like we will do here. The `id` column specifies identifiers for the taxa and should be expressive and not include spaces or special characters. Each row needs to contain the the abundance of a single taxon in a single sample. \n",
        "\n",
        "Oh no, that's not what we have generated in the previous step. We only have separate QIIME 2 artifacts 😱 \n",
        "\n",
        "No worries, we can deal with that.\n",
        "\n",
        "## Importing data from QIIME 2\n",
        "\n",
        "MICOM can read QIIME 2 artifacts. You don't even need to have QIIME 2 installed for that! But before we do so, let's resolve one issue. We discussed that MICOM summarizes genome-scale models into pangenome-scale models as a first step, but our data are on the ASV level...so how will we know what to summarize? Basically, specific model database can be used to quickly summarize pangenome-scale models for use within MICOM. So, before we read our data we have to decide which model database to use. We will go with the [AGORA database](https://pubmed.ncbi.nlm.nih.gov/27893703/), which is a curated database of more than 800 bacterial strains that commonly live in the human gut. In particular, we will use a version of this database summarized on the genus rank.\n",
        "\n"
      ]
    },
    {
      "cell_type": "code",
      "metadata": {
        "id": "eXGHZPYwlEa5",
        "colab": {
          "base_uri": "https://localhost:8080/"
        },
        "outputId": "ff471ac1-a0e9-4a77-a328-ab20ab1e24ba"
      },
      "source": [
        "!wget -O agora103_genus.qza https://zenodo.org/record/3755182/files/agora103_genus.qza?download=1"
      ],
      "execution_count": 5,
      "outputs": [
        {
          "output_type": "stream",
          "text": [
            "--2021-07-09 18:30:35--  https://zenodo.org/record/3755182/files/agora103_genus.qza?download=1\n",
            "Resolving zenodo.org (zenodo.org)... 137.138.76.77\n",
            "Connecting to zenodo.org (zenodo.org)|137.138.76.77|:443... connected.\n",
            "HTTP request sent, awaiting response... 200 OK\n",
            "Length: 21080080 (20M) [application/octet-stream]\n",
            "Saving to: ‘agora103_genus.qza’\n",
            "\n",
            "agora103_genus.qza  100%[===================>]  20.10M  4.85MB/s    in 4.1s    \n",
            "\n",
            "2021-07-09 18:30:41 (4.85 MB/s) - ‘agora103_genus.qza’ saved [21080080/21080080]\n",
            "\n"
          ],
          "name": "stdout"
        }
      ]
    },
    {
      "cell_type": "markdown",
      "metadata": {
        "id": "_57iya0D3L6-"
      },
      "source": [
        "Okay. We've got everything we need now. The data from the prior analysis can be found in the `treasure_chest` folder, so we can use those files. We will remove all taxa that make up less than 2.5% of the community to keep the models small and speed up this tutorial."
      ]
    },
    {
      "cell_type": "code",
      "metadata": {
        "id": "o0vBAiiqqPLC"
      },
      "source": [
        "from micom.taxonomy import qiime_to_micom\n",
        "\n",
        "tax = qiime_to_micom(\n",
        "    \"treasure_chest/dada2/table.qza\", \n",
        "    \"treasure_chest/taxa.qza\", \n",
        "    collapse_on=\"genus\"\n",
        ")"
      ],
      "execution_count": 6,
      "outputs": []
    },
    {
      "cell_type": "markdown",
      "metadata": {
        "id": "-TQ6Zp7wouk4"
      },
      "source": [
        "Notice the `collapse_on` argument. That will specify the rank on which to sumarize and can be a list of several ranks. When matching taxonomy you can either match by the particular rank of interest (for example, just comparing genus names here), or you could compare the entire taxonomy, which will require all taxonomic ranks prior to the target rank to match. For that you cloud specify `collapse_on=[\"kingdom\", \"phylum\", \"class\", \"order\", \"family\", \"genus\"]`. \n",
        "\n",
        "Taxonomic names will often not match 100% between databases. For instance, the genus name \"Prevotella\" in one database may be \"Prevotella_6\" in another. The more ranks you use for matching the more likely are you to run into those issues. However, the more taxonomic ranks you use to match the more confident you can be that your observed taxon really is the same taxon as the one in the model database.\n",
        "\n",
        "The resulting table will contain the same abundances but it will include more ranks if `collapse_on` is a list. All ranks present in the taxonomy will be used when matching to the database. The GreenGenes database is pretty old and many taxonomic names have been superceded by now. So we will stick with the \"lax\" option of only matching on genus ranks.\n",
        "\n",
        "We can also look at the generated MICOM taxonomy."
      ]
    },
    {
      "cell_type": "code",
      "metadata": {
        "id": "2eS_g-ffNUAt",
        "colab": {
          "base_uri": "https://localhost:8080/",
          "height": 424
        },
        "outputId": "8b67dfc1-0a41-41ef-ac1b-b7ad54b672ac"
      },
      "source": [
        "tax"
      ],
      "execution_count": 7,
      "outputs": [
        {
          "output_type": "execute_result",
          "data": {
            "text/html": [
              "<div>\n",
              "<style scoped>\n",
              "    .dataframe tbody tr th:only-of-type {\n",
              "        vertical-align: middle;\n",
              "    }\n",
              "\n",
              "    .dataframe tbody tr th {\n",
              "        vertical-align: top;\n",
              "    }\n",
              "\n",
              "    .dataframe thead th {\n",
              "        text-align: right;\n",
              "    }\n",
              "</style>\n",
              "<table border=\"1\" class=\"dataframe\">\n",
              "  <thead>\n",
              "    <tr style=\"text-align: right;\">\n",
              "      <th></th>\n",
              "      <th>sample_id</th>\n",
              "      <th>abundance</th>\n",
              "      <th>genus</th>\n",
              "      <th>id</th>\n",
              "      <th>relative</th>\n",
              "    </tr>\n",
              "  </thead>\n",
              "  <tbody>\n",
              "    <tr>\n",
              "      <th>8</th>\n",
              "      <td>ERR1883210</td>\n",
              "      <td>11.0</td>\n",
              "      <td>Akkermansia</td>\n",
              "      <td>Akkermansia</td>\n",
              "      <td>0.000164</td>\n",
              "    </tr>\n",
              "    <tr>\n",
              "      <th>9</th>\n",
              "      <td>ERR1883214</td>\n",
              "      <td>54717.0</td>\n",
              "      <td>Akkermansia</td>\n",
              "      <td>Akkermansia</td>\n",
              "      <td>0.822404</td>\n",
              "    </tr>\n",
              "    <tr>\n",
              "      <th>10</th>\n",
              "      <td>ERR1883247</td>\n",
              "      <td>102.0</td>\n",
              "      <td>Akkermansia</td>\n",
              "      <td>Akkermansia</td>\n",
              "      <td>0.003015</td>\n",
              "    </tr>\n",
              "    <tr>\n",
              "      <th>11</th>\n",
              "      <td>ERR1883248</td>\n",
              "      <td>4059.0</td>\n",
              "      <td>Akkermansia</td>\n",
              "      <td>Akkermansia</td>\n",
              "      <td>0.103046</td>\n",
              "    </tr>\n",
              "    <tr>\n",
              "      <th>12</th>\n",
              "      <td>ERR1883210</td>\n",
              "      <td>42793.0</td>\n",
              "      <td>Bacteroides</td>\n",
              "      <td>Bacteroides</td>\n",
              "      <td>0.637674</td>\n",
              "    </tr>\n",
              "    <tr>\n",
              "      <th>...</th>\n",
              "      <td>...</td>\n",
              "      <td>...</td>\n",
              "      <td>...</td>\n",
              "      <td>...</td>\n",
              "      <td>...</td>\n",
              "    </tr>\n",
              "    <tr>\n",
              "      <th>257</th>\n",
              "      <td>ERR1883294</td>\n",
              "      <td>3.0</td>\n",
              "      <td>Atopobium</td>\n",
              "      <td>Atopobium</td>\n",
              "      <td>0.000647</td>\n",
              "    </tr>\n",
              "    <tr>\n",
              "      <th>258</th>\n",
              "      <td>ERR1883294</td>\n",
              "      <td>3.0</td>\n",
              "      <td>Alicyclobacillus</td>\n",
              "      <td>Alicyclobacillus</td>\n",
              "      <td>0.000647</td>\n",
              "    </tr>\n",
              "    <tr>\n",
              "      <th>259</th>\n",
              "      <td>ERR1883212</td>\n",
              "      <td>4.0</td>\n",
              "      <td>WAL_1855D</td>\n",
              "      <td>WAL_1855D</td>\n",
              "      <td>0.000069</td>\n",
              "    </tr>\n",
              "    <tr>\n",
              "      <th>260</th>\n",
              "      <td>ERR1883212</td>\n",
              "      <td>2.0</td>\n",
              "      <td>Finegoldia</td>\n",
              "      <td>Finegoldia</td>\n",
              "      <td>0.000035</td>\n",
              "    </tr>\n",
              "    <tr>\n",
              "      <th>261</th>\n",
              "      <td>ERR1883247</td>\n",
              "      <td>2.0</td>\n",
              "      <td>Brochothrix</td>\n",
              "      <td>Brochothrix</td>\n",
              "      <td>0.000059</td>\n",
              "    </tr>\n",
              "  </tbody>\n",
              "</table>\n",
              "<p>254 rows × 5 columns</p>\n",
              "</div>"
            ],
            "text/plain": [
              "      sample_id  abundance             genus                id  relative\n",
              "8    ERR1883210       11.0       Akkermansia       Akkermansia  0.000164\n",
              "9    ERR1883214    54717.0       Akkermansia       Akkermansia  0.822404\n",
              "10   ERR1883247      102.0       Akkermansia       Akkermansia  0.003015\n",
              "11   ERR1883248     4059.0       Akkermansia       Akkermansia  0.103046\n",
              "12   ERR1883210    42793.0       Bacteroides       Bacteroides  0.637674\n",
              "..          ...        ...               ...               ...       ...\n",
              "257  ERR1883294        3.0         Atopobium         Atopobium  0.000647\n",
              "258  ERR1883294        3.0  Alicyclobacillus  Alicyclobacillus  0.000647\n",
              "259  ERR1883212        4.0         WAL_1855D         WAL_1855D  0.000069\n",
              "260  ERR1883212        2.0        Finegoldia        Finegoldia  0.000035\n",
              "261  ERR1883247        2.0       Brochothrix       Brochothrix  0.000059\n",
              "\n",
              "[254 rows x 5 columns]"
            ]
          },
          "metadata": {
            "tags": []
          },
          "execution_count": 7
        }
      ]
    },
    {
      "cell_type": "markdown",
      "metadata": {
        "id": "R5zwLVFcNTbq"
      },
      "source": [
        "One helpful thing to do is to merge in our metadata, so we'll have it at hand for the following steps."
      ]
    },
    {
      "cell_type": "code",
      "metadata": {
        "id": "X9hqoO4go0h1",
        "colab": {
          "base_uri": "https://localhost:8080/",
          "height": 424
        },
        "outputId": "e70a75f2-14d2-4dee-87be-1313a3160fb4"
      },
      "source": [
        "import pandas as pd\n",
        "\n",
        "metadata = pd.read_table(\"metadata.tsv\").rename(columns={\"id\": \"sample_id\"})\n",
        "tax = pd.merge(tax, metadata, on=\"sample_id\")\n",
        "tax"
      ],
      "execution_count": 8,
      "outputs": [
        {
          "output_type": "execute_result",
          "data": {
            "text/html": [
              "<div>\n",
              "<style scoped>\n",
              "    .dataframe tbody tr th:only-of-type {\n",
              "        vertical-align: middle;\n",
              "    }\n",
              "\n",
              "    .dataframe tbody tr th {\n",
              "        vertical-align: top;\n",
              "    }\n",
              "\n",
              "    .dataframe thead th {\n",
              "        text-align: right;\n",
              "    }\n",
              "</style>\n",
              "<table border=\"1\" class=\"dataframe\">\n",
              "  <thead>\n",
              "    <tr style=\"text-align: right;\">\n",
              "      <th></th>\n",
              "      <th>sample_id</th>\n",
              "      <th>abundance</th>\n",
              "      <th>genus</th>\n",
              "      <th>id</th>\n",
              "      <th>relative</th>\n",
              "      <th>disease_stat</th>\n",
              "      <th>description</th>\n",
              "    </tr>\n",
              "  </thead>\n",
              "  <tbody>\n",
              "    <tr>\n",
              "      <th>0</th>\n",
              "      <td>ERR1883210</td>\n",
              "      <td>11.0</td>\n",
              "      <td>Akkermansia</td>\n",
              "      <td>Akkermansia</td>\n",
              "      <td>0.000164</td>\n",
              "      <td>healthy</td>\n",
              "      <td>Donor 13</td>\n",
              "    </tr>\n",
              "    <tr>\n",
              "      <th>1</th>\n",
              "      <td>ERR1883210</td>\n",
              "      <td>42793.0</td>\n",
              "      <td>Bacteroides</td>\n",
              "      <td>Bacteroides</td>\n",
              "      <td>0.637674</td>\n",
              "      <td>healthy</td>\n",
              "      <td>Donor 13</td>\n",
              "    </tr>\n",
              "    <tr>\n",
              "      <th>2</th>\n",
              "      <td>ERR1883210</td>\n",
              "      <td>3298.0</td>\n",
              "      <td>Faecalibacterium</td>\n",
              "      <td>Faecalibacterium</td>\n",
              "      <td>0.049145</td>\n",
              "      <td>healthy</td>\n",
              "      <td>Donor 13</td>\n",
              "    </tr>\n",
              "    <tr>\n",
              "      <th>3</th>\n",
              "      <td>ERR1883210</td>\n",
              "      <td>1062.0</td>\n",
              "      <td>Clostridium</td>\n",
              "      <td>Clostridium</td>\n",
              "      <td>0.015825</td>\n",
              "      <td>healthy</td>\n",
              "      <td>Donor 13</td>\n",
              "    </tr>\n",
              "    <tr>\n",
              "      <th>4</th>\n",
              "      <td>ERR1883210</td>\n",
              "      <td>4556.0</td>\n",
              "      <td>Roseburia</td>\n",
              "      <td>Roseburia</td>\n",
              "      <td>0.067891</td>\n",
              "      <td>healthy</td>\n",
              "      <td>Donor 13</td>\n",
              "    </tr>\n",
              "    <tr>\n",
              "      <th>...</th>\n",
              "      <td>...</td>\n",
              "      <td>...</td>\n",
              "      <td>...</td>\n",
              "      <td>...</td>\n",
              "      <td>...</td>\n",
              "      <td>...</td>\n",
              "      <td>...</td>\n",
              "    </tr>\n",
              "    <tr>\n",
              "      <th>249</th>\n",
              "      <td>ERR1883315</td>\n",
              "      <td>48.0</td>\n",
              "      <td>Selenomonas</td>\n",
              "      <td>Selenomonas</td>\n",
              "      <td>0.004828</td>\n",
              "      <td>Recurrent Clostridium difficile infection</td>\n",
              "      <td>Day -1 CD4</td>\n",
              "    </tr>\n",
              "    <tr>\n",
              "      <th>250</th>\n",
              "      <td>ERR1883315</td>\n",
              "      <td>28.0</td>\n",
              "      <td>Microvirgula</td>\n",
              "      <td>Microvirgula</td>\n",
              "      <td>0.002816</td>\n",
              "      <td>Recurrent Clostridium difficile infection</td>\n",
              "      <td>Day -1 CD4</td>\n",
              "    </tr>\n",
              "    <tr>\n",
              "      <th>251</th>\n",
              "      <td>ERR1883315</td>\n",
              "      <td>3.0</td>\n",
              "      <td>Aggregatibacter</td>\n",
              "      <td>Aggregatibacter</td>\n",
              "      <td>0.000302</td>\n",
              "      <td>Recurrent Clostridium difficile infection</td>\n",
              "      <td>Day -1 CD4</td>\n",
              "    </tr>\n",
              "    <tr>\n",
              "      <th>252</th>\n",
              "      <td>ERR1883315</td>\n",
              "      <td>11.0</td>\n",
              "      <td>Providencia</td>\n",
              "      <td>Providencia</td>\n",
              "      <td>0.001106</td>\n",
              "      <td>Recurrent Clostridium difficile infection</td>\n",
              "      <td>Day -1 CD4</td>\n",
              "    </tr>\n",
              "    <tr>\n",
              "      <th>253</th>\n",
              "      <td>ERR1883315</td>\n",
              "      <td>4.0</td>\n",
              "      <td>Prevotella</td>\n",
              "      <td>Prevotella</td>\n",
              "      <td>0.000402</td>\n",
              "      <td>Recurrent Clostridium difficile infection</td>\n",
              "      <td>Day -1 CD4</td>\n",
              "    </tr>\n",
              "  </tbody>\n",
              "</table>\n",
              "<p>254 rows × 7 columns</p>\n",
              "</div>"
            ],
            "text/plain": [
              "      sample_id  ...  description\n",
              "0    ERR1883210  ...     Donor 13\n",
              "1    ERR1883210  ...     Donor 13\n",
              "2    ERR1883210  ...     Donor 13\n",
              "3    ERR1883210  ...     Donor 13\n",
              "4    ERR1883210  ...     Donor 13\n",
              "..          ...  ...          ...\n",
              "249  ERR1883315  ...   Day -1 CD4\n",
              "250  ERR1883315  ...   Day -1 CD4\n",
              "251  ERR1883315  ...   Day -1 CD4\n",
              "252  ERR1883315  ...   Day -1 CD4\n",
              "253  ERR1883315  ...   Day -1 CD4\n",
              "\n",
              "[254 rows x 7 columns]"
            ]
          },
          "metadata": {
            "tags": []
          },
          "execution_count": 8
        }
      ]
    },
    {
      "cell_type": "markdown",
      "metadata": {
        "id": "RTbYBR8cJfup"
      },
      "source": [
        "With the taxonomic metadata, we can finally build our community-level models.\n",
        "\n",
        "## Building community models\n",
        "\n",
        "With the data we have now, building our models is pretty easy. We just pass our taxonomy table and model database to MICOM. We will have to specify where to write the models. We will also run that in parallel over two threads. It should take around 10 minutes to finish."
      ]
    },
    {
      "cell_type": "code",
      "metadata": {
        "id": "XlCk7GyB7B5e",
        "colab": {
          "base_uri": "https://localhost:8080/",
          "height": 34,
          "referenced_widgets": [
            "c66970680f414cd498d8c7c6208bcbbc",
            "1676cd52b0c94f2396b537496b2c0442"
          ]
        },
        "outputId": "cd5b1193-49fb-4db3-9a8f-74599c7196aa"
      },
      "source": [
        "from micom.workflows import build\n",
        "from micom import Community\n",
        "import pandas as pd\n",
        "\n",
        "manifest = build(tax, \"agora103_genus.qza\", \"models\", solver=\"osqp\", \n",
        "                 cutoff=2.5e-2, threads=2)\n"
      ],
      "execution_count": 9,
      "outputs": [
        {
          "output_type": "display_data",
          "data": {
            "application/vnd.jupyter.widget-view+json": {
              "model_id": "c66970680f414cd498d8c7c6208bcbbc",
              "version_minor": 0,
              "version_major": 2
            },
            "text/plain": [
              "Output()"
            ]
          },
          "metadata": {
            "tags": []
          }
        }
      ]
    },
    {
      "cell_type": "markdown",
      "metadata": {
        "id": "Kwya6vbZZSUo"
      },
      "source": [
        "For different data a warning may pop up if less than 50% of the abundances can be matched to the database. If this happens, you can still continue, but be aware that such a sparse model may not accurately represent your sample. In lower-biomass 16S amplicon sequencing samples from stool, many reads can match to food components or to host mitochondria and these hits probably do not contribute much to bacterial community metabolism. These hits will be excluded from MICOM. \n",
        "\n",
        "We won't see any warnings here. So, we will go ahead for now. Let's also take a look what we got back from the `build` process."
      ]
    },
    {
      "cell_type": "code",
      "metadata": {
        "id": "r9qwglr88Ise",
        "colab": {
          "base_uri": "https://localhost:8080/",
          "height": 300
        },
        "outputId": "edb7c075-9539-410f-92d3-104261b451ea"
      },
      "source": [
        "manifest"
      ],
      "execution_count": 10,
      "outputs": [
        {
          "output_type": "execute_result",
          "data": {
            "text/html": [
              "<div>\n",
              "<style scoped>\n",
              "    .dataframe tbody tr th:only-of-type {\n",
              "        vertical-align: middle;\n",
              "    }\n",
              "\n",
              "    .dataframe tbody tr th {\n",
              "        vertical-align: top;\n",
              "    }\n",
              "\n",
              "    .dataframe thead th {\n",
              "        text-align: right;\n",
              "    }\n",
              "</style>\n",
              "<table border=\"1\" class=\"dataframe\">\n",
              "  <thead>\n",
              "    <tr style=\"text-align: right;\">\n",
              "      <th></th>\n",
              "      <th>sample_id</th>\n",
              "      <th>disease_stat</th>\n",
              "      <th>description</th>\n",
              "      <th>file</th>\n",
              "      <th>found_taxa</th>\n",
              "      <th>total_taxa</th>\n",
              "      <th>found_fraction</th>\n",
              "      <th>found_abundance_fraction</th>\n",
              "    </tr>\n",
              "  </thead>\n",
              "  <tbody>\n",
              "    <tr>\n",
              "      <th>0</th>\n",
              "      <td>ERR1883210</td>\n",
              "      <td>healthy</td>\n",
              "      <td>Donor 13</td>\n",
              "      <td>ERR1883210.pickle</td>\n",
              "      <td>5.0</td>\n",
              "      <td>5.0</td>\n",
              "      <td>1.000000</td>\n",
              "      <td>0.822257</td>\n",
              "    </tr>\n",
              "    <tr>\n",
              "      <th>1</th>\n",
              "      <td>ERR1883212</td>\n",
              "      <td>healthy</td>\n",
              "      <td>Donor 14</td>\n",
              "      <td>ERR1883212.pickle</td>\n",
              "      <td>9.0</td>\n",
              "      <td>10.0</td>\n",
              "      <td>0.900000</td>\n",
              "      <td>0.847637</td>\n",
              "    </tr>\n",
              "    <tr>\n",
              "      <th>2</th>\n",
              "      <td>ERR1883214</td>\n",
              "      <td>Recurrent Clostridium difficile infection</td>\n",
              "      <td>Day 0 CD1</td>\n",
              "      <td>ERR1883214.pickle</td>\n",
              "      <td>3.0</td>\n",
              "      <td>3.0</td>\n",
              "      <td>1.000000</td>\n",
              "      <td>0.965912</td>\n",
              "    </tr>\n",
              "    <tr>\n",
              "      <th>3</th>\n",
              "      <td>ERR1883247</td>\n",
              "      <td>healthy</td>\n",
              "      <td>Donor CD3</td>\n",
              "      <td>ERR1883247.pickle</td>\n",
              "      <td>9.0</td>\n",
              "      <td>11.0</td>\n",
              "      <td>0.818182</td>\n",
              "      <td>0.834526</td>\n",
              "    </tr>\n",
              "    <tr>\n",
              "      <th>4</th>\n",
              "      <td>ERR1883248</td>\n",
              "      <td>Recurrent Clostridium difficile infection</td>\n",
              "      <td>Day 1 CD1</td>\n",
              "      <td>ERR1883248.pickle</td>\n",
              "      <td>5.0</td>\n",
              "      <td>5.0</td>\n",
              "      <td>1.000000</td>\n",
              "      <td>0.846712</td>\n",
              "    </tr>\n",
              "    <tr>\n",
              "      <th>5</th>\n",
              "      <td>ERR1883260</td>\n",
              "      <td>healthy</td>\n",
              "      <td>CD2 Donor</td>\n",
              "      <td>ERR1883260.pickle</td>\n",
              "      <td>8.0</td>\n",
              "      <td>8.0</td>\n",
              "      <td>1.000000</td>\n",
              "      <td>0.855389</td>\n",
              "    </tr>\n",
              "    <tr>\n",
              "      <th>6</th>\n",
              "      <td>ERR1883294</td>\n",
              "      <td>Recurrent Clostridium difficile infection</td>\n",
              "      <td>Day 0 CD3</td>\n",
              "      <td>ERR1883294.pickle</td>\n",
              "      <td>7.0</td>\n",
              "      <td>7.0</td>\n",
              "      <td>1.000000</td>\n",
              "      <td>0.937244</td>\n",
              "    </tr>\n",
              "    <tr>\n",
              "      <th>7</th>\n",
              "      <td>ERR1883315</td>\n",
              "      <td>Recurrent Clostridium difficile infection</td>\n",
              "      <td>Day -1 CD4</td>\n",
              "      <td>ERR1883315.pickle</td>\n",
              "      <td>4.0</td>\n",
              "      <td>4.0</td>\n",
              "      <td>1.000000</td>\n",
              "      <td>0.962788</td>\n",
              "    </tr>\n",
              "  </tbody>\n",
              "</table>\n",
              "</div>"
            ],
            "text/plain": [
              "    sample_id  ... found_abundance_fraction\n",
              "0  ERR1883210  ...                 0.822257\n",
              "1  ERR1883212  ...                 0.847637\n",
              "2  ERR1883214  ...                 0.965912\n",
              "3  ERR1883247  ...                 0.834526\n",
              "4  ERR1883248  ...                 0.846712\n",
              "5  ERR1883260  ...                 0.855389\n",
              "6  ERR1883294  ...                 0.937244\n",
              "7  ERR1883315  ...                 0.962788\n",
              "\n",
              "[8 rows x 8 columns]"
            ]
          },
          "metadata": {
            "tags": []
          },
          "execution_count": 10
        }
      ]
    },
    {
      "cell_type": "markdown",
      "metadata": {
        "id": "y4KAJkhIdspQ"
      },
      "source": [
        "This will tell you many taxa were found in the database and what fraction of the total abundance was represented by the database. Looks okay here. \n",
        "\n",
        "So we now have our community models and can leverage MICOM fully by simulating community growth.\n",
        "\n",
        "## Simulating growth\n",
        "\n",
        "With our community models built, we can start to simulate growth with the cooperative tradeoff algorithm. Because we have no diet information for our samples, we will apply the same 'average Western Diet' to each individual. We will start by downloading this diet. It is stored in the MICOM data repository at "
      ]
    },
    {
      "cell_type": "code",
      "metadata": {
        "id": "Xi4hZLiaPLNu",
        "colab": {
          "base_uri": "https://localhost:8080/"
        },
        "outputId": "ac7684f4-a429-4cf2-e63a-79b4d336ebed"
      },
      "source": [
        "!wget -O western_diet_gut.qza https://zenodo.org/record/3755182/files/western_diet_gut.qza?download=1"
      ],
      "execution_count": 11,
      "outputs": [
        {
          "output_type": "stream",
          "text": [
            "--2021-07-09 18:35:48--  https://zenodo.org/record/3755182/files/western_diet_gut.qza?download=1\n",
            "Resolving zenodo.org (zenodo.org)... 137.138.76.77\n",
            "Connecting to zenodo.org (zenodo.org)|137.138.76.77|:443... connected.\n",
            "HTTP request sent, awaiting response... 200 OK\n",
            "Length: 7173 (7.0K) [application/octet-stream]\n",
            "Saving to: ‘western_diet_gut.qza’\n",
            "\n",
            "western_diet_gut.qz 100%[===================>]   7.00K  --.-KB/s    in 0s      \n",
            "\n",
            "2021-07-09 18:35:50 (917 MB/s) - ‘western_diet_gut.qza’ saved [7173/7173]\n",
            "\n"
          ],
          "name": "stdout"
        }
      ]
    },
    {
      "cell_type": "markdown",
      "metadata": {
        "id": "TVWMEu4nfKdL"
      },
      "source": [
        "This is again a QIIME 2 artifact, which we can load into MICOM."
      ]
    },
    {
      "cell_type": "code",
      "metadata": {
        "id": "3XBGQlFnfO4W",
        "colab": {
          "base_uri": "https://localhost:8080/",
          "height": 455
        },
        "outputId": "ca9f77db-7104-443c-c3da-505ad911c453"
      },
      "source": [
        "from micom.qiime_formats import load_qiime_medium\n",
        "\n",
        "medium = load_qiime_medium(\"western_diet_gut.qza\")\n",
        "medium"
      ],
      "execution_count": 12,
      "outputs": [
        {
          "output_type": "execute_result",
          "data": {
            "text/html": [
              "<div>\n",
              "<style scoped>\n",
              "    .dataframe tbody tr th:only-of-type {\n",
              "        vertical-align: middle;\n",
              "    }\n",
              "\n",
              "    .dataframe tbody tr th {\n",
              "        vertical-align: top;\n",
              "    }\n",
              "\n",
              "    .dataframe thead th {\n",
              "        text-align: right;\n",
              "    }\n",
              "</style>\n",
              "<table border=\"1\" class=\"dataframe\">\n",
              "  <thead>\n",
              "    <tr style=\"text-align: right;\">\n",
              "      <th></th>\n",
              "      <th>flux</th>\n",
              "      <th>dilution</th>\n",
              "      <th>metabolite</th>\n",
              "      <th>reaction</th>\n",
              "    </tr>\n",
              "    <tr>\n",
              "      <th>reaction</th>\n",
              "      <th></th>\n",
              "      <th></th>\n",
              "      <th></th>\n",
              "      <th></th>\n",
              "    </tr>\n",
              "  </thead>\n",
              "  <tbody>\n",
              "    <tr>\n",
              "      <th>EX_fru_m</th>\n",
              "      <td>0.014899</td>\n",
              "      <td>0.100</td>\n",
              "      <td>fru_m</td>\n",
              "      <td>EX_fru_m</td>\n",
              "    </tr>\n",
              "    <tr>\n",
              "      <th>EX_glc_m</th>\n",
              "      <td>0.014899</td>\n",
              "      <td>0.100</td>\n",
              "      <td>glc_m</td>\n",
              "      <td>EX_glc_m</td>\n",
              "    </tr>\n",
              "    <tr>\n",
              "      <th>EX_gal_m</th>\n",
              "      <td>0.014899</td>\n",
              "      <td>0.100</td>\n",
              "      <td>gal_m</td>\n",
              "      <td>EX_gal_m</td>\n",
              "    </tr>\n",
              "    <tr>\n",
              "      <th>EX_man_m</th>\n",
              "      <td>0.014899</td>\n",
              "      <td>0.100</td>\n",
              "      <td>man_m</td>\n",
              "      <td>EX_man_m</td>\n",
              "    </tr>\n",
              "    <tr>\n",
              "      <th>EX_mnl_m</th>\n",
              "      <td>0.014899</td>\n",
              "      <td>0.100</td>\n",
              "      <td>mnl_m</td>\n",
              "      <td>EX_mnl_m</td>\n",
              "    </tr>\n",
              "    <tr>\n",
              "      <th>...</th>\n",
              "      <td>...</td>\n",
              "      <td>...</td>\n",
              "      <td>...</td>\n",
              "      <td>...</td>\n",
              "    </tr>\n",
              "    <tr>\n",
              "      <th>EX_glu_D_m</th>\n",
              "      <td>0.100000</td>\n",
              "      <td>0.100</td>\n",
              "      <td>glu_D_m</td>\n",
              "      <td>EX_glu_D_m</td>\n",
              "    </tr>\n",
              "    <tr>\n",
              "      <th>EX_gthrd_m</th>\n",
              "      <td>0.100000</td>\n",
              "      <td>0.100</td>\n",
              "      <td>gthrd_m</td>\n",
              "      <td>EX_gthrd_m</td>\n",
              "    </tr>\n",
              "    <tr>\n",
              "      <th>EX_h2_m</th>\n",
              "      <td>0.100000</td>\n",
              "      <td>0.100</td>\n",
              "      <td>h2_m</td>\n",
              "      <td>EX_h2_m</td>\n",
              "    </tr>\n",
              "    <tr>\n",
              "      <th>EX_no2_m</th>\n",
              "      <td>0.100000</td>\n",
              "      <td>0.100</td>\n",
              "      <td>no2_m</td>\n",
              "      <td>EX_no2_m</td>\n",
              "    </tr>\n",
              "    <tr>\n",
              "      <th>EX_o2_m</th>\n",
              "      <td>0.001000</td>\n",
              "      <td>0.001</td>\n",
              "      <td>o2_m</td>\n",
              "      <td>EX_o2_m</td>\n",
              "    </tr>\n",
              "  </tbody>\n",
              "</table>\n",
              "<p>170 rows × 4 columns</p>\n",
              "</div>"
            ],
            "text/plain": [
              "                flux  dilution metabolite    reaction\n",
              "reaction                                             \n",
              "EX_fru_m    0.014899     0.100      fru_m    EX_fru_m\n",
              "EX_glc_m    0.014899     0.100      glc_m    EX_glc_m\n",
              "EX_gal_m    0.014899     0.100      gal_m    EX_gal_m\n",
              "EX_man_m    0.014899     0.100      man_m    EX_man_m\n",
              "EX_mnl_m    0.014899     0.100      mnl_m    EX_mnl_m\n",
              "...              ...       ...        ...         ...\n",
              "EX_glu_D_m  0.100000     0.100    glu_D_m  EX_glu_D_m\n",
              "EX_gthrd_m  0.100000     0.100    gthrd_m  EX_gthrd_m\n",
              "EX_h2_m     0.100000     0.100       h2_m     EX_h2_m\n",
              "EX_no2_m    0.100000     0.100      no2_m    EX_no2_m\n",
              "EX_o2_m     0.001000     0.001       o2_m     EX_o2_m\n",
              "\n",
              "[170 rows x 4 columns]"
            ]
          },
          "metadata": {
            "tags": []
          },
          "execution_count": 12
        }
      ]
    },
    {
      "cell_type": "markdown",
      "metadata": {
        "id": "4s8R4WYUez4g"
      },
      "source": [
        "Many dietary components get absorbed in the small intestine. This medium was created by taking dietary components and depleting all nutrients absorbed in the small intestine by a factor of 10 (indicated by the dilution column). \n",
        "\n",
        "Okay let's go right ahead and simulate growth. This will take about 20 minutes and give us time to dive into some details 🏊"
      ]
    },
    {
      "cell_type": "code",
      "metadata": {
        "id": "l-vJJwtdRZxP",
        "colab": {
          "base_uri": "https://localhost:8080/",
          "height": 34,
          "referenced_widgets": [
            "8a8e12f97fe24577ac6471ddf3c75dee",
            "56a451783982435ebf34cee759a14c2f"
          ]
        },
        "outputId": "f6d19b6d-6194-4b93-dacf-d48713b000f3"
      },
      "source": [
        "from micom.workflows import grow\n",
        "import pickle\n",
        "\n",
        "growth_results = grow(manifest, \"models\", medium, tradeoff=0.5, threads=2)\n",
        "\n",
        "# We'll save the results to a file\n",
        "pickle.dump(growth_results, open(\"growth.pickle\", \"wb\"))"
      ],
      "execution_count": 13,
      "outputs": [
        {
          "output_type": "display_data",
          "data": {
            "application/vnd.jupyter.widget-view+json": {
              "model_id": "8a8e12f97fe24577ac6471ddf3c75dee",
              "version_minor": 0,
              "version_major": 2
            },
            "text/plain": [
              "Output()"
            ]
          },
          "metadata": {
            "tags": []
          }
        }
      ]
    },
    {
      "cell_type": "markdown",
      "metadata": {
        "id": "3WH8VVrVS4mv"
      },
      "source": [
        "If that takes too long or was aborted, we can read it in from the treasure chest."
      ]
    },
    {
      "cell_type": "code",
      "metadata": {
        "id": "tZiPmdO4S-OE"
      },
      "source": [
        "# Will only run if the previous step failed\n",
        "\n",
        "import pickle\n",
        "\n",
        "try:\n",
        "  growth_results\n",
        "except NameError:\n",
        "  growth_results = pickle.load(open(\"treasure_chest/growth.pickle\", \"rb\"))"
      ],
      "execution_count": 14,
      "outputs": []
    },
    {
      "cell_type": "markdown",
      "metadata": {
        "id": "69gq9QfAzqxq"
      },
      "source": [
        "What kind of results did we get? Well, `grow` returns a tuple of 3 data sets:\n",
        "\n",
        "1. The predicted growth rate for all taxa in all samples\n",
        "2. The import and export fluxes for each taxon and the external environment\n",
        "3. Annotations for the fluxes mapping to other databases\n",
        "\n",
        "The growth rates are pretty straightforward."
      ]
    },
    {
      "cell_type": "code",
      "metadata": {
        "id": "xHQKoxgRzqWM",
        "colab": {
          "base_uri": "https://localhost:8080/",
          "height": 238
        },
        "outputId": "c08e8f36-966b-4145-8ab9-1874a1808f36"
      },
      "source": [
        "growth_results.growth_rates.head()"
      ],
      "execution_count": 15,
      "outputs": [
        {
          "output_type": "execute_result",
          "data": {
            "text/html": [
              "<div>\n",
              "<style scoped>\n",
              "    .dataframe tbody tr th:only-of-type {\n",
              "        vertical-align: middle;\n",
              "    }\n",
              "\n",
              "    .dataframe tbody tr th {\n",
              "        vertical-align: top;\n",
              "    }\n",
              "\n",
              "    .dataframe thead th {\n",
              "        text-align: right;\n",
              "    }\n",
              "</style>\n",
              "<table border=\"1\" class=\"dataframe\">\n",
              "  <thead>\n",
              "    <tr style=\"text-align: right;\">\n",
              "      <th></th>\n",
              "      <th>abundance</th>\n",
              "      <th>growth_rate</th>\n",
              "      <th>reactions</th>\n",
              "      <th>metabolites</th>\n",
              "      <th>taxon</th>\n",
              "      <th>tradeoff</th>\n",
              "      <th>sample_id</th>\n",
              "    </tr>\n",
              "    <tr>\n",
              "      <th>compartments</th>\n",
              "      <th></th>\n",
              "      <th></th>\n",
              "      <th></th>\n",
              "      <th></th>\n",
              "      <th></th>\n",
              "      <th></th>\n",
              "      <th></th>\n",
              "    </tr>\n",
              "  </thead>\n",
              "  <tbody>\n",
              "    <tr>\n",
              "      <th>Bacteroides</th>\n",
              "      <td>0.775516</td>\n",
              "      <td>0.281698</td>\n",
              "      <td>3307</td>\n",
              "      <td>1887</td>\n",
              "      <td>Bacteroides</td>\n",
              "      <td>0.5</td>\n",
              "      <td>ERR1883210</td>\n",
              "    </tr>\n",
              "    <tr>\n",
              "      <th>Faecalibacterium</th>\n",
              "      <td>0.059768</td>\n",
              "      <td>0.021711</td>\n",
              "      <td>1986</td>\n",
              "      <td>1472</td>\n",
              "      <td>Faecalibacterium</td>\n",
              "      <td>0.5</td>\n",
              "      <td>ERR1883210</td>\n",
              "    </tr>\n",
              "    <tr>\n",
              "      <th>Parabacteroides</th>\n",
              "      <td>0.045125</td>\n",
              "      <td>0.016391</td>\n",
              "      <td>2870</td>\n",
              "      <td>1747</td>\n",
              "      <td>Parabacteroides</td>\n",
              "      <td>0.5</td>\n",
              "      <td>ERR1883210</td>\n",
              "    </tr>\n",
              "    <tr>\n",
              "      <th>Roseburia</th>\n",
              "      <td>0.082566</td>\n",
              "      <td>0.029991</td>\n",
              "      <td>2357</td>\n",
              "      <td>1567</td>\n",
              "      <td>Roseburia</td>\n",
              "      <td>0.5</td>\n",
              "      <td>ERR1883210</td>\n",
              "    </tr>\n",
              "    <tr>\n",
              "      <th>Sutterella</th>\n",
              "      <td>0.037024</td>\n",
              "      <td>0.012867</td>\n",
              "      <td>1233</td>\n",
              "      <td>1081</td>\n",
              "      <td>Sutterella</td>\n",
              "      <td>0.5</td>\n",
              "      <td>ERR1883210</td>\n",
              "    </tr>\n",
              "  </tbody>\n",
              "</table>\n",
              "</div>"
            ],
            "text/plain": [
              "                  abundance  growth_rate  ...  tradeoff   sample_id\n",
              "compartments                              ...                      \n",
              "Bacteroides        0.775516     0.281698  ...       0.5  ERR1883210\n",
              "Faecalibacterium   0.059768     0.021711  ...       0.5  ERR1883210\n",
              "Parabacteroides    0.045125     0.016391  ...       0.5  ERR1883210\n",
              "Roseburia          0.082566     0.029991  ...       0.5  ERR1883210\n",
              "Sutterella         0.037024     0.012867  ...       0.5  ERR1883210\n",
              "\n",
              "[5 rows x 7 columns]"
            ]
          },
          "metadata": {
            "tags": []
          },
          "execution_count": 15
        }
      ]
    },
    {
      "cell_type": "markdown",
      "metadata": {
        "id": "F5BK7DDv0UfA"
      },
      "source": [
        "More interesting are the exchange fluxes."
      ]
    },
    {
      "cell_type": "code",
      "metadata": {
        "id": "lQW2BBS10jdN",
        "colab": {
          "base_uri": "https://localhost:8080/",
          "height": 424
        },
        "outputId": "aa8083bf-d5e3-43c5-9d09-44e796127763"
      },
      "source": [
        "growth_results.exchanges"
      ],
      "execution_count": 16,
      "outputs": [
        {
          "output_type": "execute_result",
          "data": {
            "text/html": [
              "<div>\n",
              "<style scoped>\n",
              "    .dataframe tbody tr th:only-of-type {\n",
              "        vertical-align: middle;\n",
              "    }\n",
              "\n",
              "    .dataframe tbody tr th {\n",
              "        vertical-align: top;\n",
              "    }\n",
              "\n",
              "    .dataframe thead th {\n",
              "        text-align: right;\n",
              "    }\n",
              "</style>\n",
              "<table border=\"1\" class=\"dataframe\">\n",
              "  <thead>\n",
              "    <tr style=\"text-align: right;\">\n",
              "      <th></th>\n",
              "      <th>taxon</th>\n",
              "      <th>sample_id</th>\n",
              "      <th>tolerance</th>\n",
              "      <th>reaction</th>\n",
              "      <th>flux</th>\n",
              "      <th>abundance</th>\n",
              "      <th>metabolite</th>\n",
              "      <th>direction</th>\n",
              "    </tr>\n",
              "  </thead>\n",
              "  <tbody>\n",
              "    <tr>\n",
              "      <th>2</th>\n",
              "      <td>medium</td>\n",
              "      <td>ERR1883210</td>\n",
              "      <td>0.0001</td>\n",
              "      <td>EX_glu_L_m</td>\n",
              "      <td>-0.017956</td>\n",
              "      <td>NaN</td>\n",
              "      <td>glu_L_m</td>\n",
              "      <td>import</td>\n",
              "    </tr>\n",
              "    <tr>\n",
              "      <th>18</th>\n",
              "      <td>medium</td>\n",
              "      <td>ERR1883210</td>\n",
              "      <td>0.0001</td>\n",
              "      <td>EX_sucr_m</td>\n",
              "      <td>-0.007283</td>\n",
              "      <td>NaN</td>\n",
              "      <td>sucr_m</td>\n",
              "      <td>import</td>\n",
              "    </tr>\n",
              "    <tr>\n",
              "      <th>24</th>\n",
              "      <td>medium</td>\n",
              "      <td>ERR1883210</td>\n",
              "      <td>0.0001</td>\n",
              "      <td>EX_sheme_m</td>\n",
              "      <td>-0.000433</td>\n",
              "      <td>NaN</td>\n",
              "      <td>sheme_m</td>\n",
              "      <td>import</td>\n",
              "    </tr>\n",
              "    <tr>\n",
              "      <th>25</th>\n",
              "      <td>medium</td>\n",
              "      <td>ERR1883210</td>\n",
              "      <td>0.0001</td>\n",
              "      <td>EX_pi_m</td>\n",
              "      <td>-0.097389</td>\n",
              "      <td>NaN</td>\n",
              "      <td>pi_m</td>\n",
              "      <td>import</td>\n",
              "    </tr>\n",
              "    <tr>\n",
              "      <th>37</th>\n",
              "      <td>medium</td>\n",
              "      <td>ERR1883210</td>\n",
              "      <td>0.0001</td>\n",
              "      <td>EX_3mop_m</td>\n",
              "      <td>0.008370</td>\n",
              "      <td>NaN</td>\n",
              "      <td>3mop_m</td>\n",
              "      <td>export</td>\n",
              "    </tr>\n",
              "    <tr>\n",
              "      <th>...</th>\n",
              "      <td>...</td>\n",
              "      <td>...</td>\n",
              "      <td>...</td>\n",
              "      <td>...</td>\n",
              "      <td>...</td>\n",
              "      <td>...</td>\n",
              "      <td>...</td>\n",
              "      <td>...</td>\n",
              "    </tr>\n",
              "    <tr>\n",
              "      <th>31438</th>\n",
              "      <td>Sutterella</td>\n",
              "      <td>ERR1883315</td>\n",
              "      <td>0.0001</td>\n",
              "      <td>EX_hdca(e)</td>\n",
              "      <td>-0.000122</td>\n",
              "      <td>0.152408</td>\n",
              "      <td>hdca[e]</td>\n",
              "      <td>import</td>\n",
              "    </tr>\n",
              "    <tr>\n",
              "      <th>31439</th>\n",
              "      <td>Sutterella</td>\n",
              "      <td>ERR1883315</td>\n",
              "      <td>0.0001</td>\n",
              "      <td>EX_ins(e)</td>\n",
              "      <td>0.050517</td>\n",
              "      <td>0.152408</td>\n",
              "      <td>ins[e]</td>\n",
              "      <td>export</td>\n",
              "    </tr>\n",
              "    <tr>\n",
              "      <th>31441</th>\n",
              "      <td>Sutterella</td>\n",
              "      <td>ERR1883315</td>\n",
              "      <td>0.0001</td>\n",
              "      <td>EX_orn(e)</td>\n",
              "      <td>-0.058173</td>\n",
              "      <td>0.152408</td>\n",
              "      <td>orn[e]</td>\n",
              "      <td>import</td>\n",
              "    </tr>\n",
              "    <tr>\n",
              "      <th>31443</th>\n",
              "      <td>Sutterella</td>\n",
              "      <td>ERR1883315</td>\n",
              "      <td>0.0001</td>\n",
              "      <td>EX_cobalt2(e)</td>\n",
              "      <td>-0.000513</td>\n",
              "      <td>0.152408</td>\n",
              "      <td>cobalt2[e]</td>\n",
              "      <td>import</td>\n",
              "    </tr>\n",
              "    <tr>\n",
              "      <th>31445</th>\n",
              "      <td>Sutterella</td>\n",
              "      <td>ERR1883315</td>\n",
              "      <td>0.0001</td>\n",
              "      <td>EX_ala_L(e)</td>\n",
              "      <td>-0.060182</td>\n",
              "      <td>0.152408</td>\n",
              "      <td>ala_L[e]</td>\n",
              "      <td>import</td>\n",
              "    </tr>\n",
              "  </tbody>\n",
              "</table>\n",
              "<p>6853 rows × 8 columns</p>\n",
              "</div>"
            ],
            "text/plain": [
              "            taxon   sample_id  tolerance  ... abundance  metabolite  direction\n",
              "2          medium  ERR1883210     0.0001  ...       NaN     glu_L_m     import\n",
              "18         medium  ERR1883210     0.0001  ...       NaN      sucr_m     import\n",
              "24         medium  ERR1883210     0.0001  ...       NaN     sheme_m     import\n",
              "25         medium  ERR1883210     0.0001  ...       NaN        pi_m     import\n",
              "37         medium  ERR1883210     0.0001  ...       NaN      3mop_m     export\n",
              "...           ...         ...        ...  ...       ...         ...        ...\n",
              "31438  Sutterella  ERR1883315     0.0001  ...  0.152408     hdca[e]     import\n",
              "31439  Sutterella  ERR1883315     0.0001  ...  0.152408      ins[e]     export\n",
              "31441  Sutterella  ERR1883315     0.0001  ...  0.152408      orn[e]     import\n",
              "31443  Sutterella  ERR1883315     0.0001  ...  0.152408  cobalt2[e]     import\n",
              "31445  Sutterella  ERR1883315     0.0001  ...  0.152408    ala_L[e]     import\n",
              "\n",
              "[6853 rows x 8 columns]"
            ]
          },
          "metadata": {
            "tags": []
          },
          "execution_count": 16
        }
      ]
    },
    {
      "cell_type": "markdown",
      "metadata": {
        "id": "Pu5XtkUl1YG1"
      },
      "source": [
        "So we see how much of each metabolite is either consumed or produced by each taxon in each sample. `tolerance` denotes the accuracy of the solver and tells you the smallest absolute flux that is likely different form zero (i.e. substantial flux). *All of the fluxes are normalized to 1g dry weight of bacteria*. So, you can directly compare fluxes between taxa, even if they are present at very different abundances. \n",
        "\n",
        "However, the metabolite names may not be very informative. That's why we have our annotations! For instance, to figure out what `ac[e]` is (air conditioning?), we can do the following:"
      ]
    },
    {
      "cell_type": "code",
      "metadata": {
        "id": "DphXa9hw1yxM",
        "colab": {
          "base_uri": "https://localhost:8080/",
          "height": 112
        },
        "outputId": "f1cde3a0-5d84-40c0-85f4-13120bf06cf9"
      },
      "source": [
        "anns = growth_results.annotations\n",
        "anns[anns.metabolite == \"ac[e]\"]"
      ],
      "execution_count": 17,
      "outputs": [
        {
          "output_type": "execute_result",
          "data": {
            "text/html": [
              "<div>\n",
              "<style scoped>\n",
              "    .dataframe tbody tr th:only-of-type {\n",
              "        vertical-align: middle;\n",
              "    }\n",
              "\n",
              "    .dataframe tbody tr th {\n",
              "        vertical-align: top;\n",
              "    }\n",
              "\n",
              "    .dataframe thead th {\n",
              "        text-align: right;\n",
              "    }\n",
              "</style>\n",
              "<table border=\"1\" class=\"dataframe\">\n",
              "  <thead>\n",
              "    <tr style=\"text-align: right;\">\n",
              "      <th></th>\n",
              "      <th>metabolite</th>\n",
              "      <th>name</th>\n",
              "      <th>hmdb</th>\n",
              "      <th>inchi</th>\n",
              "      <th>kegg.compound</th>\n",
              "      <th>pubchem.compound</th>\n",
              "      <th>reaction</th>\n",
              "    </tr>\n",
              "    <tr>\n",
              "      <th>reaction</th>\n",
              "      <th></th>\n",
              "      <th></th>\n",
              "      <th></th>\n",
              "      <th></th>\n",
              "      <th></th>\n",
              "      <th></th>\n",
              "      <th></th>\n",
              "    </tr>\n",
              "  </thead>\n",
              "  <tbody>\n",
              "    <tr>\n",
              "      <th>EX_ac(e)</th>\n",
              "      <td>ac[e]</td>\n",
              "      <td>acetate</td>\n",
              "      <td>HMDB00042</td>\n",
              "      <td>InChI=1S/C2H4O2/c1-2(3)4/h1H3,(H,3,4)/p-1</td>\n",
              "      <td>C00033</td>\n",
              "      <td>176</td>\n",
              "      <td>EX_ac(e)</td>\n",
              "    </tr>\n",
              "  </tbody>\n",
              "</table>\n",
              "</div>"
            ],
            "text/plain": [
              "         metabolite     name  ... pubchem.compound  reaction\n",
              "reaction                      ...                           \n",
              "EX_ac(e)      ac[e]  acetate  ...              176  EX_ac(e)\n",
              "\n",
              "[1 rows x 7 columns]"
            ]
          },
          "metadata": {
            "tags": []
          },
          "execution_count": 17
        }
      ]
    },
    {
      "cell_type": "markdown",
      "metadata": {
        "id": "CImtzqRJbbGj"
      },
      "source": [
        "Ohhh, it's acetate. Yeah that makes more sense 🕵️‍♀️. For the AGORA models you can also use the official VMH knowledge base at https://vmh.life maintained by Dr. Thiele's, lab which will give you rich information on metabolites and reactions. For instance, you can find out a lot more about acetate at: https://www.vmh.life/#metabolite/ac. \n",
        "\n",
        "# 📊 Visualizations\n",
        "\n",
        "Ok, we have seen that we generate a lot of output data from the growth simulations. But how do we make sense of it all? \n",
        "\n",
        "We will use the standard visualizations included in MICOM. These tools take in the growth results we obtained before and create visualizations in standalone HTML files that bundle the plots and raw data and can be viewed directly in your browser.\n",
        "\n",
        "The first things we might want to look at are the growth rates for each taxon."
      ]
    },
    {
      "cell_type": "code",
      "metadata": {
        "id": "EaplMHFLcMT7"
      },
      "source": [
        "from micom.viz import *\n",
        "\n",
        "viz = plot_growth(growth_results)"
      ],
      "execution_count": 18,
      "outputs": []
    },
    {
      "cell_type": "markdown",
      "metadata": {
        "id": "G1JbbKrLcVye"
      },
      "source": [
        "Normally, we could call `viz.view()` afterwards and it would open it in our web browser. However, this will not work in Colab. However, the plot function create the file `growth_rates_[DATE].html` in your `materials` folder. To open it simply download that file and view it in your browser. We can see that there are many things going on, but it's not super clear. Let's continue.\n",
        "\n",
        "## Growth niches\n",
        "\n",
        "Two really important questions are 'what dietary nutrients are consumed by the microbiota and what metabolites do the microbiota produce?' We provided nutrients in our medium, but we don't actually know yet what was eaten by the microbiota. Let's check that out using the `plot_exchanges_per_sample` function."
      ]
    },
    {
      "cell_type": "code",
      "metadata": {
        "id": "Mkgydl_jdqc7",
        "colab": {
          "base_uri": "https://localhost:8080/"
        },
        "outputId": "a0114a21-a282-4167-f7d6-1a89b06f8964"
      },
      "source": [
        "plot_exchanges_per_sample(growth_results)"
      ],
      "execution_count": 19,
      "outputs": [
        {
          "output_type": "execute_result",
          "data": {
            "text/plain": [
              "<micom.viz.core.Visualization at 0x7f609e9d8e50>"
            ]
          },
          "metadata": {
            "tags": []
          },
          "execution_count": 19
        }
      ]
    },
    {
      "cell_type": "markdown",
      "metadata": {
        "id": "lRDCXRDidupd"
      },
      "source": [
        "We can have a look at the results after downloading `materials/sample_exchanges_[DATE].html`. It would be even better if we could visualize which taxa compete for similar resources. We can create a niche plot by using `plot_exchanges_per_taxon`."
      ]
    },
    {
      "cell_type": "code",
      "metadata": {
        "id": "NlZrfv38esj8",
        "colab": {
          "base_uri": "https://localhost:8080/"
        },
        "outputId": "b630d227-1235-472c-b1c1-c9fc8c9d940b"
      },
      "source": [
        "plot_exchanges_per_taxon(growth_results, perplexity=4, direction=\"import\")"
      ],
      "execution_count": 20,
      "outputs": [
        {
          "output_type": "execute_result",
          "data": {
            "text/plain": [
              "<micom.viz.core.Visualization at 0x7f609e9a3750>"
            ]
          },
          "metadata": {
            "tags": []
          },
          "execution_count": 20
        }
      ]
    },
    {
      "cell_type": "markdown",
      "metadata": {
        "id": "qXnbUCCs2yVG"
      },
      "source": [
        "\n",
        "This function projects the full set of import or export fluxes onto a two dimensional plane, and arranges taxa so that more similar flux patterns lie close together. Thus, taxa closer to one another compete for a more similar set of resources (and/or produce a more similar set of metabolites). The center of the plot signifies a more competitive nutrient space, whereas clusters on the outskirts denote more isolated niches.\n",
        "\n",
        "You can tune [TSNE parameters](https://distill.pub/2016/misread-tsne/), such as perplexity, to get a more meaningful grouping. We will lower the perplexity here since we don't have enough data.\n",
        "\n",
        "## Metabolic connections to a phenotype\n",
        "\n",
        "That is all nice, but how does that relate to recurrent *C. diff* infections? To answer that question we can use the `plot_fit` function. This will run a logistic regression with an L1 penalty on coefficients, with our diesase status as the response variable and the normalizeed fluxes as independent variables. In general, import fluxes are not as predictive because, well, they are more relevant to the bacteria than us. What we usually care about (from a host-health perspective) are the production fluxes of metabolites. These are the total production fluxes into the extracellular (lumenal) space, which includes the set of metabolites that are bioavailable to the host. \n",
        "\n",
        "We will start by reading the metadata annotations for our samples that tell us which samples belong to which health status."
      ]
    },
    {
      "cell_type": "code",
      "metadata": {
        "id": "XidfqLbzt5sV"
      },
      "source": [
        ""
      ],
      "execution_count": 20,
      "outputs": []
    },
    {
      "cell_type": "markdown",
      "metadata": {
        "id": "-O-moP9Rt6It"
      },
      "source": [
        "Because OSQP has a somewhat lower solver accuracy, we will be conservative for what we consider to be 'substantial flux' and will filter out fluxes smaller than 0.01 mmol/l."
      ]
    },
    {
      "cell_type": "code",
      "metadata": {
        "id": "ebsw0XD-l2Lj"
      },
      "source": [
        "from micom.viz import *\n",
        "\n",
        "manifest.index = manifest.sample_id\n",
        "pheno = manifest.disease_stat\n",
        "\n",
        "pl = plot_fit(growth_results, pheno, atol=1e-3, flux_type=\"production\")\n"
      ],
      "execution_count": 21,
      "outputs": []
    },
    {
      "cell_type": "markdown",
      "metadata": {
        "id": "4Y_XfHkB4sO8"
      },
      "source": [
        "This will again create a file `fit_[DATE].html` that you can open. You will see the production fluxes most predictive of the phenotypes of interest and you can compare them across the groups. In the coefficient plot negative coefficients mean the particular metabolite is produced at a higher flux in the first group (recurrent C. diff in our case), whereas positive coefficients mean it is produced at a higher flux in the second group (healthy).\n",
        "\n",
        "Some observations to help you intepret the results:\n",
        "\n",
        "- [maltotriose](https://en.wikipedia.org/wiki/Maltotriose) is a breakdown product of alpha-amylase\n",
        "- [laurate](https://en.wikipedia.org/wiki/Lauric_acid) increases serum cholesterol more than any other fatty acid\n",
        "- *C. diff.* toxins contain multipe aspartate residues and toxin B [has aspartate protease activity](https://www.ncbi.nlm.nih.gov/pmc/articles/PMC4885049/) \n",
        "\n",
        "Whatever we conclude here is based on *very* little data so it would be purely hypothetical. However, it may point us to future avenues to explore."
      ]
    },
    {
      "cell_type": "markdown",
      "metadata": {
        "id": "l8maOr3w2bOo"
      },
      "source": [
        "# 🏫 Exercises"
      ]
    },
    {
      "cell_type": "markdown",
      "metadata": {
        "id": "TqdappAU20oT"
      },
      "source": [
        "Up to now, we have mostly used MICOM's \"high-level\" API, which is designed for working with several samples in parallel. However, MICOM also allows you to work with single models. We will choose a single sample now for further analysis.\n",
        "\n",
        "First, let's recall what samples we had. "
      ]
    },
    {
      "cell_type": "code",
      "metadata": {
        "id": "bllnCa1O28YZ",
        "colab": {
          "base_uri": "https://localhost:8080/",
          "height": 332
        },
        "outputId": "a085b5ad-d0aa-442b-85f2-e24dd3b13864"
      },
      "source": [
        "manifest"
      ],
      "execution_count": 22,
      "outputs": [
        {
          "output_type": "execute_result",
          "data": {
            "text/html": [
              "<div>\n",
              "<style scoped>\n",
              "    .dataframe tbody tr th:only-of-type {\n",
              "        vertical-align: middle;\n",
              "    }\n",
              "\n",
              "    .dataframe tbody tr th {\n",
              "        vertical-align: top;\n",
              "    }\n",
              "\n",
              "    .dataframe thead th {\n",
              "        text-align: right;\n",
              "    }\n",
              "</style>\n",
              "<table border=\"1\" class=\"dataframe\">\n",
              "  <thead>\n",
              "    <tr style=\"text-align: right;\">\n",
              "      <th></th>\n",
              "      <th>sample_id</th>\n",
              "      <th>disease_stat</th>\n",
              "      <th>description</th>\n",
              "      <th>file</th>\n",
              "      <th>found_taxa</th>\n",
              "      <th>total_taxa</th>\n",
              "      <th>found_fraction</th>\n",
              "      <th>found_abundance_fraction</th>\n",
              "    </tr>\n",
              "    <tr>\n",
              "      <th>sample_id</th>\n",
              "      <th></th>\n",
              "      <th></th>\n",
              "      <th></th>\n",
              "      <th></th>\n",
              "      <th></th>\n",
              "      <th></th>\n",
              "      <th></th>\n",
              "      <th></th>\n",
              "    </tr>\n",
              "  </thead>\n",
              "  <tbody>\n",
              "    <tr>\n",
              "      <th>ERR1883210</th>\n",
              "      <td>ERR1883210</td>\n",
              "      <td>healthy</td>\n",
              "      <td>Donor 13</td>\n",
              "      <td>ERR1883210.pickle</td>\n",
              "      <td>5.0</td>\n",
              "      <td>5.0</td>\n",
              "      <td>1.000000</td>\n",
              "      <td>0.822257</td>\n",
              "    </tr>\n",
              "    <tr>\n",
              "      <th>ERR1883212</th>\n",
              "      <td>ERR1883212</td>\n",
              "      <td>healthy</td>\n",
              "      <td>Donor 14</td>\n",
              "      <td>ERR1883212.pickle</td>\n",
              "      <td>9.0</td>\n",
              "      <td>10.0</td>\n",
              "      <td>0.900000</td>\n",
              "      <td>0.847637</td>\n",
              "    </tr>\n",
              "    <tr>\n",
              "      <th>ERR1883214</th>\n",
              "      <td>ERR1883214</td>\n",
              "      <td>Recurrent Clostridium difficile infection</td>\n",
              "      <td>Day 0 CD1</td>\n",
              "      <td>ERR1883214.pickle</td>\n",
              "      <td>3.0</td>\n",
              "      <td>3.0</td>\n",
              "      <td>1.000000</td>\n",
              "      <td>0.965912</td>\n",
              "    </tr>\n",
              "    <tr>\n",
              "      <th>ERR1883247</th>\n",
              "      <td>ERR1883247</td>\n",
              "      <td>healthy</td>\n",
              "      <td>Donor CD3</td>\n",
              "      <td>ERR1883247.pickle</td>\n",
              "      <td>9.0</td>\n",
              "      <td>11.0</td>\n",
              "      <td>0.818182</td>\n",
              "      <td>0.834526</td>\n",
              "    </tr>\n",
              "    <tr>\n",
              "      <th>ERR1883248</th>\n",
              "      <td>ERR1883248</td>\n",
              "      <td>Recurrent Clostridium difficile infection</td>\n",
              "      <td>Day 1 CD1</td>\n",
              "      <td>ERR1883248.pickle</td>\n",
              "      <td>5.0</td>\n",
              "      <td>5.0</td>\n",
              "      <td>1.000000</td>\n",
              "      <td>0.846712</td>\n",
              "    </tr>\n",
              "    <tr>\n",
              "      <th>ERR1883260</th>\n",
              "      <td>ERR1883260</td>\n",
              "      <td>healthy</td>\n",
              "      <td>CD2 Donor</td>\n",
              "      <td>ERR1883260.pickle</td>\n",
              "      <td>8.0</td>\n",
              "      <td>8.0</td>\n",
              "      <td>1.000000</td>\n",
              "      <td>0.855389</td>\n",
              "    </tr>\n",
              "    <tr>\n",
              "      <th>ERR1883294</th>\n",
              "      <td>ERR1883294</td>\n",
              "      <td>Recurrent Clostridium difficile infection</td>\n",
              "      <td>Day 0 CD3</td>\n",
              "      <td>ERR1883294.pickle</td>\n",
              "      <td>7.0</td>\n",
              "      <td>7.0</td>\n",
              "      <td>1.000000</td>\n",
              "      <td>0.937244</td>\n",
              "    </tr>\n",
              "    <tr>\n",
              "      <th>ERR1883315</th>\n",
              "      <td>ERR1883315</td>\n",
              "      <td>Recurrent Clostridium difficile infection</td>\n",
              "      <td>Day -1 CD4</td>\n",
              "      <td>ERR1883315.pickle</td>\n",
              "      <td>4.0</td>\n",
              "      <td>4.0</td>\n",
              "      <td>1.000000</td>\n",
              "      <td>0.962788</td>\n",
              "    </tr>\n",
              "  </tbody>\n",
              "</table>\n",
              "</div>"
            ],
            "text/plain": [
              "             sample_id  ... found_abundance_fraction\n",
              "sample_id               ...                         \n",
              "ERR1883210  ERR1883210  ...                 0.822257\n",
              "ERR1883212  ERR1883212  ...                 0.847637\n",
              "ERR1883214  ERR1883214  ...                 0.965912\n",
              "ERR1883247  ERR1883247  ...                 0.834526\n",
              "ERR1883248  ERR1883248  ...                 0.846712\n",
              "ERR1883260  ERR1883260  ...                 0.855389\n",
              "ERR1883294  ERR1883294  ...                 0.937244\n",
              "ERR1883315  ERR1883315  ...                 0.962788\n",
              "\n",
              "[8 rows x 8 columns]"
            ]
          },
          "metadata": {
            "tags": []
          },
          "execution_count": 22
        }
      ]
    },
    {
      "cell_type": "markdown",
      "metadata": {
        "id": "VjUustQG2_bX"
      },
      "source": [
        "Let's look further into the surprising *C. diff.* individual that looked very similar to the healthy subjects. We will apply the same diet as before."
      ]
    },
    {
      "cell_type": "code",
      "metadata": {
        "id": "uh7QFi9V3HIX",
        "colab": {
          "base_uri": "https://localhost:8080/",
          "height": 271
        },
        "outputId": "20c085b4-f914-4e68-825b-0926bb3c8b42"
      },
      "source": [
        "from micom import load_pickle\n",
        "from micom.qiime_formats import load_qiime_medium\n",
        "\n",
        "medium = load_qiime_medium(\"western_diet_gut.qza\")\n",
        "medium.index = medium.reaction\n",
        "\n",
        "com = load_pickle(\"models/ERR1883248.pickle\")\n",
        "com.medium = medium.flux\n",
        "com"
      ],
      "execution_count": 34,
      "outputs": [
        {
          "output_type": "display_data",
          "data": {
            "text/html": [
              "<pre style=\"white-space:pre;overflow-x:auto;line-height:normal;font-family:Menlo,'DejaVu Sans Mono',consolas,'Courier New',monospace\"><span style=\"color: #7fbfbf; text-decoration-color: #7fbfbf\">[18:52:17] </span><span style=\"color: #800000; text-decoration-color: #800000\">WARNING </span> I could not find the following exchanges in your model:  <a href=\"file:///usr/local/lib/python3.7/dist-packages/micom/community.py\"><span style=\"color: #7f7f7f; text-decoration-color: #7f7f7f\">community.py</span></a><span style=\"color: #7f7f7f; text-decoration-color: #7f7f7f\">:670</span>\n",
              "                    EX_fald_m, EX_sel_m, EX_adpcbl_m, EX_hdcea_m, EX_amet_m,                 \n",
              "                    EX_lnlc_m, EX_fe3dcit_m, EX_octa_m, EX_oxa_m,                            \n",
              "                    EX_lnlncg_m, EX_chsterol_m, EX_glu_D_m, EX_glc_m,                        \n",
              "                    EX_chol_m, EX_arachd_m, EX_lnlnca_m, EX_pime_m,                          \n",
              "                    EX_lanost_m, EX_pydx5p_m                                                 \n",
              "</pre>\n"
            ],
            "text/plain": [
              "\u001b[2;36m[18:52:17]\u001b[0m\u001b[2;36m \u001b[0m\u001b[31mWARNING \u001b[0m I could not find the following exchanges in your model:  \u001b]8;id=1625856737.0304654-780483;file:///usr/local/lib/python3.7/dist-packages/micom/community.py\u001b\\\u001b[2mcommunity.py\u001b[0m\u001b]8;;\u001b\\\u001b[2m:670\u001b[0m\n",
              "                    EX_fald_m, EX_sel_m, EX_adpcbl_m, EX_hdcea_m, EX_amet_m,                 \n",
              "                    EX_lnlc_m, EX_fe3dcit_m, EX_octa_m, EX_oxa_m,                            \n",
              "                    EX_lnlncg_m, EX_chsterol_m, EX_glu_D_m, EX_glc_m,                        \n",
              "                    EX_chol_m, EX_arachd_m, EX_lnlnca_m, EX_pime_m,                          \n",
              "                    EX_lanost_m, EX_pydx5p_m                                                 \n"
            ]
          },
          "metadata": {
            "tags": []
          }
        },
        {
          "output_type": "execute_result",
          "data": {
            "text/html": [
              "\n",
              "        <table>\n",
              "            <tr>\n",
              "                <td><strong>Name</strong></td>\n",
              "                <td>ERR1883248</td>\n",
              "            </tr><tr>\n",
              "                <td><strong>Memory address</strong></td>\n",
              "                <td>0x07f60994ccd50</td>\n",
              "            </tr><tr>\n",
              "                <td><strong>Number of metabolites</strong></td>\n",
              "                <td>9003</td>\n",
              "            </tr><tr>\n",
              "                <td><strong>Number of reactions</strong></td>\n",
              "                <td>14138</td>\n",
              "            </tr><tr>\n",
              "                <td><strong>Number of groups</strong></td>\n",
              "                <td>0</td>\n",
              "            </tr><tr>\n",
              "                <td><strong>Objective expression</strong></td>\n",
              "                <td>1.0*community_objective</td>\n",
              "            </tr><tr>\n",
              "                <td><strong>Compartments</strong></td>\n",
              "                <td>c__Akkermansia, e__Akkermansia, m, c__Bacteroides, e__Bacteroides, e__Faecalibacterium, c__Faecalibacterium, c__Parabacteroides, e__Parabacteroides, c__Ruminococcus, e__Ruminococcus</td>\n",
              "            </tr>\n",
              "          </table>"
            ],
            "text/plain": [
              "<Community ERR1883248 at 0x7f60994ccd50>"
            ]
          },
          "metadata": {
            "tags": []
          },
          "execution_count": 34
        }
      ]
    },
    {
      "cell_type": "markdown",
      "metadata": {
        "id": "GFcWJKuO3bnT"
      },
      "source": [
        "This is a MICOM community object. MICOM community models are full [COBRApy](https://opencobra.github.io/cobrapy/) models (with sprinkles on top) and there is a whole bunch of stuff we could do with it."
      ]
    },
    {
      "cell_type": "markdown",
      "metadata": {
        "id": "CUaUHsKm2fk7"
      },
      "source": [
        "## Microbe-microbe interactions\n",
        "\n",
        "Let's dive a bit more into competition and cooperation between taxa. We can start by simulating taxa knockouts using `com.knockout_taxa`. For that we will remove each of the taxa from the model (one-at-a-time) and see how that affects the growth rates of all other taxa. If other taxa grow faster after the knockout, they were competing with the knocked-out taxon. However, if they grow slower, they were cooperating with the knocked-out taxon. \n",
        "\n",
        "See the docs for more info: https://micom-dev.github.io/micom/taxa_knockouts.html.\n",
        "\n",
        "Bonus points if you can visualize your results. How would you deal with vastly different scales of growth rates between taxa?\n",
        "\n",
        "> Oh geez. I once saw somebody plot a heatmap with Seaborn using a Pandas DataFrame. I wish I could remember where that was... 🤔\n"
      ]
    },
    {
      "cell_type": "code",
      "metadata": {
        "id": "5IlJ-YpUCQzp",
        "colab": {
          "base_uri": "https://localhost:8080/",
          "height": 389,
          "referenced_widgets": [
            "879609a1e9e64ca28e7b0aa06a5252a0",
            "bd86eec6111142009c9a5ca6c0f003c8"
          ]
        },
        "outputId": "52e854ca-a109-445b-fefe-ac1471ae5e01"
      },
      "source": [
        "import seaborn as sns\n",
        "\n",
        "ko = com.knockout_taxa(fraction=0.8, method=\"change\")\n",
        "\n",
        "sns.heatmap(ko, cmap=\"seismic\", center=0)"
      ],
      "execution_count": 39,
      "outputs": [
        {
          "output_type": "display_data",
          "data": {
            "application/vnd.jupyter.widget-view+json": {
              "model_id": "879609a1e9e64ca28e7b0aa06a5252a0",
              "version_minor": 0,
              "version_major": 2
            },
            "text/plain": [
              "Output()"
            ]
          },
          "metadata": {
            "tags": []
          }
        },
        {
          "output_type": "execute_result",
          "data": {
            "text/plain": [
              "<matplotlib.axes._subplots.AxesSubplot at 0x7f6086396410>"
            ]
          },
          "metadata": {
            "tags": []
          },
          "execution_count": 39
        },
        {
          "output_type": "display_data",
          "data": {
            "image/png": "[encoded data removed]",
            "text/plain": [
              "<Figure size 432x288 with 2 Axes>"
            ]
          },
          "metadata": {
            "tags": [],
            "needs_background": "light"
          }
        }
      ]
    },
    {
      "cell_type": "markdown",
      "metadata": {
        "id": "98RxzLb4yNuc"
      },
      "source": [
        "Here the rows denote the knocked-out taxa and the columns the chnage in growth rate for all taxa. We used the the same tradeoff (\"fraction\") as before and asked for getting relative changes in growth rates (%change compared to baseline growth rate). We can see that there is a lot of competetion but also some strong cooperative interactions between Ruminicoccus and other genera."
      ]
    },
    {
      "cell_type": "markdown",
      "metadata": {
        "id": "p81Fsdp-CPTF"
      },
      "source": [
        "## The flux capacitator\n",
        "\n",
        "Here is how you would run the cooperative tradeoff for a single model. We can follow that up with pFBA to get all fluxes in the system."
      ]
    },
    {
      "cell_type": "code",
      "metadata": {
        "id": "tMAz3FoSMZLf",
        "colab": {
          "base_uri": "https://localhost:8080/",
          "height": 321
        },
        "outputId": "6618f80b-6370-4924-8af4-fe09360132d4"
      },
      "source": [
        "sol = com.cooperative_tradeoff(fraction=0.5, fluxes=True, pfba=True)\n",
        "sol"
      ],
      "execution_count": 25,
      "outputs": [
        {
          "output_type": "execute_result",
          "data": {
            "text/html": [
              "<strong>community growth:</strong> 0.225<br><strong>status:</strong> numeric<br><strong>taxa:</strong><div>\n",
              "<style scoped>\n",
              "    .dataframe tbody tr th:only-of-type {\n",
              "        vertical-align: middle;\n",
              "    }\n",
              "\n",
              "    .dataframe tbody tr th {\n",
              "        vertical-align: top;\n",
              "    }\n",
              "\n",
              "    .dataframe thead th {\n",
              "        text-align: right;\n",
              "    }\n",
              "</style>\n",
              "<table border=\"1\" class=\"dataframe\">\n",
              "  <thead>\n",
              "    <tr style=\"text-align: right;\">\n",
              "      <th></th>\n",
              "      <th>abundance</th>\n",
              "      <th>growth_rate</th>\n",
              "      <th>reactions</th>\n",
              "      <th>metabolites</th>\n",
              "    </tr>\n",
              "    <tr>\n",
              "      <th>compartments</th>\n",
              "      <th></th>\n",
              "      <th></th>\n",
              "      <th></th>\n",
              "      <th></th>\n",
              "    </tr>\n",
              "  </thead>\n",
              "  <tbody>\n",
              "    <tr>\n",
              "      <th>Akkermansia</th>\n",
              "      <td>0.121702</td>\n",
              "      <td>0.061570</td>\n",
              "      <td>2274</td>\n",
              "      <td>1386</td>\n",
              "    </tr>\n",
              "    <tr>\n",
              "      <th>Bacteroides</th>\n",
              "      <td>0.626469</td>\n",
              "      <td>0.326576</td>\n",
              "      <td>3307</td>\n",
              "      <td>1887</td>\n",
              "    </tr>\n",
              "    <tr>\n",
              "      <th>Faecalibacterium</th>\n",
              "      <td>0.124280</td>\n",
              "      <td>0.064240</td>\n",
              "      <td>1986</td>\n",
              "      <td>1472</td>\n",
              "    </tr>\n",
              "    <tr>\n",
              "      <th>Parabacteroides</th>\n",
              "      <td>0.092408</td>\n",
              "      <td>0.047597</td>\n",
              "      <td>2870</td>\n",
              "      <td>1747</td>\n",
              "    </tr>\n",
              "    <tr>\n",
              "      <th>Ruminococcus</th>\n",
              "      <td>0.035140</td>\n",
              "      <td>0.017461</td>\n",
              "      <td>2983</td>\n",
              "      <td>1793</td>\n",
              "    </tr>\n",
              "    <tr>\n",
              "      <th>medium</th>\n",
              "      <td>NaN</td>\n",
              "      <td>NaN</td>\n",
              "      <td>718</td>\n",
              "      <td>718</td>\n",
              "    </tr>\n",
              "  </tbody>\n",
              "</table>\n",
              "</div>"
            ],
            "text/plain": [
              "<CommunitySolution 0.225 at 0x7f60984baad0>"
            ]
          },
          "metadata": {
            "tags": []
          },
          "execution_count": 25
        }
      ]
    },
    {
      "cell_type": "markdown",
      "metadata": {
        "id": "J3j9NZC1cFR2"
      },
      "source": [
        "The returned solution contains all fluxes in `sol.fluxes`. An `NaN` entry denotes that this reaction is not present in the organism."
      ]
    },
    {
      "cell_type": "code",
      "metadata": {
        "id": "X26njphUcJ2k",
        "colab": {
          "base_uri": "https://localhost:8080/",
          "height": 287
        },
        "outputId": "57d19c29-4897-484c-bfba-c295ac8ea57a"
      },
      "source": [
        "sol.fluxes.head()"
      ],
      "execution_count": 26,
      "outputs": [
        {
          "output_type": "execute_result",
          "data": {
            "text/html": [
              "<div>\n",
              "<style scoped>\n",
              "    .dataframe tbody tr th:only-of-type {\n",
              "        vertical-align: middle;\n",
              "    }\n",
              "\n",
              "    .dataframe tbody tr th {\n",
              "        vertical-align: top;\n",
              "    }\n",
              "\n",
              "    .dataframe thead th {\n",
              "        text-align: right;\n",
              "    }\n",
              "</style>\n",
              "<table border=\"1\" class=\"dataframe\">\n",
              "  <thead>\n",
              "    <tr style=\"text-align: right;\">\n",
              "      <th>reaction</th>\n",
              "      <th>12DGR180ti</th>\n",
              "      <th>12PPDSDH</th>\n",
              "      <th>12PPDt</th>\n",
              "      <th>12aHSDHe</th>\n",
              "      <th>15DAPt</th>\n",
              "      <th>1P4H2CBXLAH</th>\n",
              "      <th>23DHMPO</th>\n",
              "      <th>23PDE2</th>\n",
              "      <th>23PDE4</th>\n",
              "      <th>23PDE7</th>\n",
              "      <th>23PDE9</th>\n",
              "      <th>26DAPLLAT</th>\n",
              "      <th>26DAPt2r</th>\n",
              "      <th>2AHBUTI</th>\n",
              "      <th>2DDPENTHL</th>\n",
              "      <th>2DHPL</th>\n",
              "      <th>2DMMQ8abc</th>\n",
              "      <th>2HBO</th>\n",
              "      <th>2HYOXPLACt2r</th>\n",
              "      <th>2INSD</th>\n",
              "      <th>2MBCOATA</th>\n",
              "      <th>2MEBCOADH</th>\n",
              "      <th>2MMALD</th>\n",
              "      <th>2MMALD2</th>\n",
              "      <th>2OBUTt2r</th>\n",
              "      <th>2S6HCC</th>\n",
              "      <th>34DHOXPEGOX</th>\n",
              "      <th>34HPPOR</th>\n",
              "      <th>3ABUTCOAL</th>\n",
              "      <th>3BTCOAI</th>\n",
              "      <th>3CARLPDH</th>\n",
              "      <th>3HACPR1</th>\n",
              "      <th>3HACPR2</th>\n",
              "      <th>3HAD100</th>\n",
              "      <th>3HAD10M11</th>\n",
              "      <th>3HAD10M12</th>\n",
              "      <th>3HAD11M12</th>\n",
              "      <th>3HAD120</th>\n",
              "      <th>3HAD121</th>\n",
              "      <th>3HAD12M13</th>\n",
              "      <th>...</th>\n",
              "      <th>r0085</th>\n",
              "      <th>r0120</th>\n",
              "      <th>r0127</th>\n",
              "      <th>r0163c</th>\n",
              "      <th>r0220</th>\n",
              "      <th>r0236</th>\n",
              "      <th>r0318i</th>\n",
              "      <th>r0330</th>\n",
              "      <th>r0339</th>\n",
              "      <th>r0345</th>\n",
              "      <th>r0389</th>\n",
              "      <th>r0392</th>\n",
              "      <th>r0398</th>\n",
              "      <th>r0422</th>\n",
              "      <th>r0456</th>\n",
              "      <th>r0502</th>\n",
              "      <th>r0556ci</th>\n",
              "      <th>r0570</th>\n",
              "      <th>r0671</th>\n",
              "      <th>r0708</th>\n",
              "      <th>r0739</th>\n",
              "      <th>r0775</th>\n",
              "      <th>r0777</th>\n",
              "      <th>r0792</th>\n",
              "      <th>r1144</th>\n",
              "      <th>r1162</th>\n",
              "      <th>r1314</th>\n",
              "      <th>r1384</th>\n",
              "      <th>r1667</th>\n",
              "      <th>r2137</th>\n",
              "      <th>rtranscription</th>\n",
              "      <th>sink_PGPm1[c]</th>\n",
              "      <th>sink_dmbzid</th>\n",
              "      <th>sink_gthrd(c)</th>\n",
              "      <th>sink_mqn7(c)</th>\n",
              "      <th>sink_mqn8(c)</th>\n",
              "      <th>sink_pheme(c)</th>\n",
              "      <th>sink_q8(c)</th>\n",
              "      <th>sink_s</th>\n",
              "      <th>sink_sheme(c)</th>\n",
              "    </tr>\n",
              "    <tr>\n",
              "      <th>compartment</th>\n",
              "      <th></th>\n",
              "      <th></th>\n",
              "      <th></th>\n",
              "      <th></th>\n",
              "      <th></th>\n",
              "      <th></th>\n",
              "      <th></th>\n",
              "      <th></th>\n",
              "      <th></th>\n",
              "      <th></th>\n",
              "      <th></th>\n",
              "      <th></th>\n",
              "      <th></th>\n",
              "      <th></th>\n",
              "      <th></th>\n",
              "      <th></th>\n",
              "      <th></th>\n",
              "      <th></th>\n",
              "      <th></th>\n",
              "      <th></th>\n",
              "      <th></th>\n",
              "      <th></th>\n",
              "      <th></th>\n",
              "      <th></th>\n",
              "      <th></th>\n",
              "      <th></th>\n",
              "      <th></th>\n",
              "      <th></th>\n",
              "      <th></th>\n",
              "      <th></th>\n",
              "      <th></th>\n",
              "      <th></th>\n",
              "      <th></th>\n",
              "      <th></th>\n",
              "      <th></th>\n",
              "      <th></th>\n",
              "      <th></th>\n",
              "      <th></th>\n",
              "      <th></th>\n",
              "      <th></th>\n",
              "      <th></th>\n",
              "      <th></th>\n",
              "      <th></th>\n",
              "      <th></th>\n",
              "      <th></th>\n",
              "      <th></th>\n",
              "      <th></th>\n",
              "      <th></th>\n",
              "      <th></th>\n",
              "      <th></th>\n",
              "      <th></th>\n",
              "      <th></th>\n",
              "      <th></th>\n",
              "      <th></th>\n",
              "      <th></th>\n",
              "      <th></th>\n",
              "      <th></th>\n",
              "      <th></th>\n",
              "      <th></th>\n",
              "      <th></th>\n",
              "      <th></th>\n",
              "      <th></th>\n",
              "      <th></th>\n",
              "      <th></th>\n",
              "      <th></th>\n",
              "      <th></th>\n",
              "      <th></th>\n",
              "      <th></th>\n",
              "      <th></th>\n",
              "      <th></th>\n",
              "      <th></th>\n",
              "      <th></th>\n",
              "      <th></th>\n",
              "      <th></th>\n",
              "      <th></th>\n",
              "      <th></th>\n",
              "      <th></th>\n",
              "      <th></th>\n",
              "      <th></th>\n",
              "      <th></th>\n",
              "      <th></th>\n",
              "    </tr>\n",
              "  </thead>\n",
              "  <tbody>\n",
              "    <tr>\n",
              "      <th>Akkermansia</th>\n",
              "      <td>NaN</td>\n",
              "      <td>NaN</td>\n",
              "      <td>-0.000002</td>\n",
              "      <td>NaN</td>\n",
              "      <td>NaN</td>\n",
              "      <td>NaN</td>\n",
              "      <td>1.114652e-09</td>\n",
              "      <td>NaN</td>\n",
              "      <td>NaN</td>\n",
              "      <td>NaN</td>\n",
              "      <td>NaN</td>\n",
              "      <td>0.000051</td>\n",
              "      <td>0.019160</td>\n",
              "      <td>-4.797180e-09</td>\n",
              "      <td>NaN</td>\n",
              "      <td>NaN</td>\n",
              "      <td>NaN</td>\n",
              "      <td>NaN</td>\n",
              "      <td>NaN</td>\n",
              "      <td>NaN</td>\n",
              "      <td>0.000034</td>\n",
              "      <td>0.00003</td>\n",
              "      <td>NaN</td>\n",
              "      <td>NaN</td>\n",
              "      <td>0.015034</td>\n",
              "      <td>NaN</td>\n",
              "      <td>NaN</td>\n",
              "      <td>NaN</td>\n",
              "      <td>NaN</td>\n",
              "      <td>NaN</td>\n",
              "      <td>-9.537671e-07</td>\n",
              "      <td>-0.000262</td>\n",
              "      <td>-0.000263</td>\n",
              "      <td>4.967282e-07</td>\n",
              "      <td>-4.106775e-07</td>\n",
              "      <td>0.000036</td>\n",
              "      <td>0.000035</td>\n",
              "      <td>-1.521515e-07</td>\n",
              "      <td>NaN</td>\n",
              "      <td>-1.048707e-06</td>\n",
              "      <td>...</td>\n",
              "      <td>NaN</td>\n",
              "      <td>3.619722e-07</td>\n",
              "      <td>NaN</td>\n",
              "      <td>-0.000001</td>\n",
              "      <td>NaN</td>\n",
              "      <td>NaN</td>\n",
              "      <td>NaN</td>\n",
              "      <td>NaN</td>\n",
              "      <td>NaN</td>\n",
              "      <td>0.001892</td>\n",
              "      <td>NaN</td>\n",
              "      <td>NaN</td>\n",
              "      <td>-0.000004</td>\n",
              "      <td>-7.071670e-06</td>\n",
              "      <td>NaN</td>\n",
              "      <td>NaN</td>\n",
              "      <td>9.741769e-07</td>\n",
              "      <td>NaN</td>\n",
              "      <td>8.877425e-08</td>\n",
              "      <td>3.642466e-07</td>\n",
              "      <td>NaN</td>\n",
              "      <td>1.224154e-07</td>\n",
              "      <td>-1.208553e-07</td>\n",
              "      <td>-0.000052</td>\n",
              "      <td>NaN</td>\n",
              "      <td>NaN</td>\n",
              "      <td>NaN</td>\n",
              "      <td>NaN</td>\n",
              "      <td>NaN</td>\n",
              "      <td>0.000191</td>\n",
              "      <td>0.061570</td>\n",
              "      <td>NaN</td>\n",
              "      <td>NaN</td>\n",
              "      <td>-1.885542e-04</td>\n",
              "      <td>NaN</td>\n",
              "      <td>NaN</td>\n",
              "      <td>NaN</td>\n",
              "      <td>NaN</td>\n",
              "      <td>0.000269</td>\n",
              "      <td>-0.000212</td>\n",
              "    </tr>\n",
              "    <tr>\n",
              "      <th>Bacteroides</th>\n",
              "      <td>NaN</td>\n",
              "      <td>NaN</td>\n",
              "      <td>0.000004</td>\n",
              "      <td>NaN</td>\n",
              "      <td>NaN</td>\n",
              "      <td>-9.223129e-09</td>\n",
              "      <td>-7.412163e-07</td>\n",
              "      <td>4.653785e-09</td>\n",
              "      <td>4.653785e-09</td>\n",
              "      <td>4.653785e-09</td>\n",
              "      <td>4.653785e-09</td>\n",
              "      <td>0.000005</td>\n",
              "      <td>0.103520</td>\n",
              "      <td>7.303815e-07</td>\n",
              "      <td>5.577499e-09</td>\n",
              "      <td>-4.217136e-03</td>\n",
              "      <td>-0.000148</td>\n",
              "      <td>NaN</td>\n",
              "      <td>-0.000007</td>\n",
              "      <td>-2.428598e-08</td>\n",
              "      <td>0.000139</td>\n",
              "      <td>NaN</td>\n",
              "      <td>-0.000002</td>\n",
              "      <td>-0.000002</td>\n",
              "      <td>0.110916</td>\n",
              "      <td>-0.000093</td>\n",
              "      <td>-2.706890e-09</td>\n",
              "      <td>NaN</td>\n",
              "      <td>NaN</td>\n",
              "      <td>NaN</td>\n",
              "      <td>NaN</td>\n",
              "      <td>-0.000025</td>\n",
              "      <td>-0.000026</td>\n",
              "      <td>-4.348868e-06</td>\n",
              "      <td>1.817028e-06</td>\n",
              "      <td>0.000145</td>\n",
              "      <td>0.000092</td>\n",
              "      <td>-5.855208e-06</td>\n",
              "      <td>-1.879840e-09</td>\n",
              "      <td>7.195699e-07</td>\n",
              "      <td>...</td>\n",
              "      <td>-4.619020e-09</td>\n",
              "      <td>9.090358e-07</td>\n",
              "      <td>4.064688e-06</td>\n",
              "      <td>NaN</td>\n",
              "      <td>NaN</td>\n",
              "      <td>NaN</td>\n",
              "      <td>NaN</td>\n",
              "      <td>NaN</td>\n",
              "      <td>1.229110e-06</td>\n",
              "      <td>-0.001526</td>\n",
              "      <td>-0.087136</td>\n",
              "      <td>NaN</td>\n",
              "      <td>0.000001</td>\n",
              "      <td>-1.143072e-08</td>\n",
              "      <td>0.009899</td>\n",
              "      <td>NaN</td>\n",
              "      <td>NaN</td>\n",
              "      <td>0.213759</td>\n",
              "      <td>-1.318865e-06</td>\n",
              "      <td>-8.929955e-07</td>\n",
              "      <td>2.706890e-09</td>\n",
              "      <td>9.074184e-07</td>\n",
              "      <td>8.997575e-07</td>\n",
              "      <td>-0.021298</td>\n",
              "      <td>-1.458807e-08</td>\n",
              "      <td>NaN</td>\n",
              "      <td>-1.304623e-09</td>\n",
              "      <td>-0.007525</td>\n",
              "      <td>0.019552</td>\n",
              "      <td>0.002109</td>\n",
              "      <td>0.324862</td>\n",
              "      <td>NaN</td>\n",
              "      <td>0.000144</td>\n",
              "      <td>-2.852118e-04</td>\n",
              "      <td>NaN</td>\n",
              "      <td>NaN</td>\n",
              "      <td>NaN</td>\n",
              "      <td>NaN</td>\n",
              "      <td>0.000028</td>\n",
              "      <td>NaN</td>\n",
              "    </tr>\n",
              "    <tr>\n",
              "      <th>Faecalibacterium</th>\n",
              "      <td>0.000483</td>\n",
              "      <td>NaN</td>\n",
              "      <td>NaN</td>\n",
              "      <td>0.000006</td>\n",
              "      <td>NaN</td>\n",
              "      <td>-4.302582e-09</td>\n",
              "      <td>2.343502e-06</td>\n",
              "      <td>7.119863e-09</td>\n",
              "      <td>7.119863e-09</td>\n",
              "      <td>7.119863e-09</td>\n",
              "      <td>7.119863e-09</td>\n",
              "      <td>0.000004</td>\n",
              "      <td>NaN</td>\n",
              "      <td>-2.341613e-06</td>\n",
              "      <td>NaN</td>\n",
              "      <td>-6.365150e-08</td>\n",
              "      <td>NaN</td>\n",
              "      <td>3.797751e-09</td>\n",
              "      <td>NaN</td>\n",
              "      <td>NaN</td>\n",
              "      <td>0.002941</td>\n",
              "      <td>NaN</td>\n",
              "      <td>NaN</td>\n",
              "      <td>NaN</td>\n",
              "      <td>NaN</td>\n",
              "      <td>0.000006</td>\n",
              "      <td>-3.096708e-09</td>\n",
              "      <td>NaN</td>\n",
              "      <td>-1.418546e-08</td>\n",
              "      <td>NaN</td>\n",
              "      <td>NaN</td>\n",
              "      <td>NaN</td>\n",
              "      <td>NaN</td>\n",
              "      <td>-5.179727e-06</td>\n",
              "      <td>-5.224218e-09</td>\n",
              "      <td>0.002941</td>\n",
              "      <td>0.002941</td>\n",
              "      <td>-5.290599e-06</td>\n",
              "      <td>NaN</td>\n",
              "      <td>-5.224218e-09</td>\n",
              "      <td>...</td>\n",
              "      <td>NaN</td>\n",
              "      <td>3.751858e-08</td>\n",
              "      <td>-2.697402e-07</td>\n",
              "      <td>NaN</td>\n",
              "      <td>NaN</td>\n",
              "      <td>NaN</td>\n",
              "      <td>NaN</td>\n",
              "      <td>NaN</td>\n",
              "      <td>-6.538566e-07</td>\n",
              "      <td>-0.000002</td>\n",
              "      <td>NaN</td>\n",
              "      <td>NaN</td>\n",
              "      <td>NaN</td>\n",
              "      <td>1.876098e-07</td>\n",
              "      <td>0.000821</td>\n",
              "      <td>NaN</td>\n",
              "      <td>NaN</td>\n",
              "      <td>0.355129</td>\n",
              "      <td>5.728226e-07</td>\n",
              "      <td>5.811119e-09</td>\n",
              "      <td>3.096708e-09</td>\n",
              "      <td>2.968051e-08</td>\n",
              "      <td>1.192873e-08</td>\n",
              "      <td>-0.010842</td>\n",
              "      <td>-1.604290e-07</td>\n",
              "      <td>NaN</td>\n",
              "      <td>NaN</td>\n",
              "      <td>0.000009</td>\n",
              "      <td>NaN</td>\n",
              "      <td>0.000485</td>\n",
              "      <td>0.061495</td>\n",
              "      <td>0.000003</td>\n",
              "      <td>NaN</td>\n",
              "      <td>-2.823041e-04</td>\n",
              "      <td>-0.000002</td>\n",
              "      <td>-0.000557</td>\n",
              "      <td>-0.000267</td>\n",
              "      <td>-0.000289</td>\n",
              "      <td>NaN</td>\n",
              "      <td>-0.000285</td>\n",
              "    </tr>\n",
              "    <tr>\n",
              "      <th>Parabacteroides</th>\n",
              "      <td>0.000294</td>\n",
              "      <td>NaN</td>\n",
              "      <td>-0.000015</td>\n",
              "      <td>NaN</td>\n",
              "      <td>NaN</td>\n",
              "      <td>-1.730668e-09</td>\n",
              "      <td>-1.484756e-08</td>\n",
              "      <td>-2.092616e-09</td>\n",
              "      <td>-2.092616e-09</td>\n",
              "      <td>-2.092616e-09</td>\n",
              "      <td>-2.092616e-09</td>\n",
              "      <td>0.000011</td>\n",
              "      <td>0.001711</td>\n",
              "      <td>6.291879e-09</td>\n",
              "      <td>2.233570e-09</td>\n",
              "      <td>5.104496e-06</td>\n",
              "      <td>NaN</td>\n",
              "      <td>NaN</td>\n",
              "      <td>-0.000005</td>\n",
              "      <td>-1.143024e-08</td>\n",
              "      <td>0.000005</td>\n",
              "      <td>NaN</td>\n",
              "      <td>NaN</td>\n",
              "      <td>NaN</td>\n",
              "      <td>0.011885</td>\n",
              "      <td>NaN</td>\n",
              "      <td>8.292889e-09</td>\n",
              "      <td>5.761216e-09</td>\n",
              "      <td>NaN</td>\n",
              "      <td>NaN</td>\n",
              "      <td>NaN</td>\n",
              "      <td>-0.000018</td>\n",
              "      <td>-0.000018</td>\n",
              "      <td>-5.221512e-06</td>\n",
              "      <td>-1.224468e-06</td>\n",
              "      <td>0.000005</td>\n",
              "      <td>0.000006</td>\n",
              "      <td>-5.352433e-06</td>\n",
              "      <td>1.083925e-10</td>\n",
              "      <td>-1.125196e-06</td>\n",
              "      <td>...</td>\n",
              "      <td>9.930445e-09</td>\n",
              "      <td>-1.230470e-06</td>\n",
              "      <td>-1.181313e-06</td>\n",
              "      <td>NaN</td>\n",
              "      <td>NaN</td>\n",
              "      <td>NaN</td>\n",
              "      <td>NaN</td>\n",
              "      <td>NaN</td>\n",
              "      <td>2.975505e-06</td>\n",
              "      <td>0.000002</td>\n",
              "      <td>-0.000178</td>\n",
              "      <td>NaN</td>\n",
              "      <td>-0.000012</td>\n",
              "      <td>3.120908e-09</td>\n",
              "      <td>0.000556</td>\n",
              "      <td>NaN</td>\n",
              "      <td>NaN</td>\n",
              "      <td>0.025955</td>\n",
              "      <td>4.755090e-07</td>\n",
              "      <td>1.185715e-06</td>\n",
              "      <td>-8.292889e-09</td>\n",
              "      <td>-1.216459e-06</td>\n",
              "      <td>-1.200487e-06</td>\n",
              "      <td>-0.000046</td>\n",
              "      <td>NaN</td>\n",
              "      <td>NaN</td>\n",
              "      <td>NaN</td>\n",
              "      <td>0.000005</td>\n",
              "      <td>NaN</td>\n",
              "      <td>0.000247</td>\n",
              "      <td>0.045084</td>\n",
              "      <td>NaN</td>\n",
              "      <td>0.000014</td>\n",
              "      <td>-9.254659e-05</td>\n",
              "      <td>NaN</td>\n",
              "      <td>NaN</td>\n",
              "      <td>NaN</td>\n",
              "      <td>NaN</td>\n",
              "      <td>0.000019</td>\n",
              "      <td>NaN</td>\n",
              "    </tr>\n",
              "    <tr>\n",
              "      <th>Ruminococcus</th>\n",
              "      <td>0.000023</td>\n",
              "      <td>-0.000008</td>\n",
              "      <td>0.000005</td>\n",
              "      <td>0.000002</td>\n",
              "      <td>-0.000009</td>\n",
              "      <td>-1.268923e-08</td>\n",
              "      <td>3.306722e-06</td>\n",
              "      <td>NaN</td>\n",
              "      <td>NaN</td>\n",
              "      <td>NaN</td>\n",
              "      <td>NaN</td>\n",
              "      <td>-0.000007</td>\n",
              "      <td>0.000637</td>\n",
              "      <td>-3.308896e-06</td>\n",
              "      <td>6.139608e-09</td>\n",
              "      <td>4.176673e-08</td>\n",
              "      <td>-0.000005</td>\n",
              "      <td>-1.138330e-08</td>\n",
              "      <td>0.000013</td>\n",
              "      <td>1.504771e-07</td>\n",
              "      <td>-0.000019</td>\n",
              "      <td>NaN</td>\n",
              "      <td>NaN</td>\n",
              "      <td>NaN</td>\n",
              "      <td>-0.000005</td>\n",
              "      <td>-0.000050</td>\n",
              "      <td>2.921230e-09</td>\n",
              "      <td>-2.502556e-08</td>\n",
              "      <td>NaN</td>\n",
              "      <td>1.177249e-09</td>\n",
              "      <td>NaN</td>\n",
              "      <td>NaN</td>\n",
              "      <td>NaN</td>\n",
              "      <td>-1.379603e-05</td>\n",
              "      <td>-1.433233e-08</td>\n",
              "      <td>-0.000019</td>\n",
              "      <td>-0.000020</td>\n",
              "      <td>-1.377237e-05</td>\n",
              "      <td>-6.661130e-09</td>\n",
              "      <td>-1.433233e-08</td>\n",
              "      <td>...</td>\n",
              "      <td>NaN</td>\n",
              "      <td>3.899538e-07</td>\n",
              "      <td>-2.941409e-05</td>\n",
              "      <td>NaN</td>\n",
              "      <td>-0.000007</td>\n",
              "      <td>-0.000007</td>\n",
              "      <td>-0.000007</td>\n",
              "      <td>0.00001</td>\n",
              "      <td>-3.951035e-06</td>\n",
              "      <td>0.000016</td>\n",
              "      <td>NaN</td>\n",
              "      <td>-0.000005</td>\n",
              "      <td>NaN</td>\n",
              "      <td>-8.209162e-06</td>\n",
              "      <td>0.000158</td>\n",
              "      <td>-2.462377e-08</td>\n",
              "      <td>NaN</td>\n",
              "      <td>0.000013</td>\n",
              "      <td>-7.238221e-06</td>\n",
              "      <td>-3.162417e-07</td>\n",
              "      <td>-2.921230e-09</td>\n",
              "      <td>3.775443e-07</td>\n",
              "      <td>3.467198e-07</td>\n",
              "      <td>-0.000031</td>\n",
              "      <td>-2.362560e-06</td>\n",
              "      <td>0.000001</td>\n",
              "      <td>NaN</td>\n",
              "      <td>-0.001400</td>\n",
              "      <td>-0.000008</td>\n",
              "      <td>0.000074</td>\n",
              "      <td>0.009410</td>\n",
              "      <td>0.000007</td>\n",
              "      <td>0.000012</td>\n",
              "      <td>-7.266564e-07</td>\n",
              "      <td>NaN</td>\n",
              "      <td>NaN</td>\n",
              "      <td>NaN</td>\n",
              "      <td>NaN</td>\n",
              "      <td>NaN</td>\n",
              "      <td>NaN</td>\n",
              "    </tr>\n",
              "  </tbody>\n",
              "</table>\n",
              "<p>5 rows × 4430 columns</p>\n",
              "</div>"
            ],
            "text/plain": [
              "reaction          12DGR180ti  12PPDSDH  ...    sink_s  sink_sheme(c)\n",
              "compartment                             ...                         \n",
              "Akkermansia              NaN       NaN  ...  0.000269      -0.000212\n",
              "Bacteroides              NaN       NaN  ...  0.000028            NaN\n",
              "Faecalibacterium    0.000483       NaN  ...       NaN      -0.000285\n",
              "Parabacteroides     0.000294       NaN  ...  0.000019            NaN\n",
              "Ruminococcus        0.000023 -0.000008  ...       NaN            NaN\n",
              "\n",
              "[5 rows x 4430 columns]"
            ]
          },
          "metadata": {
            "tags": []
          },
          "execution_count": 26
        }
      ]
    },
    {
      "cell_type": "markdown",
      "metadata": {
        "id": "Aeg_X2KQucKK"
      },
      "source": [
        "The acetate export reaction has the name `EX_ac(e)`. Identify the primary acetate producer in the system. Don't forget about the accuracy of 10<sup>-3</sup>."
      ]
    },
    {
      "cell_type": "code",
      "metadata": {
        "id": "q6_pLLG5YeoZ",
        "colab": {
          "base_uri": "https://localhost:8080/"
        },
        "outputId": "3b00e8e1-c9f7-4e9d-c8b0-cc5486cde2d2"
      },
      "source": [
        "sol.fluxes[\"EX_ac(e)\"]"
      ],
      "execution_count": 27,
      "outputs": [
        {
          "output_type": "execute_result",
          "data": {
            "text/plain": [
              "compartment\n",
              "Akkermansia         1.261561\n",
              "Bacteroides         0.219175\n",
              "Faecalibacterium    0.929980\n",
              "Parabacteroides     0.061149\n",
              "Ruminococcus        0.005923\n",
              "medium                   NaN\n",
              "Name: EX_ac(e), dtype: float64"
            ]
          },
          "metadata": {
            "tags": []
          },
          "execution_count": 27
        }
      ]
    },
    {
      "cell_type": "markdown",
      "metadata": {
        "id": "4l9srmRpYmdS"
      },
      "source": [
        "Looks like Akkermansia is the major producer. But this is expressed as flux per gDW of bacteria. But we might want to scale this by the relative abundance to get the total amount produced by each taxon."
      ]
    },
    {
      "cell_type": "code",
      "metadata": {
        "id": "9kf44fUEYz1B",
        "colab": {
          "base_uri": "https://localhost:8080/"
        },
        "outputId": "125367fa-efab-49bf-dedb-70cbeb942466"
      },
      "source": [
        "sol.fluxes[\"EX_ac(e)\"] * com.abundances"
      ],
      "execution_count": 28,
      "outputs": [
        {
          "output_type": "execute_result",
          "data": {
            "text/plain": [
              "Akkermansia         0.153534\n",
              "Bacteroides         0.137306\n",
              "Faecalibacterium    0.115578\n",
              "Parabacteroides     0.005651\n",
              "Ruminococcus        0.000208\n",
              "medium                   NaN\n",
              "dtype: float64"
            ]
          },
          "metadata": {
            "tags": []
          },
          "execution_count": 28
        }
      ]
    },
    {
      "cell_type": "markdown",
      "metadata": {
        "id": "LGGBSgwVwZiC"
      },
      "source": [
        "Look up at least one other reaction at https://www.vmh.life/#microbes/reactions, and get it's predicted fluxes. Does the reaction take place? If yes in which organism? Can you identify the most active fluxes in the community?"
      ]
    },
    {
      "cell_type": "code",
      "metadata": {
        "id": "PFwS8VIbuIY6",
        "colab": {
          "base_uri": "https://localhost:8080/"
        },
        "outputId": "565748c6-ef1d-4357-a910-5c9c3531c0db"
      },
      "source": [
        "# Glucose\n",
        "sol.fluxes[\"EX_glc_D(e)\"]"
      ],
      "execution_count": 29,
      "outputs": [
        {
          "output_type": "execute_result",
          "data": {
            "text/plain": [
              "compartment\n",
              "Akkermansia        -1.069793e-01\n",
              "Bacteroides         8.669326e-01\n",
              "Faecalibacterium   -1.013131e-05\n",
              "Parabacteroides    -2.332567e-06\n",
              "Ruminococcus        4.382047e-07\n",
              "medium                       NaN\n",
              "Name: EX_glc_D(e), dtype: float64"
            ]
          },
          "metadata": {
            "tags": []
          },
          "execution_count": 29
        }
      ]
    },
    {
      "cell_type": "code",
      "metadata": {
        "id": "Usg0RyshZM3k",
        "colab": {
          "base_uri": "https://localhost:8080/",
          "height": 363
        },
        "outputId": "d9cb78e3-a2ae-47a1-ebd1-01635aae2247"
      },
      "source": [
        "# most active\n",
        "highest = sol.fluxes.abs().mean(axis=0).sort_values(ascending=False)[0:10]\n",
        "highest = highest.to_frame(name=\"flux\").reset_index()\n",
        "highest"
      ],
      "execution_count": 30,
      "outputs": [
        {
          "output_type": "execute_result",
          "data": {
            "text/html": [
              "<div>\n",
              "<style scoped>\n",
              "    .dataframe tbody tr th:only-of-type {\n",
              "        vertical-align: middle;\n",
              "    }\n",
              "\n",
              "    .dataframe tbody tr th {\n",
              "        vertical-align: top;\n",
              "    }\n",
              "\n",
              "    .dataframe thead th {\n",
              "        text-align: right;\n",
              "    }\n",
              "</style>\n",
              "<table border=\"1\" class=\"dataframe\">\n",
              "  <thead>\n",
              "    <tr style=\"text-align: right;\">\n",
              "      <th></th>\n",
              "      <th>reaction</th>\n",
              "      <th>flux</th>\n",
              "    </tr>\n",
              "  </thead>\n",
              "  <tbody>\n",
              "    <tr>\n",
              "      <th>0</th>\n",
              "      <td>GALt2_2</td>\n",
              "      <td>8.344763</td>\n",
              "    </tr>\n",
              "    <tr>\n",
              "      <th>1</th>\n",
              "      <td>LYSt3r</td>\n",
              "      <td>6.655288</td>\n",
              "    </tr>\n",
              "    <tr>\n",
              "      <th>2</th>\n",
              "      <td>GALt1r</td>\n",
              "      <td>4.172412</td>\n",
              "    </tr>\n",
              "    <tr>\n",
              "      <th>3</th>\n",
              "      <td>ATPS4</td>\n",
              "      <td>3.399715</td>\n",
              "    </tr>\n",
              "    <tr>\n",
              "      <th>4</th>\n",
              "      <td>LYSt2r</td>\n",
              "      <td>3.325440</td>\n",
              "    </tr>\n",
              "    <tr>\n",
              "      <th>5</th>\n",
              "      <td>EX_h2o_m</td>\n",
              "      <td>1.124903</td>\n",
              "    </tr>\n",
              "    <tr>\n",
              "      <th>6</th>\n",
              "      <td>FLVRxe</td>\n",
              "      <td>0.781945</td>\n",
              "    </tr>\n",
              "    <tr>\n",
              "      <th>7</th>\n",
              "      <td>H2Ot</td>\n",
              "      <td>0.760996</td>\n",
              "    </tr>\n",
              "    <tr>\n",
              "      <th>8</th>\n",
              "      <td>EX_h(e)</td>\n",
              "      <td>0.702992</td>\n",
              "    </tr>\n",
              "    <tr>\n",
              "      <th>9</th>\n",
              "      <td>NADH6</td>\n",
              "      <td>0.658692</td>\n",
              "    </tr>\n",
              "  </tbody>\n",
              "</table>\n",
              "</div>"
            ],
            "text/plain": [
              "   reaction      flux\n",
              "0   GALt2_2  8.344763\n",
              "1    LYSt3r  6.655288\n",
              "2    GALt1r  4.172412\n",
              "3     ATPS4  3.399715\n",
              "4    LYSt2r  3.325440\n",
              "5  EX_h2o_m  1.124903\n",
              "6    FLVRxe  0.781945\n",
              "7      H2Ot  0.760996\n",
              "8   EX_h(e)  0.702992\n",
              "9     NADH6  0.658692"
            ]
          },
          "metadata": {
            "tags": []
          },
          "execution_count": 30
        }
      ]
    },
    {
      "cell_type": "markdown",
      "metadata": {
        "id": "CsqIRTbC7doD"
      },
      "source": [
        "# 🔵 Addendum\n"
      ]
    },
    {
      "cell_type": "markdown",
      "metadata": {
        "id": "hycoXNTi5xsH"
      },
      "source": [
        "## Choosing a tradeoff value\n",
        "\n",
        "Even if you don't have growth rates available you can still use your data to choose a decent tradeoff value. This can be done by choosing the largest tradeoff value that still allows growth for the majority of the taxa that you observed in the sample (if they are present at an appreciable abundance, they should be able to grow). This can be done with the `tradeoff` workflow in MICOM that will run cooperative tradeoff with varying tradeoff values, which can be visualized with the `plot_tradeoff` function."
      ]
    },
    {
      "cell_type": "code",
      "metadata": {
        "id": "8_1jesZTHYra",
        "colab": {
          "base_uri": "https://localhost:8080/",
          "height": 538,
          "referenced_widgets": [
            "38356ed4d4f5473b9bb35a0336c18842",
            "9b27d04672844495b82a80e73a9103c4"
          ]
        },
        "outputId": "80da24bc-60da-4e5f-f678-2e4e17d1572b"
      },
      "source": [
        "from micom.workflows import tradeoff\n",
        "import micom\n",
        "\n",
        "tradeoff_results = tradeoff(manifest, \"models\", medium, threads=2)\n",
        "tradeoff_results.to_csv(\"tradeoff.csv\", index=False)\n",
        "\n",
        "plot_tradeoff(tradeoff_results, tolerance=1e-4)"
      ],
      "execution_count": 31,
      "outputs": [
        {
          "output_type": "display_data",
          "data": {
            "application/vnd.jupyter.widget-view+json": {
              "model_id": "38356ed4d4f5473b9bb35a0336c18842",
              "version_minor": 0,
              "version_major": 2
            },
            "text/plain": [
              "Output()"
            ]
          },
          "metadata": {
            "tags": []
          }
        },
        {
          "output_type": "stream",
          "text": [
            "Solver interrupted\n"
          ],
          "name": "stdout"
        },
        {
          "output_type": "display_data",
          "data": {
            "text/html": [
              "<pre style=\"white-space:pre;overflow-x:auto;line-height:normal;font-family:Menlo,'DejaVu Sans Mono',consolas,'Courier New',monospace\"><span style=\"color: #7fbfbf; text-decoration-color: #7fbfbf\">[18:51:32] </span><span style=\"color: #800000; text-decoration-color: #800000\">WARNING </span> Sample ERR1883210 could not be optimized with cooperative  <a href=\"file:///usr/local/lib/python3.7/dist-packages/micom/workflows/tradeoff.py\"><span style=\"color: #7f7f7f; text-decoration-color: #7f7f7f\">tradeoff.py</span></a><span style=\"color: #7f7f7f; text-decoration-color: #7f7f7f\">:45</span>\n",
              "                    tradeoff <span style=\"font-weight: bold\">(</span>optimal<span style=\"font-weight: bold\">)</span>.                                                      \n",
              "</pre>\n"
            ],
            "text/plain": [
              "\u001b[2;36m[18:51:32]\u001b[0m\u001b[2;36m \u001b[0m\u001b[31mWARNING \u001b[0m Sample ERR1883210 could not be optimized with cooperative  \u001b]8;id=1625856692.084788-720866;file:///usr/local/lib/python3.7/dist-packages/micom/workflows/tradeoff.py\u001b\\\u001b[2mtradeoff.py\u001b[0m\u001b]8;;\u001b\\\u001b[2m:45\u001b[0m\n",
              "                    tradeoff \u001b[1m(\u001b[0moptimal\u001b[1m)\u001b[0m.                                                      \n"
            ]
          },
          "metadata": {
            "tags": []
          }
        },
        {
          "output_type": "error",
          "ename": "KeyboardInterrupt",
          "evalue": "ignored",
          "traceback": [
            "\u001b[0;31m---------------------------------------------------------------------------\u001b[0m",
            "\u001b[0;31mIndexError\u001b[0m                                Traceback (most recent call last)",
            "\u001b[0;32m/usr/lib/python3.7/multiprocessing/pool.py\u001b[0m in \u001b[0;36mnext\u001b[0;34m(self, timeout)\u001b[0m\n\u001b[1;32m    732\u001b[0m             \u001b[0;32mtry\u001b[0m\u001b[0;34m:\u001b[0m\u001b[0;34m\u001b[0m\u001b[0;34m\u001b[0m\u001b[0m\n\u001b[0;32m--> 733\u001b[0;31m                 \u001b[0mitem\u001b[0m \u001b[0;34m=\u001b[0m \u001b[0mself\u001b[0m\u001b[0;34m.\u001b[0m\u001b[0m_items\u001b[0m\u001b[0;34m.\u001b[0m\u001b[0mpopleft\u001b[0m\u001b[0;34m(\u001b[0m\u001b[0;34m)\u001b[0m\u001b[0;34m\u001b[0m\u001b[0;34m\u001b[0m\u001b[0m\n\u001b[0m\u001b[1;32m    734\u001b[0m             \u001b[0;32mexcept\u001b[0m \u001b[0mIndexError\u001b[0m\u001b[0;34m:\u001b[0m\u001b[0;34m\u001b[0m\u001b[0;34m\u001b[0m\u001b[0m\n",
            "\u001b[0;31mIndexError\u001b[0m: pop from an empty deque",
            "\nDuring handling of the above exception, another exception occurred:\n",
            "\u001b[0;31mKeyboardInterrupt\u001b[0m                         Traceback (most recent call last)",
            "\u001b[0;32m<ipython-input-31-915836ad1331>\u001b[0m in \u001b[0;36m<module>\u001b[0;34m()\u001b[0m\n\u001b[1;32m      2\u001b[0m \u001b[0;32mimport\u001b[0m \u001b[0mmicom\u001b[0m\u001b[0;34m\u001b[0m\u001b[0;34m\u001b[0m\u001b[0m\n\u001b[1;32m      3\u001b[0m \u001b[0;34m\u001b[0m\u001b[0m\n\u001b[0;32m----> 4\u001b[0;31m \u001b[0mtradeoff_results\u001b[0m \u001b[0;34m=\u001b[0m \u001b[0mtradeoff\u001b[0m\u001b[0;34m(\u001b[0m\u001b[0mmanifest\u001b[0m\u001b[0;34m,\u001b[0m \u001b[0;34m\"models\"\u001b[0m\u001b[0;34m,\u001b[0m \u001b[0mmedium\u001b[0m\u001b[0;34m,\u001b[0m \u001b[0mthreads\u001b[0m\u001b[0;34m=\u001b[0m\u001b[0;36m2\u001b[0m\u001b[0;34m)\u001b[0m\u001b[0;34m\u001b[0m\u001b[0;34m\u001b[0m\u001b[0m\n\u001b[0m\u001b[1;32m      5\u001b[0m \u001b[0mtradeoff_results\u001b[0m\u001b[0;34m.\u001b[0m\u001b[0mto_csv\u001b[0m\u001b[0;34m(\u001b[0m\u001b[0;34m\"tradeoff.csv\"\u001b[0m\u001b[0;34m,\u001b[0m \u001b[0mindex\u001b[0m\u001b[0;34m=\u001b[0m\u001b[0;32mFalse\u001b[0m\u001b[0;34m)\u001b[0m\u001b[0;34m\u001b[0m\u001b[0;34m\u001b[0m\u001b[0m\n\u001b[1;32m      6\u001b[0m \u001b[0;34m\u001b[0m\u001b[0m\n",
            "\u001b[0;32m/usr/local/lib/python3.7/dist-packages/micom/workflows/tradeoff.py\u001b[0m in \u001b[0;36mtradeoff\u001b[0;34m(manifest, model_folder, medium, tradeoffs, threads, atol, rtol, presolve)\u001b[0m\n\u001b[1;32m    109\u001b[0m         \u001b[0;32mfor\u001b[0m \u001b[0ms\u001b[0m\u001b[0;34m,\u001b[0m \u001b[0mp\u001b[0m \u001b[0;32min\u001b[0m \u001b[0mpaths\u001b[0m\u001b[0;34m.\u001b[0m\u001b[0mitems\u001b[0m\u001b[0;34m(\u001b[0m\u001b[0;34m)\u001b[0m\u001b[0;34m\u001b[0m\u001b[0;34m\u001b[0m\u001b[0m\n\u001b[1;32m    110\u001b[0m     ]\n\u001b[0;32m--> 111\u001b[0;31m     \u001b[0mresults\u001b[0m \u001b[0;34m=\u001b[0m \u001b[0mworkflow\u001b[0m\u001b[0;34m(\u001b[0m\u001b[0m_tradeoff\u001b[0m\u001b[0;34m,\u001b[0m \u001b[0margs\u001b[0m\u001b[0;34m,\u001b[0m \u001b[0mthreads\u001b[0m\u001b[0;34m)\u001b[0m\u001b[0;34m\u001b[0m\u001b[0;34m\u001b[0m\u001b[0m\n\u001b[0m\u001b[1;32m    112\u001b[0m     \u001b[0;32mif\u001b[0m \u001b[0mall\u001b[0m\u001b[0;34m(\u001b[0m\u001b[0mr\u001b[0m \u001b[0;32mis\u001b[0m \u001b[0;32mNone\u001b[0m \u001b[0;32mfor\u001b[0m \u001b[0mr\u001b[0m \u001b[0;32min\u001b[0m \u001b[0mresults\u001b[0m\u001b[0;34m)\u001b[0m\u001b[0;34m:\u001b[0m\u001b[0;34m\u001b[0m\u001b[0;34m\u001b[0m\u001b[0m\n\u001b[1;32m    113\u001b[0m         raise OptimizationError(\n",
            "\u001b[0;32m/usr/local/lib/python3.7/dist-packages/micom/workflows/core.py\u001b[0m in \u001b[0;36mworkflow\u001b[0;34m(func, args, n_jobs, unit, progress)\u001b[0m\n\u001b[1;32m     39\u001b[0m         \u001b[0;32mif\u001b[0m \u001b[0mprogress\u001b[0m\u001b[0;34m:\u001b[0m\u001b[0;34m\u001b[0m\u001b[0;34m\u001b[0m\u001b[0m\n\u001b[1;32m     40\u001b[0m             \u001b[0mit\u001b[0m \u001b[0;34m=\u001b[0m \u001b[0mtrack\u001b[0m\u001b[0;34m(\u001b[0m\u001b[0mit\u001b[0m\u001b[0;34m,\u001b[0m \u001b[0mtotal\u001b[0m\u001b[0;34m=\u001b[0m\u001b[0mlen\u001b[0m\u001b[0;34m(\u001b[0m\u001b[0margs\u001b[0m\u001b[0;34m)\u001b[0m\u001b[0;34m,\u001b[0m \u001b[0mdescription\u001b[0m\u001b[0;34m=\u001b[0m\u001b[0;34m\"Running\"\u001b[0m\u001b[0;34m)\u001b[0m\u001b[0;34m\u001b[0m\u001b[0;34m\u001b[0m\u001b[0m\n\u001b[0;32m---> 41\u001b[0;31m         \u001b[0mresults\u001b[0m \u001b[0;34m=\u001b[0m \u001b[0mlist\u001b[0m\u001b[0;34m(\u001b[0m\u001b[0mit\u001b[0m\u001b[0;34m)\u001b[0m\u001b[0;34m\u001b[0m\u001b[0;34m\u001b[0m\u001b[0m\n\u001b[0m\u001b[1;32m     42\u001b[0m     \u001b[0;32mreturn\u001b[0m \u001b[0mresults\u001b[0m\u001b[0;34m\u001b[0m\u001b[0;34m\u001b[0m\u001b[0m\n",
            "\u001b[0;32m/usr/local/lib/python3.7/dist-packages/rich/progress.py\u001b[0m in \u001b[0;36mtrack\u001b[0;34m(sequence, description, total, auto_refresh, console, transient, get_time, refresh_per_second, style, complete_style, finished_style, pulse_style, update_period, disable)\u001b[0m\n\u001b[1;32m    147\u001b[0m     \u001b[0;32mwith\u001b[0m \u001b[0mprogress\u001b[0m\u001b[0;34m:\u001b[0m\u001b[0;34m\u001b[0m\u001b[0;34m\u001b[0m\u001b[0m\n\u001b[1;32m    148\u001b[0m         yield from progress.track(\n\u001b[0;32m--> 149\u001b[0;31m             \u001b[0msequence\u001b[0m\u001b[0;34m,\u001b[0m \u001b[0mtotal\u001b[0m\u001b[0;34m=\u001b[0m\u001b[0mtotal\u001b[0m\u001b[0;34m,\u001b[0m \u001b[0mdescription\u001b[0m\u001b[0;34m=\u001b[0m\u001b[0mdescription\u001b[0m\u001b[0;34m,\u001b[0m \u001b[0mupdate_period\u001b[0m\u001b[0;34m=\u001b[0m\u001b[0mupdate_period\u001b[0m\u001b[0;34m\u001b[0m\u001b[0;34m\u001b[0m\u001b[0m\n\u001b[0m\u001b[1;32m    150\u001b[0m         )\n\u001b[1;32m    151\u001b[0m \u001b[0;34m\u001b[0m\u001b[0m\n",
            "\u001b[0;32m/usr/local/lib/python3.7/dist-packages/rich/progress.py\u001b[0m in \u001b[0;36mtrack\u001b[0;34m(self, sequence, total, task_id, description, update_period)\u001b[0m\n\u001b[1;32m    698\u001b[0m         \u001b[0;32mif\u001b[0m \u001b[0mself\u001b[0m\u001b[0;34m.\u001b[0m\u001b[0mlive\u001b[0m\u001b[0;34m.\u001b[0m\u001b[0mauto_refresh\u001b[0m\u001b[0;34m:\u001b[0m\u001b[0;34m\u001b[0m\u001b[0;34m\u001b[0m\u001b[0m\n\u001b[1;32m    699\u001b[0m             \u001b[0;32mwith\u001b[0m \u001b[0m_TrackThread\u001b[0m\u001b[0;34m(\u001b[0m\u001b[0mself\u001b[0m\u001b[0;34m,\u001b[0m \u001b[0mtask_id\u001b[0m\u001b[0;34m,\u001b[0m \u001b[0mupdate_period\u001b[0m\u001b[0;34m)\u001b[0m \u001b[0;32mas\u001b[0m \u001b[0mtrack_thread\u001b[0m\u001b[0;34m:\u001b[0m\u001b[0;34m\u001b[0m\u001b[0;34m\u001b[0m\u001b[0m\n\u001b[0;32m--> 700\u001b[0;31m                 \u001b[0;32mfor\u001b[0m \u001b[0mvalue\u001b[0m \u001b[0;32min\u001b[0m \u001b[0msequence\u001b[0m\u001b[0;34m:\u001b[0m\u001b[0;34m\u001b[0m\u001b[0;34m\u001b[0m\u001b[0m\n\u001b[0m\u001b[1;32m    701\u001b[0m                     \u001b[0;32myield\u001b[0m \u001b[0mvalue\u001b[0m\u001b[0;34m\u001b[0m\u001b[0;34m\u001b[0m\u001b[0m\n\u001b[1;32m    702\u001b[0m                     \u001b[0mtrack_thread\u001b[0m\u001b[0;34m.\u001b[0m\u001b[0mcompleted\u001b[0m \u001b[0;34m+=\u001b[0m \u001b[0;36m1\u001b[0m\u001b[0;34m\u001b[0m\u001b[0;34m\u001b[0m\u001b[0m\n",
            "\u001b[0;32m/usr/lib/python3.7/multiprocessing/pool.py\u001b[0m in \u001b[0;36mnext\u001b[0;34m(self, timeout)\u001b[0m\n\u001b[1;32m    735\u001b[0m                 \u001b[0;32mif\u001b[0m \u001b[0mself\u001b[0m\u001b[0;34m.\u001b[0m\u001b[0m_index\u001b[0m \u001b[0;34m==\u001b[0m \u001b[0mself\u001b[0m\u001b[0;34m.\u001b[0m\u001b[0m_length\u001b[0m\u001b[0;34m:\u001b[0m\u001b[0;34m\u001b[0m\u001b[0;34m\u001b[0m\u001b[0m\n\u001b[1;32m    736\u001b[0m                     \u001b[0;32mraise\u001b[0m \u001b[0mStopIteration\u001b[0m \u001b[0;32mfrom\u001b[0m \u001b[0;32mNone\u001b[0m\u001b[0;34m\u001b[0m\u001b[0;34m\u001b[0m\u001b[0m\n\u001b[0;32m--> 737\u001b[0;31m                 \u001b[0mself\u001b[0m\u001b[0;34m.\u001b[0m\u001b[0m_cond\u001b[0m\u001b[0;34m.\u001b[0m\u001b[0mwait\u001b[0m\u001b[0;34m(\u001b[0m\u001b[0mtimeout\u001b[0m\u001b[0;34m)\u001b[0m\u001b[0;34m\u001b[0m\u001b[0;34m\u001b[0m\u001b[0m\n\u001b[0m\u001b[1;32m    738\u001b[0m                 \u001b[0;32mtry\u001b[0m\u001b[0;34m:\u001b[0m\u001b[0;34m\u001b[0m\u001b[0;34m\u001b[0m\u001b[0m\n\u001b[1;32m    739\u001b[0m                     \u001b[0mitem\u001b[0m \u001b[0;34m=\u001b[0m \u001b[0mself\u001b[0m\u001b[0;34m.\u001b[0m\u001b[0m_items\u001b[0m\u001b[0;34m.\u001b[0m\u001b[0mpopleft\u001b[0m\u001b[0;34m(\u001b[0m\u001b[0;34m)\u001b[0m\u001b[0;34m\u001b[0m\u001b[0;34m\u001b[0m\u001b[0m\n",
            "\u001b[0;32m/usr/lib/python3.7/threading.py\u001b[0m in \u001b[0;36mwait\u001b[0;34m(self, timeout)\u001b[0m\n\u001b[1;32m    294\u001b[0m         \u001b[0;32mtry\u001b[0m\u001b[0;34m:\u001b[0m    \u001b[0;31m# restore state no matter what (e.g., KeyboardInterrupt)\u001b[0m\u001b[0;34m\u001b[0m\u001b[0;34m\u001b[0m\u001b[0m\n\u001b[1;32m    295\u001b[0m             \u001b[0;32mif\u001b[0m \u001b[0mtimeout\u001b[0m \u001b[0;32mis\u001b[0m \u001b[0;32mNone\u001b[0m\u001b[0;34m:\u001b[0m\u001b[0;34m\u001b[0m\u001b[0;34m\u001b[0m\u001b[0m\n\u001b[0;32m--> 296\u001b[0;31m                 \u001b[0mwaiter\u001b[0m\u001b[0;34m.\u001b[0m\u001b[0macquire\u001b[0m\u001b[0;34m(\u001b[0m\u001b[0;34m)\u001b[0m\u001b[0;34m\u001b[0m\u001b[0;34m\u001b[0m\u001b[0m\n\u001b[0m\u001b[1;32m    297\u001b[0m                 \u001b[0mgotit\u001b[0m \u001b[0;34m=\u001b[0m \u001b[0;32mTrue\u001b[0m\u001b[0;34m\u001b[0m\u001b[0;34m\u001b[0m\u001b[0m\n\u001b[1;32m    298\u001b[0m             \u001b[0;32melse\u001b[0m\u001b[0;34m:\u001b[0m\u001b[0;34m\u001b[0m\u001b[0;34m\u001b[0m\u001b[0m\n",
            "\u001b[0;31mKeyboardInterrupt\u001b[0m: "
          ]
        }
      ]
    },
    {
      "cell_type": "markdown",
      "metadata": {
        "id": "y9703vhK6d6c"
      },
      "source": [
        "After opeing `tradeoff_[DATE].html` you will see that, for our example here, all tradeoff values work great. This is because we modeled very few taxa, which keeps the compettion down. If you would allow for fewer abundant taxa in the models, this would change drastically. For instance, here is an example from a colorectal cancer data set:\n",
        "\n",
        "[![tradeoff example](https://micom-dev.github.io/micom/_images/tradeoff.png)](https://micom-dev.github.io/micom/_static/tradeoff.html)\n",
        "\n",
        "You can see how not using the cooperative tradeoff would give you nonsense results where only 10% of all observed taxa grew. A tradeoff value of 0.6-0.8 would probably be a good choice for this particular data set."
      ]
    }
  ]
}