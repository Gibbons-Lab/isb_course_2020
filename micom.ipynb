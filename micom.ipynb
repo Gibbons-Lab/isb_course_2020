{
  "nbformat": 4,
  "nbformat_minor": 0,
  "metadata": {
    "colab": {
      "name": "micom.ipynb",
      "provenance": [],
      "collapsed_sections": [],
      "toc_visible": true,
      "authorship_tag": "ABX9TyNWl3TD0VSFVdSY4rwB1eJG",
      "include_colab_link": true
    },
    "kernelspec": {
      "name": "python3",
      "display_name": "Python 3"
    },
    "widgets": {
      "application/vnd.jupyter.widget-state+json": {
        "5d93d2e20566420a94d8a2da84ce4593": {
          "model_module": "@jupyter-widgets/controls",
          "model_name": "HBoxModel",
          "state": {
            "_view_name": "HBoxView",
            "_dom_classes": [],
            "_model_name": "HBoxModel",
            "_view_module": "@jupyter-widgets/controls",
            "_model_module_version": "1.5.0",
            "_view_count": null,
            "_view_module_version": "1.5.0",
            "box_style": "",
            "layout": "IPY_MODEL_9b4b9a7ef6b54b39967523d4c004b6a6",
            "_model_module": "@jupyter-widgets/controls",
            "children": [
              "IPY_MODEL_2481d2200d8d47f3868454ac75621c5c",
              "IPY_MODEL_a7a939aaf3be44dca7f5f14ae64b176b"
            ]
          }
        },
        "9b4b9a7ef6b54b39967523d4c004b6a6": {
          "model_module": "@jupyter-widgets/base",
          "model_name": "LayoutModel",
          "state": {
            "_view_name": "LayoutView",
            "grid_template_rows": null,
            "right": null,
            "justify_content": null,
            "_view_module": "@jupyter-widgets/base",
            "overflow": null,
            "_model_module_version": "1.2.0",
            "_view_count": null,
            "flex_flow": null,
            "width": null,
            "min_width": null,
            "border": null,
            "align_items": null,
            "bottom": null,
            "_model_module": "@jupyter-widgets/base",
            "top": null,
            "grid_column": null,
            "overflow_y": null,
            "overflow_x": null,
            "grid_auto_flow": null,
            "grid_area": null,
            "grid_template_columns": null,
            "flex": null,
            "_model_name": "LayoutModel",
            "justify_items": null,
            "grid_row": null,
            "max_height": null,
            "align_content": null,
            "visibility": null,
            "align_self": null,
            "height": null,
            "min_height": null,
            "padding": null,
            "grid_auto_rows": null,
            "grid_gap": null,
            "max_width": null,
            "order": null,
            "_view_module_version": "1.2.0",
            "grid_template_areas": null,
            "object_position": null,
            "object_fit": null,
            "grid_auto_columns": null,
            "margin": null,
            "display": null,
            "left": null
          }
        },
        "2481d2200d8d47f3868454ac75621c5c": {
          "model_module": "@jupyter-widgets/controls",
          "model_name": "FloatProgressModel",
          "state": {
            "_view_name": "ProgressView",
            "style": "IPY_MODEL_fe118414a64642648d779cb7883370de",
            "_dom_classes": [],
            "description": "100%",
            "_model_name": "FloatProgressModel",
            "bar_style": "success",
            "max": 8,
            "_view_module": "@jupyter-widgets/controls",
            "_model_module_version": "1.5.0",
            "value": 8,
            "_view_count": null,
            "_view_module_version": "1.5.0",
            "orientation": "horizontal",
            "min": 0,
            "description_tooltip": null,
            "_model_module": "@jupyter-widgets/controls",
            "layout": "IPY_MODEL_35357f7ddb114fe78479be38404c6ca7"
          }
        },
        "a7a939aaf3be44dca7f5f14ae64b176b": {
          "model_module": "@jupyter-widgets/controls",
          "model_name": "HTMLModel",
          "state": {
            "_view_name": "HTMLView",
            "style": "IPY_MODEL_822d2a1c0e1440d7aa83d7741d29d0f0",
            "_dom_classes": [],
            "description": "",
            "_model_name": "HTMLModel",
            "placeholder": "​",
            "_view_module": "@jupyter-widgets/controls",
            "_model_module_version": "1.5.0",
            "value": " 8/8 [04:50&lt;00:00, 36.25s/sample(s)]",
            "_view_count": null,
            "_view_module_version": "1.5.0",
            "description_tooltip": null,
            "_model_module": "@jupyter-widgets/controls",
            "layout": "IPY_MODEL_d931f62b945d45d39683aa6e8636e6e5"
          }
        },
        "fe118414a64642648d779cb7883370de": {
          "model_module": "@jupyter-widgets/controls",
          "model_name": "ProgressStyleModel",
          "state": {
            "_view_name": "StyleView",
            "_model_name": "ProgressStyleModel",
            "description_width": "initial",
            "_view_module": "@jupyter-widgets/base",
            "_model_module_version": "1.5.0",
            "_view_count": null,
            "_view_module_version": "1.2.0",
            "bar_color": null,
            "_model_module": "@jupyter-widgets/controls"
          }
        },
        "35357f7ddb114fe78479be38404c6ca7": {
          "model_module": "@jupyter-widgets/base",
          "model_name": "LayoutModel",
          "state": {
            "_view_name": "LayoutView",
            "grid_template_rows": null,
            "right": null,
            "justify_content": null,
            "_view_module": "@jupyter-widgets/base",
            "overflow": null,
            "_model_module_version": "1.2.0",
            "_view_count": null,
            "flex_flow": null,
            "width": null,
            "min_width": null,
            "border": null,
            "align_items": null,
            "bottom": null,
            "_model_module": "@jupyter-widgets/base",
            "top": null,
            "grid_column": null,
            "overflow_y": null,
            "overflow_x": null,
            "grid_auto_flow": null,
            "grid_area": null,
            "grid_template_columns": null,
            "flex": null,
            "_model_name": "LayoutModel",
            "justify_items": null,
            "grid_row": null,
            "max_height": null,
            "align_content": null,
            "visibility": null,
            "align_self": null,
            "height": null,
            "min_height": null,
            "padding": null,
            "grid_auto_rows": null,
            "grid_gap": null,
            "max_width": null,
            "order": null,
            "_view_module_version": "1.2.0",
            "grid_template_areas": null,
            "object_position": null,
            "object_fit": null,
            "grid_auto_columns": null,
            "margin": null,
            "display": null,
            "left": null
          }
        },
        "822d2a1c0e1440d7aa83d7741d29d0f0": {
          "model_module": "@jupyter-widgets/controls",
          "model_name": "DescriptionStyleModel",
          "state": {
            "_view_name": "StyleView",
            "_model_name": "DescriptionStyleModel",
            "description_width": "",
            "_view_module": "@jupyter-widgets/base",
            "_model_module_version": "1.5.0",
            "_view_count": null,
            "_view_module_version": "1.2.0",
            "_model_module": "@jupyter-widgets/controls"
          }
        },
        "d931f62b945d45d39683aa6e8636e6e5": {
          "model_module": "@jupyter-widgets/base",
          "model_name": "LayoutModel",
          "state": {
            "_view_name": "LayoutView",
            "grid_template_rows": null,
            "right": null,
            "justify_content": null,
            "_view_module": "@jupyter-widgets/base",
            "overflow": null,
            "_model_module_version": "1.2.0",
            "_view_count": null,
            "flex_flow": null,
            "width": null,
            "min_width": null,
            "border": null,
            "align_items": null,
            "bottom": null,
            "_model_module": "@jupyter-widgets/base",
            "top": null,
            "grid_column": null,
            "overflow_y": null,
            "overflow_x": null,
            "grid_auto_flow": null,
            "grid_area": null,
            "grid_template_columns": null,
            "flex": null,
            "_model_name": "LayoutModel",
            "justify_items": null,
            "grid_row": null,
            "max_height": null,
            "align_content": null,
            "visibility": null,
            "align_self": null,
            "height": null,
            "min_height": null,
            "padding": null,
            "grid_auto_rows": null,
            "grid_gap": null,
            "max_width": null,
            "order": null,
            "_view_module_version": "1.2.0",
            "grid_template_areas": null,
            "object_position": null,
            "object_fit": null,
            "grid_auto_columns": null,
            "margin": null,
            "display": null,
            "left": null
          }
        },
        "69a54f6f6a5c4d1c956a1a1be631eff9": {
          "model_module": "@jupyter-widgets/controls",
          "model_name": "HBoxModel",
          "state": {
            "_view_name": "HBoxView",
            "_dom_classes": [],
            "_model_name": "HBoxModel",
            "_view_module": "@jupyter-widgets/controls",
            "_model_module_version": "1.5.0",
            "_view_count": null,
            "_view_module_version": "1.5.0",
            "box_style": "",
            "layout": "IPY_MODEL_73b2073c5a5f438a9034c7cc25d62fd3",
            "_model_module": "@jupyter-widgets/controls",
            "children": [
              "IPY_MODEL_4bf47eafae0f4ff2a671d8afbea0c455",
              "IPY_MODEL_ade518b673d940f78c2b4c585d43e169"
            ]
          }
        },
        "73b2073c5a5f438a9034c7cc25d62fd3": {
          "model_module": "@jupyter-widgets/base",
          "model_name": "LayoutModel",
          "state": {
            "_view_name": "LayoutView",
            "grid_template_rows": null,
            "right": null,
            "justify_content": null,
            "_view_module": "@jupyter-widgets/base",
            "overflow": null,
            "_model_module_version": "1.2.0",
            "_view_count": null,
            "flex_flow": null,
            "width": null,
            "min_width": null,
            "border": null,
            "align_items": null,
            "bottom": null,
            "_model_module": "@jupyter-widgets/base",
            "top": null,
            "grid_column": null,
            "overflow_y": null,
            "overflow_x": null,
            "grid_auto_flow": null,
            "grid_area": null,
            "grid_template_columns": null,
            "flex": null,
            "_model_name": "LayoutModel",
            "justify_items": null,
            "grid_row": null,
            "max_height": null,
            "align_content": null,
            "visibility": null,
            "align_self": null,
            "height": null,
            "min_height": null,
            "padding": null,
            "grid_auto_rows": null,
            "grid_gap": null,
            "max_width": null,
            "order": null,
            "_view_module_version": "1.2.0",
            "grid_template_areas": null,
            "object_position": null,
            "object_fit": null,
            "grid_auto_columns": null,
            "margin": null,
            "display": null,
            "left": null
          }
        },
        "4bf47eafae0f4ff2a671d8afbea0c455": {
          "model_module": "@jupyter-widgets/controls",
          "model_name": "FloatProgressModel",
          "state": {
            "_view_name": "ProgressView",
            "style": "IPY_MODEL_678e0fa46d6d471e981e3b1fdcc7e2a3",
            "_dom_classes": [],
            "description": "100%",
            "_model_name": "FloatProgressModel",
            "bar_style": "success",
            "max": 8,
            "_view_module": "@jupyter-widgets/controls",
            "_model_module_version": "1.5.0",
            "value": 8,
            "_view_count": null,
            "_view_module_version": "1.5.0",
            "orientation": "horizontal",
            "min": 0,
            "description_tooltip": null,
            "_model_module": "@jupyter-widgets/controls",
            "layout": "IPY_MODEL_cb39e9208d2f4874bfbbab7372243042"
          }
        },
        "ade518b673d940f78c2b4c585d43e169": {
          "model_module": "@jupyter-widgets/controls",
          "model_name": "HTMLModel",
          "state": {
            "_view_name": "HTMLView",
            "style": "IPY_MODEL_05d644898f374c0fbf9577d4d07f2caa",
            "_dom_classes": [],
            "description": "",
            "_model_name": "HTMLModel",
            "placeholder": "​",
            "_view_module": "@jupyter-widgets/controls",
            "_model_module_version": "1.5.0",
            "value": " 8/8 [18:34&lt;00:00, 139.30s/sample(s)]",
            "_view_count": null,
            "_view_module_version": "1.5.0",
            "description_tooltip": null,
            "_model_module": "@jupyter-widgets/controls",
            "layout": "IPY_MODEL_a87d811bbe13478ca74b748f5a612a9e"
          }
        },
        "678e0fa46d6d471e981e3b1fdcc7e2a3": {
          "model_module": "@jupyter-widgets/controls",
          "model_name": "ProgressStyleModel",
          "state": {
            "_view_name": "StyleView",
            "_model_name": "ProgressStyleModel",
            "description_width": "initial",
            "_view_module": "@jupyter-widgets/base",
            "_model_module_version": "1.5.0",
            "_view_count": null,
            "_view_module_version": "1.2.0",
            "bar_color": null,
            "_model_module": "@jupyter-widgets/controls"
          }
        },
        "cb39e9208d2f4874bfbbab7372243042": {
          "model_module": "@jupyter-widgets/base",
          "model_name": "LayoutModel",
          "state": {
            "_view_name": "LayoutView",
            "grid_template_rows": null,
            "right": null,
            "justify_content": null,
            "_view_module": "@jupyter-widgets/base",
            "overflow": null,
            "_model_module_version": "1.2.0",
            "_view_count": null,
            "flex_flow": null,
            "width": null,
            "min_width": null,
            "border": null,
            "align_items": null,
            "bottom": null,
            "_model_module": "@jupyter-widgets/base",
            "top": null,
            "grid_column": null,
            "overflow_y": null,
            "overflow_x": null,
            "grid_auto_flow": null,
            "grid_area": null,
            "grid_template_columns": null,
            "flex": null,
            "_model_name": "LayoutModel",
            "justify_items": null,
            "grid_row": null,
            "max_height": null,
            "align_content": null,
            "visibility": null,
            "align_self": null,
            "height": null,
            "min_height": null,
            "padding": null,
            "grid_auto_rows": null,
            "grid_gap": null,
            "max_width": null,
            "order": null,
            "_view_module_version": "1.2.0",
            "grid_template_areas": null,
            "object_position": null,
            "object_fit": null,
            "grid_auto_columns": null,
            "margin": null,
            "display": null,
            "left": null
          }
        },
        "05d644898f374c0fbf9577d4d07f2caa": {
          "model_module": "@jupyter-widgets/controls",
          "model_name": "DescriptionStyleModel",
          "state": {
            "_view_name": "StyleView",
            "_model_name": "DescriptionStyleModel",
            "description_width": "",
            "_view_module": "@jupyter-widgets/base",
            "_model_module_version": "1.5.0",
            "_view_count": null,
            "_view_module_version": "1.2.0",
            "_model_module": "@jupyter-widgets/controls"
          }
        },
        "a87d811bbe13478ca74b748f5a612a9e": {
          "model_module": "@jupyter-widgets/base",
          "model_name": "LayoutModel",
          "state": {
            "_view_name": "LayoutView",
            "grid_template_rows": null,
            "right": null,
            "justify_content": null,
            "_view_module": "@jupyter-widgets/base",
            "overflow": null,
            "_model_module_version": "1.2.0",
            "_view_count": null,
            "flex_flow": null,
            "width": null,
            "min_width": null,
            "border": null,
            "align_items": null,
            "bottom": null,
            "_model_module": "@jupyter-widgets/base",
            "top": null,
            "grid_column": null,
            "overflow_y": null,
            "overflow_x": null,
            "grid_auto_flow": null,
            "grid_area": null,
            "grid_template_columns": null,
            "flex": null,
            "_model_name": "LayoutModel",
            "justify_items": null,
            "grid_row": null,
            "max_height": null,
            "align_content": null,
            "visibility": null,
            "align_self": null,
            "height": null,
            "min_height": null,
            "padding": null,
            "grid_auto_rows": null,
            "grid_gap": null,
            "max_width": null,
            "order": null,
            "_view_module_version": "1.2.0",
            "grid_template_areas": null,
            "object_position": null,
            "object_fit": null,
            "grid_auto_columns": null,
            "margin": null,
            "display": null,
            "left": null
          }
        },
        "77e44a8a31604e62ad4110a4ffe37bd1": {
          "model_module": "@jupyter-widgets/controls",
          "model_name": "HBoxModel",
          "state": {
            "_view_name": "HBoxView",
            "_dom_classes": [],
            "_model_name": "HBoxModel",
            "_view_module": "@jupyter-widgets/controls",
            "_model_module_version": "1.5.0",
            "_view_count": null,
            "_view_module_version": "1.5.0",
            "box_style": "",
            "layout": "IPY_MODEL_f69ee3d8d38d4d969c13d843dd987b28",
            "_model_module": "@jupyter-widgets/controls",
            "children": [
              "IPY_MODEL_59dce2af89634befbc9d63d8a5dd595e",
              "IPY_MODEL_34fc8afec885400fbf65920f50f52554"
            ]
          }
        },
        "f69ee3d8d38d4d969c13d843dd987b28": {
          "model_module": "@jupyter-widgets/base",
          "model_name": "LayoutModel",
          "state": {
            "_view_name": "LayoutView",
            "grid_template_rows": null,
            "right": null,
            "justify_content": null,
            "_view_module": "@jupyter-widgets/base",
            "overflow": null,
            "_model_module_version": "1.2.0",
            "_view_count": null,
            "flex_flow": null,
            "width": null,
            "min_width": null,
            "border": null,
            "align_items": null,
            "bottom": null,
            "_model_module": "@jupyter-widgets/base",
            "top": null,
            "grid_column": null,
            "overflow_y": null,
            "overflow_x": null,
            "grid_auto_flow": null,
            "grid_area": null,
            "grid_template_columns": null,
            "flex": null,
            "_model_name": "LayoutModel",
            "justify_items": null,
            "grid_row": null,
            "max_height": null,
            "align_content": null,
            "visibility": null,
            "align_self": null,
            "height": null,
            "min_height": null,
            "padding": null,
            "grid_auto_rows": null,
            "grid_gap": null,
            "max_width": null,
            "order": null,
            "_view_module_version": "1.2.0",
            "grid_template_areas": null,
            "object_position": null,
            "object_fit": null,
            "grid_auto_columns": null,
            "margin": null,
            "display": null,
            "left": null
          }
        },
        "59dce2af89634befbc9d63d8a5dd595e": {
          "model_module": "@jupyter-widgets/controls",
          "model_name": "FloatProgressModel",
          "state": {
            "_view_name": "ProgressView",
            "style": "IPY_MODEL_16ad573e929e45d2b26524a50fd26926",
            "_dom_classes": [],
            "description": "100%",
            "_model_name": "FloatProgressModel",
            "bar_style": "success",
            "max": 8,
            "_view_module": "@jupyter-widgets/controls",
            "_model_module_version": "1.5.0",
            "value": 8,
            "_view_count": null,
            "_view_module_version": "1.5.0",
            "orientation": "horizontal",
            "min": 0,
            "description_tooltip": null,
            "_model_module": "@jupyter-widgets/controls",
            "layout": "IPY_MODEL_9b90df3722a544e98fcaf4c96758cf20"
          }
        },
        "34fc8afec885400fbf65920f50f52554": {
          "model_module": "@jupyter-widgets/controls",
          "model_name": "HTMLModel",
          "state": {
            "_view_name": "HTMLView",
            "style": "IPY_MODEL_859b313e8bc742a6864121e36000eaed",
            "_dom_classes": [],
            "description": "",
            "_model_name": "HTMLModel",
            "placeholder": "​",
            "_view_module": "@jupyter-widgets/controls",
            "_model_module_version": "1.5.0",
            "value": " 8/8 [10:21&lt;00:00, 77.64s/sample(s)]",
            "_view_count": null,
            "_view_module_version": "1.5.0",
            "description_tooltip": null,
            "_model_module": "@jupyter-widgets/controls",
            "layout": "IPY_MODEL_11617001c3f749d5b251decc91f43b6e"
          }
        },
        "16ad573e929e45d2b26524a50fd26926": {
          "model_module": "@jupyter-widgets/controls",
          "model_name": "ProgressStyleModel",
          "state": {
            "_view_name": "StyleView",
            "_model_name": "ProgressStyleModel",
            "description_width": "initial",
            "_view_module": "@jupyter-widgets/base",
            "_model_module_version": "1.5.0",
            "_view_count": null,
            "_view_module_version": "1.2.0",
            "bar_color": null,
            "_model_module": "@jupyter-widgets/controls"
          }
        },
        "9b90df3722a544e98fcaf4c96758cf20": {
          "model_module": "@jupyter-widgets/base",
          "model_name": "LayoutModel",
          "state": {
            "_view_name": "LayoutView",
            "grid_template_rows": null,
            "right": null,
            "justify_content": null,
            "_view_module": "@jupyter-widgets/base",
            "overflow": null,
            "_model_module_version": "1.2.0",
            "_view_count": null,
            "flex_flow": null,
            "width": null,
            "min_width": null,
            "border": null,
            "align_items": null,
            "bottom": null,
            "_model_module": "@jupyter-widgets/base",
            "top": null,
            "grid_column": null,
            "overflow_y": null,
            "overflow_x": null,
            "grid_auto_flow": null,
            "grid_area": null,
            "grid_template_columns": null,
            "flex": null,
            "_model_name": "LayoutModel",
            "justify_items": null,
            "grid_row": null,
            "max_height": null,
            "align_content": null,
            "visibility": null,
            "align_self": null,
            "height": null,
            "min_height": null,
            "padding": null,
            "grid_auto_rows": null,
            "grid_gap": null,
            "max_width": null,
            "order": null,
            "_view_module_version": "1.2.0",
            "grid_template_areas": null,
            "object_position": null,
            "object_fit": null,
            "grid_auto_columns": null,
            "margin": null,
            "display": null,
            "left": null
          }
        },
        "859b313e8bc742a6864121e36000eaed": {
          "model_module": "@jupyter-widgets/controls",
          "model_name": "DescriptionStyleModel",
          "state": {
            "_view_name": "StyleView",
            "_model_name": "DescriptionStyleModel",
            "description_width": "",
            "_view_module": "@jupyter-widgets/base",
            "_model_module_version": "1.5.0",
            "_view_count": null,
            "_view_module_version": "1.2.0",
            "_model_module": "@jupyter-widgets/controls"
          }
        },
        "11617001c3f749d5b251decc91f43b6e": {
          "model_module": "@jupyter-widgets/base",
          "model_name": "LayoutModel",
          "state": {
            "_view_name": "LayoutView",
            "grid_template_rows": null,
            "right": null,
            "justify_content": null,
            "_view_module": "@jupyter-widgets/base",
            "overflow": null,
            "_model_module_version": "1.2.0",
            "_view_count": null,
            "flex_flow": null,
            "width": null,
            "min_width": null,
            "border": null,
            "align_items": null,
            "bottom": null,
            "_model_module": "@jupyter-widgets/base",
            "top": null,
            "grid_column": null,
            "overflow_y": null,
            "overflow_x": null,
            "grid_auto_flow": null,
            "grid_area": null,
            "grid_template_columns": null,
            "flex": null,
            "_model_name": "LayoutModel",
            "justify_items": null,
            "grid_row": null,
            "max_height": null,
            "align_content": null,
            "visibility": null,
            "align_self": null,
            "height": null,
            "min_height": null,
            "padding": null,
            "grid_auto_rows": null,
            "grid_gap": null,
            "max_width": null,
            "order": null,
            "_view_module_version": "1.2.0",
            "grid_template_areas": null,
            "object_position": null,
            "object_fit": null,
            "grid_auto_columns": null,
            "margin": null,
            "display": null,
            "left": null
          }
        }
      }
    }
  },
  "cells": [
    {
      "cell_type": "markdown",
      "metadata": {
        "id": "view-in-github",
        "colab_type": "text"
      },
      "source": [
        "<a href=\"https://colab.research.google.com/github/Gibbons-Lab/isb_course_2020/blob/master/micom.ipynb\" target=\"_parent\"><img src=\"https://colab.research.google.com/assets/colab-badge.svg\" alt=\"Open In Colab\"/></a>"
      ]
    },
    {
      "cell_type": "markdown",
      "metadata": {
        "id": "C0vqP4LJ9y6K",
        "colab_type": "text"
      },
      "source": [
        "# 🧫🦠 Metagenome-scale metabolic modeling with MICOM\n",
        "\n",
        "Okay, let's start to get a bit more functional and simulate growth for the microbiota we have identified in the previous tutorial."
      ]
    },
    {
      "cell_type": "markdown",
      "metadata": {
        "id": "qgBBl4GtuTuX",
        "colab_type": "text"
      },
      "source": [
        "# 📝 Setup\n",
        "\n",
        "MICOM installation is is usually pretty straight-forward and can be as easy as typing a `pip install micom`. However, micom will require a solver for quadratic programming problems and all the good ones are commercial (boo) even though they often have free academic license 😌. We will use a brand new open source QP solver named OSQP but this will require to pull in some development versions of some packages.\n",
        "\n",
        "But first let's start by downloading the materials again and switching to the folder."
      ]
    },
    {
      "cell_type": "code",
      "metadata": {
        "id": "ckON4xr3_bW5",
        "colab_type": "code",
        "colab": {
          "base_uri": "https://localhost:8080/",
          "height": 52
        },
        "outputId": "cf9748a7-0e93-45d2-c8b4-cb519cbc173d"
      },
      "source": [
        "!git clone https://github.com/gibbons-lab/isb_course_2020 materials\n",
        "%cd materials"
      ],
      "execution_count": 1,
      "outputs": [
        {
          "output_type": "stream",
          "text": [
            "fatal: destination path 'materials' already exists and is not an empty directory.\n",
            "/content/materials\n"
          ],
          "name": "stdout"
        }
      ]
    },
    {
      "cell_type": "markdown",
      "metadata": {
        "id": "is6fmBUeorwv",
        "colab_type": "text"
      },
      "source": [
        "## Basic Installation\n",
        "\n",
        "Installing MICOM is straight-forward in Python. OSQP itself can be installed rigth along with it."
      ]
    },
    {
      "cell_type": "code",
      "metadata": {
        "id": "M_TeC5yrst3h",
        "colab_type": "code",
        "colab": {
          "base_uri": "https://localhost:8080/",
          "height": 34
        },
        "outputId": "1148979f-6ddd-4bb9-c8b7-6510ad1d49d3"
      },
      "source": [
        "!pip install -q osqp micom\n",
        "\n",
        "print(\"Done! 🎉 \")"
      ],
      "execution_count": 58,
      "outputs": [
        {
          "output_type": "stream",
          "text": [
            "Done! 🎉 \n"
          ],
          "name": "stdout"
        }
      ]
    },
    {
      "cell_type": "markdown",
      "metadata": {
        "id": "l9ssgi8ts_fP",
        "colab_type": "text"
      },
      "source": [
        "## Enabling OSQP support\n",
        "\n",
        "For today we will also install some development versions that enable full support for OSQP in MICOM. This will hopefully not be necessary anymore soon. Also this would be unnecessary if we would have access to CPLEX og Gurobi (both commercial solvers with free academic licenses)."
      ]
    },
    {
      "cell_type": "code",
      "metadata": {
        "id": "p5zNnjaCotQ_",
        "colab_type": "code",
        "colab": {
          "base_uri": "https://localhost:8080/",
          "height": 121
        },
        "outputId": "0af7fd26-5219-43af-ca9e-4639a37790a5"
      },
      "source": [
        "!pip install --force-reinstall --no-deps -q https://github.com/cdiener/cobrapy/archive/feature/osqp_support.zip \\\n",
        "  https://github.com/cdiener/optlang/archive/feature/osqp.zip\n",
        "  \n",
        "print(\"Done! 🎉 \")"
      ],
      "execution_count": 59,
      "outputs": [
        {
          "output_type": "stream",
          "text": [
            "  Installing build dependencies ... \u001b[?25l\u001b[?25hdone\n",
            "  Getting requirements to build wheel ... \u001b[?25l\u001b[?25hdone\n",
            "    Preparing wheel metadata ... \u001b[?25l\u001b[?25hdone\n",
            "  Building wheel for cobra (PEP 517) ... \u001b[?25l\u001b[?25hdone\n",
            "  Building wheel for optlang (setup.py) ... \u001b[?25l\u001b[?25hdone\n",
            "Done! 🎉 \n"
          ],
          "name": "stdout"
        }
      ]
    },
    {
      "cell_type": "markdown",
      "metadata": {
        "id": "6oJrxxz6tV9T",
        "colab_type": "text"
      },
      "source": [
        "## Enable Qiime 2 interactions\n",
        "\n",
        "Finally we will need to install packages to read the \"biom\" format which is a file format Qiime 2 uses to save tables. This is only necessary if you want to read Qiime 2 FeatureTable artifacts."
      ]
    },
    {
      "cell_type": "code",
      "metadata": {
        "id": "5rZX7SK_toLp",
        "colab_type": "code",
        "colab": {
          "base_uri": "https://localhost:8080/",
          "height": 34
        },
        "outputId": "ef3ca59a-d814-4465-b94d-d77eaf31cb72"
      },
      "source": [
        "!pip install -q numpy Cython\n",
        "!pip install -q biom-format\n",
        "\n",
        "print(\"Done! 🎉 \")"
      ],
      "execution_count": 60,
      "outputs": [
        {
          "output_type": "stream",
          "text": [
            "Done! 🎉 \n"
          ],
          "name": "stdout"
        }
      ]
    },
    {
      "cell_type": "markdown",
      "metadata": {
        "id": "oPy1f-WLI0lZ",
        "colab_type": "text"
      },
      "source": [
        "Okay, all done. So let's get started 😁.\n",
        "\n",
        "# 💻 MICOM\n",
        "\n",
        "We will use the Python interface to MICOM since it plays nicely with Colaboratory being pure Python and all that. However, you could run the same steps with Qiime 2 if you wanted. \n",
        "\n",
        "Here is an overview of all the steps and the particular functions:\n",
        "![micom overview](https://github.com/micom-dev/q2-micom/raw/706f583a060b91c12c0cec7acea2354fdd0dd320/docs/assets/overview.png).\n",
        "\n",
        "MICOM starts from a combined abundance/taxonomy table which MICOM abbreviates to taxonomy table. To get a look at how those tables look we can import MICOM and look at an example table:\n"
      ]
    },
    {
      "cell_type": "code",
      "metadata": {
        "id": "UV9SObSQkSZh",
        "colab_type": "code",
        "colab": {
          "base_uri": "https://localhost:8080/",
          "height": 551
        },
        "outputId": "a4691e8a-03e0-4993-c70c-4c93eb48f19f"
      },
      "source": [
        "from micom.data import test_data\n",
        "\n",
        "test_data()"
      ],
      "execution_count": 2,
      "outputs": [
        {
          "output_type": "execute_result",
          "data": {
            "text/html": [
              "<div>\n",
              "<style scoped>\n",
              "    .dataframe tbody tr th:only-of-type {\n",
              "        vertical-align: middle;\n",
              "    }\n",
              "\n",
              "    .dataframe tbody tr th {\n",
              "        vertical-align: top;\n",
              "    }\n",
              "\n",
              "    .dataframe thead th {\n",
              "        text-align: right;\n",
              "    }\n",
              "</style>\n",
              "<table border=\"1\" class=\"dataframe\">\n",
              "  <thead>\n",
              "    <tr style=\"text-align: right;\">\n",
              "      <th></th>\n",
              "      <th>id</th>\n",
              "      <th>genus</th>\n",
              "      <th>species</th>\n",
              "      <th>reactions</th>\n",
              "      <th>metabolites</th>\n",
              "      <th>file</th>\n",
              "      <th>sample_id</th>\n",
              "      <th>abundance</th>\n",
              "    </tr>\n",
              "  </thead>\n",
              "  <tbody>\n",
              "    <tr>\n",
              "      <th>0</th>\n",
              "      <td>Escherichia_coli_1</td>\n",
              "      <td>Escherichia</td>\n",
              "      <td>Escherichia coli 0</td>\n",
              "      <td>95</td>\n",
              "      <td>72</td>\n",
              "      <td>/usr/local/lib/python3.6/dist-packages/micom/d...</td>\n",
              "      <td>sample_1</td>\n",
              "      <td>682</td>\n",
              "    </tr>\n",
              "    <tr>\n",
              "      <th>1</th>\n",
              "      <td>Escherichia_coli_2</td>\n",
              "      <td>Escherichia</td>\n",
              "      <td>Escherichia coli 1</td>\n",
              "      <td>95</td>\n",
              "      <td>72</td>\n",
              "      <td>/usr/local/lib/python3.6/dist-packages/micom/d...</td>\n",
              "      <td>sample_1</td>\n",
              "      <td>422</td>\n",
              "    </tr>\n",
              "    <tr>\n",
              "      <th>2</th>\n",
              "      <td>Escherichia_coli_3</td>\n",
              "      <td>Escherichia</td>\n",
              "      <td>Escherichia coli 2</td>\n",
              "      <td>95</td>\n",
              "      <td>72</td>\n",
              "      <td>/usr/local/lib/python3.6/dist-packages/micom/d...</td>\n",
              "      <td>sample_1</td>\n",
              "      <td>64</td>\n",
              "    </tr>\n",
              "    <tr>\n",
              "      <th>3</th>\n",
              "      <td>Escherichia_coli_4</td>\n",
              "      <td>Escherichia</td>\n",
              "      <td>Escherichia coli 3</td>\n",
              "      <td>95</td>\n",
              "      <td>72</td>\n",
              "      <td>/usr/local/lib/python3.6/dist-packages/micom/d...</td>\n",
              "      <td>sample_1</td>\n",
              "      <td>736</td>\n",
              "    </tr>\n",
              "    <tr>\n",
              "      <th>0</th>\n",
              "      <td>Escherichia_coli_1</td>\n",
              "      <td>Escherichia</td>\n",
              "      <td>Escherichia coli 0</td>\n",
              "      <td>95</td>\n",
              "      <td>72</td>\n",
              "      <td>/usr/local/lib/python3.6/dist-packages/micom/d...</td>\n",
              "      <td>sample_2</td>\n",
              "      <td>680</td>\n",
              "    </tr>\n",
              "    <tr>\n",
              "      <th>1</th>\n",
              "      <td>Escherichia_coli_2</td>\n",
              "      <td>Escherichia</td>\n",
              "      <td>Escherichia coli 1</td>\n",
              "      <td>95</td>\n",
              "      <td>72</td>\n",
              "      <td>/usr/local/lib/python3.6/dist-packages/micom/d...</td>\n",
              "      <td>sample_2</td>\n",
              "      <td>900</td>\n",
              "    </tr>\n",
              "    <tr>\n",
              "      <th>2</th>\n",
              "      <td>Escherichia_coli_3</td>\n",
              "      <td>Escherichia</td>\n",
              "      <td>Escherichia coli 2</td>\n",
              "      <td>95</td>\n",
              "      <td>72</td>\n",
              "      <td>/usr/local/lib/python3.6/dist-packages/micom/d...</td>\n",
              "      <td>sample_2</td>\n",
              "      <td>734</td>\n",
              "    </tr>\n",
              "    <tr>\n",
              "      <th>3</th>\n",
              "      <td>Escherichia_coli_4</td>\n",
              "      <td>Escherichia</td>\n",
              "      <td>Escherichia coli 3</td>\n",
              "      <td>95</td>\n",
              "      <td>72</td>\n",
              "      <td>/usr/local/lib/python3.6/dist-packages/micom/d...</td>\n",
              "      <td>sample_2</td>\n",
              "      <td>317</td>\n",
              "    </tr>\n",
              "    <tr>\n",
              "      <th>0</th>\n",
              "      <td>Escherichia_coli_1</td>\n",
              "      <td>Escherichia</td>\n",
              "      <td>Escherichia coli 0</td>\n",
              "      <td>95</td>\n",
              "      <td>72</td>\n",
              "      <td>/usr/local/lib/python3.6/dist-packages/micom/d...</td>\n",
              "      <td>sample_3</td>\n",
              "      <td>78</td>\n",
              "    </tr>\n",
              "    <tr>\n",
              "      <th>1</th>\n",
              "      <td>Escherichia_coli_2</td>\n",
              "      <td>Escherichia</td>\n",
              "      <td>Escherichia coli 1</td>\n",
              "      <td>95</td>\n",
              "      <td>72</td>\n",
              "      <td>/usr/local/lib/python3.6/dist-packages/micom/d...</td>\n",
              "      <td>sample_3</td>\n",
              "      <td>217</td>\n",
              "    </tr>\n",
              "    <tr>\n",
              "      <th>2</th>\n",
              "      <td>Escherichia_coli_3</td>\n",
              "      <td>Escherichia</td>\n",
              "      <td>Escherichia coli 2</td>\n",
              "      <td>95</td>\n",
              "      <td>72</td>\n",
              "      <td>/usr/local/lib/python3.6/dist-packages/micom/d...</td>\n",
              "      <td>sample_3</td>\n",
              "      <td>800</td>\n",
              "    </tr>\n",
              "    <tr>\n",
              "      <th>3</th>\n",
              "      <td>Escherichia_coli_4</td>\n",
              "      <td>Escherichia</td>\n",
              "      <td>Escherichia coli 3</td>\n",
              "      <td>95</td>\n",
              "      <td>72</td>\n",
              "      <td>/usr/local/lib/python3.6/dist-packages/micom/d...</td>\n",
              "      <td>sample_3</td>\n",
              "      <td>377</td>\n",
              "    </tr>\n",
              "    <tr>\n",
              "      <th>0</th>\n",
              "      <td>Escherichia_coli_1</td>\n",
              "      <td>Escherichia</td>\n",
              "      <td>Escherichia coli 0</td>\n",
              "      <td>95</td>\n",
              "      <td>72</td>\n",
              "      <td>/usr/local/lib/python3.6/dist-packages/micom/d...</td>\n",
              "      <td>sample_4</td>\n",
              "      <td>319</td>\n",
              "    </tr>\n",
              "    <tr>\n",
              "      <th>1</th>\n",
              "      <td>Escherichia_coli_2</td>\n",
              "      <td>Escherichia</td>\n",
              "      <td>Escherichia coli 1</td>\n",
              "      <td>95</td>\n",
              "      <td>72</td>\n",
              "      <td>/usr/local/lib/python3.6/dist-packages/micom/d...</td>\n",
              "      <td>sample_4</td>\n",
              "      <td>134</td>\n",
              "    </tr>\n",
              "    <tr>\n",
              "      <th>2</th>\n",
              "      <td>Escherichia_coli_3</td>\n",
              "      <td>Escherichia</td>\n",
              "      <td>Escherichia coli 2</td>\n",
              "      <td>95</td>\n",
              "      <td>72</td>\n",
              "      <td>/usr/local/lib/python3.6/dist-packages/micom/d...</td>\n",
              "      <td>sample_4</td>\n",
              "      <td>633</td>\n",
              "    </tr>\n",
              "    <tr>\n",
              "      <th>3</th>\n",
              "      <td>Escherichia_coli_4</td>\n",
              "      <td>Escherichia</td>\n",
              "      <td>Escherichia coli 3</td>\n",
              "      <td>95</td>\n",
              "      <td>72</td>\n",
              "      <td>/usr/local/lib/python3.6/dist-packages/micom/d...</td>\n",
              "      <td>sample_4</td>\n",
              "      <td>265</td>\n",
              "    </tr>\n",
              "  </tbody>\n",
              "</table>\n",
              "</div>"
            ],
            "text/plain": [
              "                   id        genus  ... sample_id  abundance\n",
              "0  Escherichia_coli_1  Escherichia  ...  sample_1        682\n",
              "1  Escherichia_coli_2  Escherichia  ...  sample_1        422\n",
              "2  Escherichia_coli_3  Escherichia  ...  sample_1         64\n",
              "3  Escherichia_coli_4  Escherichia  ...  sample_1        736\n",
              "0  Escherichia_coli_1  Escherichia  ...  sample_2        680\n",
              "1  Escherichia_coli_2  Escherichia  ...  sample_2        900\n",
              "2  Escherichia_coli_3  Escherichia  ...  sample_2        734\n",
              "3  Escherichia_coli_4  Escherichia  ...  sample_2        317\n",
              "0  Escherichia_coli_1  Escherichia  ...  sample_3         78\n",
              "1  Escherichia_coli_2  Escherichia  ...  sample_3        217\n",
              "2  Escherichia_coli_3  Escherichia  ...  sample_3        800\n",
              "3  Escherichia_coli_4  Escherichia  ...  sample_3        377\n",
              "0  Escherichia_coli_1  Escherichia  ...  sample_4        319\n",
              "1  Escherichia_coli_2  Escherichia  ...  sample_4        134\n",
              "2  Escherichia_coli_3  Escherichia  ...  sample_4        633\n",
              "3  Escherichia_coli_4  Escherichia  ...  sample_4        265\n",
              "\n",
              "[16 rows x 8 columns]"
            ]
          },
          "metadata": {
            "tags": []
          },
          "execution_count": 2
        }
      ]
    },
    {
      "cell_type": "markdown",
      "metadata": {
        "id": "AEk7yfd1lbYp",
        "colab_type": "text"
      },
      "source": [
        "The `file` column is not required when using a taxonomy database like we will do. The same holds for the `id` column which is optional and allows you to give better names to your taxa. But each row needs to contain the the abundance of a single taxon in a single sample. \n",
        "\n",
        "Oh no, that's not what we have generated in the previous step. We only have separate Qiime 2 artifacts 😱 No worries.\n",
        "\n",
        "## Importing data from Qiime 2\n",
        "\n",
        "MICOM can read Qiime 2 artifacts. You dont't even need to have Qiime 2 installed for that! But before we do so let's resolve one issue. We discussed that MICOM summarizes genome-scale models into pangenome-scale models as a first step. But our data is on the ASV level so how will we know what to summarize? Basically that can be inferred from the model database we use. Model databases are prepared pangenome-scale models for use in MICOM. So before we read our data we have to decide which model database to use. We will go with the [AGORA database](https://pubmed.ncbi.nlm.nih.gov/27893703/) which is a curated database of more than 800 bacterial strains that commonly live in the human gut. In particular we will use a database summarized on the genus rank.\n",
        "\n"
      ]
    },
    {
      "cell_type": "code",
      "metadata": {
        "id": "eXGHZPYwlEa5",
        "colab_type": "code",
        "colab": {
          "base_uri": "https://localhost:8080/",
          "height": 208
        },
        "outputId": "801098bc-bf31-4714-f6d2-be9b61031557"
      },
      "source": [
        "!wget -O agora103_genus.qza https://zenodo.org/record/3755182/files/agora103_genus.qza?download=1"
      ],
      "execution_count": 2,
      "outputs": [
        {
          "output_type": "stream",
          "text": [
            "--2020-08-19 18:05:19--  https://zenodo.org/record/3755182/files/agora103_genus.qza?download=1\n",
            "Resolving zenodo.org (zenodo.org)... 188.184.117.155\n",
            "Connecting to zenodo.org (zenodo.org)|188.184.117.155|:443... connected.\n",
            "HTTP request sent, awaiting response... 200 OK\n",
            "Length: 21080080 (20M) [application/octet-stream]\n",
            "Saving to: ‘agora103_genus.qza’\n",
            "\n",
            "agora103_genus.qza  100%[===================>]  20.10M  13.8MB/s    in 1.5s    \n",
            "\n",
            "2020-08-19 18:05:21 (13.8 MB/s) - ‘agora103_genus.qza’ saved [21080080/21080080]\n",
            "\n"
          ],
          "name": "stdout"
        }
      ]
    },
    {
      "cell_type": "markdown",
      "metadata": {
        "id": "_57iya0D3L6-",
        "colab_type": "text"
      },
      "source": [
        "Okay. We got everything we need now. The data from the prior analysis can be found in the `treasure_chest` folder, so we use those files."
      ]
    },
    {
      "cell_type": "code",
      "metadata": {
        "id": "o0vBAiiqqPLC",
        "colab_type": "code",
        "colab": {
          "base_uri": "https://localhost:8080/",
          "height": 615
        },
        "outputId": "d3955f43-7151-4447-ea0b-d652e9935c70"
      },
      "source": [
        "from micom.taxonomy import qiime_to_micom\n",
        "\n",
        "tax = qiime_to_micom(\n",
        "    \"treasure_chest/dada2/table.qza\", \n",
        "    \"treasure_chest/taxa.qza\", \n",
        "    \"agora103_genus.qza\",\n",
        "    cutoff=2.5e-2,\n",
        "    strict=False\n",
        ")\n",
        "tax[\"id\"] = tax.genus\n",
        "tax"
      ],
      "execution_count": 22,
      "outputs": [
        {
          "output_type": "stream",
          "text": [
            "Taxa per sample:\n",
            "count    8.00000\n",
            "mean     6.25000\n",
            "std      2.31455\n",
            "min      3.00000\n",
            "25%      4.75000\n",
            "50%      6.00000\n",
            "75%      8.25000\n",
            "max      9.00000\n",
            "Name: sample_id, dtype: float64 \n",
            "\n"
          ],
          "name": "stdout"
        },
        {
          "output_type": "execute_result",
          "data": {
            "text/html": [
              "<div>\n",
              "<style scoped>\n",
              "    .dataframe tbody tr th:only-of-type {\n",
              "        vertical-align: middle;\n",
              "    }\n",
              "\n",
              "    .dataframe tbody tr th {\n",
              "        vertical-align: top;\n",
              "    }\n",
              "\n",
              "    .dataframe thead th {\n",
              "        text-align: right;\n",
              "    }\n",
              "</style>\n",
              "<table border=\"1\" class=\"dataframe\">\n",
              "  <thead>\n",
              "    <tr style=\"text-align: right;\">\n",
              "      <th></th>\n",
              "      <th>sample_id</th>\n",
              "      <th>abundance</th>\n",
              "      <th>genus</th>\n",
              "      <th>relative</th>\n",
              "      <th>id</th>\n",
              "    </tr>\n",
              "  </thead>\n",
              "  <tbody>\n",
              "    <tr>\n",
              "      <th>8</th>\n",
              "      <td>ERR1883210</td>\n",
              "      <td>11.0</td>\n",
              "      <td>Akkermansia</td>\n",
              "      <td>0.000164</td>\n",
              "      <td>Akkermansia</td>\n",
              "    </tr>\n",
              "    <tr>\n",
              "      <th>9</th>\n",
              "      <td>ERR1883214</td>\n",
              "      <td>54717.0</td>\n",
              "      <td>Akkermansia</td>\n",
              "      <td>0.822404</td>\n",
              "      <td>Akkermansia</td>\n",
              "    </tr>\n",
              "    <tr>\n",
              "      <th>10</th>\n",
              "      <td>ERR1883247</td>\n",
              "      <td>102.0</td>\n",
              "      <td>Akkermansia</td>\n",
              "      <td>0.003015</td>\n",
              "      <td>Akkermansia</td>\n",
              "    </tr>\n",
              "    <tr>\n",
              "      <th>11</th>\n",
              "      <td>ERR1883248</td>\n",
              "      <td>4059.0</td>\n",
              "      <td>Akkermansia</td>\n",
              "      <td>0.103046</td>\n",
              "      <td>Akkermansia</td>\n",
              "    </tr>\n",
              "    <tr>\n",
              "      <th>12</th>\n",
              "      <td>ERR1883210</td>\n",
              "      <td>42793.0</td>\n",
              "      <td>Bacteroides</td>\n",
              "      <td>0.637674</td>\n",
              "      <td>Bacteroides</td>\n",
              "    </tr>\n",
              "    <tr>\n",
              "      <th>...</th>\n",
              "      <td>...</td>\n",
              "      <td>...</td>\n",
              "      <td>...</td>\n",
              "      <td>...</td>\n",
              "      <td>...</td>\n",
              "    </tr>\n",
              "    <tr>\n",
              "      <th>257</th>\n",
              "      <td>ERR1883294</td>\n",
              "      <td>3.0</td>\n",
              "      <td>Atopobium</td>\n",
              "      <td>0.000647</td>\n",
              "      <td>Atopobium</td>\n",
              "    </tr>\n",
              "    <tr>\n",
              "      <th>258</th>\n",
              "      <td>ERR1883294</td>\n",
              "      <td>3.0</td>\n",
              "      <td>Alicyclobacillus</td>\n",
              "      <td>0.000647</td>\n",
              "      <td>Alicyclobacillus</td>\n",
              "    </tr>\n",
              "    <tr>\n",
              "      <th>259</th>\n",
              "      <td>ERR1883212</td>\n",
              "      <td>4.0</td>\n",
              "      <td>WAL_1855D</td>\n",
              "      <td>0.000069</td>\n",
              "      <td>WAL_1855D</td>\n",
              "    </tr>\n",
              "    <tr>\n",
              "      <th>260</th>\n",
              "      <td>ERR1883212</td>\n",
              "      <td>2.0</td>\n",
              "      <td>Finegoldia</td>\n",
              "      <td>0.000035</td>\n",
              "      <td>Finegoldia</td>\n",
              "    </tr>\n",
              "    <tr>\n",
              "      <th>261</th>\n",
              "      <td>ERR1883247</td>\n",
              "      <td>2.0</td>\n",
              "      <td>Brochothrix</td>\n",
              "      <td>0.000059</td>\n",
              "      <td>Brochothrix</td>\n",
              "    </tr>\n",
              "  </tbody>\n",
              "</table>\n",
              "<p>254 rows × 5 columns</p>\n",
              "</div>"
            ],
            "text/plain": [
              "      sample_id  abundance             genus  relative                id\n",
              "8    ERR1883210       11.0       Akkermansia  0.000164       Akkermansia\n",
              "9    ERR1883214    54717.0       Akkermansia  0.822404       Akkermansia\n",
              "10   ERR1883247      102.0       Akkermansia  0.003015       Akkermansia\n",
              "11   ERR1883248     4059.0       Akkermansia  0.103046       Akkermansia\n",
              "12   ERR1883210    42793.0       Bacteroides  0.637674       Bacteroides\n",
              "..          ...        ...               ...       ...               ...\n",
              "257  ERR1883294        3.0         Atopobium  0.000647         Atopobium\n",
              "258  ERR1883294        3.0  Alicyclobacillus  0.000647  Alicyclobacillus\n",
              "259  ERR1883212        4.0         WAL_1855D  0.000069         WAL_1855D\n",
              "260  ERR1883212        2.0        Finegoldia  0.000035        Finegoldia\n",
              "261  ERR1883247        2.0       Brochothrix  0.000059       Brochothrix\n",
              "\n",
              "[254 rows x 5 columns]"
            ]
          },
          "metadata": {
            "tags": []
          },
          "execution_count": 22
        }
      ]
    },
    {
      "cell_type": "markdown",
      "metadata": {
        "id": "-TQ6Zp7wouk4",
        "colab_type": "text"
      },
      "source": [
        "One helpful thing to do is to merge in our metadata so we have it at hand in the next steps."
      ]
    },
    {
      "cell_type": "code",
      "metadata": {
        "id": "X9hqoO4go0h1",
        "colab_type": "code",
        "colab": {
          "base_uri": "https://localhost:8080/",
          "height": 424
        },
        "outputId": "f7bff61e-24b9-4deb-cafb-7f9e9e65df93"
      },
      "source": [
        "metadata = pd.read_table(\"metadata.tsv\").rename(columns={\"id\": \"sample_id\"})\n",
        "tax = pd.merge(tax, metadata, on=\"sample_id\")\n",
        "tax"
      ],
      "execution_count": 23,
      "outputs": [
        {
          "output_type": "execute_result",
          "data": {
            "text/html": [
              "<div>\n",
              "<style scoped>\n",
              "    .dataframe tbody tr th:only-of-type {\n",
              "        vertical-align: middle;\n",
              "    }\n",
              "\n",
              "    .dataframe tbody tr th {\n",
              "        vertical-align: top;\n",
              "    }\n",
              "\n",
              "    .dataframe thead th {\n",
              "        text-align: right;\n",
              "    }\n",
              "</style>\n",
              "<table border=\"1\" class=\"dataframe\">\n",
              "  <thead>\n",
              "    <tr style=\"text-align: right;\">\n",
              "      <th></th>\n",
              "      <th>sample_id</th>\n",
              "      <th>abundance</th>\n",
              "      <th>genus</th>\n",
              "      <th>relative</th>\n",
              "      <th>id</th>\n",
              "      <th>disease_stat</th>\n",
              "      <th>description</th>\n",
              "    </tr>\n",
              "  </thead>\n",
              "  <tbody>\n",
              "    <tr>\n",
              "      <th>0</th>\n",
              "      <td>ERR1883210</td>\n",
              "      <td>11.0</td>\n",
              "      <td>Akkermansia</td>\n",
              "      <td>0.000164</td>\n",
              "      <td>Akkermansia</td>\n",
              "      <td>healthy</td>\n",
              "      <td>Donor 13</td>\n",
              "    </tr>\n",
              "    <tr>\n",
              "      <th>1</th>\n",
              "      <td>ERR1883210</td>\n",
              "      <td>42793.0</td>\n",
              "      <td>Bacteroides</td>\n",
              "      <td>0.637674</td>\n",
              "      <td>Bacteroides</td>\n",
              "      <td>healthy</td>\n",
              "      <td>Donor 13</td>\n",
              "    </tr>\n",
              "    <tr>\n",
              "      <th>2</th>\n",
              "      <td>ERR1883210</td>\n",
              "      <td>3298.0</td>\n",
              "      <td>Faecalibacterium</td>\n",
              "      <td>0.049145</td>\n",
              "      <td>Faecalibacterium</td>\n",
              "      <td>healthy</td>\n",
              "      <td>Donor 13</td>\n",
              "    </tr>\n",
              "    <tr>\n",
              "      <th>3</th>\n",
              "      <td>ERR1883210</td>\n",
              "      <td>1062.0</td>\n",
              "      <td>Clostridium</td>\n",
              "      <td>0.015825</td>\n",
              "      <td>Clostridium</td>\n",
              "      <td>healthy</td>\n",
              "      <td>Donor 13</td>\n",
              "    </tr>\n",
              "    <tr>\n",
              "      <th>4</th>\n",
              "      <td>ERR1883210</td>\n",
              "      <td>4556.0</td>\n",
              "      <td>Roseburia</td>\n",
              "      <td>0.067891</td>\n",
              "      <td>Roseburia</td>\n",
              "      <td>healthy</td>\n",
              "      <td>Donor 13</td>\n",
              "    </tr>\n",
              "    <tr>\n",
              "      <th>...</th>\n",
              "      <td>...</td>\n",
              "      <td>...</td>\n",
              "      <td>...</td>\n",
              "      <td>...</td>\n",
              "      <td>...</td>\n",
              "      <td>...</td>\n",
              "      <td>...</td>\n",
              "    </tr>\n",
              "    <tr>\n",
              "      <th>249</th>\n",
              "      <td>ERR1883315</td>\n",
              "      <td>48.0</td>\n",
              "      <td>Selenomonas</td>\n",
              "      <td>0.004828</td>\n",
              "      <td>Selenomonas</td>\n",
              "      <td>Recurrent Clostridium difficile infection</td>\n",
              "      <td>Day -1 CD4</td>\n",
              "    </tr>\n",
              "    <tr>\n",
              "      <th>250</th>\n",
              "      <td>ERR1883315</td>\n",
              "      <td>28.0</td>\n",
              "      <td>Microvirgula</td>\n",
              "      <td>0.002816</td>\n",
              "      <td>Microvirgula</td>\n",
              "      <td>Recurrent Clostridium difficile infection</td>\n",
              "      <td>Day -1 CD4</td>\n",
              "    </tr>\n",
              "    <tr>\n",
              "      <th>251</th>\n",
              "      <td>ERR1883315</td>\n",
              "      <td>3.0</td>\n",
              "      <td>Aggregatibacter</td>\n",
              "      <td>0.000302</td>\n",
              "      <td>Aggregatibacter</td>\n",
              "      <td>Recurrent Clostridium difficile infection</td>\n",
              "      <td>Day -1 CD4</td>\n",
              "    </tr>\n",
              "    <tr>\n",
              "      <th>252</th>\n",
              "      <td>ERR1883315</td>\n",
              "      <td>11.0</td>\n",
              "      <td>Providencia</td>\n",
              "      <td>0.001106</td>\n",
              "      <td>Providencia</td>\n",
              "      <td>Recurrent Clostridium difficile infection</td>\n",
              "      <td>Day -1 CD4</td>\n",
              "    </tr>\n",
              "    <tr>\n",
              "      <th>253</th>\n",
              "      <td>ERR1883315</td>\n",
              "      <td>4.0</td>\n",
              "      <td>Prevotella</td>\n",
              "      <td>0.000402</td>\n",
              "      <td>Prevotella</td>\n",
              "      <td>Recurrent Clostridium difficile infection</td>\n",
              "      <td>Day -1 CD4</td>\n",
              "    </tr>\n",
              "  </tbody>\n",
              "</table>\n",
              "<p>254 rows × 7 columns</p>\n",
              "</div>"
            ],
            "text/plain": [
              "      sample_id  ...  description\n",
              "0    ERR1883210  ...     Donor 13\n",
              "1    ERR1883210  ...     Donor 13\n",
              "2    ERR1883210  ...     Donor 13\n",
              "3    ERR1883210  ...     Donor 13\n",
              "4    ERR1883210  ...     Donor 13\n",
              "..          ...  ...          ...\n",
              "249  ERR1883315  ...   Day -1 CD4\n",
              "250  ERR1883315  ...   Day -1 CD4\n",
              "251  ERR1883315  ...   Day -1 CD4\n",
              "252  ERR1883315  ...   Day -1 CD4\n",
              "253  ERR1883315  ...   Day -1 CD4\n",
              "\n",
              "[254 rows x 7 columns]"
            ]
          },
          "metadata": {
            "tags": []
          },
          "execution_count": 23
        }
      ]
    },
    {
      "cell_type": "markdown",
      "metadata": {
        "id": "RTbYBR8cJfup",
        "colab_type": "text"
      },
      "source": [
        "Okay, that will print out how many taxa per model we will use. In that case, about 23 taxa per sample. Note that qiime to micom has a `parameter`. When matching taxonomy you can either just match by the particular rank, meaning just compare genus names, or you could compare the entire taxonomy, which will require all taxonomic ranks prior to the target rank to match. Many databases disagree on the family or class names so that may give you les matches but it will lower the chance for wrong matches. The resulting table will be the same but it will include more ranks with `strict=True` that will be used when matching to the database. The GreenGenes database is pretty old and many taxonomic names have been superceded by now. So we will stick with the \"lax\" option of only matching on genus ranks.\n",
        "\n",
        "For now we can finall build our community-level models.\n",
        "\n",
        "## Building community models\n",
        "\n",
        "With the data we have building our models is pretty easy. We just pass our taxonomy table and the model database. We also have to specify where to write the models. We will also run that in parallel over two threads. So it should take around 10 minutes."
      ]
    },
    {
      "cell_type": "code",
      "metadata": {
        "id": "XlCk7GyB7B5e",
        "colab_type": "code",
        "colab": {
          "base_uri": "https://localhost:8080/",
          "height": 66,
          "referenced_widgets": [
            "5d93d2e20566420a94d8a2da84ce4593",
            "9b4b9a7ef6b54b39967523d4c004b6a6",
            "2481d2200d8d47f3868454ac75621c5c",
            "a7a939aaf3be44dca7f5f14ae64b176b",
            "fe118414a64642648d779cb7883370de",
            "35357f7ddb114fe78479be38404c6ca7",
            "822d2a1c0e1440d7aa83d7741d29d0f0",
            "d931f62b945d45d39683aa6e8636e6e5"
          ]
        },
        "outputId": "9b921b7a-06ea-4732-a586-b6fe7bff95f5"
      },
      "source": [
        "from micom.workflows import build\n",
        "from micom import Community\n",
        "import pandas as pd\n",
        "\n",
        "manifest = build(tax, \"agora103_genus.qza\", \"models\", threads=2, solver=\"osqp\", cutoff=2e-2)\n",
        "#manifest = pd.read_csv(\"models/manifest.csv\")"
      ],
      "execution_count": 24,
      "outputs": [
        {
          "output_type": "display_data",
          "data": {
            "application/vnd.jupyter.widget-view+json": {
              "model_id": "5d93d2e20566420a94d8a2da84ce4593",
              "version_minor": 0,
              "version_major": 2
            },
            "text/plain": [
              "HBox(children=(FloatProgress(value=0.0, max=8.0), HTML(value='')))"
            ]
          },
          "metadata": {
            "tags": []
          }
        },
        {
          "output_type": "stream",
          "text": [
            "\n"
          ],
          "name": "stdout"
        }
      ]
    },
    {
      "cell_type": "markdown",
      "metadata": {
        "id": "Kwya6vbZZSUo",
        "colab_type": "text"
      },
      "source": [
        "This will warn if less than 50% of abundance is matched to the database. This can happen and you can still continue but be aware that this may not represent the ecoogical system in your sample perfectly *if* there other bacteria present. In our case we have some individuals with *C. diff* with little biomass so many of the reads may match to food components. So we can go ahead for now. Let's also take a look what we got back from the `build` process."
      ]
    },
    {
      "cell_type": "code",
      "metadata": {
        "id": "r9qwglr88Ise",
        "colab_type": "code",
        "colab": {
          "base_uri": "https://localhost:8080/",
          "height": 300
        },
        "outputId": "f0036ac4-1b04-4b10-d6b7-fea3027889de"
      },
      "source": [
        "manifest"
      ],
      "execution_count": 25,
      "outputs": [
        {
          "output_type": "execute_result",
          "data": {
            "text/html": [
              "<div>\n",
              "<style scoped>\n",
              "    .dataframe tbody tr th:only-of-type {\n",
              "        vertical-align: middle;\n",
              "    }\n",
              "\n",
              "    .dataframe tbody tr th {\n",
              "        vertical-align: top;\n",
              "    }\n",
              "\n",
              "    .dataframe thead th {\n",
              "        text-align: right;\n",
              "    }\n",
              "</style>\n",
              "<table border=\"1\" class=\"dataframe\">\n",
              "  <thead>\n",
              "    <tr style=\"text-align: right;\">\n",
              "      <th></th>\n",
              "      <th>sample_id</th>\n",
              "      <th>disease_stat</th>\n",
              "      <th>description</th>\n",
              "      <th>file</th>\n",
              "      <th>found_taxa</th>\n",
              "      <th>total_taxa</th>\n",
              "      <th>found_fraction</th>\n",
              "      <th>found_abundance_fraction</th>\n",
              "    </tr>\n",
              "  </thead>\n",
              "  <tbody>\n",
              "    <tr>\n",
              "      <th>0</th>\n",
              "      <td>ERR1883210</td>\n",
              "      <td>healthy</td>\n",
              "      <td>Donor 13</td>\n",
              "      <td>ERR1883210.pickle</td>\n",
              "      <td>7.0</td>\n",
              "      <td>8.0</td>\n",
              "      <td>0.875000</td>\n",
              "      <td>0.866350</td>\n",
              "    </tr>\n",
              "    <tr>\n",
              "      <th>1</th>\n",
              "      <td>ERR1883212</td>\n",
              "      <td>healthy</td>\n",
              "      <td>Donor 14</td>\n",
              "      <td>ERR1883212.pickle</td>\n",
              "      <td>10.0</td>\n",
              "      <td>11.0</td>\n",
              "      <td>0.909091</td>\n",
              "      <td>0.870943</td>\n",
              "    </tr>\n",
              "    <tr>\n",
              "      <th>2</th>\n",
              "      <td>ERR1883214</td>\n",
              "      <td>Recurrent Clostridium difficile infection</td>\n",
              "      <td>Day 0 CD1</td>\n",
              "      <td>ERR1883214.pickle</td>\n",
              "      <td>3.0</td>\n",
              "      <td>3.0</td>\n",
              "      <td>1.000000</td>\n",
              "      <td>0.965912</td>\n",
              "    </tr>\n",
              "    <tr>\n",
              "      <th>3</th>\n",
              "      <td>ERR1883247</td>\n",
              "      <td>healthy</td>\n",
              "      <td>Donor CD3</td>\n",
              "      <td>ERR1883247.pickle</td>\n",
              "      <td>10.0</td>\n",
              "      <td>12.0</td>\n",
              "      <td>0.833333</td>\n",
              "      <td>0.856370</td>\n",
              "    </tr>\n",
              "    <tr>\n",
              "      <th>4</th>\n",
              "      <td>ERR1883248</td>\n",
              "      <td>Recurrent Clostridium difficile infection</td>\n",
              "      <td>Day 1 CD1</td>\n",
              "      <td>ERR1883248.pickle</td>\n",
              "      <td>7.0</td>\n",
              "      <td>7.0</td>\n",
              "      <td>1.000000</td>\n",
              "      <td>0.892638</td>\n",
              "    </tr>\n",
              "    <tr>\n",
              "      <th>5</th>\n",
              "      <td>ERR1883260</td>\n",
              "      <td>healthy</td>\n",
              "      <td>CD2 Donor</td>\n",
              "      <td>ERR1883260.pickle</td>\n",
              "      <td>9.0</td>\n",
              "      <td>9.0</td>\n",
              "      <td>1.000000</td>\n",
              "      <td>0.878539</td>\n",
              "    </tr>\n",
              "    <tr>\n",
              "      <th>6</th>\n",
              "      <td>ERR1883294</td>\n",
              "      <td>Recurrent Clostridium difficile infection</td>\n",
              "      <td>Day 0 CD3</td>\n",
              "      <td>ERR1883294.pickle</td>\n",
              "      <td>7.0</td>\n",
              "      <td>8.0</td>\n",
              "      <td>0.875000</td>\n",
              "      <td>0.937244</td>\n",
              "    </tr>\n",
              "    <tr>\n",
              "      <th>7</th>\n",
              "      <td>ERR1883315</td>\n",
              "      <td>Recurrent Clostridium difficile infection</td>\n",
              "      <td>Day -1 CD4</td>\n",
              "      <td>ERR1883315.pickle</td>\n",
              "      <td>4.0</td>\n",
              "      <td>4.0</td>\n",
              "      <td>1.000000</td>\n",
              "      <td>0.962788</td>\n",
              "    </tr>\n",
              "  </tbody>\n",
              "</table>\n",
              "</div>"
            ],
            "text/plain": [
              "    sample_id  ... found_abundance_fraction\n",
              "0  ERR1883210  ...                 0.866350\n",
              "1  ERR1883212  ...                 0.870943\n",
              "2  ERR1883214  ...                 0.965912\n",
              "3  ERR1883247  ...                 0.856370\n",
              "4  ERR1883248  ...                 0.892638\n",
              "5  ERR1883260  ...                 0.878539\n",
              "6  ERR1883294  ...                 0.937244\n",
              "7  ERR1883315  ...                 0.962788\n",
              "\n",
              "[8 rows x 8 columns]"
            ]
          },
          "metadata": {
            "tags": []
          },
          "execution_count": 25
        }
      ]
    },
    {
      "cell_type": "markdown",
      "metadata": {
        "id": "y4KAJkhIdspQ",
        "colab_type": "text"
      },
      "source": [
        "So we now have our community models and can now leverage MICOM fully by simulating growth in the community.\n",
        "\n",
        "## Simulating growth\n",
        "\n",
        "With our community models built we can start to simulate growth with the cooperative tradeoff algorithm. Since we have no diet information for our samples we will apply the same averagec Western diet to each individual. So we will start by downloading the diet."
      ]
    },
    {
      "cell_type": "code",
      "metadata": {
        "id": "Xi4hZLiaPLNu",
        "colab_type": "code",
        "colab": {
          "base_uri": "https://localhost:8080/",
          "height": 208
        },
        "outputId": "f11d9a5f-1067-4e64-ba84-1f98b7535a5c"
      },
      "source": [
        "!wget -O western_diet_gut.qza https://zenodo.org/record/3755182/files/western_diet_gut.qza?download=1"
      ],
      "execution_count": 26,
      "outputs": [
        {
          "output_type": "stream",
          "text": [
            "--2020-08-19 21:41:40--  https://zenodo.org/record/3755182/files/western_diet_gut.qza?download=1\n",
            "Resolving zenodo.org (zenodo.org)... 188.184.117.155\n",
            "Connecting to zenodo.org (zenodo.org)|188.184.117.155|:443... connected.\n",
            "HTTP request sent, awaiting response... 200 OK\n",
            "Length: 7173 (7.0K) [application/octet-stream]\n",
            "Saving to: ‘western_diet_gut.qza’\n",
            "\n",
            "western_diet_gut.qz 100%[===================>]   7.00K  --.-KB/s    in 0s      \n",
            "\n",
            "2020-08-19 21:41:41 (970 MB/s) - ‘western_diet_gut.qza’ saved [7173/7173]\n",
            "\n"
          ],
          "name": "stdout"
        }
      ]
    },
    {
      "cell_type": "markdown",
      "metadata": {
        "id": "TVWMEu4nfKdL",
        "colab_type": "text"
      },
      "source": [
        "This is again a Qiime 2 artifact which we can load with MICOM."
      ]
    },
    {
      "cell_type": "code",
      "metadata": {
        "id": "3XBGQlFnfO4W",
        "colab_type": "code",
        "colab": {
          "base_uri": "https://localhost:8080/",
          "height": 455
        },
        "outputId": "df67f022-bb02-48ce-ead9-5a160a4eaa22"
      },
      "source": [
        "from micom.qiime_formats import load_qiime_medium\n",
        "\n",
        "medium = load_qiime_medium(\"western_diet_gut.qza\")\n",
        "medium.index = medium.reaction\n",
        "medium"
      ],
      "execution_count": 27,
      "outputs": [
        {
          "output_type": "execute_result",
          "data": {
            "text/html": [
              "<div>\n",
              "<style scoped>\n",
              "    .dataframe tbody tr th:only-of-type {\n",
              "        vertical-align: middle;\n",
              "    }\n",
              "\n",
              "    .dataframe tbody tr th {\n",
              "        vertical-align: top;\n",
              "    }\n",
              "\n",
              "    .dataframe thead th {\n",
              "        text-align: right;\n",
              "    }\n",
              "</style>\n",
              "<table border=\"1\" class=\"dataframe\">\n",
              "  <thead>\n",
              "    <tr style=\"text-align: right;\">\n",
              "      <th></th>\n",
              "      <th>flux</th>\n",
              "      <th>dilution</th>\n",
              "      <th>metabolite</th>\n",
              "      <th>reaction</th>\n",
              "    </tr>\n",
              "    <tr>\n",
              "      <th>reaction</th>\n",
              "      <th></th>\n",
              "      <th></th>\n",
              "      <th></th>\n",
              "      <th></th>\n",
              "    </tr>\n",
              "  </thead>\n",
              "  <tbody>\n",
              "    <tr>\n",
              "      <th>EX_fru_m</th>\n",
              "      <td>0.014899</td>\n",
              "      <td>0.100</td>\n",
              "      <td>fru_m</td>\n",
              "      <td>EX_fru_m</td>\n",
              "    </tr>\n",
              "    <tr>\n",
              "      <th>EX_glc_m</th>\n",
              "      <td>0.014899</td>\n",
              "      <td>0.100</td>\n",
              "      <td>glc_m</td>\n",
              "      <td>EX_glc_m</td>\n",
              "    </tr>\n",
              "    <tr>\n",
              "      <th>EX_gal_m</th>\n",
              "      <td>0.014899</td>\n",
              "      <td>0.100</td>\n",
              "      <td>gal_m</td>\n",
              "      <td>EX_gal_m</td>\n",
              "    </tr>\n",
              "    <tr>\n",
              "      <th>EX_man_m</th>\n",
              "      <td>0.014899</td>\n",
              "      <td>0.100</td>\n",
              "      <td>man_m</td>\n",
              "      <td>EX_man_m</td>\n",
              "    </tr>\n",
              "    <tr>\n",
              "      <th>EX_mnl_m</th>\n",
              "      <td>0.014899</td>\n",
              "      <td>0.100</td>\n",
              "      <td>mnl_m</td>\n",
              "      <td>EX_mnl_m</td>\n",
              "    </tr>\n",
              "    <tr>\n",
              "      <th>...</th>\n",
              "      <td>...</td>\n",
              "      <td>...</td>\n",
              "      <td>...</td>\n",
              "      <td>...</td>\n",
              "    </tr>\n",
              "    <tr>\n",
              "      <th>EX_glu_D_m</th>\n",
              "      <td>0.100000</td>\n",
              "      <td>0.100</td>\n",
              "      <td>glu_D_m</td>\n",
              "      <td>EX_glu_D_m</td>\n",
              "    </tr>\n",
              "    <tr>\n",
              "      <th>EX_gthrd_m</th>\n",
              "      <td>0.100000</td>\n",
              "      <td>0.100</td>\n",
              "      <td>gthrd_m</td>\n",
              "      <td>EX_gthrd_m</td>\n",
              "    </tr>\n",
              "    <tr>\n",
              "      <th>EX_h2_m</th>\n",
              "      <td>0.100000</td>\n",
              "      <td>0.100</td>\n",
              "      <td>h2_m</td>\n",
              "      <td>EX_h2_m</td>\n",
              "    </tr>\n",
              "    <tr>\n",
              "      <th>EX_no2_m</th>\n",
              "      <td>0.100000</td>\n",
              "      <td>0.100</td>\n",
              "      <td>no2_m</td>\n",
              "      <td>EX_no2_m</td>\n",
              "    </tr>\n",
              "    <tr>\n",
              "      <th>EX_o2_m</th>\n",
              "      <td>0.001000</td>\n",
              "      <td>0.001</td>\n",
              "      <td>o2_m</td>\n",
              "      <td>EX_o2_m</td>\n",
              "    </tr>\n",
              "  </tbody>\n",
              "</table>\n",
              "<p>170 rows × 4 columns</p>\n",
              "</div>"
            ],
            "text/plain": [
              "                flux  dilution metabolite    reaction\n",
              "reaction                                             \n",
              "EX_fru_m    0.014899     0.100      fru_m    EX_fru_m\n",
              "EX_glc_m    0.014899     0.100      glc_m    EX_glc_m\n",
              "EX_gal_m    0.014899     0.100      gal_m    EX_gal_m\n",
              "EX_man_m    0.014899     0.100      man_m    EX_man_m\n",
              "EX_mnl_m    0.014899     0.100      mnl_m    EX_mnl_m\n",
              "...              ...       ...        ...         ...\n",
              "EX_glu_D_m  0.100000     0.100    glu_D_m  EX_glu_D_m\n",
              "EX_gthrd_m  0.100000     0.100    gthrd_m  EX_gthrd_m\n",
              "EX_h2_m     0.100000     0.100       h2_m     EX_h2_m\n",
              "EX_no2_m    0.100000     0.100      no2_m    EX_no2_m\n",
              "EX_o2_m     0.001000     0.001       o2_m     EX_o2_m\n",
              "\n",
              "[170 rows x 4 columns]"
            ]
          },
          "metadata": {
            "tags": []
          },
          "execution_count": 27
        }
      ]
    },
    {
      "cell_type": "markdown",
      "metadata": {
        "id": "4s8R4WYUez4g",
        "colab_type": "text"
      },
      "source": [
        "Okay let's go right ahead and simulate growth. This will give us some time to dive in some details and will take about 20 minutes."
      ]
    },
    {
      "cell_type": "code",
      "metadata": {
        "id": "l-vJJwtdRZxP",
        "colab_type": "code",
        "colab": {
          "base_uri": "https://localhost:8080/",
          "height": 66,
          "referenced_widgets": [
            "69a54f6f6a5c4d1c956a1a1be631eff9",
            "73b2073c5a5f438a9034c7cc25d62fd3",
            "4bf47eafae0f4ff2a671d8afbea0c455",
            "ade518b673d940f78c2b4c585d43e169",
            "678e0fa46d6d471e981e3b1fdcc7e2a3",
            "cb39e9208d2f4874bfbbab7372243042",
            "05d644898f374c0fbf9577d4d07f2caa",
            "a87d811bbe13478ca74b748f5a612a9e"
          ]
        },
        "outputId": "7d253bee-fd00-408c-a4c3-72b9766da07d"
      },
      "source": [
        "from micom.workflows import grow\n",
        "import pickle\n",
        "\n",
        "growth_results = grow(manifest, \"models\", medium, tradeoff=0.5)\n",
        "pickle.dump(growth_results, open(\"growth.pickle\", \"wb\"))"
      ],
      "execution_count": 28,
      "outputs": [
        {
          "output_type": "display_data",
          "data": {
            "application/vnd.jupyter.widget-view+json": {
              "model_id": "69a54f6f6a5c4d1c956a1a1be631eff9",
              "version_minor": 0,
              "version_major": 2
            },
            "text/plain": [
              "HBox(children=(FloatProgress(value=0.0, max=8.0), HTML(value='')))"
            ]
          },
          "metadata": {
            "tags": []
          }
        },
        {
          "output_type": "stream",
          "text": [
            "\n"
          ],
          "name": "stdout"
        }
      ]
    },
    {
      "cell_type": "markdown",
      "metadata": {
        "id": "3WH8VVrVS4mv",
        "colab_type": "text"
      },
      "source": [
        "If that takes too long or was aborted we can read it from the saved version as well."
      ]
    },
    {
      "cell_type": "code",
      "metadata": {
        "id": "tZiPmdO4S-OE",
        "colab_type": "code",
        "colab": {
          "base_uri": "https://localhost:8080/",
          "height": 203
        },
        "outputId": "3c5732f4-e413-43e3-b53b-ca423c5ff079"
      },
      "source": [
        "import pickle\n",
        "\n",
        "growth_results = pickle.load(open(\"treasure_chest/growth.pickle\", \"rb\"))"
      ],
      "execution_count": 29,
      "outputs": [
        {
          "output_type": "error",
          "ename": "FileNotFoundError",
          "evalue": "ignored",
          "traceback": [
            "\u001b[0;31m---------------------------------------------------------------------------\u001b[0m",
            "\u001b[0;31mFileNotFoundError\u001b[0m                         Traceback (most recent call last)",
            "\u001b[0;32m<ipython-input-29-a45ac4f02026>\u001b[0m in \u001b[0;36m<module>\u001b[0;34m()\u001b[0m\n\u001b[1;32m      1\u001b[0m \u001b[0;32mimport\u001b[0m \u001b[0mpickle\u001b[0m\u001b[0;34m\u001b[0m\u001b[0;34m\u001b[0m\u001b[0m\n\u001b[1;32m      2\u001b[0m \u001b[0;34m\u001b[0m\u001b[0m\n\u001b[0;32m----> 3\u001b[0;31m \u001b[0mgrowth_results\u001b[0m \u001b[0;34m=\u001b[0m \u001b[0mpickle\u001b[0m\u001b[0;34m.\u001b[0m\u001b[0mload\u001b[0m\u001b[0;34m(\u001b[0m\u001b[0mopen\u001b[0m\u001b[0;34m(\u001b[0m\u001b[0;34m\"treasure_chest/growth.pickle\"\u001b[0m\u001b[0;34m,\u001b[0m \u001b[0;34m\"rb\"\u001b[0m\u001b[0;34m)\u001b[0m\u001b[0;34m)\u001b[0m\u001b[0;34m\u001b[0m\u001b[0;34m\u001b[0m\u001b[0m\n\u001b[0m",
            "\u001b[0;31mFileNotFoundError\u001b[0m: [Errno 2] No such file or directory: 'treasure_chest/growth.pickle'"
          ]
        }
      ]
    },
    {
      "cell_type": "markdown",
      "metadata": {
        "id": "69gq9QfAzqxq",
        "colab_type": "text"
      },
      "source": [
        "What kind of results did we get? Well, `grow` returns a tuple of 3 daat sets:\n",
        "\n",
        "1. The predicted growth rate for all taxa in all samples\n",
        "2. The import and export fluxes for each taxon and the external environment\n",
        "3. Annotations for the fluxes mapping to other databases\n",
        "\n",
        "The groth rates are pretty straightforward."
      ]
    },
    {
      "cell_type": "code",
      "metadata": {
        "id": "xHQKoxgRzqWM",
        "colab_type": "code",
        "colab": {
          "base_uri": "https://localhost:8080/",
          "height": 238
        },
        "outputId": "06634fcd-b128-4826-ec0f-536eac33dd1e"
      },
      "source": [
        "growth_results.growth_rates.head()"
      ],
      "execution_count": 43,
      "outputs": [
        {
          "output_type": "execute_result",
          "data": {
            "text/html": [
              "<div>\n",
              "<style scoped>\n",
              "    .dataframe tbody tr th:only-of-type {\n",
              "        vertical-align: middle;\n",
              "    }\n",
              "\n",
              "    .dataframe tbody tr th {\n",
              "        vertical-align: top;\n",
              "    }\n",
              "\n",
              "    .dataframe thead th {\n",
              "        text-align: right;\n",
              "    }\n",
              "</style>\n",
              "<table border=\"1\" class=\"dataframe\">\n",
              "  <thead>\n",
              "    <tr style=\"text-align: right;\">\n",
              "      <th></th>\n",
              "      <th>abundance</th>\n",
              "      <th>growth_rate</th>\n",
              "      <th>reactions</th>\n",
              "      <th>metabolites</th>\n",
              "      <th>taxon</th>\n",
              "      <th>tradeoff</th>\n",
              "      <th>sample_id</th>\n",
              "    </tr>\n",
              "    <tr>\n",
              "      <th>compartments</th>\n",
              "      <th></th>\n",
              "      <th></th>\n",
              "      <th></th>\n",
              "      <th></th>\n",
              "      <th></th>\n",
              "      <th></th>\n",
              "      <th></th>\n",
              "    </tr>\n",
              "  </thead>\n",
              "  <tbody>\n",
              "    <tr>\n",
              "      <th>Bacteroides</th>\n",
              "      <td>0.736046</td>\n",
              "      <td>0.298356</td>\n",
              "      <td>3307</td>\n",
              "      <td>1887</td>\n",
              "      <td>Bacteroides</td>\n",
              "      <td>0.5</td>\n",
              "      <td>ERR1883210</td>\n",
              "    </tr>\n",
              "    <tr>\n",
              "      <th>Blautia</th>\n",
              "      <td>0.027486</td>\n",
              "      <td>0.011492</td>\n",
              "      <td>3108</td>\n",
              "      <td>1818</td>\n",
              "      <td>Blautia</td>\n",
              "      <td>0.5</td>\n",
              "      <td>ERR1883210</td>\n",
              "    </tr>\n",
              "    <tr>\n",
              "      <th>Faecalibacterium</th>\n",
              "      <td>0.056726</td>\n",
              "      <td>0.026825</td>\n",
              "      <td>1986</td>\n",
              "      <td>1472</td>\n",
              "      <td>Faecalibacterium</td>\n",
              "      <td>0.5</td>\n",
              "      <td>ERR1883210</td>\n",
              "    </tr>\n",
              "    <tr>\n",
              "      <th>Parabacteroides</th>\n",
              "      <td>0.042828</td>\n",
              "      <td>0.016625</td>\n",
              "      <td>2870</td>\n",
              "      <td>1747</td>\n",
              "      <td>Parabacteroides</td>\n",
              "      <td>0.5</td>\n",
              "      <td>ERR1883210</td>\n",
              "    </tr>\n",
              "    <tr>\n",
              "      <th>Roseburia</th>\n",
              "      <td>0.078364</td>\n",
              "      <td>0.028981</td>\n",
              "      <td>2357</td>\n",
              "      <td>1567</td>\n",
              "      <td>Roseburia</td>\n",
              "      <td>0.5</td>\n",
              "      <td>ERR1883210</td>\n",
              "    </tr>\n",
              "  </tbody>\n",
              "</table>\n",
              "</div>"
            ],
            "text/plain": [
              "                  abundance  growth_rate  ...  tradeoff   sample_id\n",
              "compartments                              ...                      \n",
              "Bacteroides        0.736046     0.298356  ...       0.5  ERR1883210\n",
              "Blautia            0.027486     0.011492  ...       0.5  ERR1883210\n",
              "Faecalibacterium   0.056726     0.026825  ...       0.5  ERR1883210\n",
              "Parabacteroides    0.042828     0.016625  ...       0.5  ERR1883210\n",
              "Roseburia          0.078364     0.028981  ...       0.5  ERR1883210\n",
              "\n",
              "[5 rows x 7 columns]"
            ]
          },
          "metadata": {
            "tags": []
          },
          "execution_count": 43
        }
      ]
    },
    {
      "cell_type": "markdown",
      "metadata": {
        "id": "F5BK7DDv0UfA",
        "colab_type": "text"
      },
      "source": [
        "More interesting are the exchange fluxes."
      ]
    },
    {
      "cell_type": "code",
      "metadata": {
        "id": "lQW2BBS10jdN",
        "colab_type": "code",
        "colab": {
          "base_uri": "https://localhost:8080/",
          "height": 424
        },
        "outputId": "2dc6001c-a2c0-4f76-cdb4-ab559f0418d8"
      },
      "source": [
        "growth_results.exchanges"
      ],
      "execution_count": 44,
      "outputs": [
        {
          "output_type": "execute_result",
          "data": {
            "text/html": [
              "<div>\n",
              "<style scoped>\n",
              "    .dataframe tbody tr th:only-of-type {\n",
              "        vertical-align: middle;\n",
              "    }\n",
              "\n",
              "    .dataframe tbody tr th {\n",
              "        vertical-align: top;\n",
              "    }\n",
              "\n",
              "    .dataframe thead th {\n",
              "        text-align: right;\n",
              "    }\n",
              "</style>\n",
              "<table border=\"1\" class=\"dataframe\">\n",
              "  <thead>\n",
              "    <tr style=\"text-align: right;\">\n",
              "      <th></th>\n",
              "      <th>taxon</th>\n",
              "      <th>sample_id</th>\n",
              "      <th>tolerance</th>\n",
              "      <th>reaction</th>\n",
              "      <th>flux</th>\n",
              "      <th>abundance</th>\n",
              "      <th>metabolite</th>\n",
              "      <th>direction</th>\n",
              "    </tr>\n",
              "  </thead>\n",
              "  <tbody>\n",
              "    <tr>\n",
              "      <th>874</th>\n",
              "      <td>Faecalibacterium</td>\n",
              "      <td>ERR1883210</td>\n",
              "      <td>0.001</td>\n",
              "      <td>EX_ac(e)</td>\n",
              "      <td>0.026445</td>\n",
              "      <td>0.056726</td>\n",
              "      <td>ac[e]</td>\n",
              "      <td>export</td>\n",
              "    </tr>\n",
              "    <tr>\n",
              "      <th>901</th>\n",
              "      <td>Faecalibacterium</td>\n",
              "      <td>ERR1883210</td>\n",
              "      <td>0.001</td>\n",
              "      <td>EX_biomass(e)</td>\n",
              "      <td>0.002999</td>\n",
              "      <td>0.056726</td>\n",
              "      <td>biomass[c]</td>\n",
              "      <td>export</td>\n",
              "    </tr>\n",
              "    <tr>\n",
              "      <th>931</th>\n",
              "      <td>Faecalibacterium</td>\n",
              "      <td>ERR1883210</td>\n",
              "      <td>0.001</td>\n",
              "      <td>EX_dcyt(e)</td>\n",
              "      <td>-0.011616</td>\n",
              "      <td>0.056726</td>\n",
              "      <td>dcyt[e]</td>\n",
              "      <td>import</td>\n",
              "    </tr>\n",
              "    <tr>\n",
              "      <th>942</th>\n",
              "      <td>Faecalibacterium</td>\n",
              "      <td>ERR1883210</td>\n",
              "      <td>0.001</td>\n",
              "      <td>EX_for(e)</td>\n",
              "      <td>0.001256</td>\n",
              "      <td>0.056726</td>\n",
              "      <td>for[e]</td>\n",
              "      <td>export</td>\n",
              "    </tr>\n",
              "    <tr>\n",
              "      <th>966</th>\n",
              "      <td>Faecalibacterium</td>\n",
              "      <td>ERR1883210</td>\n",
              "      <td>0.001</td>\n",
              "      <td>EX_glyleu(e)</td>\n",
              "      <td>-0.001945</td>\n",
              "      <td>0.056726</td>\n",
              "      <td>glyleu[e]</td>\n",
              "      <td>import</td>\n",
              "    </tr>\n",
              "    <tr>\n",
              "      <th>...</th>\n",
              "      <td>...</td>\n",
              "      <td>...</td>\n",
              "      <td>...</td>\n",
              "      <td>...</td>\n",
              "      <td>...</td>\n",
              "      <td>...</td>\n",
              "      <td>...</td>\n",
              "      <td>...</td>\n",
              "    </tr>\n",
              "    <tr>\n",
              "      <th>35362</th>\n",
              "      <td>Cetobacterium</td>\n",
              "      <td>ERR1883315</td>\n",
              "      <td>0.001</td>\n",
              "      <td>EX_trp_L(e)</td>\n",
              "      <td>-0.002037</td>\n",
              "      <td>0.266688</td>\n",
              "      <td>trp_L[e]</td>\n",
              "      <td>import</td>\n",
              "    </tr>\n",
              "    <tr>\n",
              "      <th>35363</th>\n",
              "      <td>Cetobacterium</td>\n",
              "      <td>ERR1883315</td>\n",
              "      <td>0.001</td>\n",
              "      <td>EX_ttdca(e)</td>\n",
              "      <td>-0.001022</td>\n",
              "      <td>0.266688</td>\n",
              "      <td>ttdca[e]</td>\n",
              "      <td>import</td>\n",
              "    </tr>\n",
              "    <tr>\n",
              "      <th>35364</th>\n",
              "      <td>Cetobacterium</td>\n",
              "      <td>ERR1883315</td>\n",
              "      <td>0.001</td>\n",
              "      <td>EX_tyr_L(e)</td>\n",
              "      <td>-0.003092</td>\n",
              "      <td>0.266688</td>\n",
              "      <td>tyr_L[e]</td>\n",
              "      <td>import</td>\n",
              "    </tr>\n",
              "    <tr>\n",
              "      <th>35367</th>\n",
              "      <td>Cetobacterium</td>\n",
              "      <td>ERR1883315</td>\n",
              "      <td>0.001</td>\n",
              "      <td>EX_uri(e)</td>\n",
              "      <td>-0.003911</td>\n",
              "      <td>0.266688</td>\n",
              "      <td>uri[e]</td>\n",
              "      <td>import</td>\n",
              "    </tr>\n",
              "    <tr>\n",
              "      <th>35368</th>\n",
              "      <td>Cetobacterium</td>\n",
              "      <td>ERR1883315</td>\n",
              "      <td>0.001</td>\n",
              "      <td>EX_val_L(e)</td>\n",
              "      <td>-0.007929</td>\n",
              "      <td>0.266688</td>\n",
              "      <td>val_L[e]</td>\n",
              "      <td>import</td>\n",
              "    </tr>\n",
              "  </tbody>\n",
              "</table>\n",
              "<p>2974 rows × 8 columns</p>\n",
              "</div>"
            ],
            "text/plain": [
              "                  taxon   sample_id  tolerance  ... abundance  metabolite  direction\n",
              "874    Faecalibacterium  ERR1883210      0.001  ...  0.056726       ac[e]     export\n",
              "901    Faecalibacterium  ERR1883210      0.001  ...  0.056726  biomass[c]     export\n",
              "931    Faecalibacterium  ERR1883210      0.001  ...  0.056726     dcyt[e]     import\n",
              "942    Faecalibacterium  ERR1883210      0.001  ...  0.056726      for[e]     export\n",
              "966    Faecalibacterium  ERR1883210      0.001  ...  0.056726   glyleu[e]     import\n",
              "...                 ...         ...        ...  ...       ...         ...        ...\n",
              "35362     Cetobacterium  ERR1883315      0.001  ...  0.266688    trp_L[e]     import\n",
              "35363     Cetobacterium  ERR1883315      0.001  ...  0.266688    ttdca[e]     import\n",
              "35364     Cetobacterium  ERR1883315      0.001  ...  0.266688    tyr_L[e]     import\n",
              "35367     Cetobacterium  ERR1883315      0.001  ...  0.266688      uri[e]     import\n",
              "35368     Cetobacterium  ERR1883315      0.001  ...  0.266688    val_L[e]     import\n",
              "\n",
              "[2974 rows x 8 columns]"
            ]
          },
          "metadata": {
            "tags": []
          },
          "execution_count": 44
        }
      ]
    },
    {
      "cell_type": "markdown",
      "metadata": {
        "id": "Pu5XtkUl1YG1",
        "colab_type": "text"
      },
      "source": [
        "So we see hwo much of each metabolite is either consumed or produced by each taxon in each sample. `tolerance` denotes the accuracy of the solver and tells you the smallest absolute flux that is likely difefrent form zero (substantial flux). *All of the fluxes are normalized to 1g dry weight of bacteria*. So you can directly compare them between different taxa even if they are present in different abundances. \n",
        "\n",
        "However, the names may not be very informative. For this we have our annotations. For insatnce, to figure out what `ac[e]` is (air conditioning?), we can do the following:"
      ]
    },
    {
      "cell_type": "code",
      "metadata": {
        "id": "DphXa9hw1yxM",
        "colab_type": "code",
        "colab": {
          "base_uri": "https://localhost:8080/",
          "height": 112
        },
        "outputId": "a755cde1-828a-4fdf-8ee9-2010bfe51665"
      },
      "source": [
        "anns = growth_results.annotations\n",
        "anns[anns.metabolite == \"ac[e]\"]"
      ],
      "execution_count": 48,
      "outputs": [
        {
          "output_type": "execute_result",
          "data": {
            "text/html": [
              "<div>\n",
              "<style scoped>\n",
              "    .dataframe tbody tr th:only-of-type {\n",
              "        vertical-align: middle;\n",
              "    }\n",
              "\n",
              "    .dataframe tbody tr th {\n",
              "        vertical-align: top;\n",
              "    }\n",
              "\n",
              "    .dataframe thead th {\n",
              "        text-align: right;\n",
              "    }\n",
              "</style>\n",
              "<table border=\"1\" class=\"dataframe\">\n",
              "  <thead>\n",
              "    <tr style=\"text-align: right;\">\n",
              "      <th></th>\n",
              "      <th>metabolite</th>\n",
              "      <th>name</th>\n",
              "      <th>hmdb</th>\n",
              "      <th>inchi</th>\n",
              "      <th>kegg.compound</th>\n",
              "      <th>pubchem.compound</th>\n",
              "      <th>reaction</th>\n",
              "    </tr>\n",
              "    <tr>\n",
              "      <th>metabolite</th>\n",
              "      <th></th>\n",
              "      <th></th>\n",
              "      <th></th>\n",
              "      <th></th>\n",
              "      <th></th>\n",
              "      <th></th>\n",
              "      <th></th>\n",
              "    </tr>\n",
              "  </thead>\n",
              "  <tbody>\n",
              "    <tr>\n",
              "      <th>ac[e]</th>\n",
              "      <td>ac[e]</td>\n",
              "      <td>acetate</td>\n",
              "      <td>HMDB00042</td>\n",
              "      <td>InChI=1S/C2H4O2/c1-2(3)4/h1H3,(H,3,4)/p-1</td>\n",
              "      <td>C00033</td>\n",
              "      <td>176</td>\n",
              "      <td>EX_ac(e)</td>\n",
              "    </tr>\n",
              "  </tbody>\n",
              "</table>\n",
              "</div>"
            ],
            "text/plain": [
              "           metabolite     name  ... pubchem.compound  reaction\n",
              "metabolite                      ...                           \n",
              "ac[e]           ac[e]  acetate  ...              176  EX_ac(e)\n",
              "\n",
              "[1 rows x 7 columns]"
            ]
          },
          "metadata": {
            "tags": []
          },
          "execution_count": 48
        }
      ]
    },
    {
      "cell_type": "markdown",
      "metadata": {
        "id": "CImtzqRJbbGj",
        "colab_type": "text"
      },
      "source": [
        "Ohhh, it's acetate. Yeah that makes more sense 🕵️‍♀️. For the AGORA models you can also use the official VMH knowledge base at https://vmh.life maintained by Dr. Thiele's lab whcih will give you rich information on metabolites and reactions. For instance for acetate you can find quite some mre info at: https://www.vmh.life/#metabolite/ac. \n",
        "\n",
        "# 📊 Visualizations\n",
        "\n",
        "So we have seen that we get quite some data from the growth simulations. But how do we make sense of it? \n",
        "\n",
        "We will use the standard visualizations included in MICOM. Those are all functions that take in the growth results we otained before and create a visualization in standalone HTML file that bundles the plots and raw data and canbe viewed directly in your browser.\n",
        "\n",
        "The first thing we might want to look at is the growth rates for each taxon."
      ]
    },
    {
      "cell_type": "code",
      "metadata": {
        "id": "EaplMHFLcMT7",
        "colab_type": "code",
        "colab": {}
      },
      "source": [
        "from micom.viz import *\n",
        "\n",
        "viz = plot_growth(growth_results)"
      ],
      "execution_count": 30,
      "outputs": []
    },
    {
      "cell_type": "markdown",
      "metadata": {
        "id": "G1JbbKrLcVye",
        "colab_type": "text"
      },
      "source": [
        "Normally we could just call `viz.view()` afterwards and it would open it in our browser. Since are working colab that will not work. However, the plot function create the file `growth_rates_[DATE].html` in your `materials` folder. To open it simply download that file and view it in your browser. Some things going on but not super clear. Let's continue.\n",
        "\n",
        "## Growth niches\n",
        "\n",
        "One really important question is what nutrients are consumed by the microbiota and which ones they produce. We provided nutrients in our medium but we don't actually know yet what was consumed by the microbiota. So let's check that out using the `plot_exchanges_per_sample` function."
      ]
    },
    {
      "cell_type": "code",
      "metadata": {
        "id": "Mkgydl_jdqc7",
        "colab_type": "code",
        "colab": {
          "base_uri": "https://localhost:8080/",
          "height": 34
        },
        "outputId": "8ee08550-5243-4f56-bf7e-6865964bb3ea"
      },
      "source": [
        "plot_exchanges_per_sample(growth_results)"
      ],
      "execution_count": 32,
      "outputs": [
        {
          "output_type": "execute_result",
          "data": {
            "text/plain": [
              "<micom.viz.core.Visualization at 0x7f1dd9612c18>"
            ]
          },
          "metadata": {
            "tags": []
          },
          "execution_count": 32
        }
      ]
    },
    {
      "cell_type": "markdown",
      "metadata": {
        "id": "lRDCXRDidupd",
        "colab_type": "text"
      },
      "source": [
        "We can have a look at the results after downloading `materials/sample_exchanges_[DATE].html`. It would be even better if we could visualize which taxa compete for similar resources. We can create a niche plot by using `plot_exchanges_per_taxon`."
      ]
    },
    {
      "cell_type": "code",
      "metadata": {
        "id": "NlZrfv38esj8",
        "colab_type": "code",
        "colab": {
          "base_uri": "https://localhost:8080/",
          "height": 34
        },
        "outputId": "88535036-29f2-4fc7-b56f-495ca02824c6"
      },
      "source": [
        "plot_exchanges_per_taxon(growth_results, perplexity=4, direction=\"import\")"
      ],
      "execution_count": 61,
      "outputs": [
        {
          "output_type": "execute_result",
          "data": {
            "text/plain": [
              "<micom.viz.core.Visualization at 0x7f1dcf8372e8>"
            ]
          },
          "metadata": {
            "tags": []
          },
          "execution_count": 61
        }
      ]
    },
    {
      "cell_type": "markdown",
      "metadata": {
        "id": "qXnbUCCs2yVG",
        "colab_type": "text"
      },
      "source": [
        "\n",
        "This projects the full set of import or export fluxes into only 2 dimensions and arranges taxa so that more similar flux patterns lie close together. Thus, different taxa close to each other compete for similar resources or produce similar metabolites. The center of the thus signifies a more competitive nutrient space whereas clusters on the outskirts denote more isolated niches.\n",
        "\n",
        "You can tune [TSNE parameters](https://distill.pub/2016/misread-tsne/) such as perplexity to get a more meaningful grouping.\n",
        "\n",
        "## Metabolic connections to a phenotype\n",
        "\n",
        "That is all nice but how does that relate to recurrent *C. diff* infections? To answer that question we can use `plot_fit` function. This will run a logistic LASSO regression with our diesase status as the response and normalizeed fluxes as variables. In general, import fluxes are not as predictive since, well, they are more relevant to the bacteria than us. What we usually care about is the production flux of a particular metabolite. This is the total production flux into the extracellular volume and thus signifies exactly the flux the host has access to. \n",
        "\n",
        "Since OSQP has a somewaht lower solver acuract we will be conservative of what we consider substantial flux and will filter out fluxes smaller 0.01 mmol/l."
      ]
    },
    {
      "cell_type": "code",
      "metadata": {
        "id": "ebsw0XD-l2Lj",
        "colab_type": "code",
        "colab": {
          "base_uri": "https://localhost:8080/",
          "height": 225
        },
        "outputId": "6ca7dc6d-1514-433b-ac51-44660631119f"
      },
      "source": [
        "from micom.viz import *\n",
        "\n",
        "manifest.index = manifest.sample_id\n",
        "pheno = manifest.disease_stat\n",
        "\n",
        "pl = plot_fit(growth_results, pheno, atol=1e-2, flux_type=\"production\")\n"
      ],
      "execution_count": 41,
      "outputs": [
        {
          "output_type": "stream",
          "text": [
            "/usr/local/lib/python3.6/dist-packages/micom/viz/prediction.py:163: SettingWithCopyWarning: \n",
            "A value is trying to be set on a copy of a slice from a DataFrame.\n",
            "Try using .loc[row_indexer,col_indexer] = value instead\n",
            "\n",
            "See the caveats in the documentation: https://pandas.pydata.org/pandas-docs/stable/user_guide/indexing.html#returning-a-view-versus-a-copy\n",
            "  exchanges[\"meta\"] = meta[exchanges.sample_id].values\n",
            "/usr/local/lib/python3.6/dist-packages/micom/viz/prediction.py:164: SettingWithCopyWarning: \n",
            "A value is trying to be set on a copy of a slice from a DataFrame.\n",
            "Try using .loc[row_indexer,col_indexer] = value instead\n",
            "\n",
            "See the caveats in the documentation: https://pandas.pydata.org/pandas-docs/stable/user_guide/indexing.html#returning-a-view-versus-a-copy\n",
            "  exchanges[\"description\"] = anns.loc[exchanges.metabolite, \"name\"].values\n"
          ],
          "name": "stderr"
        }
      ]
    },
    {
      "cell_type": "markdown",
      "metadata": {
        "id": "4Y_XfHkB4sO8",
        "colab_type": "text"
      },
      "source": [
        "This will again create a file `fit_[DATE].html` that you can open. You will see the production fluxes most predictive of the phenotype and compare them across the group. "
      ]
    },
    {
      "cell_type": "code",
      "metadata": {
        "id": "x_0Wxo3iZTfN",
        "colab_type": "code",
        "colab": {
          "base_uri": "https://localhost:8080/",
          "height": 424
        },
        "outputId": "f7baf19d-29c9-4bf5-d8b4-59f5c4887976"
      },
      "source": [
        "growth_results.exchanges"
      ],
      "execution_count": 31,
      "outputs": [
        {
          "output_type": "execute_result",
          "data": {
            "text/html": [
              "<div>\n",
              "<style scoped>\n",
              "    .dataframe tbody tr th:only-of-type {\n",
              "        vertical-align: middle;\n",
              "    }\n",
              "\n",
              "    .dataframe tbody tr th {\n",
              "        vertical-align: top;\n",
              "    }\n",
              "\n",
              "    .dataframe thead th {\n",
              "        text-align: right;\n",
              "    }\n",
              "</style>\n",
              "<table border=\"1\" class=\"dataframe\">\n",
              "  <thead>\n",
              "    <tr style=\"text-align: right;\">\n",
              "      <th></th>\n",
              "      <th>taxon</th>\n",
              "      <th>sample_id</th>\n",
              "      <th>tolerance</th>\n",
              "      <th>reaction</th>\n",
              "      <th>flux</th>\n",
              "      <th>abundance</th>\n",
              "      <th>metabolite</th>\n",
              "      <th>direction</th>\n",
              "    </tr>\n",
              "  </thead>\n",
              "  <tbody>\n",
              "    <tr>\n",
              "      <th>874</th>\n",
              "      <td>Faecalibacterium</td>\n",
              "      <td>ERR1883210</td>\n",
              "      <td>0.001</td>\n",
              "      <td>EX_ac(e)</td>\n",
              "      <td>0.026445</td>\n",
              "      <td>0.056726</td>\n",
              "      <td>ac[e]</td>\n",
              "      <td>export</td>\n",
              "    </tr>\n",
              "    <tr>\n",
              "      <th>901</th>\n",
              "      <td>Faecalibacterium</td>\n",
              "      <td>ERR1883210</td>\n",
              "      <td>0.001</td>\n",
              "      <td>EX_biomass(e)</td>\n",
              "      <td>0.002999</td>\n",
              "      <td>0.056726</td>\n",
              "      <td>biomass[c]</td>\n",
              "      <td>export</td>\n",
              "    </tr>\n",
              "    <tr>\n",
              "      <th>931</th>\n",
              "      <td>Faecalibacterium</td>\n",
              "      <td>ERR1883210</td>\n",
              "      <td>0.001</td>\n",
              "      <td>EX_dcyt(e)</td>\n",
              "      <td>-0.011616</td>\n",
              "      <td>0.056726</td>\n",
              "      <td>dcyt[e]</td>\n",
              "      <td>import</td>\n",
              "    </tr>\n",
              "    <tr>\n",
              "      <th>942</th>\n",
              "      <td>Faecalibacterium</td>\n",
              "      <td>ERR1883210</td>\n",
              "      <td>0.001</td>\n",
              "      <td>EX_for(e)</td>\n",
              "      <td>0.001256</td>\n",
              "      <td>0.056726</td>\n",
              "      <td>for[e]</td>\n",
              "      <td>export</td>\n",
              "    </tr>\n",
              "    <tr>\n",
              "      <th>966</th>\n",
              "      <td>Faecalibacterium</td>\n",
              "      <td>ERR1883210</td>\n",
              "      <td>0.001</td>\n",
              "      <td>EX_glyleu(e)</td>\n",
              "      <td>-0.001945</td>\n",
              "      <td>0.056726</td>\n",
              "      <td>glyleu[e]</td>\n",
              "      <td>import</td>\n",
              "    </tr>\n",
              "    <tr>\n",
              "      <th>...</th>\n",
              "      <td>...</td>\n",
              "      <td>...</td>\n",
              "      <td>...</td>\n",
              "      <td>...</td>\n",
              "      <td>...</td>\n",
              "      <td>...</td>\n",
              "      <td>...</td>\n",
              "      <td>...</td>\n",
              "    </tr>\n",
              "    <tr>\n",
              "      <th>35362</th>\n",
              "      <td>Cetobacterium</td>\n",
              "      <td>ERR1883315</td>\n",
              "      <td>0.001</td>\n",
              "      <td>EX_trp_L(e)</td>\n",
              "      <td>-0.002037</td>\n",
              "      <td>0.266688</td>\n",
              "      <td>trp_L[e]</td>\n",
              "      <td>import</td>\n",
              "    </tr>\n",
              "    <tr>\n",
              "      <th>35363</th>\n",
              "      <td>Cetobacterium</td>\n",
              "      <td>ERR1883315</td>\n",
              "      <td>0.001</td>\n",
              "      <td>EX_ttdca(e)</td>\n",
              "      <td>-0.001022</td>\n",
              "      <td>0.266688</td>\n",
              "      <td>ttdca[e]</td>\n",
              "      <td>import</td>\n",
              "    </tr>\n",
              "    <tr>\n",
              "      <th>35364</th>\n",
              "      <td>Cetobacterium</td>\n",
              "      <td>ERR1883315</td>\n",
              "      <td>0.001</td>\n",
              "      <td>EX_tyr_L(e)</td>\n",
              "      <td>-0.003092</td>\n",
              "      <td>0.266688</td>\n",
              "      <td>tyr_L[e]</td>\n",
              "      <td>import</td>\n",
              "    </tr>\n",
              "    <tr>\n",
              "      <th>35367</th>\n",
              "      <td>Cetobacterium</td>\n",
              "      <td>ERR1883315</td>\n",
              "      <td>0.001</td>\n",
              "      <td>EX_uri(e)</td>\n",
              "      <td>-0.003911</td>\n",
              "      <td>0.266688</td>\n",
              "      <td>uri[e]</td>\n",
              "      <td>import</td>\n",
              "    </tr>\n",
              "    <tr>\n",
              "      <th>35368</th>\n",
              "      <td>Cetobacterium</td>\n",
              "      <td>ERR1883315</td>\n",
              "      <td>0.001</td>\n",
              "      <td>EX_val_L(e)</td>\n",
              "      <td>-0.007929</td>\n",
              "      <td>0.266688</td>\n",
              "      <td>val_L[e]</td>\n",
              "      <td>import</td>\n",
              "    </tr>\n",
              "  </tbody>\n",
              "</table>\n",
              "<p>2974 rows × 8 columns</p>\n",
              "</div>"
            ],
            "text/plain": [
              "                  taxon   sample_id  tolerance  ... abundance  metabolite  direction\n",
              "874    Faecalibacterium  ERR1883210      0.001  ...  0.056726       ac[e]     export\n",
              "901    Faecalibacterium  ERR1883210      0.001  ...  0.056726  biomass[c]     export\n",
              "931    Faecalibacterium  ERR1883210      0.001  ...  0.056726     dcyt[e]     import\n",
              "942    Faecalibacterium  ERR1883210      0.001  ...  0.056726      for[e]     export\n",
              "966    Faecalibacterium  ERR1883210      0.001  ...  0.056726   glyleu[e]     import\n",
              "...                 ...         ...        ...  ...       ...         ...        ...\n",
              "35362     Cetobacterium  ERR1883315      0.001  ...  0.266688    trp_L[e]     import\n",
              "35363     Cetobacterium  ERR1883315      0.001  ...  0.266688    ttdca[e]     import\n",
              "35364     Cetobacterium  ERR1883315      0.001  ...  0.266688    tyr_L[e]     import\n",
              "35367     Cetobacterium  ERR1883315      0.001  ...  0.266688      uri[e]     import\n",
              "35368     Cetobacterium  ERR1883315      0.001  ...  0.266688    val_L[e]     import\n",
              "\n",
              "[2974 rows x 8 columns]"
            ]
          },
          "metadata": {
            "tags": []
          },
          "execution_count": 31
        }
      ]
    },
    {
      "cell_type": "markdown",
      "metadata": {
        "id": "CsqIRTbC7doD",
        "colab_type": "text"
      },
      "source": [
        "# 🔵 Addendum\n"
      ]
    },
    {
      "cell_type": "markdown",
      "metadata": {
        "id": "hycoXNTi5xsH",
        "colab_type": "text"
      },
      "source": [
        "## Choosing a tradeoff value\n",
        "\n",
        "Even if you don't have growth rate available you can still use your data to choose a decent tradeoff value. This can be done by choosing the largest tradeoff that still allow growth for the majority of the taxa that you observed in the data (they are present so they should be able to grow). This can be done with the `tradeoff` workflow in MICOM that will run cooperative tradeoff with varying tradeoff values and taht can be visualized with the `plot_tradeoff` function."
      ]
    },
    {
      "cell_type": "code",
      "metadata": {
        "id": "8_1jesZTHYra",
        "colab_type": "code",
        "colab": {
          "base_uri": "https://localhost:8080/",
          "height": 66,
          "referenced_widgets": [
            "77e44a8a31604e62ad4110a4ffe37bd1",
            "f69ee3d8d38d4d969c13d843dd987b28",
            "59dce2af89634befbc9d63d8a5dd595e",
            "34fc8afec885400fbf65920f50f52554",
            "16ad573e929e45d2b26524a50fd26926",
            "9b90df3722a544e98fcaf4c96758cf20",
            "859b313e8bc742a6864121e36000eaed",
            "11617001c3f749d5b251decc91f43b6e"
          ]
        },
        "outputId": "b48ad478-dc8f-44e3-8844-05f8e3540813"
      },
      "source": [
        "from micom.workflows import tradeoff\n",
        "import micom\n",
        "\n",
        "tradeoff_results = tradeoff(manifest, \"models\", medium, threads=2)\n",
        "tradeoff_results.to_csv(\"tradeoff.csv\", index=False)\n",
        "\n",
        "plot_tradeoff(tradeoff_results, tolerance=1e-4)"
      ],
      "execution_count": 8,
      "outputs": [
        {
          "output_type": "display_data",
          "data": {
            "application/vnd.jupyter.widget-view+json": {
              "model_id": "77e44a8a31604e62ad4110a4ffe37bd1",
              "version_minor": 0,
              "version_major": 2
            },
            "text/plain": [
              "HBox(children=(FloatProgress(value=0.0, max=8.0), HTML(value='')))"
            ]
          },
          "metadata": {
            "tags": []
          }
        },
        {
          "output_type": "stream",
          "text": [
            "\n"
          ],
          "name": "stdout"
        }
      ]
    },
    {
      "cell_type": "markdown",
      "metadata": {
        "id": "y9703vhK6d6c",
        "colab_type": "text"
      },
      "source": [
        "After opeing `tradeoff_[DATE].html` you will see that for our example here all tradeoff values work great. This is because we modeled very few taxa which keeps the compettion down. If you would allow less abundant taxa in the models this would change drastically. For instance, here is an example from a colorectal cancer data set:\n",
        "\n",
        "[![tradeoff example](https://raw.githubusercontent.com/micom-dev/q2-micom/master/docs/assets/tradeoff.png)](https://micom-dev.github.io/q2-micom/assets/tradeoff/data/index.html)\n",
        "\n",
        "You can see how not using cooperative tradeoff would give you nonsense results where only 10% of all observed taxa grow. A tradeoff value of 0.3 would probably  be agood choice for this data set."
      ]
    }
  ]
}